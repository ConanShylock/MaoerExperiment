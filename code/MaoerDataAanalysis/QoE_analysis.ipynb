{
 "cells": [
  {
   "cell_type": "code",
   "execution_count": 1,
   "id": "initial_id",
   "metadata": {
    "collapsed": true,
    "ExecuteTime": {
     "end_time": "2024-07-08T06:54:10.232095Z",
     "start_time": "2024-07-08T06:54:07.502142Z"
    }
   },
   "outputs": [],
   "source": [
    "import pandas as pd\n",
    "import matplotlib.pyplot as plt\n",
    "from sklearn.preprocessing import MinMaxScaler"
   ]
  },
  {
   "cell_type": "code",
   "outputs": [],
   "source": [
    "data_path = \"data/base-data/0101_0131_all_feature_involved_all.csv\""
   ],
   "metadata": {
    "collapsed": false,
    "ExecuteTime": {
     "end_time": "2024-07-07T07:52:35.826893Z",
     "start_time": "2024-07-07T07:52:35.814627Z"
    }
   },
   "id": "47bd762920b0f9dc",
   "execution_count": 33
  },
  {
   "cell_type": "code",
   "outputs": [],
   "source": [
    "data = pd.read_csv(data_path)"
   ],
   "metadata": {
    "collapsed": false,
    "ExecuteTime": {
     "end_time": "2024-07-07T07:52:38.367555Z",
     "start_time": "2024-07-07T07:52:36.105062Z"
    }
   },
   "id": "7a3f88c397d4320e",
   "execution_count": 34
  },
  {
   "cell_type": "code",
   "outputs": [],
   "source": [],
   "metadata": {
    "collapsed": false,
    "ExecuteTime": {
     "end_time": "2024-07-07T07:52:38.375647Z",
     "start_time": "2024-07-07T07:52:38.368678Z"
    }
   },
   "id": "8e46c37d9617b5d5",
   "execution_count": 34
  },
  {
   "cell_type": "code",
   "outputs": [
    {
     "data": {
      "text/plain": "    user_id  sound_id_id  drama_id  user_name_len  user_name_has_chinese  \\\n0     12304      7017722     52265             18                      0   \n1     24488      6976696     59699             25                      0   \n2     24488      6991707     59328             25                      0   \n3     24488      7018734     59699             25                      0   \n4     24488      7059430     60282             25                      0   \n..      ...          ...       ...            ...                    ...   \n95   292616      6787153     58443             21                      0   \n96   297801      5692129     51905             27                      0   \n97   301956      6943869     59564              6                      0   \n98   301956      7040793     59564              6                      0   \n99   307129      6916191     52293             18                      0   \n\n    user_name_has_english  user_intro_len  user_intro_has_chinese  \\\n0                       0             NaN                       0   \n1                       0            60.0                       1   \n2                       0            60.0                       1   \n3                       0            60.0                       1   \n4                       0            60.0                       1   \n..                    ...             ...                     ...   \n95                      0             NaN                       0   \n96                      0            30.0                       1   \n97                      0            12.0                       1   \n98                      0            12.0                       1   \n99                      0            27.0                       1   \n\n    user_intro_has_english  user_icon_is_default  ...  k_3_8s_sim  \\\n0                        0                     0  ...    0.927793   \n1                        0                     0  ...    0.829998   \n2                        0                     0  ...    0.822765   \n3                        0                     0  ...    0.862903   \n4                        0                     0  ...    0.873089   \n..                     ...                   ...  ...         ...   \n95                       0                     0  ...    0.846638   \n96                       0                     0  ...    0.844690   \n97                       0                     0  ...    0.867234   \n98                       0                     0  ...    0.960459   \n99                       0                     0  ...    0.880081   \n\n    k_1_15s_sim  k_2_15s_sim  k_3_15s_sim  k_2_8s_sim_q_1_num  \\\n0      0.919221     0.916120     0.913019            0.283098   \n1      0.837842     0.836652     0.835461            0.252245   \n2      0.829675     0.828189     0.826704            0.248742   \n3      0.848610     0.854841     0.861072            0.256782   \n4      0.861030     0.869661     0.878291            0.258000   \n..          ...          ...          ...                 ...   \n95     0.847262     0.845840     0.844417            0.286887   \n96     0.845891     0.844817     0.843744            0.267670   \n97     0.857413     0.862356     0.867300            0.274663   \n98     0.944694     0.949792     0.954890            0.289996   \n99     0.879407     0.880726     0.882044            0.273684   \n\n    k_2_8s_sim_q_2_num  k_2_8s_sim_q_3_num  k_2_15s_sim_q_1_num  \\\n0             0.468008            0.652918             0.279280   \n1             0.417907            0.583569             0.254123   \n2             0.412480            0.576218             0.252045   \n3             0.427062            0.597342             0.257628   \n4             0.429238            0.600477             0.261848   \n..                 ...                 ...                  ...   \n95            0.447268            0.607649             0.292518   \n96            0.432962            0.598255             0.271025   \n97            0.442562            0.610461             0.275072   \n98            0.481161            0.672326             0.287177   \n99            0.446870            0.620055             0.276454   \n\n    k_2_15s_sim_q_2_num  k_2_15s_sim_q_3_num  \n0              0.461234             0.461234  \n1              0.420560             0.420560  \n2              0.416657             0.416657  \n3              0.428260             0.428260  \n4              0.435509             0.435509  \n..                  ...                  ...  \n95             0.450610             0.450610  \n96             0.434966             0.434966  \n97             0.442868             0.442868  \n98             0.476496             0.476496  \n99             0.449103             0.449103  \n\n[100 rows x 656 columns]",
      "text/html": "<div>\n<style scoped>\n    .dataframe tbody tr th:only-of-type {\n        vertical-align: middle;\n    }\n\n    .dataframe tbody tr th {\n        vertical-align: top;\n    }\n\n    .dataframe thead th {\n        text-align: right;\n    }\n</style>\n<table border=\"1\" class=\"dataframe\">\n  <thead>\n    <tr style=\"text-align: right;\">\n      <th></th>\n      <th>user_id</th>\n      <th>sound_id_id</th>\n      <th>drama_id</th>\n      <th>user_name_len</th>\n      <th>user_name_has_chinese</th>\n      <th>user_name_has_english</th>\n      <th>user_intro_len</th>\n      <th>user_intro_has_chinese</th>\n      <th>user_intro_has_english</th>\n      <th>user_icon_is_default</th>\n      <th>...</th>\n      <th>k_3_8s_sim</th>\n      <th>k_1_15s_sim</th>\n      <th>k_2_15s_sim</th>\n      <th>k_3_15s_sim</th>\n      <th>k_2_8s_sim_q_1_num</th>\n      <th>k_2_8s_sim_q_2_num</th>\n      <th>k_2_8s_sim_q_3_num</th>\n      <th>k_2_15s_sim_q_1_num</th>\n      <th>k_2_15s_sim_q_2_num</th>\n      <th>k_2_15s_sim_q_3_num</th>\n    </tr>\n  </thead>\n  <tbody>\n    <tr>\n      <th>0</th>\n      <td>12304</td>\n      <td>7017722</td>\n      <td>52265</td>\n      <td>18</td>\n      <td>0</td>\n      <td>0</td>\n      <td>NaN</td>\n      <td>0</td>\n      <td>0</td>\n      <td>0</td>\n      <td>...</td>\n      <td>0.927793</td>\n      <td>0.919221</td>\n      <td>0.916120</td>\n      <td>0.913019</td>\n      <td>0.283098</td>\n      <td>0.468008</td>\n      <td>0.652918</td>\n      <td>0.279280</td>\n      <td>0.461234</td>\n      <td>0.461234</td>\n    </tr>\n    <tr>\n      <th>1</th>\n      <td>24488</td>\n      <td>6976696</td>\n      <td>59699</td>\n      <td>25</td>\n      <td>0</td>\n      <td>0</td>\n      <td>60.0</td>\n      <td>1</td>\n      <td>0</td>\n      <td>0</td>\n      <td>...</td>\n      <td>0.829998</td>\n      <td>0.837842</td>\n      <td>0.836652</td>\n      <td>0.835461</td>\n      <td>0.252245</td>\n      <td>0.417907</td>\n      <td>0.583569</td>\n      <td>0.254123</td>\n      <td>0.420560</td>\n      <td>0.420560</td>\n    </tr>\n    <tr>\n      <th>2</th>\n      <td>24488</td>\n      <td>6991707</td>\n      <td>59328</td>\n      <td>25</td>\n      <td>0</td>\n      <td>0</td>\n      <td>60.0</td>\n      <td>1</td>\n      <td>0</td>\n      <td>0</td>\n      <td>...</td>\n      <td>0.822765</td>\n      <td>0.829675</td>\n      <td>0.828189</td>\n      <td>0.826704</td>\n      <td>0.248742</td>\n      <td>0.412480</td>\n      <td>0.576218</td>\n      <td>0.252045</td>\n      <td>0.416657</td>\n      <td>0.416657</td>\n    </tr>\n    <tr>\n      <th>3</th>\n      <td>24488</td>\n      <td>7018734</td>\n      <td>59699</td>\n      <td>25</td>\n      <td>0</td>\n      <td>0</td>\n      <td>60.0</td>\n      <td>1</td>\n      <td>0</td>\n      <td>0</td>\n      <td>...</td>\n      <td>0.862903</td>\n      <td>0.848610</td>\n      <td>0.854841</td>\n      <td>0.861072</td>\n      <td>0.256782</td>\n      <td>0.427062</td>\n      <td>0.597342</td>\n      <td>0.257628</td>\n      <td>0.428260</td>\n      <td>0.428260</td>\n    </tr>\n    <tr>\n      <th>4</th>\n      <td>24488</td>\n      <td>7059430</td>\n      <td>60282</td>\n      <td>25</td>\n      <td>0</td>\n      <td>0</td>\n      <td>60.0</td>\n      <td>1</td>\n      <td>0</td>\n      <td>0</td>\n      <td>...</td>\n      <td>0.873089</td>\n      <td>0.861030</td>\n      <td>0.869661</td>\n      <td>0.878291</td>\n      <td>0.258000</td>\n      <td>0.429238</td>\n      <td>0.600477</td>\n      <td>0.261848</td>\n      <td>0.435509</td>\n      <td>0.435509</td>\n    </tr>\n    <tr>\n      <th>...</th>\n      <td>...</td>\n      <td>...</td>\n      <td>...</td>\n      <td>...</td>\n      <td>...</td>\n      <td>...</td>\n      <td>...</td>\n      <td>...</td>\n      <td>...</td>\n      <td>...</td>\n      <td>...</td>\n      <td>...</td>\n      <td>...</td>\n      <td>...</td>\n      <td>...</td>\n      <td>...</td>\n      <td>...</td>\n      <td>...</td>\n      <td>...</td>\n      <td>...</td>\n      <td>...</td>\n    </tr>\n    <tr>\n      <th>95</th>\n      <td>292616</td>\n      <td>6787153</td>\n      <td>58443</td>\n      <td>21</td>\n      <td>0</td>\n      <td>0</td>\n      <td>NaN</td>\n      <td>0</td>\n      <td>0</td>\n      <td>0</td>\n      <td>...</td>\n      <td>0.846638</td>\n      <td>0.847262</td>\n      <td>0.845840</td>\n      <td>0.844417</td>\n      <td>0.286887</td>\n      <td>0.447268</td>\n      <td>0.607649</td>\n      <td>0.292518</td>\n      <td>0.450610</td>\n      <td>0.450610</td>\n    </tr>\n    <tr>\n      <th>96</th>\n      <td>297801</td>\n      <td>5692129</td>\n      <td>51905</td>\n      <td>27</td>\n      <td>0</td>\n      <td>0</td>\n      <td>30.0</td>\n      <td>1</td>\n      <td>0</td>\n      <td>0</td>\n      <td>...</td>\n      <td>0.844690</td>\n      <td>0.845891</td>\n      <td>0.844817</td>\n      <td>0.843744</td>\n      <td>0.267670</td>\n      <td>0.432962</td>\n      <td>0.598255</td>\n      <td>0.271025</td>\n      <td>0.434966</td>\n      <td>0.434966</td>\n    </tr>\n    <tr>\n      <th>97</th>\n      <td>301956</td>\n      <td>6943869</td>\n      <td>59564</td>\n      <td>6</td>\n      <td>0</td>\n      <td>0</td>\n      <td>12.0</td>\n      <td>1</td>\n      <td>0</td>\n      <td>0</td>\n      <td>...</td>\n      <td>0.867234</td>\n      <td>0.857413</td>\n      <td>0.862356</td>\n      <td>0.867300</td>\n      <td>0.274663</td>\n      <td>0.442562</td>\n      <td>0.610461</td>\n      <td>0.275072</td>\n      <td>0.442868</td>\n      <td>0.442868</td>\n    </tr>\n    <tr>\n      <th>98</th>\n      <td>301956</td>\n      <td>7040793</td>\n      <td>59564</td>\n      <td>6</td>\n      <td>0</td>\n      <td>0</td>\n      <td>12.0</td>\n      <td>1</td>\n      <td>0</td>\n      <td>0</td>\n      <td>...</td>\n      <td>0.960459</td>\n      <td>0.944694</td>\n      <td>0.949792</td>\n      <td>0.954890</td>\n      <td>0.289996</td>\n      <td>0.481161</td>\n      <td>0.672326</td>\n      <td>0.287177</td>\n      <td>0.476496</td>\n      <td>0.476496</td>\n    </tr>\n    <tr>\n      <th>99</th>\n      <td>307129</td>\n      <td>6916191</td>\n      <td>52293</td>\n      <td>18</td>\n      <td>0</td>\n      <td>0</td>\n      <td>27.0</td>\n      <td>1</td>\n      <td>0</td>\n      <td>0</td>\n      <td>...</td>\n      <td>0.880081</td>\n      <td>0.879407</td>\n      <td>0.880726</td>\n      <td>0.882044</td>\n      <td>0.273684</td>\n      <td>0.446870</td>\n      <td>0.620055</td>\n      <td>0.276454</td>\n      <td>0.449103</td>\n      <td>0.449103</td>\n    </tr>\n  </tbody>\n</table>\n<p>100 rows × 656 columns</p>\n</div>"
     },
     "execution_count": 35,
     "metadata": {},
     "output_type": "execute_result"
    }
   ],
   "source": [
    "data.head(100)"
   ],
   "metadata": {
    "collapsed": false,
    "ExecuteTime": {
     "end_time": "2024-07-07T07:52:38.405401Z",
     "start_time": "2024-07-07T07:52:38.376437Z"
    }
   },
   "id": "bad6d517db71f60a",
   "execution_count": 35
  },
  {
   "cell_type": "code",
   "outputs": [
    {
     "data": {
      "text/plain": "count    21833.000000\nmean         0.292047\nstd          0.040115\nmin          0.189511\n25%          0.264080\n50%          0.283982\n75%          0.310737\nmax          0.622457\nName: k_2_15s_sim_q_1_num, dtype: float64"
     },
     "execution_count": 36,
     "metadata": {},
     "output_type": "execute_result"
    }
   ],
   "source": [
    "# 最终QoE是k_2_15s_sim_q_1_num\n",
    "data['k_2_15s_sim_q_1_num'].describe()"
   ],
   "metadata": {
    "collapsed": false,
    "ExecuteTime": {
     "end_time": "2024-07-07T07:52:38.415886Z",
     "start_time": "2024-07-07T07:52:38.405234Z"
    }
   },
   "id": "3a0946550c600233",
   "execution_count": 36
  },
  {
   "cell_type": "code",
   "outputs": [
    {
     "data": {
      "text/plain": "<Figure size 640x480 with 1 Axes>",
      "image/png": "[encoded data removed]"
     },
     "metadata": {},
     "output_type": "display_data"
    }
   ],
   "source": [
    "# 提取 'k_2_15s_sim_q_1_num' 列\n",
    "num_data = data['k_2_15s_sim_q_1_num']\n",
    "\n",
    "# 归一化数据\n",
    "scaler = MinMaxScaler()\n",
    "normalized_data = pd.DataFrame(scaler.fit_transform(num_data.values.reshape(-1, 1)), columns=['Normalized Values'])\n",
    "\n",
    "# 绘制归一化后的数据直方图\n",
    "plt.hist(normalized_data['Normalized Values'], bins=30)\n",
    "plt.xlabel('Normalized Values')\n",
    "plt.ylabel('Frequency')\n",
    "plt.title('Histogram of Normalized k_2_15s_sim_q_1_num')\n",
    "plt.show()"
   ],
   "metadata": {
    "collapsed": false,
    "ExecuteTime": {
     "end_time": "2024-07-07T07:52:38.651564Z",
     "start_time": "2024-07-07T07:52:38.416464Z"
    }
   },
   "id": "aaf11f02e6b513fe",
   "execution_count": 37
  },
  {
   "cell_type": "code",
   "outputs": [
    {
     "name": "stdout",
     "output_type": "stream",
     "text": [
      "data size: 21912, user count : 8736 , sound count : 1925\n"
     ]
    }
   ],
   "source": [
    "print( f\"data size: {len(data)}, user count : {data['user_id'].nunique()} , sound count : {data['sound_id_id'].nunique()}\")\n"
   ],
   "metadata": {
    "collapsed": false,
    "ExecuteTime": {
     "end_time": "2024-07-07T07:52:38.658519Z",
     "start_time": "2024-07-07T07:52:38.649499Z"
    }
   },
   "id": "839367178e822ea8",
   "execution_count": 38
  },
  {
   "cell_type": "code",
   "outputs": [],
   "source": [
    "import os"
   ],
   "metadata": {
    "collapsed": false,
    "ExecuteTime": {
     "end_time": "2024-07-08T06:54:26.485087Z",
     "start_time": "2024-07-08T06:54:26.476836Z"
    }
   },
   "id": "854f77be66988af3",
   "execution_count": 3
  },
  {
   "cell_type": "code",
   "outputs": [
    {
     "name": "stdout",
     "output_type": "stream",
     "text": [
      "1201_1231_all_feature_involved_all.csv : data size: 23323, user count : 9614 , sound count : 1918\n",
      "0101_0131_all_feature_involved_all.csv : data size: 21912, user count : 8736 , sound count : 1925\n",
      "1101_1130_all_feature_involved_all.csv : data size: 24353, user count : 9720 , sound count : 1809\n",
      "0201_0230_all_feature_involved_all.csv : data size: 11256, user count : 5104 , sound count : 1669\n",
      "0115_0215_all_feature_involved_all.csv : data size: 17353, user count : 7464 , sound count : 1831\n",
      "1215_0115_all_feature_involved_all.csv : data size: 24022, user count : 9590 , sound count : 1979\n",
      "1115_1215_all_feature_involved_all.csv : data size: 25391, user count : 10290 , sound count : 1857\n"
     ]
    }
   ],
   "source": [
    "data_path_pre = \"data/base-data/\"\n",
    "# data_path_pre = \"../Maoer/Dataset/\"\n",
    "files_name = os.listdir(data_path_pre)\n",
    "\n",
    "for file_name in files_name:\n",
    "    data = pd.read_csv(data_path_pre + file_name)\n",
    "    print(f\"{file_name} : data size: {len(data)}, user count : {data['user_id'].nunique()} , sound count : {data['sound_id_id'].nunique()}\")\n",
    "\n"
   ],
   "metadata": {
    "collapsed": false,
    "ExecuteTime": {
     "end_time": "2024-07-08T06:55:43.755919Z",
     "start_time": "2024-07-08T06:55:28.882713Z"
    }
   },
   "id": "c66d8255c66aa833",
   "execution_count": 7
  },
  {
   "cell_type": "code",
   "outputs": [],
   "source": [],
   "metadata": {
    "collapsed": false,
    "ExecuteTime": {
     "end_time": "2024-07-08T06:55:05.518830Z",
     "start_time": "2024-07-08T06:55:05.506717Z"
    }
   },
   "id": "ff4e3eb2f95ea811",
   "execution_count": 6
  },
  {
   "cell_type": "code",
   "outputs": [],
   "source": [],
   "metadata": {
    "collapsed": false,
    "ExecuteTime": {
     "end_time": "2024-07-08T06:55:05.658639Z",
     "start_time": "2024-07-08T06:55:05.643490Z"
    }
   },
   "id": "edbe7c9e1c0f0cf0",
   "execution_count": 6
  },
  {
   "cell_type": "code",
   "outputs": [],
   "source": [],
   "metadata": {
    "collapsed": false
   },
   "id": "a63de00d41fc1eee"
  }
 ],
 "metadata": {
  "kernelspec": {
   "display_name": "Python 3",
   "language": "python",
   "name": "python3"
  },
  "language_info": {
   "codemirror_mode": {
    "name": "ipython",
    "version": 2
   },
   "file_extension": ".py",
   "mimetype": "text/x-python",
   "name": "python",
   "nbconvert_exporter": "python",
   "pygments_lexer": "ipython2",
   "version": "2.7.6"
  }
 },
 "nbformat": 4,
 "nbformat_minor": 5
}

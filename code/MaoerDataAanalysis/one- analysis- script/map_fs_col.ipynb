{
 "cells": [
  {
   "cell_type": "code",
   "execution_count": 1,
   "id": "initial_id",
   "metadata": {
    "collapsed": true,
    "ExecuteTime": {
     "end_time": "2024-07-10T14:38:33.697995Z",
     "start_time": "2024-07-10T14:38:32.864194Z"
    }
   },
   "outputs": [],
   "source": [
    "import pandas as pd"
   ]
  },
  {
   "cell_type": "code",
   "outputs": [],
   "source": [
    "fs_data = pd.read_csv(\"/Users/daidaiwu/学校/大论文/MaoerExperiment/data/FS/0101-1031/k_2_15s_sim_q_1_num/ProcessingResult/maoer_FS_ResultCount.csv\")"
   ],
   "metadata": {
    "collapsed": false,
    "ExecuteTime": {
     "end_time": "2024-07-10T15:13:38.865043Z",
     "start_time": "2024-07-10T15:13:38.739847Z"
    }
   },
   "id": "b1508464b955fac",
   "execution_count": 2
  },
  {
   "cell_type": "code",
   "outputs": [
    {
     "name": "stdout",
     "output_type": "stream",
     "text": [
      "{0, 1, 3, 4, 5, 6, 7, 8, 9, 12, 13, 17, 19, 21, 23, 25, 26, 27, 28, 29, 31, 33, 35, 37, 41, 42, 43, 44, 60, 61, 62, 63, 65, 66, 70, 71, 72, 73, 75, 76, 77, 78, 80, 82, 83, 87, 88, 89, 90, 91, 92, 102, 103, 107, 108, 110, 112, 113, 132, 136, 145, 159, 161, 184, 185, 195, 199, 205, 217, 223, 224, 226, 227, 241, 243, 247, 249, 254, 256, 262, 268, 271, 287}\n"
     ]
    }
   ],
   "source": [
    "\n",
    "# 使用集合来获取合集\n",
    "unique_elements = set()\n",
    "for sublist in eval(fs_data[\"all_FS\"][0]):\n",
    "    unique_elements.update(sublist)\n",
    "# 打印合集结果\n",
    "print(unique_elements)"
   ],
   "metadata": {
    "collapsed": false,
    "ExecuteTime": {
     "end_time": "2024-07-10T15:20:31.374989Z",
     "start_time": "2024-07-10T15:20:31.323300Z"
    }
   },
   "id": "102e3353dd9b9123",
   "execution_count": 22
  },
  {
   "cell_type": "code",
   "outputs": [],
   "source": [
    "col_data = pd.read_csv(\"/Users/daidaiwu/学校/大论文/MaoerExperiment/data/FS/0101-1031/k_2_15s_sim_q_1_num/0101_0131_all_feature_involved_all.csv\",encoding=\"GBK\")"
   ],
   "metadata": {
    "collapsed": false,
    "ExecuteTime": {
     "end_time": "2024-07-10T15:17:19.104860Z",
     "start_time": "2024-07-10T15:17:12.826718Z"
    }
   },
   "id": "5bb026f3ba896e52",
   "execution_count": 18
  },
  {
   "cell_type": "code",
   "outputs": [
    {
     "name": "stdout",
     "output_type": "stream",
     "text": [
      "user_id\n"
     ]
    }
   ],
   "source": [
    "cols = col_data.columns.values.tolist()\n",
    "print(cols[0])"
   ],
   "metadata": {
    "collapsed": false,
    "ExecuteTime": {
     "end_time": "2024-07-10T15:22:10.221267Z",
     "start_time": "2024-07-10T15:22:10.213218Z"
    }
   },
   "id": "52cda530ddb8f07c",
   "execution_count": 30
  },
  {
   "cell_type": "code",
   "outputs": [
    {
     "name": "stdout",
     "output_type": "stream",
     "text": [
      "user_id\n",
      "sound_id_id\n",
      "user_name_len\n",
      "user_name_has_chinese\n",
      "user_name_has_english\n",
      "user_intro_len\n",
      "user_intro_has_chinese\n",
      "user_intro_has_english\n",
      "user_icon_is_default\n",
      "user_fish_num\n",
      "user_follower_num\n",
      "user_submit_drama_num\n",
      "user_subscribe_channel_num\n",
      "user_image_num\n",
      "user_submit_danmu_drama_total_view_num\n",
      "user_submit_danmu_drama_min_view_num\n",
      "user_submit_danmu_drama_avg_view_num\n",
      "user_submit_danmu_drama_total_danmu_num\n",
      "user_submit_danmu_drama_max_danmu_num\n",
      "user_submit_danmu_drama_min_danmu_num\n",
      "user_submit_danmu_drama_total_review_num\n",
      "user_submit_danmu_drama_min_review_num\n",
      "user_submit_danmu_sound_total_view_num\n",
      "user_submit_danmu_sound_min_view_num\n",
      "user_submit_danmu_sound_min_danmu_num\n",
      "user_submit_danmu_sound_avg_danmu_num\n",
      "user_submit_danmu_sound_total_review_num\n",
      "user_submit_danmu_sound_max_review_num\n",
      "user_in_sound_review_like_max_num\n",
      "user_in_sound_review_like_min_num\n",
      "user_in_sound_review_like_avg_num\n",
      "user_in_sound_is_submit_danmu\n",
      "user_in_sound_submit_danmu_max_len\n",
      "user_in_sound_submit_danmu_min_len\n",
      "user_in_sound_danmu_around_15s_total_danmu_min_num\n",
      "user_in_sound_danmu_around_15s_total_danmu_avg_num\n",
      "user_in_drama_total_review_num\n",
      "user_in_drama_total_danmu_num\n",
      "sound_intro_len\n",
      "sound_tag_num\n",
      "sound_type\n",
      "sound_time\n",
      "sound_danmu_num\n",
      "sound_point_num\n",
      "sound_review_not_subreview_num\n",
      "sound_position_in_total_darma_sound\n",
      "sound_view_num_in_total_darma_percent\n",
      "sound_danmu_num_in_total_darma_percent\n",
      "sound_favorite_num_in_total_darma_percent\n",
      "sound_point_num_in_total_darma_percent\n",
      "sound_review_num_in_total_darma_percent\n",
      "sound_review_submit_time_between_submit_sound_time_min\n",
      "sound_review_submit_time_between_submit_sound_time_avg\n",
      "sound_danmu_avg_len\n",
      "sound_danmu_max_len\n",
      "sound_danmu_submit_time_between_submit_sound_time_max\n",
      "sound_danmu_submit_time_between_submit_sound_time_avg\n",
      "sound_danmu_submit_time_between_submit_sound_time_in_7days_num\n",
      "sound_cv_auxiliary_cv_min_fans_num\n",
      "sound_tag_min_cite_num\n",
      "drama_tag_num\n",
      "drama_sound_cv_min_num\n",
      "drama_sound_has_max_cv_num_sound_view_num\n",
      "drama_max_review_num\n",
      "drama_min_review_num\n",
      "drama_sound_has_min_view_num_sound_favorite_num\n",
      "drama_sound_has_min_view_num_sound_cv_total_fans_num\n",
      "drama_upuser_submit_sound_num\n",
      "drama_upuser_submit_sound_total_review_num\n",
      "drama_sound_max_time\n",
      "drama_sound_min_time\n",
      "drama_sound_max_time_sound_view_num\n",
      "drama_sound_min_time_sound_view_num\n",
      "drama_danmu_submit_time_between_submit_sound_time_min\n",
      "drama_danmu_time_between_sound_time_in_7days_num_max\n",
      "drama_danmu_time_between_sound_time_in_14days_num_min\n",
      "drama_danmu_time_between_sound_time_in_30days_num_max\n",
      "drama_sound_tag_min_cite_num\n",
      "sound_id\n",
      "pcm_RMSenergy_sma_amean numeric\n",
      "pcm_RMSenergy_sma_kurtosis numeric\n",
      "pcm_fftMag_mfcc_sma[1]_range numeric\n",
      "pcm_fftMag_mfcc_sma[2]_linregc1 numeric\n"
     ]
    }
   ],
   "source": [
    "for idx in unique_elements:\n",
    "    print(cols[int(idx)])"
   ],
   "metadata": {
    "collapsed": false,
    "ExecuteTime": {
     "end_time": "2024-07-10T15:22:23.195741Z",
     "start_time": "2024-07-10T15:22:23.168513Z"
    }
   },
   "id": "3c8b5198fbdad9f4",
   "execution_count": 31
  },
  {
   "cell_type": "code",
   "outputs": [],
   "source": [],
   "metadata": {
    "collapsed": false
   },
   "id": "835a94998c3eac9e"
  }
 ],
 "metadata": {
  "kernelspec": {
   "display_name": "Python 3",
   "language": "python",
   "name": "python3"
  },
  "language_info": {
   "codemirror_mode": {
    "name": "ipython",
    "version": 2
   },
   "file_extension": ".py",
   "mimetype": "text/x-python",
   "name": "python",
   "nbconvert_exporter": "python",
   "pygments_lexer": "ipython2",
   "version": "2.7.6"
  }
 },
 "nbformat": 4,
 "nbformat_minor": 5
}

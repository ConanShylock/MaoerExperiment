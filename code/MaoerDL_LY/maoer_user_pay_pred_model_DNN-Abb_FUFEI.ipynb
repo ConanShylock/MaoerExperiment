{
 "cells": [
  {
   "cell_type": "code",
   "execution_count": 8,
   "id": "c4ad56ef",
   "metadata": {},
   "outputs": [
    {
     "name": "stdout",
     "output_type": "stream",
     "text": [
      "||--------开始时间： 2024-03-19 07:57:08.229188 -------------\n"
     ]
    }
   ],
   "source": [
    "# 对比算法 maoer_user_pay_pred_model_DNN\n",
    "\n",
    "import os\n",
    "import pandas as pd\n",
    "import numpy as np\n",
    "import torch\n",
    "import torch.nn as nn\n",
    "import torch.nn.functional as F\n",
    "import torch.optim as optim\n",
    "import math\n",
    "import copy\n",
    "from torch.utils.data import Dataset, DataLoader, TensorDataset\n",
    "import datetime\n",
    "from sklearn.metrics import roc_auc_score, f1_score, accuracy_score, recall_score, precision_score, roc_curve, confusion_matrix\n",
    "from _collections import OrderedDict  # 导入 OrderedDict 来保持字典中键值对的顺序\n",
    "\n",
    "print('||--------开始时间：',datetime.datetime.now(),'-------------')\n",
    "# data input\n",
    "data_time_windows_list =['1115_1215','1201_1231','1215_0115']\n",
    "# data_time_windows = '0101_0131'\n",
    "# path = './Dataset/' + data_time_windows + '_user_pay_pred_feature_deal.csv'\n",
    "# dataset_spilt_path = './Dataset/' + data_time_windows + '_user_pay_pred_feature_spilt_BiLSTM.csv'\n",
    "# # output_weight_result_path = './Dataset/' + data_time_windows + '_user_pay_pred_result_weight.csv'\n",
    "# data_feature_continue_discrete_namelist_path = './Dataset/maoer_timewindows_continue_discrete_feature_column.csv'    # 连续与离散划分表\n",
    "\n",
    "# 参数设置\n",
    "train_ratio = 0.6\n",
    "val_ratio = 0.2\n",
    "test_ratio = 0.2\n",
    "num_heads = 10\n",
    "feature_dim = 200\n",
    "max_history_len = 15\n",
    "num_experts = 3\n",
    "num_tasks = 2\n",
    "# 设置嵌入维度\n",
    "continue_embedding_dim = 200\n",
    "discrete_embedding_dim = 200\n",
    "lr = 0.1\n",
    "batch_size = 128\n",
    "threshold = 0.5\n",
    "\n",
    "\n",
    "# 获取时间窗内连续与离散特征名的列表\n",
    "def get_continue_discrete_feature_namelist(time_windows, datapath):\n",
    "    data = pd.read_csv(datapath)\n",
    "    time_windows_data = data[(data['DataSet'] == time_windows)]\n",
    "    user_history_pay_QOE_continue_column = eval([time_windows_data['QOE_continue'].values.tolist()][0][0])\n",
    "    user_history_pay_CHONGHE_continue_column = eval([time_windows_data['CHONGHE_continue'].values.tolist()][0][0])\n",
    "    user_history_pay_FUFEI_continue_column = eval([time_windows_data['FUFEI_continue'].values.tolist()][0][0])\n",
    "    user_history_pay_QOE_discrete_column = eval([time_windows_data['QOE_discrete'].values.tolist()][0][0])\n",
    "    user_history_pay_CHONGHE_discrete_column = eval([time_windows_data['CHONGHE_discrete'].values.tolist()][0][0])\n",
    "    user_history_pay_FUFEI_discrete_column = eval([time_windows_data['FUFEI_discrete'].values.tolist()][0][0])\n",
    "\n",
    "\n",
    "    return user_history_pay_QOE_continue_column, user_history_pay_CHONGHE_continue_column,user_history_pay_FUFEI_continue_column,\\\n",
    "            user_history_pay_QOE_discrete_column,user_history_pay_CHONGHE_discrete_column,user_history_pay_FUFEI_discrete_column\n",
    "\n",
    "# # 获取时间窗内连续与离散特征名的列表\n",
    "# user_history_pay_QOE_continue_column, user_history_pay_CHONGHE_continue_column, \\\n",
    "#         user_history_pay_FUFEI_continue_column, user_history_pay_QOE_discrete_column,\\\n",
    "#         user_history_pay_CHONGHE_discrete_column, user_history_pay_FUFEI_discrete_column = get_continue_discrete_feature_namelist(data_time_windows, data_feature_continue_discrete_namelist_path)\n",
    "# user_feature_continue_column = []\n",
    "# user_feature_discrete_column = []\n",
    "\n",
    "# # total continue feature\n",
    "# total_continue_feature = user_feature_continue_column+user_history_pay_QOE_continue_column+user_history_pay_CHONGHE_continue_column+user_history_pay_FUFEI_continue_column\n",
    "# total_discrete_feature = user_feature_discrete_column+user_history_pay_QOE_discrete_column+user_history_pay_CHONGHE_discrete_column+user_history_pay_FUFEI_discrete_column\n",
    "# total_discrete_feature_add_D = user_feature_discrete_column+user_history_pay_QOE_discrete_column+user_history_pay_CHONGHE_discrete_column+user_history_pay_FUFEI_discrete_column\n",
    "# total_discrete_feature_add_D.append('user_in_drama_is_pay_for_drama_in_next_time')\n",
    "# D = 'user_in_drama_is_pay_for_drama_in_next_time'\n",
    "# tensor_dict_idx = ['pay_QOE_continue','pay_QOE_discrete','pay_CHONGHE_continue','pay_CHONGHE_discrete','pay_FUFEI_continue','pay_FUFEI_discrete','target_QOE_continue','target_QOE_discrete','target_CHONGHE_continue','target_CHONGHE_discrete','target_FUFEI_continue','target_FUFEI_discrete']\n",
    "# # print(len(user_history_pay_QOE_continue_column),len(user_history_pay_CHONGHE_continue_column),len(user_history_pay_FUFEI_continue_column))\n",
    "# # 形成对应需要的特征名称列表\n",
    "# feature_column_dict = {\n",
    "#     'total_continue_feature': total_continue_feature,\n",
    "#     'total_discrete_feature': total_discrete_feature,\n",
    "#     'D':D\n",
    "# }\n"
   ]
  },
  {
   "cell_type": "code",
   "execution_count": 9,
   "id": "2ebecf8c",
   "metadata": {},
   "outputs": [],
   "source": [
    "# 1.数据处理+划分训练、验证、测试集\n",
    "\n",
    "# 划分数据集 给定输出后固定结果 输出形式定为存储user_id 形成train_dataset,val_dataset,test_dataset\n",
    "def split_data_unique(input_file, output_file, train_ratio, val_ratio, test_ratio):\n",
    "    df = pd.read_csv(input_file)\n",
    "#     data = df[df.columns[0]].unique()  # 提取第一列数据并去重\n",
    "    data = np.arange(df.shape[0])  #一个从 0 到行数减 1 的整数数组\n",
    "\n",
    "    np.random.shuffle(data)  # 随机打乱数据\n",
    "    # 划分数据\n",
    "    total_len = len(data)\n",
    "    x_end = int(total_len * train_ratio)\n",
    "    y_end = x_end + int(total_len * val_ratio)\n",
    "    train_data = data[:x_end]\n",
    "    val_data = data[x_end:y_end]\n",
    "    test_data = data[y_end:]\n",
    "    # 存储结果是去重的user_id\n",
    "    result = {\n",
    "        'Train': train_data,\n",
    "        'Val': val_data,\n",
    "        'Test': test_data\n",
    "    }   \n",
    "    # 创建每个子集的DataFrame  \n",
    "    train_df = pd.DataFrame(train_data, columns=['Train'])\n",
    "    val_df = pd.DataFrame(val_data, columns=['Val'])\n",
    "    test_df = pd.DataFrame(test_data, columns=['Test'])\n",
    "    # 将每个DataFrame转换为一列Series  \n",
    "    train_series = train_df.iloc[:, 0]\n",
    "    val_series = val_df.iloc[:, 0]\n",
    "    test_series = test_df.iloc[:, 0]\n",
    "    # 为了确保所有Series有相同的长度，我们需要找到最大长度并截断较短的Series  \n",
    "    max_len = max(len(train_series), len(val_series), len(test_series))\n",
    "    train_series = train_series.reindex(range(max_len)).fillna(value=pd.NA)\n",
    "    val_series = val_series.reindex(range(max_len)).fillna(value=pd.NA)\n",
    "    test_series = test_series.reindex(range(max_len)).fillna(value=pd.NA)\n",
    "    # 创建一个新的DataFrame，将Series作为列  \n",
    "    combined_df = pd.DataFrame({\n",
    "        'Train': train_series,\n",
    "        'Val': val_series,\n",
    "        'Test': test_series\n",
    "    })\n",
    "    # 写入CSV文件，不包含索引和列名  \n",
    "    combined_df.to_csv(output_file, index=False)\n",
    "    print('已输出划分数据集结果')\n",
    "\n",
    "# 数据预处理 将连续特征变离散特征 分桶 不处理user_id、sound_id、drama_id、time\n",
    "def data_pre_deal(input_path,continue_feature_list):\n",
    "    df = pd.read_csv(input_path)\n",
    "    deal_data_df = [] # 待修改********\n",
    "    # # 获取离散特征的类别数量，并存储为字典\n",
    "    # category_counts = {}\n",
    "    # for column in deal_data_df.columns:\n",
    "    #     unique_values = deal_data_df[column].nunique()  # 获取列的唯一值数量\n",
    "    #     category_counts[column] = unique_values\n",
    "    print('数据预处理结束')\n",
    "    return df\n",
    "\n",
    "# 根据划分好的数据集中user_id 找到对应csv文件中对应user_id的所有行数据取出，即包含了历史数据（付费+非付费）+目标数据（最后一次行为）\n",
    "# def find_data_by_list(user_list, intput_data_df, data_hash):\n",
    "#     df = intput_data_df\n",
    "#     # result_list = []\n",
    "#     # 遍历列表中的值，在CSV文件中找到所有匹配的行数据并加入结果列表\n",
    "#     for user_id in user_list:\n",
    "#         result_df = df[df[df.columns[0]] == user_id]\n",
    "#         # result_list.append(result_df)\n",
    "#         if user_id in data_hash:\n",
    "#             data_hash[user_id].update({col: result_df for col in df.columns})  # 使用列名作为键\n",
    "#         else:\n",
    "#             data_hash[user_id] = {col: result_df for col in df.columns}\n",
    "#     #result = pd.concat(result_list)  # 合并所有匹配的行数据\n",
    "#     return data_hash\n",
    "\n",
    "# 改过 根据 BiLSTM单独改的 根据下标获取数据\n",
    "def find_data_by_list(index_list, intput_data_df, data_hash):  \n",
    "    for index in index_list:  \n",
    "        index = int(index)\n",
    "        index_list = []\n",
    "        index_list.append(index)\n",
    "        result_df = intput_data_df.iloc[index_list]  \n",
    "        data_hash[index] = result_df  # 直接存储DataFrame对象  \n",
    "        if result_df.shape[0]==0:\n",
    "            print('result_df出现空')\n",
    "    return data_hash\n",
    "    \n",
    "# 获取列唯一值数量表，并对离散特征的值转化为从0开始的索引\n",
    "def get_unique_feature_num_and_discrete_valueChange(datadf,discrete_feature_column_list):\n",
    "    # 获取离散特征的类别数量，并存储为字典\n",
    "    feature_category_num_dict = {}\n",
    "    for column in datadf.columns:\n",
    "        unique_values_len = datadf[column].nunique()  # 获取列的唯一值数量\n",
    "        feature_category_num_dict[column] = unique_values_len\n",
    "        if column in discrete_feature_column_list:\n",
    "            unique_values = datadf[column].unique()\n",
    "            value_mapping_dict = {value: index for index, value in enumerate(unique_values) if\n",
    "                              value != -1 and value != '' and value is not None}\n",
    "            datadf[column] = datadf[column].map(value_mapping_dict)\n",
    "    return feature_category_num_dict,datadf\n",
    "\n",
    "# 总的特征输入，生成划分后数据集及其输入\n",
    "def data_input(data_time_windows, path, spilt_outpath, train_ratio, val_ratio, test_ratio, total_continue_feature):\n",
    "    dataset_path = path  # 待修改********\n",
    "    dataset_spilt_path = spilt_outpath  # 待修改********\n",
    "    if os.path.exists(dataset_spilt_path):  # 划分训练、验证、测试集\n",
    "        print(\"划分文件已存在，不再进行数据划分\")\n",
    "    else:\n",
    "        split_data_unique(dataset_path, dataset_spilt_path, train_ratio, val_ratio, test_ratio)\n",
    "    deal_data_df = data_pre_deal(dataset_path, total_continue_feature)  # 数据预处理\n",
    "    # 获取离散特征的类别数量，并存储为字典\n",
    "    feature_category_num_dict,deal_data_df  = get_unique_feature_num_and_discrete_valueChange(deal_data_df,total_discrete_feature)\n",
    "    # 读取划分文件的结果\n",
    "    spilt_data_df = pd.read_csv(dataset_spilt_path)\n",
    "    # 输出每一列数据为列表\n",
    "    train_list = spilt_data_df['Train'].tolist()\n",
    "    val_list = spilt_data_df['Val'].tolist()\n",
    "    test_list = spilt_data_df['Test'].tolist()\n",
    "    train_list = [x for x in train_list if not math.isnan(x)]\n",
    "    val_list = [x for x in val_list if not math.isnan(x)]\n",
    "    test_list = [x for x in test_list if not math.isnan(x)]\n",
    "    # print('训练集、验证集、测试集大小=', len(train_list),len(val_list),len(test_list))\n",
    "    # 根据划分好的生成以user_id为key的hash（特征集合）将最后一行看做目标数据\n",
    "    data_hash = {}  # 存成一个hash形式\n",
    "    find_data_by_list(train_list, deal_data_df, data_hash)\n",
    "    find_data_by_list(val_list, deal_data_df, data_hash)\n",
    "    find_data_by_list(test_list, deal_data_df, data_hash)\n",
    "    print('数据划分完成')\n",
    "    # print(feature_category_num_dict)\n",
    "    return train_list, val_list, test_list, data_hash, feature_category_num_dict\n",
    "\n",
    "# test\n",
    "# 数据集 train、val、test划分及总数据hash表(以user_id为key的存储对应对应行的hash表)及不同类特征数存储的字典\n",
    "# train_list, val_list, test_list, data_hash, feature_category_num_dict = data_input(data_time_windows, path,dataset_spilt_path, train_ratio, val_ratio, test_ratio, total_continue_feature)\n",
    "# print(data_hash[3617476])\n",
    "# print(feature_category_num_dict)\n"
   ]
  },
  {
   "cell_type": "code",
   "execution_count": 10,
   "id": "326ed936",
   "metadata": {},
   "outputs": [],
   "source": [
    "# 2. 形成张量矩阵 目标特征为：（batch,1,feature_num; 用户历史行为特征为（batch,max_history_len(固定长度的历史记录数),feature_num）\n",
    "\n",
    "# mask 对用户历史行为长度的固定\n",
    "# 转换 history 列为长度为max_history_len的数组\n",
    "def process_history(history, max_history_len):\n",
    "    if len(history) >= max_history_len:\n",
    "        processed_history = history[-max_history_len:]\n",
    "    else:\n",
    "        processed_history = [-1] * (max_history_len - len(history)) + history\n",
    "    return processed_history\n",
    "# 将填充-1的位置标记为True\n",
    "def create_mask(history):\n",
    "    mask = [True if item == -1 else False for item in history]\n",
    "    return mask\n",
    "# 将历史行为记录处理为固定长度并进行mask\n",
    "def history_feature_mask(user_history_feature_index, data_matrix_user_history, max_history_len):\n",
    "    mask_history_feature_matrix = []\n",
    "    origin_history_feature_matrix = []\n",
    "    for feature_index in range(len(user_history_feature_index)):\n",
    "        feature_data = [data_row[feature_index] for data_row in data_matrix_user_history]  # 获取一列特征值\n",
    "        processed_feature_data = process_history(feature_data, max_history_len)  # 处理为固定长度 max_history_len\n",
    "        origin_history_feature_matrix.append(processed_feature_data)\n",
    "        mask_feature_data = create_mask(processed_feature_data)  # 将空的mask\n",
    "        mask_history_feature_matrix.append(mask_feature_data)\n",
    "        \n",
    "    # print('mask',len(origin_history_feature_matrix),len(origin_history_feature_matrix[0]))\n",
    "    return origin_history_feature_matrix, mask_history_feature_matrix\n",
    "# 将记录mask\n",
    "# def history_feature_mask(user_history_feature_index, data_matrix_user_history, max_history_len):\n",
    "#     mask_history_feature_matrix = []\n",
    "#     origin_history_feature_matrix = []\n",
    "#     for feature_index in range(len(user_history_feature_index)):\n",
    "#         feature_data = [data_row[feature_index] for data_row in data_matrix_user_history]  # 获取一列特征值\n",
    "#         origin_history_feature_matrix.append(feature_data)\n",
    "#         mask_feature_data = create_mask(feature_data)  # 将空的mask\n",
    "#         mask_history_feature_matrix.append(mask_feature_data)\n",
    "#         \n",
    "#     # print('mask',len(origin_history_feature_matrix),len(origin_history_feature_matrix[0]))\n",
    "#     return origin_history_feature_matrix, mask_history_feature_matrix\n",
    "\n",
    "# 将输入形成的data_hash和连续、离散特征列名,按照划分的训练或测试的user_id的列表，提取用户特征形成张量矩阵存储到data_tensor_hash中，以user_id为key，多个张量矩阵为value\n",
    "def get_feature_to_matrix(train_or_val_or_test_list, data_hash, feature_column_dict):\n",
    "    # 存储新的张量hash\n",
    "    data_tensor_hash = {}\n",
    "    # 存储历史记录的掩码矩阵\n",
    "    data_tensor_history_mask_hash = {}\n",
    "    target_label = []  # 预测目标值的标签\n",
    "\n",
    "    for user_id in train_or_val_or_test_list:\n",
    "        user_data = data_hash[user_id]\n",
    "        # 创建空的二维矩阵\n",
    "        data_matrix_history_continue = []\n",
    "        data_matrix_history_discrete = []\n",
    "        data_matrix_target_continue = []\n",
    "        data_matrix_target_discrete = []\n",
    "#         target_label = []\n",
    "        # 提取特征列对应的索引\n",
    "        # user_feature_continue_index = [user_data.columns.get_loc(col) for col in feature_column_dict['user_info_continue'] if col in user_data.columns]\n",
    "        # user_feature_discrete_index = [user_data.columns.get_loc(col) for col in feature_column_dict['user_info_discrete'] if\n",
    "        #                                col in user_data.columns]\n",
    "        total_continue_index = [user_data.columns.get_loc(col) for col in feature_column_dict['total_continue_feature'] if col in user_data.columns]\n",
    "        total_discrete_index = [user_data.columns.get_loc(col) for col in feature_column_dict['total_discrete_feature'] if col in user_data.columns]\n",
    "        D_index = [user_data.columns.get_loc(col) for col in feature_column_dict['D'] if col in user_data.columns]\n",
    "                \n",
    "        # 填充数据矩阵\n",
    "        for i in range(len(user_data)):\n",
    "            data_matrix_history_continue.append(\n",
    "                [user_data.iloc[i, col] for col in total_continue_index])  # 用户历史连续特征\n",
    "            data_matrix_history_discrete.append(\n",
    "                [user_data.iloc[i, col] for col in total_discrete_index])  # 用户历史离散特征\n",
    "            target_label.append(user_data.iloc[i, -1])  # 预测目标的y值\n",
    "\n",
    "        # 将numpy数组转换为PyTorch张量       \n",
    "        # history   得到的data_matrix_user_history及data_tensor_pay_QOE_continue维度是(feature_num,history_len)需要转成tensor后转置\n",
    "\n",
    "        data_tensor_history_continue = torch.tensor(np.array(data_matrix_history_continue), dtype=torch.float32)\n",
    "        data_tensor_history_discrete = torch.tensor(np.array(data_matrix_history_discrete), dtype=torch.float32)\n",
    "        data_label_tensor = torch.tensor(np.array(target_label), dtype=torch.float32)\n",
    "#         print('data_label_tensor',data_label_tensor.shape)\n",
    "\n",
    "#         data_tensor_history_continue = torch.transpose(torch.tensor(np.array(data_matrix_history_continue), dtype=torch.float32),0,1)\n",
    "#         data_tensor_history_discrete = torch.transpose(torch.tensor(np.array(data_matrix_history_discrete), dtype=torch.float32),0,1)\n",
    "#         data_tensor_history_continue_mask = []\n",
    "#         data_tensor_history_discrete_mask = []\n",
    "#         print('data_tensor_history_discrete',data_tensor_history_discrete.shape)\n",
    "        \n",
    "        # user + target   输出维度为（1，feature_num）,一处第一个为1的维度变为（feature_num）\n",
    "#         data_tensor_target_continue = torch.squeeze(torch.tensor(np.array(data_matrix_target_continue), dtype=torch.float32),dim=0)\n",
    "#         data_tensor_target_discrete = torch.squeeze(torch.tensor(np.array(data_matrix_target_discrete), dtype=torch.float32),dim=0)\n",
    "#         data_label_tensor = torch.squeeze(data_label_tensor,dim=0)\n",
    "#         print('data_label_tensor',data_label_tensor.shape)\n",
    "        \n",
    "        # 生成hash值，按user_id为key存储成hash\n",
    "        tensor_hash_value = {\n",
    "            'history_continue': data_tensor_history_continue,\n",
    "            'history_discrete': data_tensor_history_discrete,\n",
    "#             'target_continue': data_tensor_target_continue,\n",
    "#             'target_discrete': data_tensor_target_discrete,\n",
    "            'label': data_label_tensor\n",
    "\n",
    "        }\n",
    "#         tensor_hash_value_history_mask = {\n",
    "#             'history_continue': data_tensor_history_continue_mask,\n",
    "#             'history_discrete': data_tensor_history_discrete_mask,\n",
    "#         }\n",
    "        if user_id in data_tensor_hash:\n",
    "            data_tensor_hash[user_id].update(tensor_hash_value)\n",
    "#             data_tensor_history_mask_hash[user_id].update(tensor_hash_value_history_mask)\n",
    "        else:\n",
    "            data_tensor_hash[user_id] = tensor_hash_value\n",
    "#             data_tensor_history_mask_hash[user_id] = tensor_hash_value_history_mask\n",
    "    \n",
    "    # 如果需要合并成一个张量，可以使用torch.cat方法\n",
    "    # combined_tensor = torch.cat((data_matrix_1_tensor, data_matrix_2_tensor), dim=1)\n",
    "    # data_tensor_hash中用户历史的输出维度(max_history_len,feature_num)，目标的输出维度是（feature_num）\n",
    "    return data_tensor_hash, target_label\n",
    "\n",
    "\n",
    "# 张量矩阵添加一个batch维度，并在用户特征与目标特征的张量中再添加一维使其与用户历史行为张量对齐， 形成两种：\n",
    "# 原数据为：1.用户特征与目标特征都为：（1,feature_num）; 2.用户历史行为特征为（max_history_len(固定长度的历史记录数),feature_num）\n",
    "# 新数据为：1.用户特征与目标特征都为：（batch,1,1,feature_num); 2.用户历史行为特征为（batch,max_history_len(固定长度的历史记录数),feature_num）\n",
    "# 形成batch维度的特征\n",
    "def generate_batch_feature(train_or_val_or_test_list,data_tensor_hash, feature_category,is_label = False):  # 例:feature_category = 'user_info_continue' 就是上面生成的tensor_hash_value字典的键\n",
    "    tensor_list = []\n",
    "#     batch_feature_tensor = None\n",
    "    for user_id in train_or_val_or_test_list:  # 遍历data_tensor_hash的所有key (user_id)\n",
    "        if feature_category in data_tensor_hash[user_id]:\n",
    "            tensor = data_tensor_hash[user_id][feature_category]  # 获取feature_category对应的张量\n",
    "            tensor_list.append(tensor)  # 添加到tensor_list中\n",
    "    if is_label:\n",
    "        batch_feature_tensor = tensor_list[-1]\n",
    "    else:\n",
    "        batch_feature_tensor = torch.stack(tensor_list, dim=0)  # 在第一个维度上合并所有张量(其实相当于生成一个新维度)\n",
    "    return batch_feature_tensor\n",
    "# 生成batch再添加维度对齐张量（三个维度）\n",
    "def generate_user_feature_alignment_tensor(train_or_val_or_test_list,data_tensor_hash,is_mask=False):\n",
    "    # 用户历史行为矩阵（max_history_len(固定长度的历史记录数),feature_num）->（batch,max_history_len(固定长度的历史记录数),feature_num）\n",
    "    history_continue_batch_feature_tensor = generate_batch_feature(train_or_val_or_test_list,data_tensor_hash, 'history_continue')\n",
    "    history_discrete_batch_feature_tensor = generate_batch_feature(train_or_val_or_test_list,data_tensor_hash, 'history_discrete')\n",
    "    table_tensor = generate_batch_feature(train_or_val_or_test_list,data_tensor_hash, 'label',is_label = True)\n",
    "    # 看是否是掩码矩阵，不是则xxx，是则没有user+target\n",
    "#     if is_mask==False:\n",
    "#         # 用户矩阵 (feature_num) ->(batch,feature_num)\n",
    "#         # user_info_continue_batch_feature_tensor = generate_batch_feature(data_tensor_hash, 'user_info_continue')\n",
    "#         # user_info_discrete_batch_feature_tensor = generate_batch_feature(data_tensor_hash, 'user_info_discrete')\n",
    "#         # 目标矩阵 (feature_num) ->(batch,feature_num)\n",
    "#         target_continue_batch_feature_tensor = generate_batch_feature(train_or_val_or_test_list,data_tensor_hash, 'target_continue')\n",
    "#         target_discrete_batch_feature_tensor = generate_batch_feature(train_or_val_or_test_list,data_tensor_hash, 'target_discrete')\n",
    "\n",
    "#         # 假设原始张量矩阵为 tensor，形状为 (batch_size, feature_num)将其加一个维度变为 (batch_size, 1, feature_num)\n",
    "#         # user_info_continue_batch_feature_tensor = torch.unsqueeze(user_info_continue_batch_feature_tensor, dim=1)\n",
    "#         # user_info_discrete_batch_feature_tensor = torch.unsqueeze(user_info_discrete_batch_feature_tensor, dim=1)\n",
    "#         target_continue_batch_feature_tensor = torch.unsqueeze(target_continue_batch_feature_tensor, dim=1)\n",
    "#         target_discrete_batch_feature_tensor = torch.unsqueeze(target_discrete_batch_feature_tensor, dim=1)\n",
    "\n",
    "#         batch_feature_tensor_dict = {\n",
    "#             'history_discrete': history_discrete_batch_feature_tensor,\n",
    "#             'history_continue': history_continue_batch_feature_tensor,\n",
    "#             'target_discrete': target_discrete_batch_feature_tensor,     \n",
    "#             'target_continue': target_continue_batch_feature_tensor,\n",
    "#         }\n",
    "#     else:\n",
    "    batch_feature_tensor_dict = {\n",
    "        'history_discrete': history_discrete_batch_feature_tensor,\n",
    "        'history_continue': history_continue_batch_feature_tensor,\n",
    "        'label':table_tensor\n",
    "    }\n",
    "    return batch_feature_tensor_dict  # 这里张量输出的全是三维 (batch_size, 1 or max_history_len, feature_num)\n",
    "\n",
    "\n",
    "# 由于模型输入得是张量，因此在之前将字典转化为了张量，现在将它转换回去\n",
    "class TensorDatasettoDict(Dataset):\n",
    "    def __init__(self, dataset, keys):\n",
    "        self.dataset = dataset\n",
    "        self.keys = keys\n",
    "\n",
    "    def __len__(self):\n",
    "        return len(self.dataset)\n",
    "\n",
    "    def __getitem__(self, idx):\n",
    "        data = self.dataset[idx]\n",
    "        sample = {key: data[i] for i, key in enumerate(self.keys)}\n",
    "        return sample\n",
    "\n",
    "# test\n",
    "# 获取训练、验证、测试集对应的数据形成的向量hash存储及label\n",
    "# print(data_hash[3617476])\n",
    "# train_data_tensor_hash, train_label, train_data_tensor_hash_history_mask = get_feature_to_matrix(train_list, data_hash, feature_column_dict)\n",
    "# first_key = list(train_data_tensor_hash.keys())[0]\n",
    "# print(train_data_tensor_hash[first_key]['pay_QOE_discrete'][:,0])\n",
    "# print(train_label)\n",
    "# # print(train_data_tensor_hash[3617476])\n",
    "# dimensions1 = train_data_tensor_hash[3617476]['pay_QOE_continue'].size()\n",
    "# dimensions2 = train_data_tensor_hash[3617476]['pay_QOE_discrete'].size()\n",
    "# dimensions3 = train_data_tensor_hash[3617476]['pay_CHONGHE_continue'].size()\n",
    "# dimensions4 = train_data_tensor_hash[3617476]['target_QOE_continue'].size()\n",
    "# dimensions5 = train_data_tensor_hash[3617476]['target_QOE_discrete'].size()\n",
    "# dimensions6 = train_data_tensor_hash[3617476]['target_CHONGHE_continue'].size()\n",
    "# print(\"PyTorch张量的维度：\", dimensions1,dimensions2,dimensions3,dimensions4,dimensions5,dimensions6)\n",
    "# train_batch_feature_tensor_dict = generate_user_feature_alignment_tensor(train_list,train_data_tensor_hash)\n",
    "# train_batch_feature_tensor_history_mask_dict = generate_user_feature_alignment_tensor(train_data_tensor_hash_history_mask,is_mask=True)\n",
    "# print(train_batch_feature_tensor_dict['pay_QOE_discrete'][0,:,0])\n",
    "# dimensions1 = train_data_tensor_hash[3617476]['pay_QOE_continue'].size()\n",
    "# dimensions2 = train_data_tensor_hash[3617476]['pay_QOE_discrete'].size()\n",
    "# dimensions3 = train_data_tensor_hash[3617476]['pay_CHONGHE_continue'].size()\n",
    "# dimensions4 = train_data_tensor_hash[3617476]['target_QOE_continue'].size()\n",
    "# dimensions5 = train_data_tensor_hash[3617476]['target_QOE_discrete'].size()\n",
    "# dimensions6 = train_data_tensor_hash[3617476]['target_CHONGHE_continue'].size()\n",
    "# print(\"PyTorch添加batch后张量的维度：\", dimensions1,dimensions2,dimensions3,dimensions4,dimensions5,dimensions6)"
   ]
  },
  {
   "cell_type": "code",
   "execution_count": 11,
   "id": "87f1f99f",
   "metadata": {},
   "outputs": [],
   "source": [
    "# 3.基础模型 embedding、attention\n",
    "# 构建离散特征的embedding\n",
    "def discrete_embedding(feature_category_num_dict, feature_column_name_list, embedding_dim): # 输入特征取值大小的集合,特征数,维度\n",
    "    # 创建一个列表来存储每个嵌入层\n",
    "    embeddings = []\n",
    "    for i in range(0, len(feature_column_name_list)):\n",
    "        # print(feature_column_name_list[i], feature_category_num_dict[feature_column_name_list[i]])\n",
    "        embedding_layer1 = nn.Embedding(feature_category_num_dict[feature_column_name_list[i]]+2, embedding_dim)\n",
    "        embeddings.append(embedding_layer1)\n",
    "    #     print('embedding维度',feature_category_num_dict[feature_column_name_list[i]]+1)\n",
    "    # print('本轮embedding层：',len(feature_column_name_list))\n",
    "    return embeddings\n",
    "\n",
    "# 全连接层 MLP\n",
    "def dense_layer(in_features, out_features):\n",
    "    # in_features=hidden_size,out_features=1\n",
    "    return nn.Sequential(\n",
    "        nn.Linear(in_features, out_features, bias=True),\n",
    "        nn.ReLU())\n",
    "# 全连接层 MLP\n",
    "def dense_layer_noReLu(in_features, out_features):\n",
    "    # in_features=hidden_size,out_features=1\n",
    "    return nn.Sequential(\n",
    "        nn.Linear(in_features, out_features, bias=True))\n",
    "\n",
    "# 连续特征离散化\n",
    "def continuous_embedding(num_continuous_features, out_features):\n",
    "    continuous_embedding_layers = []\n",
    "    for i in range(0,len(num_continuous_features)):\n",
    "        num_continuous_feature = num_continuous_features[i]\n",
    "        embedding_layer = dense_layer(1, out_features)\n",
    "        continuous_embedding_layers.append(embedding_layer)\n",
    "    return continuous_embedding_layers\n",
    "\n",
    "# 根据全特征数量表及类别，得到类别下的对应特征数量  feature_column_name_list = feature_column_dict['user_info_continue']\n",
    "def category_feature_num(feature_category_num_dict, feature_column_name_list):\n",
    "    category_feature_num_list = []\n",
    "    for i in range(len(feature_column_name_list)):\n",
    "        category_feature_num_list.append(feature_category_num_dict[feature_column_name_list[i]])\n",
    "    # print('category_feature_num',len(category_feature_num_list))\n",
    "    return category_feature_num_list \n",
    "\n",
    "# SE层中找到合适的reduction使channel // reduction得到整数\n",
    "def find_reduction(channel, min_reduction=2, max_reduction=19):  \n",
    "    # 对于质数，直接取自己作为reduction  \n",
    "    if is_prime(channel):  \n",
    "        return channel  \n",
    "      \n",
    "    # 计算介于min_reduction和max_reduction之间的候选reduction值  \n",
    "    candidates = [i for i in range(min_reduction, max_reduction + 1) if channel % i == 0]  \n",
    "      \n",
    "    # 如果候选列表为空，则至少取2作为reduction  \n",
    "    if not candidates:  \n",
    "        return min_reduction  \n",
    "      \n",
    "    # 尝试找到最大的候选值，使得channel // reduction的结果尽可能大  \n",
    "    reduction = max(candidates)  \n",
    "      \n",
    "    return reduction  \n",
    "def is_prime(n):  \n",
    "    \"\"\"判断一个数是否为质数\"\"\"  \n",
    "    if n < 2:  \n",
    "        return False  \n",
    "    for i in range(2, int(math.sqrt(n)) + 1):  \n",
    "        if n % i == 0:  \n",
    "            return False  \n",
    "    return True  \n",
    "    \n",
    "# 输入(batch,feature_num,embedding_dim,1) ->(batch,feature_num,embedding_dim,1)->输出特征权重及权重乘后的(batch,embedding_dim) \n",
    "class SELayer(nn.Module):\n",
    "    def __init__(self, channel, reduction=16):\n",
    "        super(SELayer, self).__init__()\n",
    "        self.avg_pool = nn.AdaptiveAvgPool2d(1)\n",
    "        self.reduction = reduction\n",
    "        self.reduction = find_reduction(channel)\n",
    "        self.fc = nn.Sequential(       \n",
    "            nn.Linear(channel, channel // reduction, bias=False),\n",
    "            nn.ReLU(inplace=True),\n",
    "            nn.Linear(channel // reduction, channel, bias=False),\n",
    "            nn.Sigmoid()\n",
    "        )\n",
    "\n",
    "    def forward(self, x):\n",
    "        b, c, h, w = x.size()\n",
    "        # print('b, c, h, w',b, c, h, w)\n",
    "        y = self.avg_pool(x).view(b, c)   \n",
    "        # print('y',y)\n",
    "        weight = self.fc(y).view(b, c, 1, 1)\n",
    "        new_x = x * weight.expand_as(x)  # 利用了 PyTorch 的广播机制，使得张量 weight 被复制成与输入 x 相同的形状，然后进行逐元素相乘 \n",
    "        # 加权平均 (batch, embedding_dim)\n",
    "        weighted_avg_out_x = new_x.mean(dim=1, keepdim=True)  # 在 feature_num维度上取平均，保持维度\n",
    "        # 调整维度\n",
    "        weighted_avg_out_x = weighted_avg_out_x.view(b, 1, h, w)\n",
    "        # 去除最后一维\n",
    "        new_x = new_x.squeeze(dim=3)\n",
    "        weighted_avg_out_x = weighted_avg_out_x.squeeze(dim=3)\n",
    "        \n",
    "        return  weight, weighted_avg_out_x,new_x\n",
    "   \n",
    "    # 多头自注意力\n",
    "class MultiHeadSelfAttention(nn.Module):\n",
    "    def __init__(self, num_heads, feature_dim, max_history_len):\n",
    "        super(MultiHeadSelfAttention, self).__init__()\n",
    "        self.num_heads = num_heads  #10\n",
    "        self.feature_dim = feature_dim   #200\n",
    "        self.head_dim = feature_dim // num_heads\n",
    "        self.max_history_len = max_history_len\n",
    "\n",
    "        self.WQ = nn.Linear(feature_dim, feature_dim)\n",
    "        self.WK = nn.Linear(feature_dim, feature_dim)\n",
    "        self.WV = nn.Linear(feature_dim, feature_dim)\n",
    "\n",
    "    def forward(self, history_matrix, mask=None):\n",
    "        batch_size, history_len, _ = history_matrix.size()\n",
    "\n",
    "        Q = self.WQ(history_matrix)\n",
    "        K = self.WK(history_matrix)\n",
    "        V = self.WV(history_matrix)\n",
    "\n",
    "        Q = Q.view(batch_size, history_len, self.num_heads, self.head_dim).permute(0, 2, 1, 3)  #(batch,num_heads,history_len,head_dim)\n",
    "        K = K.view(batch_size, history_len, self.num_heads, self.head_dim).permute(0, 2, 1, 3)\n",
    "        V = V.view(batch_size, history_len, self.num_heads, self.head_dim).permute(0, 2, 1, 3)\n",
    "\n",
    "        attention_scores = torch.matmul(Q, K.permute(0, 1, 3, 2)) / (self.head_dim ** 0.5)\n",
    "\n",
    "        if mask is not None:\n",
    "            mask = mask.permute(0, 2, 1)  # 二、三维度互换  变为(batch, feature_num, history)\n",
    "            temp_dim=mask.shape[1]\n",
    "            #（样本数*特征数,历史数）\n",
    "            mask=mask.reshape(-1,max_history_len)\n",
    "            attention_scores = attention_scores.masked_fill(mask.unsqueeze(1).unsqueeze(2).bool(), float('-inf'))  #()\n",
    "\n",
    "        attention_weights = torch.softmax(attention_scores, dim=-1)  #shape(batch,head,history_len,history_len)\n",
    "        #(batch,history_len,200)\n",
    "        weighted_sum = torch.matmul(attention_weights, V).permute(0, 2, 1, 3).contiguous().view(batch_size, history_len,\n",
    "                                                                                                self.feature_dim)\n",
    "        # 计算加权平均\n",
    "        weighted_avg_out = weighted_sum.mean(dim=1, keepdim=True)  # 在 history_len 维度上取平均，保持维度\n",
    "        # 调整维度\n",
    "        weighted_avg_out = weighted_avg_out.view(batch_size, 1,self.feature_dim)\n",
    "        # print('weighted_sum',weighted_avg_out.shape)\n",
    "        \n",
    "        return attention_weights, weighted_avg_out, weighted_sum\n",
    "\n",
    "# 注意力机制 关于用\n",
    "class MultiHeadHistory_TargetAttention(nn.Module):\n",
    "    def __init__(self, num_heads, embed_dim, dropout=0.1):\n",
    "        super(MultiHeadHistory_TargetAttention, self).__init__()\n",
    "        \n",
    "        assert embed_dim % num_heads == 0, f\"Embedding dimension ({embed_dim}) should be divisible by the number of heads ({num_heads}).\"\n",
    "\n",
    "        self.embed_dim = embed_dim\n",
    "        self.num_heads = num_heads\n",
    "        self.head_dim = embed_dim // num_heads\n",
    "        \n",
    "        # 定义权重矩阵\n",
    "        self.q_linear = nn.Linear(embed_dim, embed_dim)\n",
    "        self.k_linear = nn.Linear(embed_dim, embed_dim)\n",
    "        self.v_linear = nn.Linear(embed_dim, embed_dim)\n",
    "        \n",
    "        self.out_proj = nn.Linear(embed_dim, embed_dim)\n",
    "\n",
    "        self.scaling = self.head_dim ** -0.5\n",
    "        self.dropout = nn.Dropout(dropout)\n",
    "        self.softmax = nn.Softmax(dim=-1)\n",
    "\n",
    "    def forward(self, query, key, value, attn_mask=None):\n",
    "        batch_size = query.size(0)       \n",
    "        # 进行线性投影并分离成多个头\n",
    "        q = self.q_linear(query).view(batch_size, -1, self.num_heads, self.head_dim).transpose(1, 2)\n",
    "        k = self.k_linear(key).view(batch_size, -1, self.num_heads, self.head_dim).transpose(1, 2)\n",
    "        v = self.v_linear(value).view(batch_size, -1, self.num_heads, self.head_dim).transpose(1, 2)\n",
    "        # 计算注意力得分\n",
    "        scores = torch.matmul(q, k.transpose(-2, -1)) * self.scaling\n",
    "        if attn_mask is not None:\n",
    "            scores.masked_fill_(attn_mask.unsqueeze(1), float('-inf'))\n",
    "        # 应用softmax函数\n",
    "        attn_weights = self.softmax(scores)\n",
    "        # 应用dropout\n",
    "        attn_weights = self.dropout(attn_weights)\n",
    "        # 进行值的加权求和\n",
    "        context = torch.matmul(attn_weights, v).transpose(1, 2).contiguous().view(batch_size, -1, self.embed_dim)\n",
    "        # 输出层的线性变换\n",
    "        output = self.out_proj(context)\n",
    "        return attn_weights, output\n",
    "\n",
    "# BiLSTM\n",
    "import torch\n",
    "import torch.nn as nn\n",
    "from torch.nn.utils.rnn import pack_padded_sequence, pad_packed_sequence\n",
    "\n",
    "class BiLSTMWithBatchNorm(nn.Module):  \n",
    "    def __init__(self, input_dim, hidden_dim, output_dim, num_layers):  \n",
    "        super(BiLSTMWithBatchNorm, self).__init__()  \n",
    "          \n",
    "        self.hidden_dim = hidden_dim  \n",
    "        self.num_layers = num_layers  \n",
    "          \n",
    "        # 定义BiLSTM层，使用nn.ModuleList来容纳多个层  \n",
    "        self.lstm_layers = nn.ModuleList([  \n",
    "            nn.LSTM(input_dim if i == 0 else hidden_dim * 2, hidden_dim, 1, batch_first=True, bidirectional=True)  \n",
    "            for i in range(num_layers)  \n",
    "        ])  \n",
    "          \n",
    "        # 定义BatchNorm层，与LSTM层数量相同  \n",
    "        self.batch_norm_layers = nn.ModuleList([  \n",
    "            nn.BatchNorm1d(hidden_dim * 2)  \n",
    "            for _ in range(num_layers)  \n",
    "        ])  \n",
    "          \n",
    "        # 全连接层  \n",
    "        self.fc = nn.Linear(hidden_dim * 2, output_dim)  \n",
    "        \n",
    "    def forward(self, x):  \n",
    "        # 初始化所有层的隐藏状态和细胞状态  \n",
    "        # 注意这里使用列表来存储每一层的隐藏状态和细胞状态  \n",
    "        h0 = [torch.zeros(2, x.size(0), self.hidden_dim).to(x.device) for _ in range(self.num_layers)]  \n",
    "        c0 = [torch.zeros(2, x.size(0), self.hidden_dim).to(x.device) for _ in range(self.num_layers)]  \n",
    "\n",
    "        # 遍历每一层LSTM  \n",
    "        for i, (lstm_layer, batch_norm_layer) in enumerate(zip(self.lstm_layers, self.batch_norm_layers)):  \n",
    "            # LSTM前向传播  \n",
    "            # 注意这里使用h0[i]和c0[i]作为当前层的初始隐藏状态和细胞状态  \n",
    "            out, (hn, cn) = lstm_layer(x, (h0[i], c0[i]))  \n",
    "            # 应用批量标准化  \n",
    "            out = batch_norm_layer(out.transpose(1, 2)).transpose(1, 2)  \n",
    "            # 更新x为当前层的输出，用于下一层的输入  \n",
    "            x = out  \n",
    "            # 更新当前层的隐藏状态和细胞状态，用于下一层  \n",
    "            h0[i] = hn  \n",
    "            c0[i] = cn  \n",
    "\n",
    "        # 取最后一个时间步的输出，注意此时out已经是最后一层的输出  \n",
    "        out = out[:, -1, :]  \n",
    "        # 全连接层  \n",
    "        out = self.fc(out)  \n",
    "\n",
    "        return out     \n",
    "#     def forward(self, x):  \n",
    "#         # 初始化隐藏状态和细胞状态  \n",
    "#         h0 = torch.zeros(self.num_layers, x.size(0), self.hidden_dim * 2).to(x.device)  \n",
    "#         c0 = torch.zeros(self.num_layers, x.size(0), self.hidden_dim * 2).to(x.device)  \n",
    "          \n",
    "#         # 遍历每一层LSTM  \n",
    "#         for lstm_layer, batch_norm_layer in zip(self.lstm_layers, self.batch_norm_layers):  \n",
    "#             # LSTM前向传播  \n",
    "#             out, (hn, cn) = lstm_layer(x, (h0, c0))  \n",
    "#             # 应用批量标准化  \n",
    "#             out = batch_norm_layer(out.transpose(1, 2)).transpose(1, 2)  \n",
    "#             # 更新隐藏状态和细胞状态为下一层做准备  \n",
    "#             h0 = hn  \n",
    "#             c0 = cn  \n",
    "#             # 使用当前层的输出作为下一层的输入  \n",
    "#             x = out   \n",
    "#         # 取最后一个时间步的输出  \n",
    "#         out = out[:, -1, :]  \n",
    "#         # 全连接层  \n",
    "#         out = self.fc(out)  \n",
    "          \n",
    "#         return out  \n",
    "\n",
    "\n",
    "# class BiLSTMBN(nn.Module):\n",
    "#     def __init__(self, input_size, hidden_size=64, num_layers=4, dropout=0.2, output_dim=1):\n",
    "#         super(BiLSTMBN, self).__init__()\n",
    "        \n",
    "#         # 定义每层双向LSTM和对应的批量归一化层\n",
    "#         self.lstm_layers = nn.ModuleList()\n",
    "#         self.bn_layers = nn.ModuleList()\n",
    "#         for _ in range(num_layers):\n",
    "#             lstm_layer = nn.LSTM(input_size if layer_num == 0 else hidden_size * 2, hidden_size,\n",
    "#                                 bidirectional=True, batch_first=True, dropout=dropout)\n",
    "#             bn_layer = nn.BatchNorm1d(hidden_size * 2)\n",
    "#             self.lstm_layers.append(lstm_layer)\n",
    "#             self.bn_layers.append(bn_layer)\n",
    "#             input_size = hidden_size * 2  # 下一层的输入维度是上一层输出的维度\n",
    "\n",
    "#         # 输出层，假设我们进行分类任务，类别数为output_dim\n",
    "#         self.fc = nn.Linear(hidden_size * 2, output_dim)  # 注意：因为是双向所以hidden_size要乘以2\n",
    "        \n",
    "#         # 初始化权重\n",
    "#         self.init_weights()\n",
    "        \n",
    "#     def init_weights(self):\n",
    "#         for name, param in self.named_parameters():\n",
    "#             if 'weight_ih' in name:\n",
    "#                 nn.init.xavier_uniform_(param.data)\n",
    "#             elif 'weight_hh' in name:\n",
    "#                 nn.init.orthogonal_(param.data)\n",
    "#             elif 'bias' in name:\n",
    "#                 param.data.fill_(0)\n",
    "\n",
    "#     def forward(self, inputs, lengths=None):\n",
    "#         packed_input = nn.utils.rnn.pack_padded_sequence(inputs, lengths, batch_first=True, enforce_sorted=False)\n",
    "\n",
    "#         hidden_states = []\n",
    "#         for i, (lstm_layer, bn_layer) in enumerate(zip(self.lstm_layers, self.bn_layers)):\n",
    "#             # 通过当前LSTM层\n",
    "#             lstm_outs, (hidden, cell) = lstm_layer(packed_input)\n",
    "            \n",
    "#             # 对隐藏状态应用批量归一化\n",
    "#             lstm_outs_unpacked, _ = nn.utils.rnn.pad_packed_sequence(lstm_outs, batch_first=True)\n",
    "#             hidden_forward = lstm_outs_unpacked[:, :, :hidden_size]\n",
    "#             hidden_backward = lstm_outs_unpacked[:, :, hidden_size:]\n",
    "#             normalized_hidden = torch.cat([bn_layer(hidden_forward), bn_layer(hidden_backward)], dim=-1)\n",
    "\n",
    "#             # 将处理后的隐藏状态存储起来，并作为下一层的输入\n",
    "#             hidden_states.append(normalized_hidden)\n",
    "#             packed_input = nn.utils.rnn.pack_padded_sequence(normalized_hidden, lengths, batch_first=True, enforce_sorted=False)\n",
    "\n",
    "#         # 取最后一层的隐藏状态\n",
    "#         concat_hidden = hidden_states[-1]\n",
    "\n",
    "#         # 经过全连接层进行分类\n",
    "#         out = self.fc(concat_hidden)\n",
    "\n",
    "#         return out\n",
    "\n",
    "# class BiLSTM(nn.Module):\n",
    "#     def __init__(self, input_size, hidden_size=64, num_layers=1, dropout=0.2):\n",
    "#         super(BiLSTM, self).__init__()\n",
    "        \n",
    "#         # 定义双向LSTM层\n",
    "#         self.lstm = nn.LSTM(input_size, hidden_size, num_layers=num_layers, bidirectional=True, batch_first=True, dropout=dropout)\n",
    "        \n",
    "#         # 输出层，假设我们进行分类任务，类别数为output_dim\n",
    "#         self.fc = nn.Linear(hidden_size * 2, output_dim)  # 注意：因为是双向所以hidden_size要乘以2\n",
    "        \n",
    "#         # 初始化权重\n",
    "#         self.init_weights()\n",
    "\n",
    "#     def init_weights(self):\n",
    "#         for name, param in self.named_parameters():\n",
    "#             if 'weight_ih' in name:\n",
    "#                 nn.init.xavier_uniform_(param.data)\n",
    "#             elif 'weight_hh' in name:\n",
    "#                 nn.init.orthogonal_(param.data)\n",
    "#             elif 'bias' in name:\n",
    "#                 param.data.fill_(0)\n",
    "\n",
    "#     def forward(self, inputs, lengths=None):\n",
    "#         # 对序列数据进行排序（按长度降序），然后反向恢复原顺序\n",
    "#         packed_input = nn.utils.rnn.pack_padded_sequence(inputs, lengths, batch_first=True, enforce_sorted=False)\n",
    "        \n",
    "#         # 通过双向LSTM层\n",
    "#         lstm_outs, (hidden, cell) = self.lstm(packed_input)\n",
    "        \n",
    "#         # 对输出结果进行解压，并取最后一个时间步的隐藏状态作为最终特征表示\n",
    "#         lstm_outs, _ = nn.utils.rnn.pad_packed_sequence(lstm_outs, batch_first=True)\n",
    "#         last_time_step_output = lstm_outs[:, -1, :]\n",
    "        \n",
    "#         # 将双方向的隐藏状态拼接在一起，然后通过全连接层进行分类\n",
    "#         concat_hidden = torch.cat((hidden[-2, :, :], hidden[-1, :, :]), dim=1)\n",
    "#         out = self.fc(concat_hidden)\n",
    "        \n",
    "#         return out\n",
    "\n",
    "# DNN\n",
    "class DNN(nn.Module):\n",
    "    def __init__(self, input_dim, hidden_dim, output_dim):\n",
    "        super(DNN, self).__init__()\n",
    "        self.fc1 = nn.Linear(input_dim, hidden_dim)\n",
    "        self.fc2 = nn.Linear(hidden_dim, output_dim)\n",
    "\n",
    "    def forward(self, x):\n",
    "        x = F.relu(self.fc1(x))\n",
    "        x = self.fc2(x)\n",
    "        return torch.sigmoid(x)"
   ]
  },
  {
   "cell_type": "code",
   "execution_count": 12,
   "id": "f8e5e5d6",
   "metadata": {},
   "outputs": [],
   "source": [
    "# 4.Embedding层\n",
    "\n",
    "# user_history_feature 对于一个user的多个历史行为，将其拼接成一维向量 要先经过一层通道注意力机制得到最后结果\n",
    "# (样本数,history,20,200) ->多头 ->(样本数,20,200)->转置->(样本数,200,20) ->SE->特征权重->(样本数,200,20) ->转置-> 加权->(样本数,1，200)\n",
    "# user_pay_history_feature 加上batch的\n",
    "# 用户历史\n",
    "class UserPayHistoryEmbedding(nn.Module):\n",
    "    def __init__(self, continue_embedding_dim, discrete_embedding_dim, feature_category_num_dict, feature_column_dict):\n",
    "        super(UserPayHistoryEmbedding, self).__init__()\n",
    "        # 连续特征\n",
    "        # 离散特征\n",
    "        self.feature_category_num_dict = feature_category_num_dict\n",
    "        # 离散embedding\n",
    "        self.history_discrete_embeddings = discrete_embedding(self.feature_category_num_dict,\n",
    "                                                                feature_column_dict['total_discrete_feature'],\n",
    "                                                                discrete_embedding_dim)\n",
    "        # MLP  连续embedding\n",
    "        self.history_continue_embedding = continuous_embedding(category_feature_num(feature_category_num_dict, feature_column_dict['total_continue_feature']), continue_embedding_dim)\n",
    "       \n",
    "    def forward(self, batch_feature_tensor_history_discrete,batch_feature_tensor_history_continue):\n",
    "        # user_history Embedding\n",
    "        # user_history_continue_features_embedding 得到(batch, 1, continue_feature_num, continue_embedding_dim)\n",
    "        # user_history_discrete_features_embedding 得到(batch, 1, discrete_feature_num, discrete_embedding_dim)\n",
    "        # history中有三种：QOE/CHONGHE/FUFEI,将其分别转化为embedding然后合并\n",
    "        # embedding的数据要求输入是整数类型 因此转为int，输入数据得是从0开始的索引后的数据，因此mask后得到-1以及在输入时得到了从0开始的索引后值，\n",
    "        # 现在所有discrete数据输入时+1，即 batch_feature_tensor_pay_QOE_discrete[:, :, i]+1 \n",
    "        # for i in range(batch_feature_tensor_pay_QOE_discrete.shape[2]):\n",
    "        #     print(i,batch_feature_tensor_pay_QOE_discrete.shape[2],batch_feature_tensor_pay_QOE_discrete[:, :, i]+1,self.user_pay_history_QOE_discrete_embeddings[i].num_embeddings )\n",
    "        batch_feature_tensor_history_discrete = batch_feature_tensor_history_discrete.int()\n",
    "        history_discrete_column_discrete_features_embedding = torch.stack(\n",
    "            [embedding_layer(batch_feature_tensor_history_discrete[:, :, i]+1) for i, embedding_layer in\n",
    "             enumerate(self.history_discrete_embeddings)], dim=-2)\n",
    "        history_continue_column_discrete_features_embedding = torch.stack(\n",
    "            [embedding_layer(batch_feature_tensor_history_continue[:,:, i].unsqueeze(-1).float()) for i, embedding_layer in\n",
    "             enumerate(self.history_continue_embedding)], dim=-2)\n",
    "        history_vec = torch.cat(\n",
    "            [history_discrete_column_discrete_features_embedding, history_continue_column_discrete_features_embedding], dim=2)  # 特征级合并\n",
    "        \n",
    "        return history_vec\n"
   ]
  },
  {
   "cell_type": "code",
   "execution_count": 13,
   "id": "1f85c0a3",
   "metadata": {},
   "outputs": [],
   "source": [
    "# 6.整合模型\n",
    "\n",
    "# (batch,600)经过网络变成200 +(batch,featuer_user*200)经过网络变成200 -> (batch,200)\n",
    "# (batch,200) ->MLP ->(batch，1) ->sigmoid -> (batch,1)\n",
    "\n",
    "# 整合层\n",
    "class MatchingModel(nn.Module):\n",
    "    def __init__(self, feature_category_num_dict, feature_column_dict, continue_embedding_dim,\n",
    "                 discrete_embedding_dim,num_heads, feature_dim, max_history_len):\n",
    "        super(MatchingModel, self).__init__()\n",
    "        # Embedding层\n",
    "        # self.user_info_embedding_layer = UserInfoEmbedding(continue_embedding_dim, discrete_embedding_dim, feature_category_num_dict, feature_column_dict)\n",
    "#         self.history_embedding_layer = UserPayHistoryEmbedding(continue_embedding_dim, discrete_embedding_dim, feature_category_num_dict, feature_column_dict)\n",
    "        #print('embedding user_history结果')\n",
    "#         self.target_embedding_layer = TargetEmbedding(continue_embedding_dim, discrete_embedding_dim, feature_category_num_dict, feature_column_dict)\n",
    "        # BiLSTM层  每层64个神经元 输出进入批量归一化 共4层\n",
    "        feature_num = len(feature_column_dict['total_discrete_feature'])+len(feature_column_dict['total_continue_feature'])\n",
    "        self.dnn_layer = DNN(input_dim=feature_num, hidden_dim=64, output_dim=1)\n",
    "\n",
    "        # MLP\n",
    "        final_dim =200\n",
    "        self.pay_vec_MLP_layer = dense_layer_noReLu(final_dim, 1)\n",
    "\n",
    "\n",
    "    def forward(self, batch_feature_tensor_history_discrete,batch_feature_tensor_history_continue,\n",
    "                label_tensor):\n",
    "        # Embedding层 （batch,1,feature_num）\n",
    "#         history_vec= self.history_embedding_layer(batch_feature_tensor_history_discrete,batch_feature_tensor_history_continue)        \n",
    "#         target_vec = self.target_embedding_layer(batch_feature_tensor_target_discrete,batch_feature_tensor_target_continue)\n",
    "        history_vec = torch.cat([batch_feature_tensor_history_discrete, batch_feature_tensor_history_continue], dim=2)  \n",
    "#         print('history_vec',history_vec.shape)\n",
    "        # DNN层  (batch,1，1)转为（batch，1）\n",
    "        out_vec = self.dnn_layer(history_vec)\n",
    "        out_vec = out_vec.squeeze(dim=2) # 去除第三维\n",
    "#         print('DNN_out',out_vec.shape)\n",
    "        \n",
    "        # 使用softmax函数将logits转换为概率分布\n",
    "        sigmoid_score = torch.sigmoid(out_vec)  # 在类别维度（dim=1）上应用softmax\n",
    "        softmax_score = torch.softmax(out_vec, dim=1)\n",
    "\n",
    "        return softmax_score, sigmoid_score\n",
    "\n",
    "# 损失函数\n",
    "class LossFunction(nn.Module):\n",
    "    def __init__(self):\n",
    "        super(LossFunction, self).__init__()\n",
    "\n",
    "    def forward(self, pred, target_label):\n",
    "        # pred是未经处理过的原值，target_label是0、1标签\n",
    "        # 计算第一个任务的二元交叉熵损失\n",
    "        loss = F.binary_cross_entropy_with_logits(pred, target_label, reduction='none')\n",
    "        return loss\n",
    "\n",
    "\n",
    "# 自动评估阈值，计算ACC 、 Precision 等评估指标\n",
    "def evaluate(y_true, y_pred, digits=4, cutoff='auto'):\n",
    "    '''\n",
    "    Args:\n",
    "        y_true: list, labels, y_pred: list, predictions, digits: The number of decimals to use when rounding the number. Default is 4（保留小数后几位）\n",
    "        cutoff: float or 'auto'\n",
    "    Returns:\n",
    "        evaluation: dict\n",
    "    '''\n",
    "    # 根据预测概率值y_pred计算最佳的切分阈值\n",
    "    if cutoff == 'auto':\n",
    "        fpr, tpr, thresholds = roc_curve(y_true, y_pred)\n",
    "        youden = tpr-fpr\n",
    "        cutoff = thresholds[np.argmax(youden)]\n",
    "    y_pred_t = [1 if i > cutoff else 0 for i in y_pred]\n",
    "\n",
    "    evaluation = OrderedDict()\n",
    "    tn, fp, fn, tp = confusion_matrix(y_true, y_pred_t).ravel()\n",
    "    evaluation['auc'] = round(roc_auc_score(y_true, y_pred), digits)\n",
    "    evaluation['acc'] = round(accuracy_score(y_true, y_pred_t), digits)\n",
    "    evaluation['recall'] = round(recall_score(y_true, y_pred_t), digits)\n",
    "    evaluation['precision'] = round(precision_score(y_true, y_pred_t), digits)\n",
    "    evaluation['specificity'] = round(tn / (tn + fp), digits)\n",
    "    evaluation['F1'] = round(f1_score(y_true, y_pred_t), digits)\n",
    "    evaluation['cutoff'] = cutoff\n",
    "\n",
    "    return evaluation\n"
   ]
  },
  {
   "cell_type": "code",
   "execution_count": 14,
   "id": "79ad8ee2",
   "metadata": {},
   "outputs": [
    {
     "ename": "NameError",
     "evalue": "name 'feature_category_num_dict' is not defined",
     "output_type": "error",
     "traceback": [
      "\u001b[0;31m\u001b[0m",
      "\u001b[0;31mNameError\u001b[0mTraceback (most recent call last)",
      "\u001b[0;32m<ipython-input-14-2a02c3ead274>\u001b[0m in \u001b[0;36m<module>\u001b[0;34m\u001b[0m\n\u001b[1;32m      1\u001b[0m \u001b[0;31m# 创建大模型的实例 'drama_upuser_subscriptions_num,drama_sound_max_traffic_position_in_sound_avg,label1'\u001b[0m\u001b[0;34m\u001b[0m\u001b[0;34m\u001b[0m\u001b[0;34m\u001b[0m\u001b[0m\n\u001b[0;32m----> 2\u001b[0;31m model = MatchingModel(feature_category_num_dict, feature_column_dict, continue_embedding_dim,\n\u001b[0m\u001b[1;32m      3\u001b[0m                  discrete_embedding_dim, num_heads, feature_dim, max_history_len)\n\u001b[1;32m      4\u001b[0m \u001b[0;31m# print('模型创建完成')\u001b[0m\u001b[0;34m\u001b[0m\u001b[0;34m\u001b[0m\u001b[0;34m\u001b[0m\u001b[0m\n",
      "\u001b[0;31mNameError\u001b[0m: name 'feature_category_num_dict' is not defined"
     ]
    }
   ],
   "source": [
    "# 创建大模型的实例 'drama_upuser_subscriptions_num,drama_sound_max_traffic_position_in_sound_avg,label1'\n",
    "model = MatchingModel(feature_category_num_dict, feature_column_dict, continue_embedding_dim,\n",
    "                 discrete_embedding_dim, num_heads, feature_dim, max_history_len)\n",
    "# print('模型创建完成')"
   ]
  },
  {
   "cell_type": "code",
   "execution_count": 15,
   "id": "a7e19bbb",
   "metadata": {},
   "outputs": [],
   "source": [
    "# 7.模型训练 Trainging\n",
    "\n",
    "def model_training(model,train_loader,val_loader, lossfunction,optimizer,EPOCH,device):\n",
    "    # 定义早停策略的参数\n",
    "    best_val_loss = float('inf')  # 初始化最佳验证损失为正无穷\n",
    "    patience = 1  # 容忍多少个epoch没有验证性能提升\n",
    "    early_stopping_counter = 0  # 初始化计数器\n",
    "    \n",
    "    for epoch in range(EPOCH):\n",
    "        model.train()  # 设置模型为训练模式\n",
    "        total_classfier_loss = 0.0\n",
    "        total_loss = 0.0\n",
    "        train_time = 0\n",
    "        val_time = 0\n",
    "        for batch in train_loader:\n",
    "            batch = [data.to(device) for data in batch]\n",
    "            batch_feature_tensor_history_discrete,batch_feature_tensor_history_continue,train_label_tensor = batch  \n",
    "            for param in model.parameters():\n",
    "                param.requires_grad = True\n",
    "            optimizer.zero_grad()\n",
    "            softmax_score, sigmoid_score = model(batch_feature_tensor_history_discrete,batch_feature_tensor_history_continue,\n",
    "                                                train_label_tensor)  \n",
    "\n",
    "            # sigmoid\n",
    "            # print('sigmoid_score',sigmoid_score)\n",
    "            sigmoid_score = sigmoid_score[:, 0]  # (样本数，1)\n",
    "            train_label_tensor = train_label_tensor[:, 0].to(device)  # (样本数，1)\n",
    "            train_label_tensor[train_label_tensor == 1] = 0\n",
    "            train_label_tensor[train_label_tensor == 2] = 1\n",
    "            # train_label_tensor = torch.where(train_label_tensor == 1, torch.tensor(0).to(device), torch.tensor(1).to(device))  # 使用 torch.where 将 1 映射为 0，将 2 映射为 1\n",
    "            loss = lossfunction(sigmoid_score, train_label_tensor.float())\n",
    "            # softmax\n",
    "            # softmax_score = softmax_score[:, 0]  # (样本数，1)\n",
    "            # train_label_tensor = train_label_tensor[:, 0].to(device)  # (样本数，1)\n",
    "            # train_label_tensor = torch.where(train_label_tensor == 1, torch.tensor(0).to(device), torch.tensor(1).to(device))  # 使用 torch.where 将 1 映射为 0，将 2 映射为 1\n",
    "            # loss = lossfunction(softmax_score, train_label_tensor.float())\n",
    "            loss.to(device)\n",
    "\n",
    "            \n",
    "             # loss回传检查\n",
    "            # for name, parms in model.named_parameters():\t\n",
    "            #     if parms.grad is not None:  # 检查梯度是否为None\n",
    "            #         grad_mean = torch.mean(parms.grad)  # 计算梯度的均值\n",
    "            #         print('-->name:', name, '-->grad_requirs:', parms.requires_grad, '-->grad_mean: {:.4f}'.format(grad_mean))\n",
    "            #     else:\n",
    "            #         print('-->name:', name, '-->grad_requirs:', parms.requires_grad, '-->grad_mean: None')\n",
    "            loss.backward()\n",
    "            optimizer.step()\n",
    "            # print(\"=============更新之后===========\")\n",
    "            # for name, parms in model.named_parameters():\t\n",
    "            #     if parms.grad is not None:  # 检查梯度是否为None\n",
    "            #         grad_mean = torch.mean(parms.grad)  # 计算梯度的均值\n",
    "            #         print('-->name:', name, '-->grad_requirs:', parms.requires_grad, '-->grad_mean: {:.4f}'.format(grad_mean))\n",
    "            #     else:\n",
    "            #         print('-->name:', name, '-->grad_requirs:', parms.requires_grad, '-->grad_mean: None')\n",
    "            # print(optimizer)\n",
    "            # input(\"=====迭代结束=====\")\n",
    "\n",
    "            # 损失\n",
    "            total_loss += loss.item()\n",
    "            train_time += 1\n",
    "#             print('||--训练：----------',train_time,'个batch运行时间：',datetime.datetime.now(),'-------------')\n",
    "        # 平均损失\n",
    "        average_loss = total_loss / len(train_loader)\n",
    "        \n",
    "\n",
    "        if (epoch + 1) % 5 == 0:\n",
    "            print(\n",
    "                f\"Epoch {epoch + 1},loss:{average_loss}\")\n",
    "\n",
    "            # 验证集评估\n",
    "            model.eval()  # 将模型切换为评估模式\n",
    "            with torch.no_grad():  # 在评估模式下不计算梯度\n",
    "                total_loss_val = 0.0\n",
    "                total_auc_val = 0.0\n",
    "                total_acc_val = 0\n",
    "                total_f1_val = 0\n",
    "                total_precision_val = 0\n",
    "                total_recall_val = 0\n",
    "                val_time = 0\n",
    "                for batch_val in val_loader:  # 假设你有一个名为 val_loader 的验证集数据加载器\n",
    "                    batch_val = [data.to(device) for data in batch_val]\n",
    "                    val_batch_feature_tensor_history_discrete,val_batch_feature_tensor_history_continue,val_label_tensor = batch_val \n",
    "                    softmax_score_val, sigmoid_score_val = model(val_batch_feature_tensor_history_discrete,val_batch_feature_tensor_history_continue,\n",
    "                                                                        val_label_tensor) \n",
    "\n",
    "                    # sigmoid                   \n",
    "                    sigmoid_score_val = sigmoid_score_val[:, 0]  # (样本数，1)\n",
    "                    sigmoid_score_val = sigmoid_score_val.cpu()# .detach()  # 转为CPU\n",
    "                    val_label_tensor = val_label_tensor[:, 0]  # (样本数，1)\n",
    "                    val_label_tensor = val_label_tensor.cpu()\n",
    "                    val_label_tensor[val_label_tensor == 1] = 0\n",
    "                    val_label_tensor[val_label_tensor == 2] = 1\n",
    "                    # val_label_tensor = torch.where(val_label_tensor == 1, torch.tensor(0), torch.tensor(1))  # 使用 torch.where 将 1 映射为 0，将 2 映射为 1\n",
    "                    loss_val = lossfunction(sigmoid_score_val, val_label_tensor.float())\n",
    "                    # softmax\n",
    "                    # softmax_score_val = softmax_score_val[:, 0]  # (样本数，1)\n",
    "                    # softmax_score_val = softmax_score_val.cpu()# .detach()  # 转为CPU\n",
    "                    # val_label_tensor = val_label_tensor[:, 0]  # (样本数，1)\n",
    "                    # val_label_tensor = val_label_tensor.cpu()\n",
    "                    # val_label_tensor = torch.where(val_label_tensor == 1, torch.tensor(0), torch.tensor(1))  # 使用 torch.where 将 1 映射为 0，将 2 映射为 1\n",
    "                    # loss_val = lossfunction(softmax_score_val, val_label_tensor.float())\n",
    "    \n",
    "                    # 损失\n",
    "                    total_loss_val += loss_val.item()\n",
    "                    # 计算验证集上的精度\n",
    "                    # predicted_classes_val = (sigmoid_score_val > 0.5).long()\n",
    "                    # total_acc_val += (predicted_classes_val == val_label_tensor).sum().item() / len(val_label_tensor)\n",
    "                    # total_f1_val += f1_score(val_label_tensor, predicted_classes_val)\n",
    "                    # total_recall_val += recall_score(val_label_tensor, predicted_classes_val)\n",
    "                    # precision_val = ((predicted_classes_val == 1) & (val_label_tensor == 1)).sum().item() / (predicted_classes_val == 1).sum().item()\n",
    "                    # total_precision_val += precision_val\n",
    "                    # total_auc_val += roc_auc_score(val_label_tensor, softmax_score_val)\n",
    "                    evaluation = evaluate(val_label_tensor,sigmoid_score_val)\n",
    "                    total_acc_val += evaluation['acc']\n",
    "                    total_f1_val += evaluation['F1']\n",
    "                    total_recall_val += evaluation['recall']\n",
    "                    total_precision_val += evaluation['precision']\n",
    "                    total_auc_val += evaluation['auc']\n",
    "                    \n",
    "                    val_time += 1\n",
    "#                     print('||--验证：----------',val_time,'个batch运行时间：',datetime.datetime.now(),'-------------')\n",
    "                # 平均损失\n",
    "                average_loss_val = total_loss_val / len(val_loader)\n",
    "                average_auc_val = total_auc_val / len(val_loader)\n",
    "                average_acc_val = total_acc_val / len(val_loader)\n",
    "                average_f1_val = total_f1_val / len(val_loader)\n",
    "                average_precision_val = total_precision_val / len(val_loader)\n",
    "                average_recall_val = total_recall_val / len(val_loader)\n",
    "                print(f\"Validation Loss: {average_loss_val},AUC: {average_auc_val},ACC:{average_acc_val},F1:{average_f1_val},Precision:{average_precision_val},Recall:{average_recall_val}\") \n",
    "\n",
    "                if average_loss_val < best_val_loss:\n",
    "                    best_val_loss = average_loss_val\n",
    "                    early_stopping_counter = 0\n",
    "                else:\n",
    "                    early_stopping_counter += 1\n",
    "                if early_stopping_counter >= patience:\n",
    "                    print(f\"早停策略触发，停止训练在第 {epoch} 个epoch.\")\n",
    "                    break"
   ]
  },
  {
   "cell_type": "code",
   "execution_count": 16,
   "id": "8b8a1841",
   "metadata": {},
   "outputs": [],
   "source": [
    "# 模型测试 Test\n",
    "\n",
    "def test_model(model, test_loader):\n",
    "    model.eval()  # 设置模型为评估模式\n",
    "    with torch.no_grad():  # 在评估模式下不计算梯度\n",
    "        total_loss_test = 0.0\n",
    "        total_auc_test = 0.0\n",
    "        total_acc_test  = 0\n",
    "        total_f1_test = 0\n",
    "        total_precision_test = 0\n",
    "        total_recall_test = 0\n",
    "        test_time = 0\n",
    "        results = []  # 用于保存结果的列表\n",
    "        for batch_test in test_loader:  # 假设你有一个名为 val_loader 的验证集数据加载器\n",
    "            batch_test = [data.to(device) for data in batch_test]\n",
    "            test_batch_feature_tensor_history_discrete,test_batch_feature_tensor_history_continue,test_label_tensor = batch_test \n",
    "            softmax_score_test, sigmoid_score_test = model(test_batch_feature_tensor_history_discrete,test_batch_feature_tensor_history_continue,\n",
    "                                                                test_label_tensor)  \n",
    "            # sigmoid\n",
    "            sigmoid_score_test = sigmoid_score_test[:, 0]  # (样本数，1)\n",
    "            sigmoid_score_test = sigmoid_score_test.cpu()#.detach()  # 转为CPU\n",
    "            test_label_tensor = test_label_tensor[:, 0]  # (样本数，1)\n",
    "            test_label_tensor = test_label_tensor.cpu()\n",
    "            test_label_tensor[test_label_tensor == 1] = 0\n",
    "            test_label_tensor[test_label_tensor == 2] = 1\n",
    "            # test_label_tensor = torch.where(test_label_tensor == 1, torch.tensor(0), torch.tensor(1))  # 使用 torch.where 将 1 映射为 0，将 2 映射为 1\n",
    "            loss_test = lossfunction(sigmoid_score_test, test_label_tensor.float())\n",
    "            # softmax\n",
    "            # softmax_score_test = softmax_score_test[:, 0]  # (样本数，1)\n",
    "            # softmax_score_test = softmax_score_test.cpu()#.detach()  # 转为CPU\n",
    "            # test_label_tensor = test_label_tensor[:, 0]  # (样本数，1)\n",
    "            # test_label_tensor = test_label_tensor.cpu()\n",
    "            # test_label_tensor = torch.where(test_label_tensor == 1, torch.tensor(0), torch.tensor(1))  # 使用 torch.where 将 1 映射为 0，将 2 映射为 1\n",
    "            # loss_test = lossfunction(softmax_score_test, test_label_tensor.float())\n",
    "            \n",
    "            # 损失\n",
    "            total_loss_test += loss_test.item()\n",
    "            # 计算验证集上的精度\n",
    "            # predicted_classes_test = (sigmoid_score_test > 0.5).long()\n",
    "            # total_acc_test += (predicted_classes_test == test_label_tensor).sum().item() / len(test_label_tensor)\n",
    "            # total_f1_test += f1_score(test_label_tensor, predicted_classes_test)\n",
    "            # total_recall_test += recall_score(test_label_tensor, predicted_classes_test)\n",
    "            # precision_test = ((predicted_classes_test == 1) & (test_label_tensor == 1)).sum().item() / (predicted_classes_test == 1).sum().item()\n",
    "            # total_precision_test += precision_test\n",
    "            # total_auc_test += roc_auc_score(test_label_tensor, sigmoid_score_test)\n",
    "            evaluation = evaluate(test_label_tensor,sigmoid_score_test)\n",
    "            total_acc_test += evaluation['acc']\n",
    "            total_f1_test += evaluation['F1']\n",
    "            total_recall_test += evaluation['recall']\n",
    "            total_precision_test += evaluation['precision']\n",
    "            total_auc_test += evaluation['auc']\n",
    "\n",
    "            test_time += 1\n",
    "            print('||--测试：----------',test_time,'个batch运行时间：',datetime.datetime.now(),'-------------')\n",
    "        # 平均损失\n",
    "        average_loss_test = total_loss_test / len(test_loader)\n",
    "        average_auc_test = total_auc_test / len(test_loader)\n",
    "        average_acc_test = total_acc_test / len(test_loader)\n",
    "        average_f1_test = total_f1_test / len(test_loader)\n",
    "        average_precision_test = total_precision_test / len(test_loader)\n",
    "        average_recall_test = total_recall_test / len(test_loader)\n",
    "        print(\n",
    "            f\"Test Loss: {average_loss_test},AUC: {average_auc_test},ACC:{average_acc_test},F1:{average_f1_test},Precision:{average_precision_test},Recall:{average_recall_test}\")\n",
    "        return average_loss_test, average_auc_test,average_acc_test,average_f1_test,average_precision_test,average_recall_test\n"
   ]
  },
  {
   "cell_type": "code",
   "execution_count": 17,
   "id": "cdbf173b",
   "metadata": {},
   "outputs": [
    {
     "name": "stdout",
     "output_type": "stream",
     "text": [
      "i=:1\n",
      "划分文件已存在，不再进行数据划分\n",
      "数据预处理结束\n",
      "数据划分完成\n",
      "张量生成完成\n",
      "模型搭建完成\n",
      "模型转移到GPU完成\n",
      "Epoch 5,loss:0.6829076324860881\n",
      "Validation Loss: 0.6787984541484288,AUC: 0.6166571428571428,ACC:0.621097619047619,F1:0.5440428571428569,Precision:0.6678309523809524,Recall:0.49337380952380966\n",
      "Epoch 10,loss:0.6816804962834035\n",
      "Validation Loss: 0.6778807852949414,AUC: 0.6184833333333332,ACC:0.6192357142857142,F1:0.5405785714285714,Precision:0.6656333333333332,Recall:0.49356666666666676\n",
      "Epoch 15,loss:0.6807175480474638\n",
      "Validation Loss: 0.6770758572078887,AUC: 0.6198642857142855,ACC:0.6205380952380952,F1:0.5401071428571427,Precision:0.6662499999999999,Recall:0.48895476190476195\n",
      "Epoch 20,loss:0.6797124762234725\n",
      "Validation Loss: 0.6761395179090046,AUC: 0.6214857142857143,ACC:0.6210928571428571,F1:0.5403142857142856,Precision:0.674302380952381,Recall:0.4922595238095238\n",
      "Epoch 25,loss:0.6786419434810248\n",
      "Validation Loss: 0.6751123283590589,AUC: 0.6229809523809525,ACC:0.625188095238095,F1:0.5490023809523809,Precision:0.6711119047619049,Recall:0.49564047619047613\n",
      "Epoch 30,loss:0.6776584879619869\n",
      "Validation Loss: 0.6741825654393151,AUC: 0.6247285714285715,ACC:0.6277904761904761,F1:0.5474,Precision:0.6794999999999999,Recall:0.48869047619047623\n",
      "Epoch 35,loss:0.6767301920830734\n",
      "Validation Loss: 0.6733054845106035,AUC: 0.626057142857143,ACC:0.6305809523809524,F1:0.5433642857142857,Precision:0.6892380952380951,Recall:0.47989761904761913\n",
      "Epoch 40,loss:0.675861093941636\n",
      "Validation Loss: 0.6724820080257597,AUC: 0.6267976190476191,ACC:0.6313261904761904,F1:0.5337952380952381,Precision:0.7040976190476191,Recall:0.4607738095238096\n",
      "Epoch 45,loss:0.6750545360910611\n",
      "Validation Loss: 0.6717434766746703,AUC: 0.6275238095238095,ACC:0.6290952380952382,F1:0.54625,Precision:0.6878357142857142,Recall:0.48319999999999996\n",
      "Epoch 50,loss:0.6743125929607181\n",
      "Validation Loss: 0.6710704607622964,AUC: 0.6283309523809523,ACC:0.6292761904761905,F1:0.5437666666666667,Precision:0.6923809523809522,Recall:0.47558809523809514\n",
      "Epoch 55,loss:0.6736471390160989\n",
      "Validation Loss: 0.6704124013582865,AUC: 0.6297071428571426,ACC:0.6311380952380954,F1:0.5401333333333331,Precision:0.7008333333333334,Recall:0.46613809523809524\n",
      "Epoch 60,loss:0.6730205275881009\n",
      "Validation Loss: 0.6698027693089985,AUC: 0.6306214285714287,ACC:0.6343,F1:0.5415119047619049,Precision:0.7077714285714286,Recall:0.4660309523809524\n",
      "Epoch 65,loss:0.6724114525975204\n",
      "Validation Loss: 0.6692411715076083,AUC: 0.6325500000000001,ACC:0.6369047619047619,F1:0.5456976190476192,Precision:0.712757142857143,Recall:0.47042142857142855\n",
      "Epoch 70,loss:0.6718154624691159\n",
      "Validation Loss: 0.6687396253858294,AUC: 0.6343357142857142,ACC:0.6380190476190475,F1:0.5512785714285714,Precision:0.7050952380952381,Recall:0.4751761904761905\n",
      "Epoch 75,loss:0.6712603892867021\n",
      "Validation Loss: 0.6682617309547606,AUC: 0.6357761904761905,ACC:0.6391380952380952,F1:0.5573452380952381,Precision:0.6996190476190474,Recall:0.48400952380952367\n",
      "Epoch 80,loss:0.6707327464434105\n",
      "Validation Loss: 0.6678613750707536,AUC: 0.6368476190476191,ACC:0.6387619047619048,F1:0.5588880952380952,Precision:0.6938809523809522,Recall:0.48829999999999985\n",
      "Epoch 85,loss:0.6702260773951613\n",
      "Validation Loss: 0.6674649587699345,AUC: 0.6371380952380952,ACC:0.6359714285714284,F1:0.5694166666666666,Precision:0.6780714285714287,Recall:0.5087547619047619\n",
      "Epoch 90,loss:0.6697450641572006\n",
      "Validation Loss: 0.6670999612127032,AUC: 0.6369785714285712,ACC:0.6380190476190475,F1:0.5736380952380953,Precision:0.6771285714285714,Recall:0.5142404761904762\n",
      "Epoch 95,loss:0.6692973581824716\n",
      "Validation Loss: 0.6667616636980147,AUC: 0.637442857142857,ACC:0.6391333333333332,F1:0.5674476190476192,Precision:0.6872119047619046,Recall:0.5060880952380952\n",
      "Epoch 100,loss:0.6688626324097942\n",
      "Validation Loss: 0.66644524818375,AUC: 0.638057142857143,ACC:0.638388095238095,F1:0.5696380952380954,Precision:0.6854309523809522,Recall:0.5098142857142857\n",
      "Epoch 105,loss:0.6684417015924229\n",
      "Validation Loss: 0.6661330262819926,AUC: 0.6380738095238094,ACC:0.6391309523809522,F1:0.5679285714285717,Precision:0.6888785714285712,Recall:0.5031357142857141\n",
      "Epoch 110,loss:0.6680236721602012\n",
      "Validation Loss: 0.6658362022468022,AUC: 0.6385357142857144,ACC:0.6409904761904761,F1:0.5718738095238097,Precision:0.6864285714285714,Recall:0.5078309523809523\n",
      "Epoch 115,loss:0.6676149532550902\n",
      "Validation Loss: 0.6655345204330626,AUC: 0.6390285714285715,ACC:0.6406190476190475,F1:0.5700357142857143,Precision:0.6899547619047617,Recall:0.5013833333333333\n",
      "Epoch 120,loss:0.6672160076344107\n",
      "Validation Loss: 0.6652583011559078,AUC: 0.6394619047619047,ACC:0.6404357142857142,F1:0.5676714285714287,Precision:0.6939547619047618,Recall:0.4967619047619047\n",
      "Epoch 125,loss:0.6668330459144172\n",
      "Validation Loss: 0.6649718383948008,AUC: 0.6395119047619049,ACC:0.6396952380952381,F1:0.566357142857143,Precision:0.6944190476190476,Recall:0.4943785714285712\n",
      "Epoch 130,loss:0.6664908227958078\n",
      "Validation Loss: 0.6647386990842366,AUC: 0.6389142857142855,ACC:0.6391357142857143,F1:0.5617880952380953,Precision:0.698454761904762,Recall:0.4855499999999998\n",
      "Epoch 135,loss:0.666167798474079\n",
      "Validation Loss: 0.6645363157703763,AUC: 0.6387238095238096,ACC:0.6413666666666666,F1:0.5632476190476192,Precision:0.7008404761904762,Recall:0.486745238095238\n",
      "Epoch 140,loss:0.6658476577030392\n",
      "Validation Loss: 0.6643668115139008,AUC: 0.638204761904762,ACC:0.6428523809523808,F1:0.562307142857143,Precision:0.7001166666666666,Recall:0.486792857142857\n",
      "Epoch 145,loss:0.6655432436409898\n",
      "Validation Loss: 0.6642043547970908,AUC: 0.638102380952381,ACC:0.6424809523809524,F1:0.561945238095238,Precision:0.6995285714285712,Recall:0.4850785714285714\n",
      "Epoch 150,loss:0.6652492120510011\n",
      "Validation Loss: 0.664061059554418,AUC: 0.6376190476190475,ACC:0.6430380952380952,F1:0.5626714285714285,Precision:0.7002690476190474,Recall:0.4846047619047619\n",
      "Epoch 155,loss:0.6649712033159151\n",
      "Validation Loss: 0.663912255139578,AUC: 0.6375238095238096,ACC:0.6424809523809524,F1:0.5577785714285715,Precision:0.7051333333333332,Recall:0.4760190476190475\n",
      "Epoch 160,loss:0.6647072612769961\n",
      "Validation Loss: 0.6637803174200512,AUC: 0.6373095238095238,ACC:0.6421095238095237,F1:0.5555809523809524,Precision:0.7085499999999998,Recall:0.47264523809523806\n",
      "Epoch 165,loss:0.6644450867269921\n",
      "Validation Loss: 0.6636367837587992,AUC: 0.6373261904761905,ACC:0.642295238095238,F1:0.555747619047619,Precision:0.7081666666666666,Recall:0.47302142857142854\n",
      "Epoch 170,loss:0.6641893260122285\n",
      "Validation Loss: 0.6635041236877441,AUC: 0.6370690476190475,ACC:0.6424809523809523,F1:0.5545119047619048,Precision:0.7097976190476191,Recall:0.4710404761904761\n",
      "Epoch 175,loss:0.6639431316082872\n",
      "Validation Loss: 0.6633798905781337,AUC: 0.6364833333333333,ACC:0.6432238095238094,F1:0.5559309523809524,Precision:0.7112333333333332,Recall:0.47269999999999995\n",
      "Epoch 180,loss:0.6636918623616376\n",
      "Validation Loss: 0.6632803096657708,AUC: 0.6368404761904761,ACC:0.6432214285714284,F1:0.5521714285714286,Precision:0.7175809523809521,Recall:0.465897619047619\n",
      "Epoch 185,loss:0.6634540923937099\n",
      "Validation Loss: 0.6631556011381603,AUC: 0.6366214285714286,ACC:0.6428499999999998,F1:0.5512023809523809,Precision:0.7186499999999997,Recall:0.46383571428571424\n",
      "Epoch 190,loss:0.6632273530396889\n",
      "Validation Loss: 0.6630620644206092,AUC: 0.636502380952381,ACC:0.6430357142857142,F1:0.5538761904761906,Precision:0.7166499999999998,Recall:0.46809285714285725\n",
      "Epoch 195,loss:0.6630044678064781\n",
      "Validation Loss: 0.6629608983085269,AUC: 0.6371071428571428,ACC:0.6432214285714284,F1:0.5538952380952382,Precision:0.7160523809523808,Recall:0.46817142857142857\n",
      "Epoch 200,loss:0.6627859989489158\n",
      "Validation Loss: 0.662851502497991,AUC: 0.6370714285714284,ACC:0.6428476190476189,F1:0.5498928571428573,Precision:0.7216571428571427,Recall:0.4612309523809524\n",
      "Epoch 205,loss:0.6625721280969034\n",
      "Validation Loss: 0.6627406321820759,AUC: 0.6371333333333334,ACC:0.6434071428571426,F1:0.5505404761904764,Precision:0.7227499999999998,Recall:0.46162857142857155\n",
      "Epoch 210,loss:0.6623622047619557\n",
      "Validation Loss: 0.6626518822851635,AUC: 0.6372761904761903,ACC:0.6445238095238094,F1:0.5497785714285716,Precision:0.7258047619047617,Recall:0.4590071428571429\n",
      "Epoch 215,loss:0.662162880259236\n",
      "Validation Loss: 0.6625402356897082,AUC: 0.6373833333333333,ACC:0.643595238095238,F1:0.5533476190476192,Precision:0.7194642857142854,Recall:0.46759523809523806\n"
     ]
    },
    {
     "name": "stdout",
     "output_type": "stream",
     "text": [
      "Epoch 220,loss:0.66197340272543\n",
      "Validation Loss: 0.6624323285761333,AUC: 0.6371595238095237,ACC:0.643595238095238,F1:0.5527928571428573,Precision:0.7203142857142856,Recall:0.4661\n",
      "Epoch 225,loss:0.661788295103809\n",
      "Validation Loss: 0.6623207628726959,AUC: 0.6374190476190478,ACC:0.6430380952380952,F1:0.5471666666666668,Precision:0.724397619047619,Recall:0.4566904761904762\n",
      "Epoch 230,loss:0.6615991930323323\n",
      "Validation Loss: 0.6622386305105119,AUC: 0.6375023809523811,ACC:0.6434095238095237,F1:0.5504428571428573,Precision:0.7205285714285714,Recall:0.4624214285714286\n",
      "Epoch 235,loss:0.6614125877853454\n",
      "Validation Loss: 0.662145753701528,AUC: 0.6374642857142858,ACC:0.6434119047619047,F1:0.5500333333333336,Precision:0.7198285714285714,Recall:0.4615738095238096\n",
      "Epoch 240,loss:0.6612262228342491\n",
      "Validation Loss: 0.6620666569187528,AUC: 0.6376547619047619,ACC:0.6428547619047619,F1:0.5453928571428573,Precision:0.7253571428571428,Recall:0.4536428571428572\n",
      "Epoch 245,loss:0.6610470442321357\n",
      "Validation Loss: 0.6619806474163419,AUC: 0.6377976190476192,ACC:0.6430404761904762,F1:0.5409833333333335,Precision:0.7303214285714285,Recall:0.4465357142857143\n",
      "Epoch 250,loss:0.6608777210468383\n",
      "Validation Loss: 0.6618943001542773,AUC: 0.6377999999999999,ACC:0.643597619047619,F1:0.5465571428571431,Precision:0.7253642857142857,Recall:0.4565428571428571\n",
      "Epoch 255,loss:0.660718018614401\n",
      "Validation Loss: 0.66181899252392,AUC: 0.6381380952380952,ACC:0.6439690476190476,F1:0.5476309523809524,Precision:0.7247190476190476,Recall:0.4580190476190475\n",
      "Epoch 260,loss:0.6605490784006794\n",
      "Validation Loss: 0.661735060669127,AUC: 0.6383714285714287,ACC:0.6437833333333334,F1:0.5488095238095237,Precision:0.7219785714285715,Recall:0.46032380952380936\n",
      "Epoch 265,loss:0.6603893632963886\n",
      "Validation Loss: 0.6616698262237367,AUC: 0.6386642857142858,ACC:0.6443428571428571,F1:0.5486095238095238,Precision:0.7246904761904761,Recall:0.45868571428571414\n",
      "Epoch 270,loss:0.6602272757395046\n",
      "Validation Loss: 0.6616251653149015,AUC: 0.638540476190476,ACC:0.6439666666666666,F1:0.5529809523809524,Precision:0.7176642857142856,Recall:0.46818571428571415\n",
      "Epoch 275,loss:0.6600728189851356\n",
      "Validation Loss: 0.6615664887995947,AUC: 0.6386214285714285,ACC:0.6447119047619047,F1:0.5499238095238093,Precision:0.7224166666666667,Recall:0.4604309523809522\n",
      "Epoch 280,loss:0.6599177197208554\n",
      "Validation Loss: 0.6615196948959714,AUC: 0.6388166666666668,ACC:0.6445261904761904,F1:0.5450761904761903,Precision:0.7269238095238096,Recall:0.45291904761904744\n",
      "Epoch 285,loss:0.6597734135905589\n",
      "Validation Loss: 0.6614901295730046,AUC: 0.6388761904761906,ACC:0.6441547619047618,F1:0.548490476190476,Precision:0.7235404761904762,Recall:0.46011428571428553\n",
      "Epoch 290,loss:0.6596275394357095\n",
      "Validation Loss: 0.6614687116373152,AUC: 0.6393833333333335,ACC:0.6439690476190476,F1:0.5488619047619046,Precision:0.7233238095238095,Recall:0.4603619047619047\n",
      "Epoch 295,loss:0.6594865237634013\n",
      "Validation Loss: 0.6614473064740499,AUC: 0.639454761904762,ACC:0.6439690476190476,F1:0.5486523809523808,Precision:0.7234928571428572,Recall:0.4601190476190476\n",
      "Epoch 300,loss:0.6593329333883571\n",
      "Validation Loss: 0.661431420417059,AUC: 0.6388476190476189,ACC:0.6439690476190476,F1:0.5458666666666666,Precision:0.7280880952380953,Recall:0.4542880952380952\n",
      "Epoch 305,loss:0.6591841390752416\n",
      "Validation Loss: 0.661399415561131,AUC: 0.6387238095238092,ACC:0.6432261904761905,F1:0.5438523809523809,Precision:0.7286166666666668,Recall:0.45175952380952383\n",
      "Epoch 310,loss:0.6590508222579956\n",
      "Validation Loss: 0.6613741431917463,AUC: 0.6386595238095241,ACC:0.6434095238095237,F1:0.5432952380952379,Precision:0.7292880952380953,Recall:0.45104285714285713\n",
      "Epoch 315,loss:0.6589246059027244\n",
      "Validation Loss: 0.6613413521221706,AUC: 0.6392928571428571,ACC:0.6432238095238094,F1:0.5428666666666666,Precision:0.7296476190476191,Recall:0.4504071428571428\n",
      "Epoch 320,loss:0.6587992071166752\n",
      "Validation Loss: 0.6613117059071859,AUC: 0.6391285714285715,ACC:0.6434119047619047,F1:0.5406261904761903,Precision:0.731895238095238,Recall:0.4445547619047618\n",
      "Epoch 325,loss:0.6586752543299217\n",
      "Validation Loss: 0.66129232162521,AUC: 0.6394785714285715,ACC:0.6437833333333332,F1:0.54065,Precision:0.7328261904761904,Recall:0.4445285714285714\n",
      "Epoch 330,loss:0.6585541067160959\n",
      "Validation Loss: 0.661238431930542,AUC: 0.6394880952380952,ACC:0.6432214285714284,F1:0.5401023809523808,Precision:0.7316952380952381,Recall:0.44420952380952367\n",
      "Epoch 335,loss:0.6584255460679062\n",
      "Validation Loss: 0.6611925250007993,AUC: 0.6392547619047618,ACC:0.6434071428571426,F1:0.5402238095238094,Precision:0.7312285714285713,Recall:0.4446928571428571\n",
      "Epoch 340,loss:0.6583107479913967\n",
      "Validation Loss: 0.6611547200452714,AUC: 0.6401214285714284,ACC:0.6439666666666666,F1:0.5400428571428572,Precision:0.7328142857142856,Recall:0.4437333333333332\n",
      "Epoch 345,loss:0.6581943701571367\n",
      "Validation Loss: 0.6611355145772299,AUC: 0.6398523809523807,ACC:0.6434095238095237,F1:0.5398476190476191,Precision:0.7320166666666666,Recall:0.4454190476190475\n",
      "Epoch 350,loss:0.6580862487394978\n",
      "Validation Loss: 0.6611250113873255,AUC: 0.6402976190476191,ACC:0.6437809523809522,F1:0.5401571428571429,Precision:0.7324499999999998,Recall:0.44524999999999987\n",
      "Epoch 355,loss:0.6579831153389037\n",
      "Validation Loss: 0.6610974229517437,AUC: 0.640311904761905,ACC:0.6441547619047618,F1:0.5388380952380953,Precision:0.7354714285714284,Recall:0.44069047619047613\n",
      "Epoch 360,loss:0.6578695332910133\n",
      "Validation Loss: 0.6610920556953975,AUC: 0.6398404761904762,ACC:0.6437809523809522,F1:0.5430261904761904,Precision:0.7294880952380952,Recall:0.4469666666666666\n",
      "Epoch 365,loss:0.6577705703382417\n",
      "Validation Loss: 0.6610270866325924,AUC: 0.6398142857142857,ACC:0.6434095238095237,F1:0.5405619047619047,Precision:0.7311357142857142,Recall:0.4441238095238095\n",
      "Epoch 370,loss:0.6576587163557218\n",
      "Validation Loss: 0.6609408557415009,AUC: 0.6397404761904762,ACC:0.6430404761904762,F1:0.5439809523809525,Precision:0.7267809523809523,Recall:0.44921190476190465\n",
      "Epoch 375,loss:0.6575555787311764\n",
      "Validation Loss: 0.6608734145050957,AUC: 0.6398999999999999,ACC:0.6426690476190476,F1:0.5404238095238095,Precision:0.7295452380952381,Recall:0.4421285714285713\n",
      "Epoch 380,loss:0.6574482349898871\n",
      "Validation Loss: 0.6608886676175254,AUC: 0.6398880952380954,ACC:0.6428547619047619,F1:0.5387119047619049,Precision:0.7339476190476191,Recall:0.4394880952380952\n",
      "早停策略触发，停止训练在第 379 个epoch.\n",
      "模型训练完成\n",
      "||--------训练结束时间： 2024-03-19 08:40:00.567882 -------------\n",
      "||--测试：---------- 1 个batch运行时间： 2024-03-19 08:40:00.580676 -------------\n",
      "||--测试：---------- 2 个batch运行时间： 2024-03-19 08:40:00.592559 -------------\n",
      "||--测试：---------- 3 个batch运行时间： 2024-03-19 08:40:00.604437 -------------\n",
      "||--测试：---------- 4 个batch运行时间： 2024-03-19 08:40:00.616309 -------------\n",
      "||--测试：---------- 5 个batch运行时间： 2024-03-19 08:40:00.628174 -------------\n",
      "||--测试：---------- 6 个batch运行时间： 2024-03-19 08:40:00.640005 -------------\n",
      "||--测试：---------- 7 个batch运行时间： 2024-03-19 08:40:00.651879 -------------\n",
      "||--测试：---------- 8 个batch运行时间： 2024-03-19 08:40:00.663738 -------------\n",
      "||--测试：---------- 9 个batch运行时间： 2024-03-19 08:40:00.675583 -------------\n",
      "||--测试：---------- 10 个batch运行时间： 2024-03-19 08:40:00.687399 -------------\n",
      "||--测试：---------- 11 个batch运行时间： 2024-03-19 08:40:00.699295 -------------\n",
      "||--测试：---------- 12 个batch运行时间： 2024-03-19 08:40:00.711236 -------------\n",
      "||--测试：---------- 13 个batch运行时间： 2024-03-19 08:40:00.723090 -------------\n",
      "||--测试：---------- 14 个batch运行时间： 2024-03-19 08:40:00.735250 -------------\n",
      "||--测试：---------- 15 个batch运行时间： 2024-03-19 08:40:00.747067 -------------\n",
      "||--测试：---------- 16 个batch运行时间： 2024-03-19 08:40:00.758871 -------------\n",
      "||--测试：---------- 17 个batch运行时间： 2024-03-19 08:40:00.771374 -------------\n",
      "||--测试：---------- 18 个batch运行时间： 2024-03-19 08:40:00.783949 -------------\n",
      "||--测试：---------- 19 个batch运行时间： 2024-03-19 08:40:00.795800 -------------\n",
      "||--测试：---------- 20 个batch运行时间： 2024-03-19 08:40:00.807963 -------------\n",
      "||--测试：---------- 21 个batch运行时间： 2024-03-19 08:40:00.820793 -------------\n",
      "||--测试：---------- 22 个batch运行时间： 2024-03-19 08:40:00.832592 -------------\n",
      "||--测试：---------- 23 个batch运行时间： 2024-03-19 08:40:00.844401 -------------\n",
      "||--测试：---------- 24 个batch运行时间： 2024-03-19 08:40:00.856562 -------------\n",
      "||--测试：---------- 25 个batch运行时间： 2024-03-19 08:40:00.868410 -------------\n",
      "||--测试：---------- 26 个batch运行时间： 2024-03-19 08:40:00.880257 -------------\n",
      "||--测试：---------- 27 个batch运行时间： 2024-03-19 08:40:00.892156 -------------\n",
      "||--测试：---------- 28 个batch运行时间： 2024-03-19 08:40:00.904055 -------------\n",
      "||--测试：---------- 29 个batch运行时间： 2024-03-19 08:40:00.915909 -------------\n",
      "||--测试：---------- 30 个batch运行时间： 2024-03-19 08:40:00.928037 -------------\n",
      "||--测试：---------- 31 个batch运行时间： 2024-03-19 08:40:00.940193 -------------\n",
      "||--测试：---------- 32 个batch运行时间： 2024-03-19 08:40:00.952038 -------------\n",
      "||--测试：---------- 33 个batch运行时间： 2024-03-19 08:40:00.963865 -------------\n"
     ]
    },
    {
     "name": "stdout",
     "output_type": "stream",
     "text": [
      "||--测试：---------- 34 个batch运行时间： 2024-03-19 08:40:00.976321 -------------\n",
      "||--测试：---------- 35 个batch运行时间： 2024-03-19 08:40:00.988298 -------------\n",
      "||--测试：---------- 36 个batch运行时间： 2024-03-19 08:40:01.000617 -------------\n",
      "||--测试：---------- 37 个batch运行时间： 2024-03-19 08:40:01.012445 -------------\n",
      "||--测试：---------- 38 个batch运行时间： 2024-03-19 08:40:01.024286 -------------\n",
      "||--测试：---------- 39 个batch运行时间： 2024-03-19 08:40:01.036070 -------------\n",
      "||--测试：---------- 40 个batch运行时间： 2024-03-19 08:40:01.047853 -------------\n",
      "||--测试：---------- 41 个batch运行时间： 2024-03-19 08:40:01.059660 -------------\n",
      "||--测试：---------- 42 个batch运行时间： 2024-03-19 08:40:01.071504 -------------\n",
      "Test Loss: 0.6596511119887942,AUC: 0.6396928571428571,ACC:0.6449071428571429,F1:0.528407142857143,Precision:0.76895,Recall:0.42191666666666655\n",
      "i=:2\n",
      "划分文件已存在，不再进行数据划分\n",
      "数据预处理结束\n",
      "数据划分完成\n",
      "张量生成完成\n",
      "模型搭建完成\n",
      "模型转移到GPU完成\n",
      "Epoch 5,loss:0.6826829088954475\n",
      "Validation Loss: 0.6786639392375946,AUC: 0.6189642857142857,ACC:0.6225857142857143,F1:0.5626285714285716,Precision:0.6491499999999999,Recall:0.5253285714285715\n",
      "Epoch 10,loss:0.6813611322500575\n",
      "Validation Loss: 0.6774223475229173,AUC: 0.6201857142857141,ACC:0.6233214285714285,F1:0.5586690476190476,Precision:0.6592809523809524,Recall:0.5190404761904761\n",
      "Epoch 15,loss:0.6803469362221365\n",
      "Validation Loss: 0.6765801282156081,AUC: 0.6204952380952381,ACC:0.6249952380952379,F1:0.5559666666666666,Precision:0.6673166666666667,Recall:0.510395238095238\n",
      "Epoch 20,loss:0.6794253831773293\n",
      "Validation Loss: 0.6757021688279652,AUC: 0.6224595238095239,ACC:0.6246214285714284,F1:0.5428142857142858,Precision:0.6776952380952381,Recall:0.4877690476190476\n",
      "Epoch 25,loss:0.6784459657556429\n",
      "Validation Loss: 0.6747259185427711,AUC: 0.6244095238095237,ACC:0.6277880952380952,F1:0.5576476190476191,Precision:0.6725857142857145,Recall:0.5102428571428572\n",
      "Epoch 30,loss:0.6774692896782882\n",
      "Validation Loss: 0.6737844901425498,AUC: 0.6257119047619047,ACC:0.6289071428571428,F1:0.5492476190476191,Precision:0.6831357142857143,Recall:0.4877476190476192\n",
      "Epoch 35,loss:0.6765119944970439\n",
      "Validation Loss: 0.6728946353707995,AUC: 0.6268880952380953,ACC:0.6303904761904762,F1:0.5512880952380951,Precision:0.6831452380952383,Recall:0.48734523809523805\n",
      "Epoch 40,loss:0.6756077803026034\n",
      "Validation Loss: 0.6720361908276876,AUC: 0.6280761904761905,ACC:0.6318833333333334,F1:0.5533738095238094,Precision:0.6849309523809526,Recall:0.4914309523809524\n",
      "Epoch 45,loss:0.6747651616419394\n",
      "Validation Loss: 0.6712897632803235,AUC: 0.62855,ACC:0.63225,F1:0.5593595238095238,Precision:0.6802261904761904,Recall:0.4996666666666666\n",
      "Epoch 50,loss:0.6739863086873152\n",
      "Validation Loss: 0.6706431735129583,AUC: 0.6306904761904761,ACC:0.6341071428571429,F1:0.5588595238095239,Precision:0.6888880952380954,Recall:0.49508809523809527\n",
      "Epoch 55,loss:0.673260907957873\n",
      "Validation Loss: 0.6700659564563206,AUC: 0.6324785714285713,ACC:0.6346619047619045,F1:0.5642261904761905,Precision:0.6845976190476192,Recall:0.5057738095238095\n",
      "Epoch 60,loss:0.6725790782237616\n",
      "Validation Loss: 0.6695250655923571,AUC: 0.6331261904761906,ACC:0.6352261904761903,F1:0.5585714285714287,Precision:0.6944976190476189,Recall:0.4953952380952379\n",
      "Epoch 65,loss:0.6719246351812768\n",
      "Validation Loss: 0.6690114310809544,AUC: 0.6337880952380951,ACC:0.6370880952380951,F1:0.5601142857142859,Precision:0.6973499999999999,Recall:0.49735952380952364\n",
      "Epoch 70,loss:0.6713162416548241\n",
      "Validation Loss: 0.6685366375105721,AUC: 0.634745238095238,ACC:0.6354119047619046,F1:0.5582452380952384,Precision:0.6971952380952381,Recall:0.49190476190476184\n",
      "Epoch 75,loss:0.6707506400393689\n",
      "Validation Loss: 0.6681085101195744,AUC: 0.6358976190476191,ACC:0.6380190476190476,F1:0.5637880952380953,Precision:0.6924785714285713,Recall:0.4982857142857141\n",
      "Epoch 80,loss:0.6702314948472451\n",
      "Validation Loss: 0.6677189625444866,AUC: 0.6367523809523812,ACC:0.638945238095238,F1:0.562604761904762,Precision:0.6980285714285716,Recall:0.4950214285714284\n",
      "Epoch 85,loss:0.6697424199637465\n",
      "Validation Loss: 0.6673507250490642,AUC: 0.6373738095238095,ACC:0.6406190476190475,F1:0.5673880952380952,Precision:0.6980166666666666,Recall:0.502947619047619\n",
      "Epoch 90,loss:0.6692756376867219\n",
      "Validation Loss: 0.6670261351835161,AUC: 0.6377309523809525,ACC:0.6409904761904761,F1:0.5651809523809523,Precision:0.7046761904761902,Recall:0.4981119047619046\n",
      "Epoch 95,loss:0.6688200681228337\n",
      "Validation Loss: 0.6667040245873588,AUC: 0.6380904761904761,ACC:0.6417333333333332,F1:0.5651404761904762,Precision:0.7083880952380952,Recall:0.49653809523809495\n",
      "Epoch 100,loss:0.668389884036357\n",
      "Validation Loss: 0.6663999770368848,AUC: 0.6376476190476191,ACC:0.6413619047619046,F1:0.568754761904762,Precision:0.7016523809523809,Recall:0.5012690476190473\n",
      "Epoch 105,loss:0.6679791005577628\n",
      "Validation Loss: 0.6661017139752706,AUC: 0.6383928571428572,ACC:0.6428523809523808,F1:0.5667357142857142,Precision:0.7086238095238095,Recall:0.4920119047619046\n",
      "Epoch 110,loss:0.6675911442501339\n",
      "Validation Loss: 0.6658574711708796,AUC: 0.6383119047619046,ACC:0.6437833333333332,F1:0.5676738095238092,Precision:0.7093880952380951,Recall:0.4922071428571427\n",
      "Epoch 115,loss:0.6672259099840179\n",
      "Validation Loss: 0.6656256232942853,AUC: 0.6390833333333331,ACC:0.6441547619047617,F1:0.5708071428571427,Precision:0.7053904761904761,Recall:0.4981738095238094\n",
      "Epoch 120,loss:0.6668582826148807\n",
      "Validation Loss: 0.665404064314706,AUC: 0.6392571428571427,ACC:0.6450857142857143,F1:0.5731309523809524,Precision:0.7092285714285714,Recall:0.5018928571428569\n",
      "Epoch 125,loss:0.6665124865028802\n",
      "Validation Loss: 0.6651804915496281,AUC: 0.6398404761904762,ACC:0.6456428571428571,F1:0.573202380952381,Precision:0.7056642857142857,Recall:0.5000833333333333\n",
      "Epoch 130,loss:0.666186989761713\n",
      "Validation Loss: 0.6649851855777559,AUC: 0.640202380952381,ACC:0.6463857142857142,F1:0.575897619047619,Precision:0.7049738095238096,Recall:0.5062142857142857\n",
      "Epoch 135,loss:0.6658837828110522\n",
      "Validation Loss: 0.6647903521855673,AUC: 0.6403476190476189,ACC:0.6471285714285713,F1:0.5705380952380954,Precision:0.7147738095238098,Recall:0.4945452380952381\n",
      "Epoch 140,loss:0.6655833247139697\n",
      "Validation Loss: 0.664605567852656,AUC: 0.6405761904761904,ACC:0.646945238095238,F1:0.5702690476190476,Precision:0.7149904761904763,Recall:0.49361666666666665\n",
      "Epoch 145,loss:0.6652962410543847\n",
      "Validation Loss: 0.6644247954800016,AUC: 0.6406571428571429,ACC:0.6463880952380952,F1:0.5685000000000001,Precision:0.7155547619047622,Recall:0.49009285714285716\n",
      "Epoch 150,loss:0.6650093817335414\n",
      "Validation Loss: 0.6642398479438963,AUC: 0.6405785714285714,ACC:0.6475023809523808,F1:0.5669928571428572,Precision:0.7171904761904763,Recall:0.48400000000000015\n",
      "Epoch 155,loss:0.6647312603597566\n",
      "Validation Loss: 0.66407006695157,AUC: 0.6409500000000004,ACC:0.6467595238095237,F1:0.5684809523809523,Precision:0.7132571428571429,Recall:0.4904452380952382\n",
      "Epoch 160,loss:0.6644618750557186\n",
      "Validation Loss: 0.6638882699466887,AUC: 0.6414333333333332,ACC:0.6467595238095237,F1:0.5630809523809523,Precision:0.7201642857142857,Recall:0.4778904761904763\n",
      "Epoch 165,loss:0.6641978302339869\n",
      "Validation Loss: 0.6637164396899087,AUC: 0.6415619047619047,ACC:0.6465761904761904,F1:0.5624190476190475,Precision:0.7203166666666666,Recall:0.47759047619047623\n",
      "Epoch 170,loss:0.6639247189356586\n",
      "Validation Loss: 0.6635123519670396,AUC: 0.641902380952381,ACC:0.6467571428571427,F1:0.5583619047619047,Precision:0.7278261904761906,Recall:0.4704452380952382\n",
      "Epoch 175,loss:0.6636346724089675\n",
      "Validation Loss: 0.6633080059573764,AUC: 0.6419904761904762,ACC:0.6463857142857142,F1:0.5604380952380952,Precision:0.7238380952380952,Recall:0.4739928571428571\n",
      "Epoch 180,loss:0.6633637068778511\n",
      "Validation Loss: 0.6631287180242085,AUC: 0.642242857142857,ACC:0.646942857142857,F1:0.5613333333333332,Precision:0.7230833333333334,Recall:0.4768690476190476\n",
      "Epoch 185,loss:0.6631059463568559\n",
      "Validation Loss: 0.6629535371348971,AUC: 0.6426857142857142,ACC:0.6465714285714286,F1:0.5635547619047618,Precision:0.7189619047619048,Recall:0.480345238095238\n",
      "Epoch 190,loss:0.662848222443438\n",
      "Validation Loss: 0.6627626007511502,AUC: 0.6427928571428572,ACC:0.6467595238095237,F1:0.5644214285714286,Precision:0.7172142857142857,Recall:0.48197142857142855\n",
      "Epoch 195,loss:0.662588167378283\n"
     ]
    },
    {
     "name": "stdout",
     "output_type": "stream",
     "text": [
      "Validation Loss: 0.6625960880801791,AUC: 0.6434476190476192,ACC:0.6471333333333332,F1:0.5646333333333333,Precision:0.7175333333333334,Recall:0.4827428571428571\n",
      "Epoch 200,loss:0.6623361335964654\n",
      "Validation Loss: 0.6624368202118647,AUC: 0.6439928571428573,ACC:0.647690476190476,F1:0.5646547619047618,Precision:0.7179690476190476,Recall:0.48215952380952376\n",
      "Epoch 205,loss:0.6620882223910234\n",
      "Validation Loss: 0.6622656385103861,AUC: 0.6445976190476189,ACC:0.6478761904761905,F1:0.5650666666666665,Precision:0.7176738095238095,Recall:0.48244999999999993\n",
      "Epoch 210,loss:0.6618444206207756\n",
      "Validation Loss: 0.6621142909640357,AUC: 0.6449357142857143,ACC:0.6491761904761904,F1:0.566697619047619,Precision:0.719295238095238,Recall:0.4838523809523809\n",
      "Epoch 215,loss:0.6615972870916832\n",
      "Validation Loss: 0.6619543773787362,AUC: 0.6454404761904763,ACC:0.6495476190476189,F1:0.5622404761904761,Precision:0.7261285714285715,Recall:0.47553809523809515\n",
      "Epoch 220,loss:0.6613503746160372\n",
      "Validation Loss: 0.6617775956789652,AUC: 0.6458428571428569,ACC:0.6493595238095237,F1:0.5621952380952381,Precision:0.7256714285714285,Recall:0.4764095238095238\n",
      "Epoch 225,loss:0.6611116594216955\n",
      "Validation Loss: 0.6616166574614388,AUC: 0.6458619047619046,ACC:0.6501071428571428,F1:0.5635047619047617,Precision:0.7254904761904761,Recall:0.47849761904761906\n",
      "Epoch 230,loss:0.6608736622990585\n",
      "Validation Loss: 0.6614849751903897,AUC: 0.6460809523809523,ACC:0.6504785714285714,F1:0.5663095238095237,Precision:0.7224261904761905,Recall:0.4830952380952381\n",
      "Epoch 235,loss:0.6606473608279791\n",
      "Validation Loss: 0.6613656892662957,AUC: 0.6465476190476191,ACC:0.6497333333333333,F1:0.55895,Precision:0.7293357142857143,Recall:0.46901904761904767\n",
      "Epoch 240,loss:0.6604218661315798\n",
      "Validation Loss: 0.6612120937733423,AUC: 0.6470833333333333,ACC:0.6497333333333334,F1:0.5622499999999999,Precision:0.7256238095238094,Recall:0.4746690476190477\n",
      "Epoch 245,loss:0.6601678287889076\n",
      "Validation Loss: 0.6610441065969921,AUC: 0.6475714285714285,ACC:0.650104761904762,F1:0.5626095238095237,Precision:0.7253952380952379,Recall:0.4747261904761906\n",
      "Epoch 250,loss:0.6599243400603767\n",
      "Validation Loss: 0.6608966844422477,AUC: 0.6478452380952385,ACC:0.6510333333333334,F1:0.5625214285714285,Precision:0.7277476190476189,Recall:0.47294761904761917\n",
      "Epoch 255,loss:0.659691737392756\n",
      "Validation Loss: 0.6607793754055387,AUC: 0.6481333333333333,ACC:0.65215,F1:0.5628357142857142,Precision:0.7303761904761904,Recall:0.47272857142857155\n",
      "Epoch 260,loss:0.6594696725447347\n",
      "Validation Loss: 0.6606288637433734,AUC: 0.6485190476190477,ACC:0.6515928571428572,F1:0.5665595238095238,Precision:0.725147619047619,Recall:0.4781761904761904\n",
      "Epoch 265,loss:0.6592364358151053\n",
      "Validation Loss: 0.660477910723005,AUC: 0.6497261904761906,ACC:0.6540142857142859,F1:0.5728095238095238,Precision:0.7233261904761903,Recall:0.4865357142857142\n",
      "Epoch 270,loss:0.6589861643595958\n",
      "Validation Loss: 0.6603638998099736,AUC: 0.6498857142857142,ACC:0.6545761904761908,F1:0.5720880952380953,Precision:0.7255285714285711,Recall:0.4880047619047618\n",
      "Epoch 275,loss:0.6587432843493665\n",
      "Validation Loss: 0.660229157833826,AUC: 0.6509380952380953,ACC:0.6555071428571431,F1:0.5737285714285715,Precision:0.7267095238095236,Recall:0.48949761904761907\n",
      "Epoch 280,loss:0.6585169950808127\n",
      "Validation Loss: 0.6601325954709735,AUC: 0.6512238095238095,ACC:0.6562452380952382,F1:0.5741714285714286,Precision:0.7273285714285712,Recall:0.48886666666666667\n",
      "Epoch 285,loss:0.6582828980731213\n",
      "Validation Loss: 0.6599746133599963,AUC: 0.6515523809523811,ACC:0.6564357142857145,F1:0.5769,Precision:0.7270857142857141,Recall:0.4917380952380952\n",
      "Epoch 290,loss:0.6580623604181245\n",
      "Validation Loss: 0.6598117152849833,AUC: 0.652054761904762,ACC:0.6571809523809525,F1:0.5781666666666666,Precision:0.7307261904761904,Recall:0.4907142857142857\n",
      "Epoch 295,loss:0.6578427426458344\n",
      "Validation Loss: 0.6596424991176242,AUC: 0.6522333333333332,ACC:0.6573642857142856,F1:0.5771833333333334,Precision:0.732904761904762,Recall:0.4870833333333333\n",
      "Epoch 300,loss:0.6576177163386908\n",
      "Validation Loss: 0.6594372547808147,AUC: 0.6525119047619047,ACC:0.6577333333333334,F1:0.5767833333333333,Precision:0.7346642857142858,Recall:0.4876309523809524\n",
      "Epoch 305,loss:0.6574103226811867\n",
      "Validation Loss: 0.6592471145448231,AUC: 0.6524238095238095,ACC:0.6582880952380952,F1:0.5802547619047618,Precision:0.7325333333333334,Recall:0.49142857142857144\n",
      "Epoch 310,loss:0.657200494619805\n",
      "Validation Loss: 0.6590403006190345,AUC: 0.6529690476190476,ACC:0.6571761904761905,F1:0.5780047619047618,Precision:0.731304761904762,Recall:0.48804999999999993\n",
      "Epoch 315,loss:0.6569805966587517\n",
      "Validation Loss: 0.658758302529653,AUC: 0.6537619047619045,ACC:0.658847619047619,F1:0.5801857142857143,Precision:0.7337357142857144,Recall:0.48909285714285716\n",
      "Epoch 320,loss:0.6567319828694261\n",
      "Validation Loss: 0.6585135147685096,AUC: 0.6536214285714286,ACC:0.6612690476190476,F1:0.5865214285714285,Precision:0.7336309523809523,Recall:0.4989928571428571\n",
      "Epoch 325,loss:0.6564767163569533\n",
      "Validation Loss: 0.6582450724783397,AUC: 0.6543309523809526,ACC:0.6623857142857144,F1:0.5885047619047618,Precision:0.7334047619047618,Recall:0.5012714285714286\n",
      "Epoch 330,loss:0.6561862577603558\n",
      "Validation Loss: 0.6579915895348504,AUC: 0.6559023809523808,ACC:0.6612666666666666,F1:0.5819214285714284,Precision:0.7386880952380952,Recall:0.48942857142857144\n",
      "Epoch 335,loss:0.6559139630925936\n",
      "Validation Loss: 0.6577182199273791,AUC: 0.6567261904761903,ACC:0.6636833333333333,F1:0.5832999999999997,Precision:0.741952380952381,Recall:0.48982142857142863\n",
      "Epoch 340,loss:0.6556074267297279\n",
      "Validation Loss: 0.6574497747988928,AUC: 0.6570380952380953,ACC:0.6640595238095238,F1:0.5866309523809522,Precision:0.7411619047619047,Recall:0.4967714285714285\n",
      "Epoch 345,loss:0.65527049575265\n",
      "Validation Loss: 0.6572047613915943,AUC: 0.6577261904761902,ACC:0.6646190476190476,F1:0.5878119047619047,Precision:0.7405761904761904,Recall:0.49832857142857145\n",
      "Epoch 350,loss:0.6549409045947818\n",
      "Validation Loss: 0.6569261522520156,AUC: 0.6579619047619046,ACC:0.6651785714285714,F1:0.5901952380952383,Precision:0.7386380952380952,Recall:0.5012238095238095\n",
      "Epoch 355,loss:0.6546483889339477\n",
      "Validation Loss: 0.6566427264894757,AUC: 0.6589309523809523,ACC:0.6657357142857142,F1:0.5907880952380954,Precision:0.7395595238095238,Recall:0.5034261904761905\n",
      "Epoch 360,loss:0.6543857544425904\n",
      "Validation Loss: 0.6563971113590967,AUC: 0.659235714285714,ACC:0.6657380952380952,F1:0.5940857142857142,Precision:0.7355809523809521,Recall:0.5093023809523809\n",
      "Epoch 365,loss:0.6541451591206348\n",
      "Validation Loss: 0.6562342601163047,AUC: 0.6598190476190475,ACC:0.6664809523809525,F1:0.5990666666666666,Precision:0.7291785714285716,Recall:0.5197666666666668\n",
      "Epoch 370,loss:0.6539167616311021\n",
      "Validation Loss: 0.6560690119152978,AUC: 0.6601357142857143,ACC:0.6659238095238096,F1:0.5967095238095238,Precision:0.7325809523809524,Recall:0.5149380952380953\n",
      "Epoch 375,loss:0.6536945573926911\n",
      "Validation Loss: 0.6559168497721354,AUC: 0.6606357142857144,ACC:0.6666690476190477,F1:0.5943452380952381,Precision:0.7367285714285713,Recall:0.5098452380952383\n",
      "Epoch 380,loss:0.6534863912214445\n",
      "Validation Loss: 0.6557951924346742,AUC: 0.6608928571428572,ACC:0.6657333333333334,F1:0.5949142857142857,Precision:0.7318238095238094,Recall:0.5122714285714286\n",
      "Epoch 385,loss:0.6532941577941414\n",
      "Validation Loss: 0.655682731242407,AUC: 0.6620619047619047,ACC:0.6651761904761905,F1:0.5953285714285714,Precision:0.7304904761904761,Recall:0.5125142857142857\n",
      "Epoch 390,loss:0.6531055330291508\n",
      "Validation Loss: 0.6556036798726945,AUC: 0.6618071428571428,ACC:0.666102380952381,F1:0.592902380952381,Precision:0.7377761904761904,Recall:0.5064714285714287\n",
      "Epoch 395,loss:0.6529190117918601\n",
      "Validation Loss: 0.6554924221265883,AUC: 0.6617761904761904,ACC:0.666104761904762,F1:0.5949095238095239,Precision:0.7310666666666666,Recall:0.5110452380952382\n",
      "Epoch 400,loss:0.6527440482237208\n",
      "Validation Loss: 0.6554258181935265,AUC: 0.6618690476190476,ACC:0.6662904761904761,F1:0.593007142857143,Precision:0.7353238095238096,Recall:0.5065571428571428\n",
      "Epoch 405,loss:0.6525782928692074\n",
      "Validation Loss: 0.6553614437580109,AUC: 0.6619357142857143,ACC:0.6662904761904762,F1:0.5942833333333335,Precision:0.7337952380952382,Recall:0.5087571428571429\n"
     ]
    },
    {
     "name": "stdout",
     "output_type": "stream",
     "text": [
      "Epoch 410,loss:0.6524028998660291\n",
      "Validation Loss: 0.6553076988174802,AUC: 0.6618976190476191,ACC:0.6649880952380952,F1:0.5875666666666667,Precision:0.7387333333333332,Recall:0.49701904761904764\n",
      "Epoch 415,loss:0.6522391546429611\n",
      "Validation Loss: 0.6552292151110513,AUC: 0.662392857142857,ACC:0.6646166666666667,F1:0.5859047619047619,Precision:0.7403642857142857,Recall:0.4927452380952382\n",
      "Epoch 420,loss:0.6520829824950751\n",
      "Validation Loss: 0.6551414657206762,AUC: 0.6629809523809524,ACC:0.6642452380952382,F1:0.5860333333333333,Precision:0.7389380952380952,Recall:0.49357857142857153\n",
      "Epoch 425,loss:0.6519248227434834\n",
      "Validation Loss: 0.6550667910348802,AUC: 0.66345,ACC:0.6638714285714286,F1:0.589702380952381,Precision:0.7335095238095237,Recall:0.5015119047619048\n",
      "Epoch 430,loss:0.6517696436934584\n",
      "Validation Loss: 0.6549956401189169,AUC: 0.6642333333333335,ACC:0.6644285714285714,F1:0.5895404761904762,Precision:0.7361738095238094,Recall:0.5019476190476191\n",
      "Epoch 435,loss:0.6516287702275073\n",
      "Validation Loss: 0.6549551160562606,AUC: 0.6643619047619046,ACC:0.6648000000000001,F1:0.5883071428571429,Precision:0.7383428571428572,Recall:0.49946904761904776\n",
      "Epoch 440,loss:0.6514853454950288\n",
      "Validation Loss: 0.6549060131822314,AUC: 0.664345238095238,ACC:0.6646166666666666,F1:0.5875095238095237,Precision:0.7388214285714285,Recall:0.4974333333333334\n",
      "Epoch 445,loss:0.6513513608241644\n",
      "Validation Loss: 0.6548743347326914,AUC: 0.6643309523809522,ACC:0.6648023809523809,F1:0.5852571428571428,Precision:0.7439833333333333,Recall:0.4926571428571429\n",
      "Epoch 450,loss:0.6512204798187796\n",
      "Validation Loss: 0.6548690412725721,AUC: 0.6638428571428572,ACC:0.6649880952380952,F1:0.5882357142857142,Precision:0.7414238095238095,Recall:0.4991952380952382\n",
      "Epoch 455,loss:0.6510844695286488\n",
      "Validation Loss: 0.6548047463099161,AUC: 0.6642095238095239,ACC:0.6653619047619047,F1:0.5870166666666665,Precision:0.7426999999999999,Recall:0.4960333333333334\n",
      "Epoch 475,loss:0.6505807919765082\n",
      "Validation Loss: 0.6546241243680319,AUC: 0.6643309523809524,ACC:0.6657357142857141,F1:0.5891952380952381,Precision:0.7400690476190477,Recall:0.4995452380952382\n",
      "Epoch 480,loss:0.6504659422739284\n",
      "Validation Loss: 0.6545656067984444,AUC: 0.6645833333333332,ACC:0.666292857142857,F1:0.5895119047619046,Precision:0.7412190476190477,Recall:0.49967142857142866\n",
      "Epoch 485,loss:0.650362428248398\n",
      "Validation Loss: 0.6545291287558419,AUC: 0.6638904761904766,ACC:0.6666666666666666,F1:0.5901738095238095,Precision:0.7433023809523809,Recall:0.5002452380952381\n",
      "Epoch 490,loss:0.6502551028108973\n",
      "Validation Loss: 0.6544583936532339,AUC: 0.6642809523809524,ACC:0.6668523809523809,F1:0.5906809523809523,Precision:0.7413642857142858,Recall:0.5018738095238097\n",
      "Epoch 495,loss:0.650154306193975\n",
      "Validation Loss: 0.6544170918918791,AUC: 0.664154761904762,ACC:0.6670404761904761,F1:0.5926285714285713,Precision:0.7404857142857142,Recall:0.5058023809523811\n",
      "Epoch 500,loss:0.6500519148008091\n",
      "Validation Loss: 0.6543662704172588,AUC: 0.6643071428571429,ACC:0.6674119047619047,F1:0.5903809523809523,Precision:0.7435595238095238,Recall:0.5004738095238097\n",
      "模型训练完成\n",
      "||--------训练结束时间： 2024-03-19 09:35:57.227070 -------------\n",
      "||--测试：---------- 1 个batch运行时间： 2024-03-19 09:35:57.240546 -------------\n",
      "||--测试：---------- 2 个batch运行时间： 2024-03-19 09:35:57.253126 -------------\n",
      "||--测试：---------- 3 个batch运行时间： 2024-03-19 09:35:57.266080 -------------\n",
      "||--测试：---------- 4 个batch运行时间： 2024-03-19 09:35:57.279507 -------------\n",
      "||--测试：---------- 5 个batch运行时间： 2024-03-19 09:35:57.292012 -------------\n",
      "||--测试：---------- 6 个batch运行时间： 2024-03-19 09:35:57.304481 -------------\n",
      "||--测试：---------- 7 个batch运行时间： 2024-03-19 09:35:57.317231 -------------\n",
      "||--测试：---------- 8 个batch运行时间： 2024-03-19 09:35:57.329676 -------------\n",
      "||--测试：---------- 9 个batch运行时间： 2024-03-19 09:35:57.342550 -------------\n",
      "||--测试：---------- 10 个batch运行时间： 2024-03-19 09:35:57.355076 -------------\n",
      "||--测试：---------- 11 个batch运行时间： 2024-03-19 09:35:57.367499 -------------\n",
      "||--测试：---------- 12 个batch运行时间： 2024-03-19 09:35:57.379941 -------------\n",
      "||--测试：---------- 13 个batch运行时间： 2024-03-19 09:35:57.392428 -------------\n",
      "||--测试：---------- 14 个batch运行时间： 2024-03-19 09:35:57.405245 -------------\n",
      "||--测试：---------- 15 个batch运行时间： 2024-03-19 09:35:57.417699 -------------\n",
      "||--测试：---------- 16 个batch运行时间： 2024-03-19 09:35:57.430856 -------------\n",
      "||--测试：---------- 17 个batch运行时间： 2024-03-19 09:35:57.443460 -------------\n",
      "||--测试：---------- 18 个batch运行时间： 2024-03-19 09:35:57.456045 -------------\n",
      "||--测试：---------- 19 个batch运行时间： 2024-03-19 09:35:57.468483 -------------\n",
      "||--测试：---------- 20 个batch运行时间： 2024-03-19 09:35:57.480945 -------------\n",
      "||--测试：---------- 21 个batch运行时间： 2024-03-19 09:35:57.493651 -------------\n",
      "||--测试：---------- 22 个batch运行时间： 2024-03-19 09:35:57.506088 -------------\n",
      "||--测试：---------- 23 个batch运行时间： 2024-03-19 09:35:57.518513 -------------\n",
      "||--测试：---------- 24 个batch运行时间： 2024-03-19 09:35:57.531256 -------------\n",
      "||--测试：---------- 25 个batch运行时间： 2024-03-19 09:35:57.543689 -------------\n",
      "||--测试：---------- 26 个batch运行时间： 2024-03-19 09:35:57.556118 -------------\n",
      "||--测试：---------- 27 个batch运行时间： 2024-03-19 09:35:57.568909 -------------\n",
      "||--测试：---------- 28 个batch运行时间： 2024-03-19 09:35:57.581349 -------------\n",
      "||--测试：---------- 29 个batch运行时间： 2024-03-19 09:35:57.593833 -------------\n",
      "||--测试：---------- 30 个batch运行时间： 2024-03-19 09:35:57.606652 -------------\n",
      "||--测试：---------- 31 个batch运行时间： 2024-03-19 09:35:57.619558 -------------\n",
      "||--测试：---------- 32 个batch运行时间： 2024-03-19 09:35:57.632575 -------------\n",
      "||--测试：---------- 33 个batch运行时间： 2024-03-19 09:35:57.645142 -------------\n",
      "||--测试：---------- 34 个batch运行时间： 2024-03-19 09:35:57.657602 -------------\n",
      "||--测试：---------- 35 个batch运行时间： 2024-03-19 09:35:57.670045 -------------\n",
      "||--测试：---------- 36 个batch运行时间： 2024-03-19 09:35:57.682456 -------------\n",
      "||--测试：---------- 37 个batch运行时间： 2024-03-19 09:35:57.695475 -------------\n",
      "||--测试：---------- 38 个batch运行时间： 2024-03-19 09:35:57.707898 -------------\n",
      "||--测试：---------- 39 个batch运行时间： 2024-03-19 09:35:57.720323 -------------\n",
      "||--测试：---------- 40 个batch运行时间： 2024-03-19 09:35:57.733211 -------------\n",
      "||--测试：---------- 41 个batch运行时间： 2024-03-19 09:35:57.745591 -------------\n",
      "||--测试：---------- 42 个batch运行时间： 2024-03-19 09:35:57.758014 -------------\n",
      "Test Loss: 0.6537578233650753,AUC: 0.6637095238095237,ACC:0.6677785714285714,F1:0.5831761904761906,Precision:0.7649000000000002,Recall:0.4839190476190475\n",
      "i=:3\n",
      "划分文件已存在，不再进行数据划分\n",
      "数据预处理结束\n",
      "数据划分完成\n",
      "张量生成完成\n",
      "模型搭建完成\n",
      "模型转移到GPU完成\n",
      "Epoch 5,loss:0.6830005861642793\n",
      "Validation Loss: 0.6791015693119594,AUC: 0.6160380952380952,ACC:0.6210904761904762,F1:0.5500666666666666,Precision:0.656747619047619,Recall:0.508392857142857\n",
      "Epoch 10,loss:0.6817341357704223\n",
      "Validation Loss: 0.6779679187706539,AUC: 0.6178166666666667,ACC:0.6231404761904762,F1:0.5527309523809523,Precision:0.6575047619047619,Recall:0.5069\n",
      "Epoch 15,loss:0.6807385997509393\n",
      "Validation Loss: 0.6770701862516857,AUC: 0.6197000000000001,ACC:0.6244428571428572,F1:0.5498738095238094,Precision:0.6681071428571427,Recall:0.5000595238095238\n",
      "Epoch 20,loss:0.6798322294640728\n",
      "Validation Loss: 0.6762378755069914,AUC: 0.6206904761904761,ACC:0.6231428571428571,F1:0.5546238095238094,Precision:0.6603738095238094,Recall:0.5095999999999998\n",
      "Epoch 25,loss:0.6789337720457963\n",
      "Validation Loss: 0.6754387957709176,AUC: 0.6221166666666667,ACC:0.6270452380952379,F1:0.5426809523809523,Precision:0.6848761904761905,Recall:0.48524285714285703\n",
      "Epoch 30,loss:0.6780154733207282\n",
      "Validation Loss: 0.6746392831915901,AUC: 0.6229071428571429,ACC:0.6274214285714285,F1:0.5460738095238094,Precision:0.685397619047619,Recall:0.49410238095238085\n",
      "Epoch 35,loss:0.6771067230720219\n",
      "Validation Loss: 0.6738441316854387,AUC: 0.624507142857143,ACC:0.6276047619047619,F1:0.5461166666666667,Precision:0.6860333333333333,Recall:0.48838809523809534\n",
      "Epoch 40,loss:0.6762231691615788\n",
      "Validation Loss: 0.673070510228475,AUC: 0.6267761904761903,ACC:0.6313261904761904,F1:0.5421,Precision:0.6934166666666667,Recall:0.4759666666666666\n",
      "Epoch 45,loss:0.6753717491945882\n",
      "Validation Loss: 0.6723714854036059,AUC: 0.6275690476190475,ACC:0.6324428571428571,F1:0.5357571428571428,Precision:0.7083999999999999,Recall:0.46697380952380946\n",
      "Epoch 50,loss:0.6745777177059744\n"
     ]
    },
    {
     "name": "stdout",
     "output_type": "stream",
     "text": [
      "Validation Loss: 0.6716911551498231,AUC: 0.6285904761904766,ACC:0.6311357142857142,F1:0.5430023809523808,Precision:0.6982261904761906,Recall:0.4764238095238093\n",
      "Epoch 55,loss:0.6738388017406614\n",
      "Validation Loss: 0.6710452281293415,AUC: 0.6298238095238095,ACC:0.6324380952380951,F1:0.5484476190476192,Precision:0.6975904761904763,Recall:0.48386190476190455\n",
      "Epoch 60,loss:0.6731427555947792\n",
      "Validation Loss: 0.6704113724685851,AUC: 0.6323261904761905,ACC:0.6341142857142857,F1:0.5432642857142858,Precision:0.7037738095238094,Recall:0.47357380952380945\n",
      "Epoch 65,loss:0.6724766239406555\n",
      "Validation Loss: 0.6698057452837626,AUC: 0.6338142857142856,ACC:0.6357880952380951,F1:0.5555785714285716,Precision:0.6997333333333333,Recall:0.4938809523809522\n",
      "Epoch 70,loss:0.6718454651945219\n",
      "Validation Loss: 0.6692537268002828,AUC: 0.6346404761904761,ACC:0.635047619047619,F1:0.5585714285714287,Precision:0.6960809523809524,Recall:0.4979214285714284\n",
      "Epoch 75,loss:0.6712304860588134\n",
      "Validation Loss: 0.6686603001185826,AUC: 0.6350214285714285,ACC:0.6361642857142857,F1:0.5616785714285716,Precision:0.6933952380952381,Recall:0.4993666666666665\n",
      "Epoch 80,loss:0.6706506825807527\n",
      "Validation Loss: 0.6681403730596814,AUC: 0.6355904761904763,ACC:0.6378357142857143,F1:0.5598357142857142,Precision:0.6971357142857142,Recall:0.4962452380952381\n",
      "Epoch 85,loss:0.6701028600452453\n",
      "Validation Loss: 0.6677076461769286,AUC: 0.6367761904761905,ACC:0.6383952380952381,F1:0.5521428571428572,Precision:0.7061738095238096,Recall:0.4758023809523809\n",
      "Epoch 90,loss:0.6695972390062227\n",
      "Validation Loss: 0.667304889077232,AUC: 0.6374642857142859,ACC:0.638952380952381,F1:0.5610904761904761,Precision:0.6961761904761905,Recall:0.4925333333333332\n",
      "Epoch 95,loss:0.6691286751604456\n",
      "Validation Loss: 0.6669616273471287,AUC: 0.6374833333333332,ACC:0.6391357142857143,F1:0.556592857142857,Precision:0.7017119047619048,Recall:0.48165714285714273\n",
      "Epoch 100,loss:0.6686835983606774\n",
      "Validation Loss: 0.666623938651312,AUC: 0.6371619047619047,ACC:0.6391357142857143,F1:0.5561071428571429,Precision:0.7036928571428573,Recall:0.48103571428571423\n",
      "Epoch 105,loss:0.6682622212124621\n",
      "Validation Loss: 0.6663021260783786,AUC: 0.6367142857142856,ACC:0.6387642857142856,F1:0.5522809523809524,Precision:0.7097071428571428,Recall:0.4745047619047619\n",
      "Epoch 110,loss:0.6678588601547902\n",
      "Validation Loss: 0.6660128136475881,AUC: 0.6369238095238098,ACC:0.6408119047619047,F1:0.5543119047619048,Precision:0.7130333333333334,Recall:0.47623809523809524\n",
      "Epoch 115,loss:0.6674894132013396\n",
      "Validation Loss: 0.6657665088063195,AUC: 0.6369238095238097,ACC:0.639697619047619,F1:0.557504761904762,Precision:0.7046976190476192,Recall:0.48216428571428577\n",
      "Epoch 120,loss:0.6671243586878138\n",
      "Validation Loss: 0.6655317502362388,AUC: 0.6370333333333333,ACC:0.6406261904761905,F1:0.5513666666666668,Precision:0.7182690476190478,Recall:0.4696214285714286\n",
      "Epoch 125,loss:0.6667761436597569\n",
      "Validation Loss: 0.6653238194329398,AUC: 0.6368499999999999,ACC:0.6396952380952381,F1:0.5497142857142857,Precision:0.7188428571428572,Recall:0.4681928571428572\n",
      "Epoch 130,loss:0.6664423219800935\n",
      "Validation Loss: 0.665133691969372,AUC: 0.6367571428571429,ACC:0.6389523809523809,F1:0.5491261904761905,Precision:0.713764285714286,Recall:0.46699523809523796\n",
      "Epoch 135,loss:0.6660707841707966\n",
      "Validation Loss: 0.6649137721175239,AUC: 0.6369690476190476,ACC:0.6395095238095237,F1:0.5493642857142856,Precision:0.7133952380952382,Recall:0.4690976190476191\n",
      "Epoch 140,loss:0.6656971817880165\n",
      "Validation Loss: 0.6646788943381536,AUC: 0.6369999999999999,ACC:0.6402523809523808,F1:0.551902380952381,Precision:0.7116428571428571,Recall:0.4721666666666667\n",
      "Epoch 145,loss:0.6653655335659118\n",
      "Validation Loss: 0.6644632362184071,AUC: 0.6373523809523812,ACC:0.6408095238095237,F1:0.5532071428571429,Precision:0.7217690476190475,Recall:0.4712452380952381\n",
      "Epoch 150,loss:0.6650632694950254\n",
      "Validation Loss: 0.6642708210718065,AUC: 0.6373809523809523,ACC:0.6409952380952381,F1:0.5582880952380953,Precision:0.711902380952381,Recall:0.4822357142857142\n",
      "Epoch 155,loss:0.6647844966940992\n",
      "Validation Loss: 0.6641001119500115,AUC: 0.6375666666666666,ACC:0.6419238095238095,F1:0.5631333333333334,Precision:0.7082261904761905,Recall:0.4913333333333333\n",
      "Epoch 160,loss:0.6645119302854763\n",
      "Validation Loss: 0.6639504787467775,AUC: 0.6380714285714285,ACC:0.6428523809523808,F1:0.5567809523809524,Precision:0.7177999999999999,Recall:0.47809523809523796\n",
      "Epoch 165,loss:0.6642511984494728\n",
      "Validation Loss: 0.6638021100135076,AUC: 0.6380761904761906,ACC:0.6417380952380951,F1:0.5529214285714287,Precision:0.7166857142857143,Recall:0.4700071428571428\n",
      "Epoch 170,loss:0.6640090881370184\n",
      "Validation Loss: 0.6636754132452465,AUC: 0.6383333333333334,ACC:0.6421095238095237,F1:0.55545,Precision:0.7163690476190476,Recall:0.47359285714285704\n",
      "Epoch 175,loss:0.6637851858702232\n",
      "Validation Loss: 0.6635663750625792,AUC: 0.6383523809523811,ACC:0.6422952380952379,F1:0.5532809523809524,Precision:0.7227738095238093,Recall:0.46869999999999995\n",
      "Epoch 180,loss:0.6635603937577075\n",
      "Validation Loss: 0.6634411187399001,AUC: 0.6381238095238095,ACC:0.6421095238095237,F1:0.5530714285714287,Precision:0.7229380952380952,Recall:0.46877857142857127\n",
      "Epoch 185,loss:0.6633323416935177\n",
      "Validation Loss: 0.6633200446764628,AUC: 0.6380880952380951,ACC:0.6426714285714286,F1:0.5507833333333333,Precision:0.727359523809524,Recall:0.46565476190476174\n",
      "Epoch 190,loss:0.6631251836386253\n",
      "Validation Loss: 0.6632135794276283,AUC: 0.6385476190476191,ACC:0.6430428571428571,F1:0.5510357142857143,Precision:0.7279547619047618,Recall:0.46549523809523796\n",
      "Epoch 195,loss:0.6629217351515462\n",
      "Validation Loss: 0.6631145761126563,AUC: 0.6380166666666666,ACC:0.6424833333333333,F1:0.5510642857142857,Precision:0.7259071428571428,Recall:0.4667023809523809\n",
      "Epoch 200,loss:0.6627201184513062\n",
      "Validation Loss: 0.6630224670682635,AUC: 0.6381095238095238,ACC:0.642297619047619,F1:0.5510976190476189,Precision:0.7245952380952381,Recall:0.46705238095238083\n",
      "Epoch 205,loss:0.6625222460491451\n",
      "Validation Loss: 0.6629176977134886,AUC: 0.6382071428571428,ACC:0.6426714285714286,F1:0.5485404761904761,Precision:0.727302380952381,Recall:0.46273095238095235\n",
      "Epoch 210,loss:0.6623233763251718\n",
      "Validation Loss: 0.6628045979000273,AUC: 0.6381738095238094,ACC:0.6419261904761905,F1:0.5462119047619047,Precision:0.7285095238095238,Recall:0.45883571428571424\n",
      "Epoch 215,loss:0.6621190548881771\n",
      "Validation Loss: 0.6627159913380941,AUC: 0.6383190476190477,ACC:0.642297619047619,F1:0.5470571428571429,Precision:0.7301952380952381,Recall:0.45870714285714276\n",
      "Epoch 220,loss:0.6619281651466851\n",
      "Validation Loss: 0.662639781123116,AUC: 0.6382309523809523,ACC:0.6426690476190475,F1:0.5477380952380951,Precision:0.7306714285714286,Recall:0.4599785714285713\n",
      "Epoch 225,loss:0.6617322629830968\n",
      "Validation Loss: 0.6625379976772127,AUC: 0.6382833333333333,ACC:0.6432261904761903,F1:0.5478666666666666,Precision:0.7325976190476189,Recall:0.45977857142857137\n",
      "Epoch 230,loss:0.6615379274360776\n",
      "Validation Loss: 0.6624694466590881,AUC: 0.638502380952381,ACC:0.6430428571428571,F1:0.5484166666666666,Precision:0.732047619047619,Recall:0.4614523809523809\n",
      "Epoch 235,loss:0.6613398382044214\n",
      "Validation Loss: 0.6624009878862471,AUC: 0.6386285714285714,ACC:0.6434142857142857,F1:0.5486357142857142,Precision:0.7328023809523808,Recall:0.4618357142857142\n",
      "Epoch 240,loss:0.6611651599876524\n",
      "Validation Loss: 0.6623550837948209,AUC: 0.6384404761904761,ACC:0.6426666666666667,F1:0.5459880952380953,Precision:0.7315261904761906,Recall:0.4575023809523809\n",
      "Epoch 245,loss:0.6609866830307668\n",
      "Validation Loss: 0.6622936668850127,AUC: 0.6380190476190477,ACC:0.6415523809523809,F1:0.5467023809523811,Precision:0.7287214285714284,Recall:0.4596\n",
      "Epoch 250,loss:0.6607931711542325\n",
      "Validation Loss: 0.6622317334016165,AUC: 0.6374761904761905,ACC:0.6419238095238095,F1:0.5471404761904763,Precision:0.7275952380952382,Recall:0.45960238095238093\n",
      "Epoch 255,loss:0.6605637608550665\n",
      "Validation Loss: 0.6622057628063929,AUC: 0.6373714285714287,ACC:0.642854761904762,F1:0.553004761904762,Precision:0.7247857142857143,Recall:0.4693571428571427\n",
      "Epoch 260,loss:0.6603951092780106\n",
      "Validation Loss: 0.6621543750876472,AUC: 0.637554761904762,ACC:0.6434166666666667,F1:0.5466309523809525,Precision:0.7288690476190476,Recall:0.4567571428571428\n"
     ]
    },
    {
     "name": "stdout",
     "output_type": "stream",
     "text": [
      "Epoch 265,loss:0.6602305906025443\n",
      "Validation Loss: 0.6621168085506984,AUC: 0.6376952380952382,ACC:0.6436023809523811,F1:0.5454833333333334,Precision:0.7309095238095239,Recall:0.4548238095238095\n",
      "Epoch 270,loss:0.660090526257913\n",
      "Validation Loss: 0.6620923011075883,AUC: 0.6380357142857143,ACC:0.642857142857143,F1:0.5434142857142857,Precision:0.7322952380952383,Recall:0.4519857142857142\n",
      "Epoch 275,loss:0.6599412757580675\n",
      "Validation Loss: 0.6620603615329379,AUC: 0.6382285714285713,ACC:0.6424857142857144,F1:0.5441690476190477,Precision:0.727497619047619,Recall:0.4532738095238096\n",
      "Epoch 280,loss:0.6597849426307077\n",
      "Validation Loss: 0.6620252444630578,AUC: 0.638285714285714,ACC:0.6437904761904764,F1:0.5471285714285715,Precision:0.7277404761904761,Recall:0.4586452380952381\n",
      "Epoch 285,loss:0.6596330113298311\n",
      "Validation Loss: 0.6620128949483236,AUC: 0.6382761904761904,ACC:0.6439761904761906,F1:0.5483333333333333,Precision:0.7265285714285714,Recall:0.4604142857142856\n",
      "Epoch 290,loss:0.6594814822429748\n",
      "Validation Loss: 0.6619902437641507,AUC: 0.6382833333333335,ACC:0.6437904761904764,F1:0.5442142857142858,Precision:0.7326880952380953,Recall:0.4541785714285714\n",
      "Epoch 295,loss:0.6593301953293207\n",
      "Validation Loss: 0.6619832785356612,AUC: 0.63835,ACC:0.6432333333333335,F1:0.5437380952380954,Precision:0.731857142857143,Recall:0.4530476190476191\n",
      "Epoch 300,loss:0.6591928549638884\n",
      "Validation Loss: 0.6619497310547602,AUC: 0.6383761904761904,ACC:0.6432333333333335,F1:0.543702380952381,Precision:0.7317,Recall:0.4507261904761905\n",
      "Epoch 305,loss:0.659052694876363\n",
      "Validation Loss: 0.6619315048058828,AUC: 0.6386261904761907,ACC:0.6432333333333335,F1:0.540102380952381,Precision:0.7361690476190477,Recall:0.44317857142857137\n",
      "Epoch 310,loss:0.6589207888588192\n",
      "Validation Loss: 0.6618969766866594,AUC: 0.6390214285714289,ACC:0.6424880952380955,F1:0.5454571428571429,Precision:0.7269285714285715,Recall:0.4538904761904761\n",
      "Epoch 315,loss:0.6587892573649489\n",
      "Validation Loss: 0.6618530281952449,AUC: 0.6391404761904761,ACC:0.641557142857143,F1:0.5497595238095239,Precision:0.7235880952380951,Recall:0.4629904761904762\n",
      "Epoch 320,loss:0.6586555017261054\n",
      "Validation Loss: 0.6618099013964335,AUC: 0.639307142857143,ACC:0.6419309523809525,F1:0.5527642857142857,Precision:0.7219642857142855,Recall:0.4692333333333334\n",
      "Epoch 325,loss:0.6585253012461925\n",
      "Validation Loss: 0.6617689075924101,AUC: 0.6392166666666668,ACC:0.6410000000000002,F1:0.541552380952381,Precision:0.7279333333333332,Recall:0.45139047619047623\n",
      "Epoch 330,loss:0.6584011701148326\n",
      "Validation Loss: 0.6617139563674018,AUC: 0.6391357142857143,ACC:0.640254761904762,F1:0.5402285714285715,Precision:0.7262285714285713,Recall:0.4491333333333334\n",
      "Epoch 335,loss:0.6582738930784812\n",
      "Validation Loss: 0.6616891310328529,AUC: 0.6392785714285716,ACC:0.640252380952381,F1:0.5419452380952381,Precision:0.7233023809523809,Recall:0.4530619047619047\n",
      "Epoch 340,loss:0.6581487205084853\n",
      "Validation Loss: 0.6616454323132833,AUC: 0.6393380952380955,ACC:0.6402547619047619,F1:0.542847619047619,Precision:0.7225214285714285,Recall:0.45433333333333326\n",
      "Epoch 345,loss:0.6580296834622781\n",
      "Validation Loss: 0.6616116762161255,AUC: 0.6397952380952384,ACC:0.6406261904761905,F1:0.545809523809524,Precision:0.7192690476190476,Recall:0.4606690476190476\n",
      "Epoch 350,loss:0.6579128194043017\n",
      "Validation Loss: 0.6615753315743946,AUC: 0.639909523809524,ACC:0.6400690476190477,F1:0.5383690476190477,Precision:0.7268333333333332,Recall:0.4452690476190475\n",
      "Epoch 355,loss:0.6577896771468515\n",
      "Validation Loss: 0.6615323651404608,AUC: 0.6405619047619047,ACC:0.6398785714285714,F1:0.5380190476190476,Precision:0.7273833333333333,Recall:0.4443023809523809\n",
      "Epoch 360,loss:0.657673737664861\n",
      "Validation Loss: 0.6615155396007356,AUC: 0.6410357142857144,ACC:0.6393190476190475,F1:0.5379214285714286,Precision:0.724747619047619,Recall:0.44549285714285713\n",
      "Epoch 365,loss:0.6575591991266866\n",
      "Validation Loss: 0.6614786116849809,AUC: 0.6419547619047619,ACC:0.6395023809523808,F1:0.538802380952381,Precision:0.7239857142857141,Recall:0.44685952380952376\n",
      "Epoch 370,loss:0.6574478280825877\n",
      "Validation Loss: 0.6614724269935063,AUC: 0.6418166666666666,ACC:0.6395023809523809,F1:0.5384119047619049,Precision:0.7241095238095238,Recall:0.446345238095238\n",
      "Epoch 375,loss:0.6573523024874409\n",
      "Validation Loss: 0.6615626414616903,AUC: 0.641952380952381,ACC:0.6395023809523809,F1:0.5395809523809524,Precision:0.7220714285714285,Recall:0.4477380952380952\n",
      "早停策略触发，停止训练在第 374 个epoch.\n",
      "模型训练完成\n",
      "||--------训练结束时间： 2024-03-19 10:20:54.999456 -------------\n",
      "||--测试：---------- 1 个batch运行时间： 2024-03-19 10:20:55.013308 -------------\n",
      "||--测试：---------- 2 个batch运行时间： 2024-03-19 10:20:55.026273 -------------\n",
      "||--测试：---------- 3 个batch运行时间： 2024-03-19 10:20:55.039641 -------------\n",
      "||--测试：---------- 4 个batch运行时间： 2024-03-19 10:20:55.053428 -------------\n",
      "||--测试：---------- 5 个batch运行时间： 2024-03-19 10:20:55.066277 -------------\n",
      "||--测试：---------- 6 个batch运行时间： 2024-03-19 10:20:55.079505 -------------\n",
      "||--测试：---------- 7 个batch运行时间： 2024-03-19 10:20:55.092981 -------------\n",
      "||--测试：---------- 8 个batch运行时间： 2024-03-19 10:20:55.107039 -------------\n",
      "||--测试：---------- 9 个batch运行时间： 2024-03-19 10:20:55.119835 -------------\n",
      "||--测试：---------- 10 个batch运行时间： 2024-03-19 10:20:55.132637 -------------\n",
      "||--测试：---------- 11 个batch运行时间： 2024-03-19 10:20:55.145493 -------------\n",
      "||--测试：---------- 12 个batch运行时间： 2024-03-19 10:20:55.159517 -------------\n",
      "||--测试：---------- 13 个batch运行时间： 2024-03-19 10:20:55.172615 -------------\n",
      "||--测试：---------- 14 个batch运行时间： 2024-03-19 10:20:55.185454 -------------\n",
      "||--测试：---------- 15 个batch运行时间： 2024-03-19 10:20:55.198777 -------------\n",
      "||--测试：---------- 16 个batch运行时间： 2024-03-19 10:20:55.213266 -------------\n",
      "||--测试：---------- 17 个batch运行时间： 2024-03-19 10:20:55.226237 -------------\n",
      "||--测试：---------- 18 个batch运行时间： 2024-03-19 10:20:55.239086 -------------\n",
      "||--测试：---------- 19 个batch运行时间： 2024-03-19 10:20:55.252304 -------------\n",
      "||--测试：---------- 20 个batch运行时间： 2024-03-19 10:20:55.266301 -------------\n",
      "||--测试：---------- 21 个batch运行时间： 2024-03-19 10:20:55.279256 -------------\n",
      "||--测试：---------- 22 个batch运行时间： 2024-03-19 10:20:55.292087 -------------\n",
      "||--测试：---------- 23 个batch运行时间： 2024-03-19 10:20:55.304893 -------------\n",
      "||--测试：---------- 24 个batch运行时间： 2024-03-19 10:20:55.318600 -------------\n",
      "||--测试：---------- 25 个batch运行时间： 2024-03-19 10:20:55.332343 -------------\n",
      "||--测试：---------- 26 个batch运行时间： 2024-03-19 10:20:55.346330 -------------\n",
      "||--测试：---------- 27 个batch运行时间： 2024-03-19 10:20:55.359320 -------------\n",
      "||--测试：---------- 28 个batch运行时间： 2024-03-19 10:20:55.372672 -------------\n",
      "||--测试：---------- 29 个batch运行时间： 2024-03-19 10:20:55.385456 -------------\n",
      "||--测试：---------- 30 个batch运行时间： 2024-03-19 10:20:55.398285 -------------\n",
      "||--测试：---------- 31 个batch运行时间： 2024-03-19 10:20:55.411562 -------------\n",
      "||--测试：---------- 32 个batch运行时间： 2024-03-19 10:20:55.425375 -------------\n",
      "||--测试：---------- 33 个batch运行时间： 2024-03-19 10:20:55.438349 -------------\n",
      "||--测试：---------- 34 个batch运行时间： 2024-03-19 10:20:55.451253 -------------\n",
      "||--测试：---------- 35 个batch运行时间： 2024-03-19 10:20:55.464298 -------------\n",
      "||--测试：---------- 36 个batch运行时间： 2024-03-19 10:20:55.477047 -------------\n",
      "||--测试：---------- 37 个batch运行时间： 2024-03-19 10:20:55.489857 -------------\n",
      "||--测试：---------- 38 个batch运行时间： 2024-03-19 10:20:55.502833 -------------\n",
      "||--测试：---------- 39 个batch运行时间： 2024-03-19 10:20:55.515664 -------------\n",
      "||--测试：---------- 40 个batch运行时间： 2024-03-19 10:20:55.528465 -------------\n",
      "||--测试：---------- 41 个batch运行时间： 2024-03-19 10:20:55.541230 -------------\n",
      "||--测试：---------- 42 个batch运行时间： 2024-03-19 10:20:55.553996 -------------\n",
      "Test Loss: 0.6605016049884614,AUC: 0.6394738095238097,ACC:0.6441619047619048,F1:0.5432476190476193,Precision:0.7391428571428571,Recall:0.4501880952380953\n",
      "i=:4\n",
      "划分文件已存在，不再进行数据划分\n",
      "数据预处理结束\n",
      "数据划分完成\n",
      "张量生成完成\n",
      "模型搭建完成\n",
      "模型转移到GPU完成\n",
      "Epoch 5,loss:0.6836036523496072\n",
      "Validation Loss: 0.6800318927991957,AUC: 0.61365,ACC:0.6218357142857143,F1:0.563457142857143,Precision:0.6499047619047618,Recall:0.5268642857142856\n",
      "Epoch 10,loss:0.6823752592867753\n",
      "Validation Loss: 0.6789108358678364,AUC: 0.6159119047619048,ACC:0.6196119047619049,F1:0.5579666666666666,Precision:0.6480190476190475,Recall:0.5204357142857143\n"
     ]
    },
    {
     "name": "stdout",
     "output_type": "stream",
     "text": [
      "Epoch 15,loss:0.6815075503559563\n",
      "Validation Loss: 0.6781545579433441,AUC: 0.6167095238095238,ACC:0.6220309523809524,F1:0.5535619047619047,Precision:0.6611785714285714,Recall:0.5093619047619048\n",
      "Epoch 20,loss:0.6806026363935996\n",
      "Validation Loss: 0.6773777604103088,AUC: 0.6177071428571426,ACC:0.6237,F1:0.5313428571428572,Precision:0.6865476190476189,Recall:0.4731523809523808\n",
      "Epoch 25,loss:0.6796921806072626\n",
      "Validation Loss: 0.676579285235632,AUC: 0.6191547619047619,ACC:0.6196071428571428,F1:0.5473404761904762,Precision:0.6685142857142855,Recall:0.5039595238095238\n",
      "Epoch 30,loss:0.6787248422780375\n",
      "Validation Loss: 0.6757418115933737,AUC: 0.6203285714285715,ACC:0.6212785714285713,F1:0.5420238095238095,Precision:0.6734833333333334,Recall:0.48955\n",
      "Epoch 35,loss:0.677707462798892\n",
      "Validation Loss: 0.6748724083105723,AUC: 0.6217071428571428,ACC:0.6235095238095237,F1:0.5516547619047619,Precision:0.6696452380952381,Recall:0.5040238095238095\n",
      "Epoch 40,loss:0.676723912475616\n",
      "Validation Loss: 0.6740507824080331,AUC: 0.6227523809523807,ACC:0.6238833333333333,F1:0.5522357142857144,Precision:0.6723404761904762,Recall:0.5009714285714286\n",
      "Epoch 45,loss:0.6757847033147737\n",
      "Validation Loss: 0.6732724266392844,AUC: 0.62355,ACC:0.6242571428571428,F1:0.5520404761904761,Precision:0.6758761904761904,Recall:0.5009238095238094\n",
      "Epoch 50,loss:0.6749052414743919\n",
      "Validation Loss: 0.6725406774452755,AUC: 0.6241214285714289,ACC:0.6248142857142857,F1:0.5525142857142856,Precision:0.6793833333333336,Recall:0.5006\n",
      "Epoch 55,loss:0.6740970677278173\n",
      "Validation Loss: 0.671898657367343,AUC: 0.6243880952380952,ACC:0.6255595238095236,F1:0.5511666666666666,Precision:0.6827547619047619,Recall:0.4960142857142857\n",
      "Epoch 60,loss:0.6733659618482815\n",
      "Validation Loss: 0.6713319676262992,AUC: 0.6257595238095239,ACC:0.6259333333333332,F1:0.5476452380952381,Precision:0.6866214285714285,Recall:0.4889904761904762\n",
      "Epoch 65,loss:0.6727163594538771\n",
      "Validation Loss: 0.6708210068089622,AUC: 0.6261857142857143,ACC:0.6259333333333332,F1:0.5488309523809525,Precision:0.6852071428571429,Recall:0.4890666666666667\n",
      "Epoch 70,loss:0.6721195128020339\n",
      "Validation Loss: 0.6703623405524662,AUC: 0.6267809523809523,ACC:0.6292809523809523,F1:0.5354428571428573,Precision:0.7091880952380952,Recall:0.4676166666666668\n",
      "Epoch 75,loss:0.6715647108911529\n",
      "Validation Loss: 0.6699331885292417,AUC: 0.6273333333333332,ACC:0.6287214285714284,F1:0.5341928571428574,Precision:0.7121476190476189,Recall:0.4644333333333334\n",
      "Epoch 80,loss:0.671045507971696\n",
      "Validation Loss: 0.6695207896686736,AUC: 0.6279785714285715,ACC:0.6264904761904762,F1:0.5312285714285716,Precision:0.7081952380952381,Recall:0.46146428571428577\n",
      "Epoch 85,loss:0.6705512596866278\n",
      "Validation Loss: 0.6691303636346545,AUC: 0.6285261904761905,ACC:0.6266761904761904,F1:0.5354452380952381,Precision:0.6987952380952381,Recall:0.4659238095238097\n",
      "Epoch 90,loss:0.6700883146346085\n",
      "Validation Loss: 0.6687692134153276,AUC: 0.6291904761904761,ACC:0.6268595238095238,F1:0.533652380952381,Precision:0.701904761904762,Recall:0.4614190476190478\n",
      "Epoch 95,loss:0.6696287065040408\n",
      "Validation Loss: 0.6684198876221975,AUC: 0.6296,ACC:0.6274214285714286,F1:0.5307595238095238,Precision:0.7036833333333335,Recall:0.45395952380952387\n",
      "Epoch 100,loss:0.669203349455135\n",
      "Validation Loss: 0.6681038098675864,AUC: 0.6296357142857144,ACC:0.6290976190476192,F1:0.5296214285714286,Precision:0.7088380952380954,Recall:0.44988333333333325\n",
      "Epoch 105,loss:0.6688080350245078\n",
      "Validation Loss: 0.667791961204438,AUC: 0.6294500000000001,ACC:0.6285404761904763,F1:0.5242761904761905,Precision:0.7122690476190476,Recall:0.4416190476190477\n",
      "Epoch 110,loss:0.6684296595768666\n",
      "Validation Loss: 0.6675079791318803,AUC: 0.6293142857142859,ACC:0.6311452380952381,F1:0.5262690476190475,Precision:0.7191309523809524,Recall:0.4400547619047619\n",
      "Epoch 115,loss:0.6680674027270219\n",
      "Validation Loss: 0.6672641322726295,AUC: 0.6298,ACC:0.6302119047619047,F1:0.5244142857142856,Precision:0.7189238095238095,Recall:0.4380690476190476\n",
      "Epoch 120,loss:0.6677326090692535\n",
      "Validation Loss: 0.6670356563159398,AUC: 0.6300809523809522,ACC:0.6298380952380952,F1:0.5263428571428571,Precision:0.7140880952380954,Recall:0.4396999999999999\n",
      "Epoch 125,loss:0.6674180659722155\n",
      "Validation Loss: 0.666826700880414,AUC: 0.6302190476190476,ACC:0.6307690476190476,F1:0.5250119047619047,Precision:0.7188809523809525,Recall:0.43645238095238087\n",
      "Epoch 130,loss:0.6671106073800035\n",
      "Validation Loss: 0.6666137817360106,AUC: 0.6300809523809524,ACC:0.6307690476190476,F1:0.523747619047619,Precision:0.7204166666666667,Recall:0.4348571428571428\n",
      "Epoch 135,loss:0.6668203557570149\n",
      "Validation Loss: 0.6664339332353502,AUC: 0.6301428571428571,ACC:0.6311404761904763,F1:0.5308261904761905,Precision:0.714007142857143,Recall:0.44606190476190466\n",
      "Epoch 140,loss:0.6665467770080867\n",
      "Validation Loss: 0.6662435730298361,AUC: 0.6303380952380953,ACC:0.6307690476190476,F1:0.5224023809523809,Precision:0.7200380952380951,Recall:0.4352404761904761\n",
      "Epoch 145,loss:0.6662892089115353\n",
      "Validation Loss: 0.6660850715069544,AUC: 0.630792857142857,ACC:0.6298357142857144,F1:0.5184166666666667,Precision:0.7228309523809524,Recall:0.4293738095238095\n",
      "Epoch 150,loss:0.6660427009965492\n",
      "Validation Loss: 0.6658980590956551,AUC: 0.6308190476190477,ACC:0.6316976190476191,F1:0.5174428571428573,Precision:0.7281190476190477,Recall:0.4253523809523809\n",
      "Epoch 155,loss:0.665808804391876\n",
      "Validation Loss: 0.6657714815366835,AUC: 0.6309714285714285,ACC:0.6316928571428571,F1:0.5267261904761906,Precision:0.71775,Recall:0.43439523809523806\n",
      "Epoch 160,loss:0.665583918413778\n",
      "Validation Loss: 0.6656417222250075,AUC: 0.6312214285714285,ACC:0.6324357142857142,F1:0.5334238095238096,Precision:0.7131642857142858,Recall:0.44463333333333327\n",
      "Epoch 165,loss:0.6653740837818055\n",
      "Validation Loss: 0.6655074854691824,AUC: 0.6312761904761903,ACC:0.630952380952381,F1:0.5245547619047619,Precision:0.7168357142857142,Recall:0.43125714285714295\n",
      "Epoch 170,loss:0.6651661264614797\n",
      "Validation Loss: 0.6653644144535065,AUC: 0.6314,ACC:0.6318809523809525,F1:0.5285690476190475,Precision:0.7172904761904763,Recall:0.4360619047619047\n",
      "Epoch 175,loss:0.664970534992969\n",
      "Validation Loss: 0.6652784815856388,AUC: 0.6309714285714287,ACC:0.6315142857142859,F1:0.5297642857142856,Precision:0.7149357142857146,Recall:0.44009047619047625\n",
      "Epoch 180,loss:0.6647882165871267\n",
      "Validation Loss: 0.6651687565303984,AUC: 0.6306309523809526,ACC:0.6320666666666668,F1:0.528178571428571,Precision:0.7179333333333334,Recall:0.4360571428571428\n",
      "Epoch 185,loss:0.6646122650837335\n",
      "Validation Loss: 0.6650649522032056,AUC: 0.6305952380952379,ACC:0.6318785714285714,F1:0.5250071428571427,Precision:0.7203666666666668,Recall:0.43115952380952394\n",
      "Epoch 190,loss:0.6644399992124302\n",
      "Validation Loss: 0.6649700687045142,AUC: 0.630697619047619,ACC:0.6303904761904762,F1:0.5241738095238093,Precision:0.717997619047619,Recall:0.4304285714285716\n",
      "Epoch 195,loss:0.6642746005471297\n",
      "Validation Loss: 0.6648718445073991,AUC: 0.631202380952381,ACC:0.6318809523809522,F1:0.5311714285714284,Precision:0.7170928571428571,Recall:0.44042142857142863\n",
      "Epoch 200,loss:0.6641191549188509\n",
      "Validation Loss: 0.6647804634911674,AUC: 0.6308333333333332,ACC:0.6322547619047618,F1:0.5296476190476189,Precision:0.7171666666666667,Recall:0.4377285714285716\n",
      "Epoch 205,loss:0.663978551316449\n",
      "Validation Loss: 0.664701793875013,AUC: 0.6310928571428571,ACC:0.6315095238095239,F1:0.5279999999999999,Precision:0.7155619047619048,Recall:0.4368142857142859\n",
      "Epoch 210,loss:0.6638412348867402\n",
      "Validation Loss: 0.6646174249194917,AUC: 0.6310952380952382,ACC:0.6316952380952381,F1:0.5279166666666666,Precision:0.7163666666666668,Recall:0.43700000000000006\n",
      "Epoch 215,loss:0.663717078411673\n",
      "Validation Loss: 0.6645168832370213,AUC: 0.6307071428571429,ACC:0.6320714285714286,F1:0.5271261904761906,Precision:0.7172690476190476,Recall:0.43482857142857145\n",
      "Epoch 220,loss:0.663589097852782\n",
      "Validation Loss: 0.6644577469144549,AUC: 0.6305428571428571,ACC:0.6322571428571429,F1:0.5280452380952381,Precision:0.7161499999999998,Recall:0.4363904761904762\n",
      "Epoch 225,loss:0.6634664108434062\n",
      "Validation Loss: 0.6644005676110586,AUC: 0.6302142857142857,ACC:0.6318833333333334,F1:0.5249333333333334,Precision:0.718402380952381,Recall:0.4319928571428573\n"
     ]
    },
    {
     "name": "stdout",
     "output_type": "stream",
     "text": [
      "Epoch 230,loss:0.6633489061528304\n",
      "Validation Loss: 0.6643329376266116,AUC: 0.6307190476190477,ACC:0.6320690476190476,F1:0.5259404761904762,Precision:0.7176404761904761,Recall:0.43373095238095255\n",
      "Epoch 235,loss:0.6632409325734837\n",
      "Validation Loss: 0.6642656255336035,AUC: 0.6307285714285715,ACC:0.6318833333333334,F1:0.5256619047619048,Precision:0.7174833333333334,Recall:0.4333595238095239\n",
      "Epoch 240,loss:0.6631300496304129\n",
      "Validation Loss: 0.6642143925031027,AUC: 0.6309071428571427,ACC:0.6313261904761905,F1:0.5267904761904761,Precision:0.7159000000000001,Recall:0.4336333333333335\n",
      "Epoch 245,loss:0.6630162563849622\n",
      "Validation Loss: 0.6641571833973839,AUC: 0.6313285714285712,ACC:0.6292809523809525,F1:0.5309523809523808,Precision:0.7033190476190477,Recall:0.4427285714285715\n",
      "Epoch 250,loss:0.662909496487595\n",
      "Validation Loss: 0.6640842102822804,AUC: 0.6315785714285715,ACC:0.6305833333333334,F1:0.5291904761904762,Precision:0.70875,Recall:0.4385333333333334\n",
      "Epoch 255,loss:0.6628010343378923\n",
      "Validation Loss: 0.6640157202879587,AUC: 0.6320261904761906,ACC:0.6318857142857143,F1:0.5306071428571429,Precision:0.7106095238095238,Recall:0.43914523809523814\n",
      "Epoch 260,loss:0.6626999110687436\n",
      "Validation Loss: 0.6639715433120728,AUC: 0.6321190476190475,ACC:0.6320714285714286,F1:0.5311976190476192,Precision:0.7101452380952379,Recall:0.4401880952380953\n",
      "Epoch 265,loss:0.6625955147067393\n",
      "Validation Loss: 0.6639125985758645,AUC: 0.6321809523809525,ACC:0.6313285714285714,F1:0.5299666666666667,Precision:0.7097380952380952,Recall:0.440107142857143\n",
      "Epoch 270,loss:0.6624943017959595\n",
      "Validation Loss: 0.663882695493244,AUC: 0.6327357142857143,ACC:0.6311404761904762,F1:0.5314619047619049,Precision:0.7075357142857142,Recall:0.44323095238095245\n",
      "Epoch 275,loss:0.6623853581158194\n",
      "Validation Loss: 0.6638343802520207,AUC: 0.6329380952380952,ACC:0.6311380952380953,F1:0.5339476190476191,Precision:0.7059404761904762,Recall:0.44684047619047634\n",
      "Epoch 280,loss:0.6622864458504625\n",
      "Validation Loss: 0.663780845346905,AUC: 0.6333309523809524,ACC:0.6313214285714286,F1:0.5362880952380953,Precision:0.7047095238095237,Recall:0.44962619047619057\n",
      "Epoch 285,loss:0.6621890870604928\n",
      "Validation Loss: 0.6637272167773474,AUC: 0.6329285714285715,ACC:0.630395238095238,F1:0.5352619047619048,Precision:0.7038595238095235,Recall:0.44813095238095246\n",
      "Epoch 290,loss:0.6620892478725103\n",
      "Validation Loss: 0.6636856652441478,AUC: 0.633257142857143,ACC:0.6320666666666666,F1:0.5358595238095238,Precision:0.7070238095238095,Recall:0.4476761904761905\n",
      "Epoch 295,loss:0.6619886314775062\n",
      "Validation Loss: 0.6636414584659395,AUC: 0.6337333333333335,ACC:0.6324380952380951,F1:0.5277833333333334,Precision:0.7166214285714287,Recall:0.43530714285714306\n",
      "Epoch 300,loss:0.6619151168920863\n",
      "Validation Loss: 0.6636164784431458,AUC: 0.6335452380952381,ACC:0.6316952380952381,F1:0.5266452380952382,Precision:0.7155952380952382,Recall:0.4338619047619049\n",
      "Epoch 305,loss:0.6617946338465833\n",
      "Validation Loss: 0.6635711604640597,AUC: 0.633502380952381,ACC:0.6318809523809523,F1:0.5257119047619049,Precision:0.7174380952380955,Recall:0.43191666666666684\n",
      "Epoch 310,loss:0.661720924959408\n",
      "Validation Loss: 0.6635452707608541,AUC: 0.6337190476190476,ACC:0.6328119047619047,F1:0.5276166666666668,Precision:0.7186738095238097,Recall:0.4347523809523811\n",
      "Epoch 315,loss:0.6616362995050085\n",
      "Validation Loss: 0.6635139641307649,AUC: 0.6338357142857141,ACC:0.6322547619047619,F1:0.5307809523809526,Precision:0.713707142857143,Recall:0.4399785714285715\n",
      "Epoch 320,loss:0.6615519866229981\n",
      "Validation Loss: 0.6634876359076727,AUC: 0.634297619047619,ACC:0.6324404761904762,F1:0.5296404761904764,Precision:0.7166285714285715,Recall:0.4384095238095239\n",
      "Epoch 325,loss:0.6614733906242791\n",
      "Validation Loss: 0.6634556253751119,AUC: 0.6349333333333332,ACC:0.6318809523809523,F1:0.5252809523809526,Precision:0.7185476190476192,Recall:0.4322690476190478\n",
      "Epoch 330,loss:0.661392825325643\n",
      "Validation Loss: 0.6634316643079122,AUC: 0.635102380952381,ACC:0.6320666666666666,F1:0.5250547619047621,Precision:0.719952380952381,Recall:0.4316309523809526\n",
      "Epoch 335,loss:0.6613221985148633\n",
      "Validation Loss: 0.6634122062297094,AUC: 0.6353904761904763,ACC:0.632997619047619,F1:0.5295214285714287,Precision:0.7187690476190477,Recall:0.43766428571428584\n",
      "Epoch 340,loss:0.6612385689742922\n",
      "Validation Loss: 0.6633875824156261,AUC: 0.6356071428571427,ACC:0.6322523809523809,F1:0.529554761904762,Precision:0.7162619047619048,Recall:0.43791428571428587\n",
      "Epoch 345,loss:0.6611582172198558\n",
      "Validation Loss: 0.6633408679848626,AUC: 0.635804761904762,ACC:0.6322523809523809,F1:0.5294952380952382,Precision:0.716357142857143,Recall:0.43791428571428576\n",
      "Epoch 350,loss:0.6610760242920223\n",
      "Validation Loss: 0.6633051605451674,AUC: 0.6361523809523808,ACC:0.6320642857142855,F1:0.5278761904761906,Precision:0.7187547619047618,Recall:0.4350333333333335\n",
      "Epoch 355,loss:0.6609900969219958\n",
      "Validation Loss: 0.6632537557965233,AUC: 0.6370261904761905,ACC:0.6324357142857141,F1:0.5297380952380953,Precision:0.7182476190476192,Recall:0.43848571428571437\n",
      "Epoch 360,loss:0.6608990534084049\n",
      "Validation Loss: 0.6632303652309236,AUC: 0.6375928571428573,ACC:0.6331785714285714,F1:0.527916666666667,Precision:0.7210880952380953,Recall:0.43428095238095255\n",
      "Epoch 365,loss:0.6607921414487944\n",
      "Validation Loss: 0.6631717681884766,AUC: 0.6374380952380951,ACC:0.6341119047619047,F1:0.526214285714286,Precision:0.7247380952380953,Recall:0.4314261904761905\n",
      "Epoch 370,loss:0.6606895144530168\n",
      "Validation Loss: 0.6631564469564528,AUC: 0.6379690476190477,ACC:0.6341119047619047,F1:0.5327857142857145,Precision:0.7168452380952381,Recall:0.4419166666666667\n",
      "Epoch 375,loss:0.6605877571218596\n",
      "Validation Loss: 0.663130787156877,AUC: 0.6382523809523809,ACC:0.635045238095238,F1:0.5368595238095241,Precision:0.7149285714285715,Recall:0.4462857142857143\n",
      "Epoch 380,loss:0.6604869445477883\n",
      "Validation Loss: 0.6630876305557433,AUC: 0.6382476190476192,ACC:0.6352309523809523,F1:0.5415761904761907,Precision:0.7114880952380952,Recall:0.4533119047619048\n",
      "Epoch 385,loss:0.6603854598961477\n",
      "Validation Loss: 0.6630586882432302,AUC: 0.6386214285714287,ACC:0.6341142857142856,F1:0.5432785714285716,Precision:0.7096404761904762,Recall:0.45865\n",
      "Epoch 390,loss:0.6602806064087575\n",
      "Validation Loss: 0.6630169139021919,AUC: 0.6390238095238094,ACC:0.6365285714285713,F1:0.5425761904761907,Precision:0.7162119047619049,Recall:0.4536666666666668\n",
      "Epoch 395,loss:0.6601863024741645\n",
      "Validation Loss: 0.6629707742305029,AUC: 0.639607142857143,ACC:0.6372761904761903,F1:0.5513261904761906,Precision:0.71015,Recall:0.4674500000000001\n",
      "Epoch 400,loss:0.6600811983656696\n",
      "Validation Loss: 0.6629216997396379,AUC: 0.6397,ACC:0.637092857142857,F1:0.5531238095238097,Precision:0.7063023809523811,Recall:0.47139285714285717\n",
      "Epoch 405,loss:0.6599779171267832\n",
      "Validation Loss: 0.6628595235801878,AUC: 0.6395976190476192,ACC:0.6372761904761904,F1:0.55305,Precision:0.7061904761904761,Recall:0.4719857142857143\n",
      "Epoch 410,loss:0.6598821380945641\n",
      "Validation Loss: 0.6628052762576512,AUC: 0.6399047619047621,ACC:0.6374642857142858,F1:0.5526452380952381,Precision:0.7065904761904762,Recall:0.470797619047619\n",
      "Epoch 415,loss:0.6597898959174869\n",
      "Validation Loss: 0.6627541340532757,AUC: 0.6401809523809526,ACC:0.6378357142857143,F1:0.548995238095238,Precision:0.7118833333333333,Recall:0.46450238095238106\n",
      "Epoch 420,loss:0.659697827861065\n",
      "Validation Loss: 0.6626955682323092,AUC: 0.6407880952380952,ACC:0.6369023809523808,F1:0.5427761904761904,Precision:0.7144952380952381,Recall:0.4550952380952382\n",
      "Epoch 425,loss:0.6596070011769692\n",
      "Validation Loss: 0.6626671992597126,AUC: 0.6417809523809523,ACC:0.6374642857142857,F1:0.5475452380952381,Precision:0.7123095238095237,Recall:0.4616738095238096\n",
      "Epoch 430,loss:0.6595214173549743\n",
      "Validation Loss: 0.6625870494615465,AUC: 0.6419952380952382,ACC:0.6374619047619047,F1:0.544447619047619,Precision:0.7144571428571428,Recall:0.45730000000000015\n",
      "Epoch 435,loss:0.6594351351730466\n",
      "Validation Loss: 0.6625539447580066,AUC: 0.6422642857142857,ACC:0.6370904761904761,F1:0.5429833333333333,Precision:0.7163833333333331,Recall:0.4550476190476191\n",
      "Epoch 440,loss:0.6593378547608383\n",
      "Validation Loss: 0.6625234044733501,AUC: 0.6419023809523811,ACC:0.637647619047619,F1:0.5378119047619049,Precision:0.7229452380952379,Recall:0.4466261904761906\n"
     ]
    },
    {
     "name": "stdout",
     "output_type": "stream",
     "text": [
      "Epoch 445,loss:0.6592517495155334\n",
      "Validation Loss: 0.6624776763575417,AUC: 0.641590476190476,ACC:0.6380190476190476,F1:0.538702380952381,Precision:0.7231714285714285,Recall:0.44776666666666676\n",
      "Epoch 450,loss:0.6591782710683627\n",
      "Validation Loss: 0.6624425266470227,AUC: 0.6420119047619047,ACC:0.6383904761904761,F1:0.5399357142857143,Precision:0.7226380952380952,Recall:0.45000476190476196\n",
      "Epoch 455,loss:0.6590946222853473\n",
      "Validation Loss: 0.6623964423225039,AUC: 0.642057142857143,ACC:0.6369047619047619,F1:0.5447714285714286,Precision:0.7131428571428571,Recall:0.4587071428571429\n",
      "Epoch 460,loss:0.6590145202133599\n",
      "Validation Loss: 0.6623564007736388,AUC: 0.6423785714285714,ACC:0.6376476190476189,F1:0.5441642857142858,Precision:0.7162380952380951,Recall:0.45631904761904774\n",
      "Epoch 465,loss:0.6589406902395835\n",
      "Validation Loss: 0.6623199227310362,AUC: 0.643059523809524,ACC:0.6385809523809522,F1:0.5473904761904762,Precision:0.7170404761904761,Recall:0.4612452380952381\n",
      "Epoch 470,loss:0.6588669527234055\n",
      "Validation Loss: 0.6622806716532934,AUC: 0.6432880952380953,ACC:0.6382071428571428,F1:0.5462595238095238,Precision:0.7165547619047618,Recall:0.4592095238095238\n",
      "Epoch 475,loss:0.658794519469494\n",
      "Validation Loss: 0.6622438118571327,AUC: 0.6435976190476191,ACC:0.6382047619047618,F1:0.5422166666666668,Precision:0.7216547619047617,Recall:0.45148571428571416\n",
      "Epoch 480,loss:0.6587203482943257\n",
      "Validation Loss: 0.6622185593559629,AUC: 0.6440666666666666,ACC:0.6382047619047618,F1:0.5425690476190477,Precision:0.7213499999999998,Recall:0.45225952380952383\n",
      "Epoch 485,loss:0.6586573288196654\n",
      "Validation Loss: 0.6621777798448291,AUC: 0.6443380952380952,ACC:0.6389499999999999,F1:0.5421452380952382,Precision:0.7244261904761905,Recall:0.4502142857142857\n",
      "Epoch 490,loss:0.6585925165123827\n",
      "Validation Loss: 0.6621445147764116,AUC: 0.6443452380952379,ACC:0.6378309523809522,F1:0.5365380952380953,Precision:0.7271261904761905,Recall:0.44240714285714283\n",
      "Epoch 495,loss:0.658535600177885\n",
      "Validation Loss: 0.6621073768252418,AUC: 0.644345238095238,ACC:0.6382047619047617,F1:0.5371,Precision:0.7266738095238096,Recall:0.4430714285714288\n",
      "Epoch 500,loss:0.658469117063237\n",
      "Validation Loss: 0.6620718978700184,AUC: 0.6446166666666667,ACC:0.6378333333333333,F1:0.5398476190476191,Precision:0.7219738095238096,Recall:0.4479000000000003\n",
      "模型训练完成\n",
      "||--------训练结束时间： 2024-03-19 11:42:27.474589 -------------\n",
      "||--测试：---------- 1 个batch运行时间： 2024-03-19 11:42:27.487655 -------------\n",
      "||--测试：---------- 2 个batch运行时间： 2024-03-19 11:42:27.500752 -------------\n",
      "||--测试：---------- 3 个batch运行时间： 2024-03-19 11:42:27.513121 -------------\n",
      "||--测试：---------- 4 个batch运行时间： 2024-03-19 11:42:27.525627 -------------\n",
      "||--测试：---------- 5 个batch运行时间： 2024-03-19 11:42:27.538034 -------------\n",
      "||--测试：---------- 6 个batch运行时间： 2024-03-19 11:42:27.550555 -------------\n",
      "||--测试：---------- 7 个batch运行时间： 2024-03-19 11:42:27.562967 -------------\n",
      "||--测试：---------- 8 个batch运行时间： 2024-03-19 11:42:27.575323 -------------\n",
      "||--测试：---------- 9 个batch运行时间： 2024-03-19 11:42:27.587684 -------------\n",
      "||--测试：---------- 10 个batch运行时间： 2024-03-19 11:42:27.600089 -------------\n",
      "||--测试：---------- 11 个batch运行时间： 2024-03-19 11:42:27.612531 -------------\n",
      "||--测试：---------- 12 个batch运行时间： 2024-03-19 11:42:27.625023 -------------\n",
      "||--测试：---------- 13 个batch运行时间： 2024-03-19 11:42:27.637378 -------------\n",
      "||--测试：---------- 14 个batch运行时间： 2024-03-19 11:42:27.649762 -------------\n",
      "||--测试：---------- 15 个batch运行时间： 2024-03-19 11:42:27.662144 -------------\n",
      "||--测试：---------- 16 个batch运行时间： 2024-03-19 11:42:27.674505 -------------\n",
      "||--测试：---------- 17 个batch运行时间： 2024-03-19 11:42:27.687235 -------------\n",
      "||--测试：---------- 18 个batch运行时间： 2024-03-19 11:42:27.700017 -------------\n",
      "||--测试：---------- 19 个batch运行时间： 2024-03-19 11:42:27.712611 -------------\n",
      "||--测试：---------- 20 个batch运行时间： 2024-03-19 11:42:27.725032 -------------\n",
      "||--测试：---------- 21 个batch运行时间： 2024-03-19 11:42:27.737374 -------------\n",
      "||--测试：---------- 22 个batch运行时间： 2024-03-19 11:42:27.749680 -------------\n",
      "||--测试：---------- 23 个batch运行时间： 2024-03-19 11:42:27.762281 -------------\n",
      "||--测试：---------- 24 个batch运行时间： 2024-03-19 11:42:27.774601 -------------\n",
      "||--测试：---------- 25 个batch运行时间： 2024-03-19 11:42:27.786981 -------------\n",
      "||--测试：---------- 26 个batch运行时间： 2024-03-19 11:42:27.799623 -------------\n",
      "||--测试：---------- 27 个batch运行时间： 2024-03-19 11:42:27.811997 -------------\n",
      "||--测试：---------- 28 个batch运行时间： 2024-03-19 11:42:27.824449 -------------\n",
      "||--测试：---------- 29 个batch运行时间： 2024-03-19 11:42:27.836779 -------------\n",
      "||--测试：---------- 30 个batch运行时间： 2024-03-19 11:42:27.849190 -------------\n",
      "||--测试：---------- 31 个batch运行时间： 2024-03-19 11:42:27.863037 -------------\n",
      "||--测试：---------- 32 个batch运行时间： 2024-03-19 11:42:27.878129 -------------\n",
      "||--测试：---------- 33 个batch运行时间： 2024-03-19 11:42:27.893063 -------------\n",
      "||--测试：---------- 34 个batch运行时间： 2024-03-19 11:42:27.906990 -------------\n",
      "||--测试：---------- 35 个batch运行时间： 2024-03-19 11:42:27.921433 -------------\n",
      "||--测试：---------- 36 个batch运行时间： 2024-03-19 11:42:27.934135 -------------\n",
      "||--测试：---------- 37 个batch运行时间： 2024-03-19 11:42:27.946931 -------------\n",
      "||--测试：---------- 38 个batch运行时间： 2024-03-19 11:42:27.959758 -------------\n",
      "||--测试：---------- 39 个batch运行时间： 2024-03-19 11:42:27.972431 -------------\n",
      "||--测试：---------- 40 个batch运行时间： 2024-03-19 11:42:27.985054 -------------\n",
      "||--测试：---------- 41 个batch运行时间： 2024-03-19 11:42:27.997671 -------------\n",
      "||--测试：---------- 42 个batch运行时间： 2024-03-19 11:42:28.010300 -------------\n",
      "Test Loss: 0.6609988709290823,AUC: 0.6379261904761906,ACC:0.6398761904761905,F1:0.5366571428571427,Precision:0.7366547619047618,Recall:0.43683095238095243\n",
      "i=:5\n",
      "划分文件已存在，不再进行数据划分\n",
      "数据预处理结束\n",
      "数据划分完成\n",
      "张量生成完成\n",
      "模型搭建完成\n",
      "模型转移到GPU完成\n",
      "Epoch 5,loss:0.6824727316540996\n",
      "Validation Loss: 0.6790651182333628,AUC: 0.6155666666666667,ACC:0.6196023809523811,F1:0.5458690476190475,Precision:0.6609309523809523,Recall:0.4978690476190476\n",
      "Epoch 10,loss:0.6809626404694685\n",
      "Validation Loss: 0.6777342330841791,AUC: 0.6174071428571429,ACC:0.6181190476190478,F1:0.5376738095238095,Precision:0.6669309523809525,Recall:0.48783809523809535\n",
      "Epoch 15,loss:0.6798852287878202\n",
      "Validation Loss: 0.6768265465895335,AUC: 0.6187595238095237,ACC:0.6188619047619047,F1:0.5379309523809525,Precision:0.667802380952381,Recall:0.48518809523809525\n",
      "Epoch 20,loss:0.6789183339734716\n",
      "Validation Loss: 0.6760590005488623,AUC: 0.619459523809524,ACC:0.6197928571428571,F1:0.5395190476190477,Precision:0.673042857142857,Recall:0.4865404761904761\n",
      "Epoch 25,loss:0.6779706027564101\n",
      "Validation Loss: 0.6752606545175824,AUC: 0.6214261904761905,ACC:0.6225833333333334,F1:0.5438880952380952,Precision:0.6753404761904761,Recall:0.48886666666666645\n",
      "Epoch 30,loss:0.6770001978386105\n",
      "Validation Loss: 0.6743730718181247,AUC: 0.6212309523809525,ACC:0.6231357142857142,F1:0.5485785714285714,Precision:0.6732047619047619,Recall:0.49789285714285714\n",
      "Epoch 35,loss:0.6760724186897278\n",
      "Validation Loss: 0.6735426159132094,AUC: 0.6237261904761904,ACC:0.6238833333333332,F1:0.5507833333333334,Precision:0.670438095238095,Recall:0.4951333333333334\n",
      "Epoch 40,loss:0.6751647432019391\n",
      "Validation Loss: 0.6728172515119825,AUC: 0.6232666666666666,ACC:0.6251857142857142,F1:0.5432047619047619,Precision:0.6870857142857143,Recall:0.4847238095238095\n",
      "Epoch 45,loss:0.6742821654935521\n",
      "Validation Loss: 0.672141242594946,AUC: 0.6239928571428571,ACC:0.6242571428571428,F1:0.5377119047619048,Precision:0.6873714285714285,Recall:0.47266428571428565\n",
      "Epoch 50,loss:0.6734330945127592\n",
      "Validation Loss: 0.671543958641234,AUC: 0.6233333333333333,ACC:0.6261142857142856,F1:0.5544023809523809,Precision:0.6768285714285713,Recall:0.5003142857142857\n",
      "Epoch 55,loss:0.6727098325106102\n",
      "Validation Loss: 0.6710877673966544,AUC: 0.6233833333333332,ACC:0.6227714285714286,F1:0.5419309523809526,Precision:0.6883119047619046,Recall:0.4769023809523808\n",
      "Epoch 60,loss:0.6719970200944134\n",
      "Validation Loss: 0.6707138461726052,AUC: 0.623945238095238,ACC:0.6220285714285715,F1:0.5364500000000001,Precision:0.686047619047619,Recall:0.4690595238095237\n",
      "Epoch 65,loss:0.6714261652916436\n",
      "Validation Loss: 0.6703419600214277,AUC: 0.6242500000000001,ACC:0.6246333333333334,F1:0.5306761904761904,Precision:0.7015380952380952,Recall:0.45448333333333335\n"
     ]
    },
    {
     "name": "stdout",
     "output_type": "stream",
     "text": [
      "Epoch 70,loss:0.6709181441096809\n",
      "Validation Loss: 0.669923701456615,AUC: 0.6247523809523808,ACC:0.6235142857142859,F1:0.5365809523809523,Precision:0.6935095238095236,Recall:0.4659380952380952\n",
      "Epoch 75,loss:0.6704265986840556\n",
      "Validation Loss: 0.6695349628017062,AUC: 0.6259619047619046,ACC:0.6240738095238096,F1:0.5417880952380952,Precision:0.6875952380952379,Recall:0.4741261904761905\n",
      "Epoch 80,loss:0.6699196391218291\n",
      "Validation Loss: 0.6691566748278481,AUC: 0.6261642857142855,ACC:0.6257476190476191,F1:0.5433642857142859,Precision:0.6821809523809522,Recall:0.472597619047619\n",
      "Epoch 85,loss:0.6694287840775618\n",
      "Validation Loss: 0.6688274656023298,AUC: 0.6270357142857143,ACC:0.6290952380952382,F1:0.5419690476190476,Precision:0.6880619047619045,Recall:0.4642999999999999\n",
      "Epoch 90,loss:0.66891494886143\n",
      "Validation Loss: 0.6684514638923463,AUC: 0.6283642857142857,ACC:0.6294642857142857,F1:0.5464071428571429,Precision:0.6887142857142855,Recall:0.4710261904761905\n",
      "Epoch 95,loss:0.668403345768846\n",
      "Validation Loss: 0.6680637555462974,AUC: 0.6292095238095238,ACC:0.6316952380952381,F1:0.5472261904761905,Precision:0.6954619047619047,Recall:0.4703476190476191\n",
      "Epoch 100,loss:0.6678996583608192\n",
      "Validation Loss: 0.6677699316115606,AUC: 0.6294333333333334,ACC:0.6309523809523808,F1:0.543647619047619,Precision:0.6935785714285715,Recall:0.46773095238095247\n",
      "Epoch 105,loss:0.6674591790972733\n",
      "Validation Loss: 0.6675023578462147,AUC: 0.629354761904762,ACC:0.6311380952380953,F1:0.5431357142857142,Precision:0.6949785714285713,Recall:0.46495714285714307\n",
      "Epoch 110,loss:0.6671145178201631\n",
      "Validation Loss: 0.6672546324275789,AUC: 0.6288809523809524,ACC:0.6311404761904763,F1:0.5446880952380952,Precision:0.692702380952381,Recall:0.4654404761904763\n",
      "Epoch 115,loss:0.6667403128203444\n",
      "Validation Loss: 0.6670291196732294,AUC: 0.6290404761904763,ACC:0.6326261904761905,F1:0.5466761904761905,Precision:0.6933214285714285,Recall:0.4645642857142858\n",
      "Epoch 120,loss:0.6663751766437621\n",
      "Validation Loss: 0.6668070086411068,AUC: 0.6288071428571429,ACC:0.633,F1:0.5416523809523809,Precision:0.7026809523809524,Recall:0.4591857142857143\n",
      "Epoch 125,loss:0.6660341953668069\n",
      "Validation Loss: 0.666618022180739,AUC: 0.6292952380952382,ACC:0.6354142857142856,F1:0.5460690476190477,Precision:0.7024690476190475,Recall:0.4609500000000001\n",
      "Epoch 130,loss:0.6657035815434194\n",
      "Validation Loss: 0.6664346939041501,AUC: 0.6292214285714287,ACC:0.6326261904761905,F1:0.5378738095238095,Precision:0.7064285714285715,Recall:0.45152380952380966\n",
      "Epoch 135,loss:0.665404545979237\n",
      "Validation Loss: 0.6662737826506296,AUC: 0.6292928571428572,ACC:0.6326285714285715,F1:0.5330523809523808,Precision:0.7141999999999998,Recall:0.4411952380952383\n",
      "Epoch 140,loss:0.6651205073191425\n",
      "Validation Loss: 0.6661382785865239,AUC: 0.6290261904761905,ACC:0.6324404761904762,F1:0.5324095238095238,Precision:0.713752380952381,Recall:0.44107380952380976\n",
      "Epoch 145,loss:0.6647784569132047\n",
      "Validation Loss: 0.6659832213606153,AUC: 0.6290619047619048,ACC:0.6328119047619046,F1:0.5323309523809523,Precision:0.7156404761904762,Recall:0.4435333333333335\n",
      "Epoch 150,loss:0.6644700305668387\n",
      "Validation Loss: 0.6658469878491902,AUC: 0.6292404761904761,ACC:0.632992857142857,F1:0.5494976190476188,Precision:0.7004190476190476,Recall:0.46676190476190493\n",
      "Epoch 155,loss:0.6642141961675929\n",
      "Validation Loss: 0.6656996721313113,AUC: 0.6298785714285716,ACC:0.6337380952380951,F1:0.5466785714285716,Precision:0.7057761904761906,Recall:0.46214523809523816\n",
      "Epoch 160,loss:0.6640155094815051\n",
      "Validation Loss: 0.6655695835749308,AUC: 0.6300452380952382,ACC:0.6333666666666666,F1:0.5462261904761906,Precision:0.7056476190476191,Recall:0.461704761904762\n",
      "Epoch 165,loss:0.6637894201466418\n",
      "Validation Loss: 0.6654424482867831,AUC: 0.6298500000000001,ACC:0.6329928571428569,F1:0.5484452380952382,Precision:0.7003380952380951,Recall:0.46679523809523815\n",
      "Epoch 170,loss:0.6635624067051205\n",
      "Validation Loss: 0.6653076651550475,AUC: 0.6297523809523808,ACC:0.6344833333333332,F1:0.5374166666666665,Precision:0.7118904761904762,Recall:0.44417619047619067\n",
      "Epoch 175,loss:0.6633497157434779\n",
      "Validation Loss: 0.6652025906812578,AUC: 0.6295595238095237,ACC:0.6354142857142856,F1:0.5362523809523809,Precision:0.7162166666666666,Recall:0.4415166666666668\n",
      "Epoch 180,loss:0.6630544329252769\n",
      "Validation Loss: 0.6650572915871938,AUC: 0.6297928571428569,ACC:0.6354142857142857,F1:0.5335571428571427,Precision:0.7206785714285713,Recall:0.43824523809523824\n",
      "Epoch 185,loss:0.6628216045109305\n",
      "Validation Loss: 0.6649026232106345,AUC: 0.6299999999999999,ACC:0.635602380952381,F1:0.5353309523809523,Precision:0.718342857142857,Recall:0.43966904761904774\n",
      "Epoch 190,loss:0.6626686772962255\n",
      "Validation Loss: 0.6647680188928332,AUC: 0.6298285714285713,ACC:0.6356047619047619,F1:0.5396809523809523,Precision:0.7124238095238093,Recall:0.4481214285714286\n",
      "Epoch 195,loss:0.6624427630206732\n",
      "Validation Loss: 0.6645670533180237,AUC: 0.6305261904761904,ACC:0.6354190476190477,F1:0.5438714285714286,Precision:0.7069071428571427,Recall:0.4576142857142858\n",
      "Epoch 200,loss:0.6621860613034466\n",
      "Validation Loss: 0.6643897039549691,AUC: 0.6301285714285716,ACC:0.6365357142857144,F1:0.548902380952381,Precision:0.7041428571428571,Recall:0.4656928571428572\n",
      "Epoch 205,loss:0.6619647778863982\n",
      "Validation Loss: 0.6642494457108634,AUC: 0.6300190476190477,ACC:0.636347619047619,F1:0.5394619047619047,Precision:0.7167214285714285,Recall:0.4498976190476191\n",
      "Epoch 210,loss:0.6617359838147802\n",
      "Validation Loss: 0.6641323793502081,AUC: 0.6301023809523808,ACC:0.6357904761904762,F1:0.5370404761904761,Precision:0.717045238095238,Recall:0.4463642857142857\n",
      "Epoch 215,loss:0.6616220713600399\n",
      "Validation Loss: 0.6640329758326212,AUC: 0.6299571428571431,ACC:0.6352309523809524,F1:0.5380166666666667,Precision:0.7169904761904761,Recall:0.449095238095238\n",
      "Epoch 220,loss:0.6613386569060679\n",
      "Validation Loss: 0.6638787473951068,AUC: 0.6300833333333334,ACC:0.6374666666666667,F1:0.5354214285714284,Precision:0.7239380952380952,Recall:0.4385238095238095\n",
      "Epoch 225,loss:0.6611631808318491\n",
      "Validation Loss: 0.663739779165813,AUC: 0.6305523809523811,ACC:0.6374666666666667,F1:0.5328190476190475,Precision:0.7266214285714285,Recall:0.43343333333333345\n",
      "Epoch 230,loss:0.6609376814421706\n",
      "Validation Loss: 0.6635646252405076,AUC: 0.6306595238095238,ACC:0.6387666666666667,F1:0.5366857142857141,Precision:0.7251404761904761,Recall:0.4381285714285714\n",
      "Epoch 235,loss:0.6607094219350439\n",
      "Validation Loss: 0.6634003335521335,AUC: 0.6310380952380953,ACC:0.6385809523809524,F1:0.5297,Precision:0.7344809523809523,Recall:0.42647619047619045\n",
      "Epoch 240,loss:0.6605351341990974\n",
      "Validation Loss: 0.6633175384430658,AUC: 0.6313261904761905,ACC:0.6391380952380952,F1:0.5306976190476191,Precision:0.7342238095238095,Recall:0.4273309523809523\n",
      "Epoch 245,loss:0.6603547034301157\n",
      "Validation Loss: 0.6632370537235623,AUC: 0.6312404761904763,ACC:0.6378357142857143,F1:0.5253380952380953,Precision:0.7375738095238094,Recall:0.42066666666666663\n",
      "Epoch 250,loss:0.6601922197604743\n",
      "Validation Loss: 0.6631477560315814,AUC: 0.6316761904761903,ACC:0.6380214285714286,F1:0.5211714285714285,Precision:0.7398999999999999,Recall:0.41441190476190476\n",
      "Epoch 255,loss:0.6600311623783562\n",
      "Validation Loss: 0.6630777745019822,AUC: 0.6317857142857145,ACC:0.6383928571428571,F1:0.52095,Precision:0.7399238095238094,Recall:0.41373571428571426\n",
      "Epoch 260,loss:0.6598725525412973\n",
      "Validation Loss: 0.6630403371084304,AUC: 0.6313999999999999,ACC:0.63895,F1:0.5264571428571427,Precision:0.7393476190476189,Recall:0.42245714285714275\n",
      "Epoch 265,loss:0.6597089462392912\n",
      "Validation Loss: 0.6629811213130042,AUC: 0.6312190476190477,ACC:0.639695238095238,F1:0.5247309523809522,Precision:0.7437071428571428,Recall:0.41969523809523795\n",
      "Epoch 270,loss:0.6595436968202666\n",
      "Validation Loss: 0.6629122453076499,AUC: 0.6311238095238094,ACC:0.6398809523809523,F1:0.5255952380952381,Precision:0.742397619047619,Recall:0.4211619047619046\n",
      "Epoch 275,loss:0.6593779409964253\n",
      "Validation Loss: 0.6628558153197879,AUC: 0.6310476190476189,ACC:0.6383928571428571,F1:0.5191976190476191,Precision:0.7457380952380952,Recall:0.4125928571428571\n",
      "Epoch 280,loss:0.6592154319830766\n",
      "Validation Loss: 0.6627986360163916,AUC: 0.6313142857142855,ACC:0.6385785714285713,F1:0.5217642857142856,Precision:0.7425142857142857,Recall:0.41729999999999995\n"
     ]
    },
    {
     "name": "stdout",
     "output_type": "stream",
     "text": [
      "Epoch 285,loss:0.6590560261658797\n",
      "Validation Loss: 0.6627425707521892,AUC: 0.6312261904761907,ACC:0.6393190476190476,F1:0.5250357142857143,Precision:0.7410666666666665,Recall:0.4225023809523809\n",
      "Epoch 290,loss:0.6588944055902677\n",
      "Validation Loss: 0.662696917851766,AUC: 0.6313285714285715,ACC:0.6391333333333333,F1:0.5308428571428573,Precision:0.7325071428571428,Recall:0.4322309523809523\n",
      "Epoch 295,loss:0.6587472567408104\n",
      "Validation Loss: 0.662631209407534,AUC: 0.6323357142857143,ACC:0.6404357142857142,F1:0.5254142857142857,Precision:0.7408023809523808,Recall:0.4204047619047619\n",
      "Epoch 300,loss:0.6586107827547029\n",
      "Validation Loss: 0.6625535190105438,AUC: 0.6328,ACC:0.6387619047619048,F1:0.5264476190476189,Precision:0.7364833333333333,Recall:0.4225238095238096\n",
      "Epoch 305,loss:0.6584712933367631\n",
      "Validation Loss: 0.662496322677249,AUC: 0.6327095238095237,ACC:0.6382047619047619,F1:0.5283333333333333,Precision:0.731195238095238,Recall:0.4259857142857143\n",
      "Epoch 310,loss:0.6583375719588572\n",
      "Validation Loss: 0.6624378122034527,AUC: 0.6330880952380953,ACC:0.6393214285714285,F1:0.5249666666666668,Precision:0.737895238095238,Recall:0.42202142857142855\n",
      "Epoch 315,loss:0.6581735920718336\n",
      "Validation Loss: 0.6623853629543668,AUC: 0.6335499999999998,ACC:0.6391357142857143,F1:0.5256880952380952,Precision:0.7352880952380951,Recall:0.4228714285714287\n",
      "Epoch 320,loss:0.6580233996308694\n",
      "Validation Loss: 0.6623255440167019,AUC: 0.633802380952381,ACC:0.6396904761904761,F1:0.5291357142857143,Precision:0.7337285714285713,Recall:0.42517380952380956\n",
      "Epoch 325,loss:0.6578792009766646\n",
      "Validation Loss: 0.6622758763177055,AUC: 0.6340285714285713,ACC:0.6387595238095237,F1:0.5251357142857143,Precision:0.7401333333333333,Recall:0.4196976190476191\n",
      "Epoch 330,loss:0.6577294792715959\n",
      "Validation Loss: 0.6622315432344165,AUC: 0.634254761904762,ACC:0.638942857142857,F1:0.52995,Precision:0.731742857142857,Recall:0.4287190476190476\n",
      "Epoch 335,loss:0.6576012790672422\n",
      "Validation Loss: 0.6622474718661535,AUC: 0.6342809523809523,ACC:0.6393190476190476,F1:0.5284476190476189,Precision:0.7354523809523809,Recall:0.4267261904761905\n",
      "早停策略触发，停止训练在第 334 个epoch.\n",
      "模型训练完成\n",
      "||--------训练结束时间： 2024-03-19 12:37:16.509102 -------------\n",
      "||--测试：---------- 1 个batch运行时间： 2024-03-19 12:37:16.523279 -------------\n",
      "||--测试：---------- 2 个batch运行时间： 2024-03-19 12:37:16.535892 -------------\n",
      "||--测试：---------- 3 个batch运行时间： 2024-03-19 12:37:16.548468 -------------\n",
      "||--测试：---------- 4 个batch运行时间： 2024-03-19 12:37:16.561360 -------------\n",
      "||--测试：---------- 5 个batch运行时间： 2024-03-19 12:37:16.573826 -------------\n",
      "||--测试：---------- 6 个batch运行时间： 2024-03-19 12:37:16.587096 -------------\n",
      "||--测试：---------- 7 个batch运行时间： 2024-03-19 12:37:16.601487 -------------\n",
      "||--测试：---------- 8 个batch运行时间： 2024-03-19 12:37:16.615587 -------------\n",
      "||--测试：---------- 9 个batch运行时间： 2024-03-19 12:37:16.631496 -------------\n",
      "||--测试：---------- 10 个batch运行时间： 2024-03-19 12:37:16.646187 -------------\n",
      "||--测试：---------- 11 个batch运行时间： 2024-03-19 12:37:16.669034 -------------\n",
      "||--测试：---------- 12 个batch运行时间： 2024-03-19 12:37:16.688102 -------------\n",
      "||--测试：---------- 13 个batch运行时间： 2024-03-19 12:37:16.709616 -------------\n",
      "||--测试：---------- 14 个batch运行时间： 2024-03-19 12:37:16.724740 -------------\n",
      "||--测试：---------- 15 个batch运行时间： 2024-03-19 12:37:16.738976 -------------\n",
      "||--测试：---------- 16 个batch运行时间： 2024-03-19 12:37:16.752685 -------------\n",
      "||--测试：---------- 17 个batch运行时间： 2024-03-19 12:37:16.766836 -------------\n",
      "||--测试：---------- 18 个batch运行时间： 2024-03-19 12:37:16.781009 -------------\n",
      "||--测试：---------- 19 个batch运行时间： 2024-03-19 12:37:16.794374 -------------\n",
      "||--测试：---------- 20 个batch运行时间： 2024-03-19 12:37:16.808042 -------------\n",
      "||--测试：---------- 21 个batch运行时间： 2024-03-19 12:37:16.821948 -------------\n",
      "||--测试：---------- 22 个batch运行时间： 2024-03-19 12:37:16.835591 -------------\n",
      "||--测试：---------- 23 个batch运行时间： 2024-03-19 12:37:16.849318 -------------\n",
      "||--测试：---------- 24 个batch运行时间： 2024-03-19 12:37:16.863667 -------------\n",
      "||--测试：---------- 25 个batch运行时间： 2024-03-19 12:37:16.876961 -------------\n",
      "||--测试：---------- 26 个batch运行时间： 2024-03-19 12:37:16.890121 -------------\n",
      "||--测试：---------- 27 个batch运行时间： 2024-03-19 12:37:16.902810 -------------\n",
      "||--测试：---------- 28 个batch运行时间： 2024-03-19 12:37:16.917667 -------------\n",
      "||--测试：---------- 29 个batch运行时间： 2024-03-19 12:37:16.938132 -------------\n",
      "||--测试：---------- 30 个batch运行时间： 2024-03-19 12:37:16.951696 -------------\n",
      "||--测试：---------- 31 个batch运行时间： 2024-03-19 12:37:16.964363 -------------\n",
      "||--测试：---------- 32 个batch运行时间： 2024-03-19 12:37:16.978039 -------------\n",
      "||--测试：---------- 33 个batch运行时间： 2024-03-19 12:37:16.999652 -------------\n",
      "||--测试：---------- 34 个batch运行时间： 2024-03-19 12:37:17.012294 -------------\n",
      "||--测试：---------- 35 个batch运行时间： 2024-03-19 12:37:17.024950 -------------\n",
      "||--测试：---------- 36 个batch运行时间： 2024-03-19 12:37:17.038714 -------------\n",
      "||--测试：---------- 37 个batch运行时间： 2024-03-19 12:37:17.059344 -------------\n",
      "||--测试：---------- 38 个batch运行时间： 2024-03-19 12:37:17.071992 -------------\n",
      "||--测试：---------- 39 个batch运行时间： 2024-03-19 12:37:17.084748 -------------\n",
      "||--测试：---------- 40 个batch运行时间： 2024-03-19 12:37:17.098704 -------------\n",
      "||--测试：---------- 41 个batch运行时间： 2024-03-19 12:37:17.118385 -------------\n",
      "||--测试：---------- 42 个batch运行时间： 2024-03-19 12:37:17.131088 -------------\n",
      "Test Loss: 0.660117609160287,AUC: 0.6392285714285715,ACC:0.648252380952381,F1:0.5397952380952383,Precision:0.7638071428571429,Recall:0.4336333333333333\n",
      "结果已输出\n",
      "||--------当前时间窗 1115_1215 结束时间： 2024-03-19 12:37:17.149254 -------------\n",
      "i=:1\n",
      "划分文件已存在，不再进行数据划分\n",
      "数据预处理结束\n",
      "数据划分完成\n",
      "张量生成完成\n",
      "模型搭建完成\n",
      "模型转移到GPU完成\n",
      "Epoch 5,loss:0.6907006997977738\n",
      "Validation Loss: 0.6890506986025218,AUC: 0.5692162162162161,ACC:0.6076837837837838,F1:0.448218918918919,Precision:0.645145945945946,Recall:0.38059729729729735\n",
      "Epoch 10,loss:0.6897301927077032\n",
      "Validation Loss: 0.6883181397979324,AUC: 0.5715351351351352,ACC:0.6093756756756757,F1:0.43648108108108113,Precision:0.6372729729729729,Recall:0.3580756756756756\n",
      "Epoch 15,loss:0.6888119435943334\n",
      "Validation Loss: 0.6876759802972948,AUC: 0.5720027027027026,ACC:0.6112756756756758,F1:0.44566486486486484,Precision:0.6388081081081082,Recall:0.36923243243243237\n",
      "Epoch 20,loss:0.6878950405964809\n",
      "Validation Loss: 0.6870571745408548,AUC: 0.5732999999999999,ACC:0.6116972972972974,F1:0.4447324324324325,Precision:0.6454351351351353,Recall:0.3690405405405404\n",
      "Epoch 25,loss:0.6869867143377794\n",
      "Validation Loss: 0.6864540496387997,AUC: 0.5741324324324326,ACC:0.6144405405405404,F1:0.4374864864864864,Precision:0.6603432432432432,Recall:0.3539324324324324\n",
      "Epoch 30,loss:0.6861049464318605\n",
      "Validation Loss: 0.685868585431898,AUC: 0.575918918918919,ACC:0.6157108108108108,F1:0.4405918918918918,Precision:0.6532999999999999,Recall:0.35874324324324325\n",
      "Epoch 35,loss:0.6852452195851149\n",
      "Validation Loss: 0.685278702426601,AUC: 0.5771810810810809,ACC:0.6169756756756758,F1:0.43794054054054055,Precision:0.6674135135135135,Recall:0.35640270270270263\n",
      "Epoch 40,loss:0.684379253767233\n",
      "Validation Loss: 0.6847057197545026,AUC: 0.578816216216216,ACC:0.6161378378378378,F1:0.44599729729729737,Precision:0.6581648648648649,Recall:0.3646216216216216\n",
      "Epoch 45,loss:0.6835600311777233\n",
      "Validation Loss: 0.6841689799283002,AUC: 0.5801621621621621,ACC:0.6159270270270272,F1:0.45667297297297293,Precision:0.6368108108108108,Recall:0.37485405405405403\n",
      "Epoch 50,loss:0.6827895556930947\n",
      "Validation Loss: 0.6836603428866412,AUC: 0.5804864864864865,ACC:0.6176135135135135,F1:0.45175405405405406,Precision:0.6533864864864865,Recall:0.3674567567567568\n",
      "Epoch 55,loss:0.6820747736280999\n",
      "Validation Loss: 0.6832325442417247,AUC: 0.5799486486486485,ACC:0.6201405405405406,F1:0.45232432432432434,Precision:0.6525216216216216,Recall:0.36534594594594594\n",
      "Epoch 60,loss:0.6814133851929048\n",
      "Validation Loss: 0.682850093454928,AUC: 0.581527027027027,ACC:0.621410810810811,F1:0.44911351351351364,Precision:0.6579486486486487,Recall:0.361372972972973\n",
      "Epoch 65,loss:0.6807975494756108\n",
      "Validation Loss: 0.6825251579284668,AUC: 0.5821594594594593,ACC:0.6228945945945946,F1:0.45486486486486494,Precision:0.6543810810810812,Recall:0.36653513513513525\n",
      "Epoch 70,loss:0.6802035928827471\n",
      "Validation Loss: 0.682222525815706,AUC: 0.5818081081081081,ACC:0.6218351351351352,F1:0.45911081081081084,Precision:0.6545135135135135,Recall:0.3733135135135135\n"
     ]
    },
    {
     "name": "stdout",
     "output_type": "stream",
     "text": [
      "Epoch 75,loss:0.6796399318011461\n",
      "Validation Loss: 0.6819206363446003,AUC: 0.5827135135135134,ACC:0.6239459459459459,F1:0.4593648648648648,Precision:0.6593945945945946,Recall:0.374\n",
      "Epoch 80,loss:0.6791032848104966\n",
      "Validation Loss: 0.6816533159565281,AUC: 0.5830837837837838,ACC:0.6237297297297297,F1:0.4571837837837838,Precision:0.6582108108108108,Recall:0.37120810810810806\n",
      "Epoch 85,loss:0.6785319073010335\n",
      "Validation Loss: 0.6813584098944793,AUC: 0.5831081081081083,ACC:0.6254189189189188,F1:0.4606405405405405,Precision:0.6646216216216216,Recall:0.37346216216216205\n",
      "Epoch 90,loss:0.6780439699645591\n",
      "Validation Loss: 0.6811236046456002,AUC: 0.5831405405405404,ACC:0.6260513513513513,F1:0.457337837837838,Precision:0.6710918918918918,Recall:0.36545675675675676\n",
      "Epoch 95,loss:0.6776021323372833\n",
      "Validation Loss: 0.6808869194340061,AUC: 0.5840540540540541,ACC:0.6260486486486485,F1:0.4600000000000002,Precision:0.6677837837837837,Recall:0.37001621621621633\n",
      "Epoch 100,loss:0.6771830642117863\n",
      "Validation Loss: 0.68067674379091,AUC: 0.5838486486486485,ACC:0.6245729729729729,F1:0.46884864864864867,Precision:0.6597324324324323,Recall:0.3821972972972973\n",
      "Epoch 105,loss:0.6767986886269224\n",
      "Validation Loss: 0.6804183061058456,AUC: 0.5850864864864864,ACC:0.6260513513513513,F1:0.46191621621621626,Precision:0.6725702702702702,Recall:0.37412702702702694\n",
      "Epoch 110,loss:0.6764382176694617\n",
      "Validation Loss: 0.6801608527028883,AUC: 0.5855594594594594,ACC:0.6264729729729729,F1:0.46598108108108116,Precision:0.6641621621621622,Recall:0.3785837837837837\n",
      "Epoch 115,loss:0.6761037833922732\n",
      "Validation Loss: 0.6798847285476891,AUC: 0.5861432432432433,ACC:0.6266864864864864,F1:0.46705135135135134,Precision:0.6649243243243245,Recall:0.3799297297297297\n",
      "Epoch 120,loss:0.6757904111811545\n",
      "Validation Loss: 0.6796666238759015,AUC: 0.5869459459459458,ACC:0.6273189189189188,F1:0.4658783783783785,Precision:0.6708702702702704,Recall:0.37808918918918916\n",
      "Epoch 125,loss:0.6754870456931865\n",
      "Validation Loss: 0.6794219645293983,AUC: 0.5875702702702704,ACC:0.6273189189189189,F1:0.462372972972973,Precision:0.6714675675675675,Recall:0.37396756756756755\n",
      "Epoch 130,loss:0.6751730916774379\n",
      "Validation Loss: 0.6791979944383776,AUC: 0.5875243243243243,ACC:0.627110810810811,F1:0.4653810810810811,Precision:0.6658837837837837,Recall:0.3762\n",
      "Epoch 135,loss:0.6748715111639647\n",
      "Validation Loss: 0.6789889464507232,AUC: 0.5878783783783784,ACC:0.6256324324324325,F1:0.4631378378378379,Precision:0.6684729729729728,Recall:0.37374054054054057\n",
      "Epoch 140,loss:0.6745882730568404\n",
      "Validation Loss: 0.6787763189625096,AUC: 0.5882189189189189,ACC:0.6269,F1:0.4564837837837838,Precision:0.6747810810810809,Recall:0.3633\n",
      "Epoch 145,loss:0.6743126152890974\n",
      "Validation Loss: 0.6785805144825497,AUC: 0.5884891891891891,ACC:0.6279540540540541,F1:0.4613054054054053,Precision:0.6711405405405405,Recall:0.36721081081081086\n",
      "Epoch 150,loss:0.6740543763194464\n",
      "Validation Loss: 0.6784062804402532,AUC: 0.5886945945945946,ACC:0.6273243243243244,F1:0.46309459459459457,Precision:0.6706243243243243,Recall:0.3708621621621622\n",
      "Epoch 155,loss:0.6738142977773616\n",
      "Validation Loss: 0.6782459342801893,AUC: 0.5897378378378378,ACC:0.6285945945945948,F1:0.4556486486486486,Precision:0.6841675675675675,Recall:0.3601567567567567\n",
      "Epoch 160,loss:0.673585297787084\n",
      "Validation Loss: 0.6781129482630137,AUC: 0.5898945945945945,ACC:0.6281783783783785,F1:0.45695405405405404,Precision:0.6777378378378376,Recall:0.3608162162162161\n",
      "Epoch 165,loss:0.673359546513684\n",
      "Validation Loss: 0.6779920990402634,AUC: 0.5901486486486486,ACC:0.6283864864864867,F1:0.46156216216216217,Precision:0.672581081081081,Recall:0.366181081081081\n",
      "Epoch 170,loss:0.6731522035809745\n",
      "Validation Loss: 0.6778270296148352,AUC: 0.5912054054054052,ACC:0.6288054054054056,F1:0.4561972972972973,Precision:0.6801297297297296,Recall:0.3595459459459459\n",
      "Epoch 175,loss:0.6729585955628251\n",
      "Validation Loss: 0.6777278797046559,AUC: 0.5916972972972971,ACC:0.6313405405405408,F1:0.4512810810810811,Precision:0.6860405405405405,Recall:0.3493108108108107\n",
      "Epoch 180,loss:0.6727631102621028\n",
      "Validation Loss: 0.6776077827891788,AUC: 0.5922756756756755,ACC:0.6313405405405407,F1:0.45918108108108097,Precision:0.6784270270270271,Recall:0.35823513513513505\n",
      "Epoch 185,loss:0.6725762090851776\n",
      "Validation Loss: 0.6775009535454415,AUC: 0.5922324324324325,ACC:0.6300702702702704,F1:0.4614891891891892,Precision:0.6744054054054053,Recall:0.3639108108108107\n",
      "Epoch 190,loss:0.6723937824764082\n",
      "Validation Loss: 0.6773976152007645,AUC: 0.5925378378378379,ACC:0.6285945945945947,F1:0.46203783783783786,Precision:0.6729162162162161,Recall:0.3660378378378378\n",
      "Epoch 195,loss:0.6722133338978861\n",
      "Validation Loss: 0.6772900030419633,AUC: 0.5924999999999996,ACC:0.6307054054054054,F1:0.45705675675675667,Precision:0.6795270270270269,Recall:0.35561891891891884\n",
      "Epoch 200,loss:0.6720440714760164\n",
      "Validation Loss: 0.677188641316182,AUC: 0.5931216216216215,ACC:0.6307054054054055,F1:0.45915675675675677,Precision:0.6780648648648648,Recall:0.3582999999999999\n",
      "Epoch 205,loss:0.6718650127934144\n",
      "Validation Loss: 0.6770846924266299,AUC: 0.5932027027027028,ACC:0.6294405405405407,F1:0.46505135135135145,Precision:0.6793729729729729,Recall:0.3698891891891891\n",
      "Epoch 210,loss:0.671698942648626\n",
      "Validation Loss: 0.6769729208301853,AUC: 0.5937810810810813,ACC:0.6315486486486488,F1:0.4606027027027028,Precision:0.6849621621621621,Recall:0.36178108108108104\n",
      "Epoch 215,loss:0.6715287861570848\n",
      "Validation Loss: 0.6768823394904265,AUC: 0.593702702702703,ACC:0.6317594594594595,F1:0.4615621621621623,Precision:0.6852810810810811,Recall:0.3636567567567566\n",
      "Epoch 220,loss:0.6713678689129585\n",
      "Validation Loss: 0.6768163942001961,AUC: 0.594135135135135,ACC:0.6317567567567568,F1:0.4582756756756757,Precision:0.6901432432432432,Recall:0.3593702702702702\n",
      "Epoch 225,loss:0.6712071536916547\n",
      "Validation Loss: 0.6767526107865411,AUC: 0.5941540540540541,ACC:0.6307027027027029,F1:0.46177837837837843,Precision:0.6883297297297296,Recall:0.36412162162162165\n",
      "Epoch 230,loss:0.6710524263635146\n",
      "Validation Loss: 0.6766711151277697,AUC: 0.5939324324324327,ACC:0.6315486486486488,F1:0.4686054054054054,Precision:0.6845135135135134,Recall:0.37351081081081083\n",
      "Epoch 235,loss:0.6709002641449987\n",
      "Validation Loss: 0.6766017176009513,AUC: 0.5943189189189189,ACC:0.6334486486486487,F1:0.46296486486486493,Precision:0.6891324324324322,Recall:0.36046216216216215\n",
      "Epoch 240,loss:0.6707443178227518\n",
      "Validation Loss: 0.6765227817200326,AUC: 0.5947432432432431,ACC:0.6338702702702703,F1:0.46333783783783794,Precision:0.6895702702702701,Recall:0.3600648648648649\n",
      "Epoch 245,loss:0.6705899359905614\n",
      "Validation Loss: 0.6764179419826817,AUC: 0.5944513513513513,ACC:0.6347162162162162,F1:0.46390270270270273,Precision:0.6910945945945945,Recall:0.3610378378378378\n",
      "Epoch 250,loss:0.6704107369996805\n",
      "Validation Loss: 0.6763287557137979,AUC: 0.5958648648648648,ACC:0.635772972972973,F1:0.4681,Precision:0.6867162162162161,Recall:0.3666540540540541\n",
      "Epoch 255,loss:0.6702524787556808\n",
      "Validation Loss: 0.6762236050657324,AUC: 0.5956324324324324,ACC:0.6362000000000001,F1:0.465064864864865,Precision:0.698035135135135,Recall:0.36436486486486486\n",
      "Epoch 260,loss:0.670090625771379\n",
      "Validation Loss: 0.6761377196054201,AUC: 0.5960513513513515,ACC:0.6349324324324325,F1:0.46672432432432437,Precision:0.6996918918918918,Recall:0.37036486486486486\n",
      "Epoch 265,loss:0.6699278919042739\n",
      "Validation Loss: 0.6760373872679633,AUC: 0.5963297297297296,ACC:0.6366216216216217,F1:0.4625216216216217,Precision:0.7042,Recall:0.36121621621621625\n",
      "Epoch 270,loss:0.6697692501861437\n",
      "Validation Loss: 0.6759621420422116,AUC: 0.5966486486486485,ACC:0.6353540540540542,F1:0.46389189189189195,Precision:0.7043297297297298,Recall:0.3655216216216216\n",
      "Epoch 275,loss:0.6696117852641418\n",
      "Validation Loss: 0.6758975241635297,AUC: 0.5973108108108107,ACC:0.6353540540540543,F1:0.46760810810810804,Precision:0.6950324324324324,Recall:0.368345945945946\n",
      "Epoch 280,loss:0.6694473138952677\n",
      "Validation Loss: 0.6758284907083254,AUC: 0.597518918918919,ACC:0.6349324324324326,F1:0.4679891891891891,Precision:0.6934702702702702,Recall:0.36903783783783783\n",
      "Epoch 285,loss:0.669291374957667\n",
      "Validation Loss: 0.6757619284294747,AUC: 0.5978783783783783,ACC:0.6349324324324326,F1:0.46416216216216205,Precision:0.6974216216216216,Recall:0.36293513513513515\n"
     ]
    },
    {
     "name": "stdout",
     "output_type": "stream",
     "text": [
      "Epoch 290,loss:0.669149169879677\n",
      "Validation Loss: 0.675694876425975,AUC: 0.5983270270270269,ACC:0.6351432432432434,F1:0.46738648648648645,Precision:0.6942540540540539,Recall:0.36591081081081084\n",
      "Epoch 295,loss:0.6690046470777123\n",
      "Validation Loss: 0.6756441480404621,AUC: 0.5990513513513515,ACC:0.635991891891892,F1:0.4675432432432432,Precision:0.7006243243243243,Recall:0.3689189189189189\n",
      "Epoch 300,loss:0.6688732383525477\n",
      "Validation Loss: 0.6755947502883705,AUC: 0.5984648648648649,ACC:0.6374675675675676,F1:0.46472162162162167,Precision:0.7036108108108108,Recall:0.36226756756756756\n",
      "Epoch 305,loss:0.6687360015590634\n",
      "Validation Loss: 0.6755614071278959,AUC: 0.5985432432432433,ACC:0.6372594594594596,F1:0.46497297297297296,Precision:0.6973270270270269,Recall:0.3620513513513513\n",
      "Epoch 310,loss:0.6686073335926089\n",
      "Validation Loss: 0.6755434790173093,AUC: 0.598954054054054,ACC:0.6370459459459461,F1:0.4641918918918919,Precision:0.6965108108108108,Recall:0.3613162162162161\n",
      "Epoch 315,loss:0.6684704902952752\n",
      "Validation Loss: 0.6755321944082106,AUC: 0.5994675675675676,ACC:0.636410810810811,F1:0.4673540540540541,Precision:0.6916405405405405,Recall:0.364827027027027\n",
      "Epoch 320,loss:0.6683321890577806\n",
      "Validation Loss: 0.6754976543220313,AUC: 0.5994702702702702,ACC:0.6355621621621623,F1:0.4653702702702702,Precision:0.692927027027027,Recall:0.3636594594594594\n",
      "Epoch 325,loss:0.6681851660255838\n",
      "Validation Loss: 0.6754538465190578,AUC: 0.6001486486486487,ACC:0.6353540540540542,F1:0.46761351351351343,Precision:0.6914270270270272,Recall:0.3679162162162162\n",
      "Epoch 330,loss:0.6680609314842562\n",
      "Validation Loss: 0.6754091994182484,AUC: 0.6004459459459458,ACC:0.637464864864865,F1:0.4672027027027026,Precision:0.6948216216216218,Recall:0.3642270270270269\n",
      "Epoch 335,loss:0.6679312133156092\n",
      "Validation Loss: 0.6753639014991554,AUC: 0.6007405405405405,ACC:0.6370432432432434,F1:0.46727297297297293,Precision:0.6956594594594595,Recall:0.36496216216216215\n",
      "Epoch 340,loss:0.6678074076112392\n",
      "Validation Loss: 0.6753471155424375,AUC: 0.6012297297297298,ACC:0.6370432432432434,F1:0.46736486486486495,Precision:0.6976054054054054,Recall:0.36535945945945936\n",
      "Epoch 345,loss:0.6676800757382824\n",
      "Validation Loss: 0.6753242692431888,AUC: 0.6013756756756756,ACC:0.6370432432432434,F1:0.469172972972973,Precision:0.6935108108108108,Recall:0.3672189189189189\n",
      "Epoch 350,loss:0.6675612050875098\n",
      "Validation Loss: 0.6753054841144664,AUC: 0.6020594594594595,ACC:0.6376756756756757,F1:0.47027567567567574,Precision:0.6941270270270271,Recall:0.3681486486486486\n",
      "Epoch 355,loss:0.6674402160982115\n",
      "Validation Loss: 0.675295087131294,AUC: 0.6022837837837838,ACC:0.6378837837837837,F1:0.4724729729729729,Precision:0.6921594594594596,Recall:0.37054594594594586\n",
      "Epoch 360,loss:0.6673017603106204\n",
      "Validation Loss: 0.6752816148706384,AUC: 0.6026486486486488,ACC:0.6376729729729729,F1:0.47089189189189185,Precision:0.6930270270270271,Recall:0.3688081081081081\n",
      "Epoch 365,loss:0.667131734105338\n",
      "Validation Loss: 0.6752746040756638,AUC: 0.6022405405405404,ACC:0.6378864864864865,F1:0.4723891891891891,Precision:0.6922270270270271,Recall:0.37124324324324315\n",
      "Epoch 370,loss:0.6669845006107229\n",
      "Validation Loss: 0.6752685308456421,AUC: 0.6026837837837838,ACC:0.6374594594594594,F1:0.4743729729729729,Precision:0.6905729729729732,Recall:0.3743594594594595\n",
      "Epoch 375,loss:0.6668804688791258\n",
      "Validation Loss: 0.6752728578206655,AUC: 0.602991891891892,ACC:0.6376702702702703,F1:0.47446486486486483,Precision:0.6908675675675678,Recall:0.37437297297297295\n",
      "早停策略触发，停止训练在第 374 个epoch.\n",
      "模型训练完成\n",
      "||--------训练结束时间： 2024-03-19 13:32:50.791756 -------------\n",
      "||--测试：---------- 1 个batch运行时间： 2024-03-19 13:32:50.806002 -------------\n",
      "||--测试：---------- 2 个batch运行时间： 2024-03-19 13:32:50.820458 -------------\n",
      "||--测试：---------- 3 个batch运行时间： 2024-03-19 13:32:50.834372 -------------\n",
      "||--测试：---------- 4 个batch运行时间： 2024-03-19 13:32:50.847954 -------------\n",
      "||--测试：---------- 5 个batch运行时间： 2024-03-19 13:32:50.861398 -------------\n",
      "||--测试：---------- 6 个batch运行时间： 2024-03-19 13:32:50.875148 -------------\n",
      "||--测试：---------- 7 个batch运行时间： 2024-03-19 13:32:50.888869 -------------\n",
      "||--测试：---------- 8 个batch运行时间： 2024-03-19 13:32:50.902456 -------------\n",
      "||--测试：---------- 9 个batch运行时间： 2024-03-19 13:32:50.915996 -------------\n",
      "||--测试：---------- 10 个batch运行时间： 2024-03-19 13:32:50.929457 -------------\n",
      "||--测试：---------- 11 个batch运行时间： 2024-03-19 13:32:50.942856 -------------\n",
      "||--测试：---------- 12 个batch运行时间： 2024-03-19 13:32:50.956197 -------------\n",
      "||--测试：---------- 13 个batch运行时间： 2024-03-19 13:32:50.969685 -------------\n",
      "||--测试：---------- 14 个batch运行时间： 2024-03-19 13:32:50.983077 -------------\n",
      "||--测试：---------- 15 个batch运行时间： 2024-03-19 13:32:50.997747 -------------\n",
      "||--测试：---------- 16 个batch运行时间： 2024-03-19 13:32:51.011453 -------------\n",
      "||--测试：---------- 17 个batch运行时间： 2024-03-19 13:32:51.025150 -------------\n",
      "||--测试：---------- 18 个batch运行时间： 2024-03-19 13:32:51.038826 -------------\n",
      "||--测试：---------- 19 个batch运行时间： 2024-03-19 13:32:51.052423 -------------\n",
      "||--测试：---------- 20 个batch运行时间： 2024-03-19 13:32:51.066057 -------------\n",
      "||--测试：---------- 21 个batch运行时间： 2024-03-19 13:32:51.079751 -------------\n",
      "||--测试：---------- 22 个batch运行时间： 2024-03-19 13:32:51.093570 -------------\n",
      "||--测试：---------- 23 个batch运行时间： 2024-03-19 13:32:51.107134 -------------\n",
      "||--测试：---------- 24 个batch运行时间： 2024-03-19 13:32:51.120772 -------------\n",
      "||--测试：---------- 25 个batch运行时间： 2024-03-19 13:32:51.134308 -------------\n",
      "||--测试：---------- 26 个batch运行时间： 2024-03-19 13:32:51.148117 -------------\n",
      "||--测试：---------- 27 个batch运行时间： 2024-03-19 13:32:51.162063 -------------\n",
      "||--测试：---------- 28 个batch运行时间： 2024-03-19 13:32:51.175620 -------------\n",
      "||--测试：---------- 29 个batch运行时间： 2024-03-19 13:32:51.189623 -------------\n",
      "||--测试：---------- 30 个batch运行时间： 2024-03-19 13:32:51.203754 -------------\n",
      "||--测试：---------- 31 个batch运行时间： 2024-03-19 13:32:51.217523 -------------\n",
      "||--测试：---------- 32 个batch运行时间： 2024-03-19 13:32:51.231274 -------------\n",
      "||--测试：---------- 33 个batch运行时间： 2024-03-19 13:32:51.244977 -------------\n",
      "||--测试：---------- 34 个batch运行时间： 2024-03-19 13:32:51.258640 -------------\n",
      "||--测试：---------- 35 个batch运行时间： 2024-03-19 13:32:51.272010 -------------\n",
      "||--测试：---------- 36 个batch运行时间： 2024-03-19 13:32:51.286242 -------------\n",
      "||--测试：---------- 37 个batch运行时间： 2024-03-19 13:32:51.299759 -------------\n",
      "Test Loss: 0.6754335712742161,AUC: 0.6012729729729729,ACC:0.6304918918918918,F1:0.46598378378378386,Precision:0.6903486486486486,Recall:0.3709513513513514\n",
      "i=:2\n",
      "划分文件已存在，不再进行数据划分\n",
      "数据预处理结束\n",
      "数据划分完成\n",
      "张量生成完成\n",
      "模型搭建完成\n",
      "模型转移到GPU完成\n",
      "Epoch 5,loss:0.690780670241972\n",
      "Validation Loss: 0.6892203157012528,AUC: 0.5669162162162162,ACC:0.6093729729729728,F1:0.4595891891891892,Precision:0.6184297297297296,Recall:0.3914648648648649\n",
      "Epoch 10,loss:0.6896190785728724\n",
      "Validation Loss: 0.6881984939446321,AUC: 0.5694297297297296,ACC:0.6074783783783783,F1:0.45707567567567575,Precision:0.6144486486486488,Recall:0.387572972972973\n",
      "Epoch 15,loss:0.6885387644303583\n",
      "Validation Loss: 0.6873912070248578,AUC: 0.5711729729729729,ACC:0.6100189189189189,F1:0.44395945945945947,Precision:0.6333135135135135,Recall:0.3648945945945946\n",
      "Epoch 20,loss:0.687489601363123\n",
      "Validation Loss: 0.6866341539331384,AUC: 0.5726243243243243,ACC:0.6138108108108108,F1:0.4416783783783784,Precision:0.6467675675675675,Recall:0.3583675675675676\n",
      "Epoch 25,loss:0.6864827354397394\n",
      "Validation Loss: 0.6858965416212339,AUC: 0.574972972972973,ACC:0.6157108108108108,F1:0.44699729729729737,Precision:0.6399864864864864,Recall:0.36190810810810803\n",
      "Epoch 30,loss:0.6855497629241606\n",
      "Validation Loss: 0.6852158581888353,AUC: 0.5760324324324325,ACC:0.6154999999999998,F1:0.44291621621621624,Precision:0.6434621621621622,Recall:0.35882432432432426\n",
      "Epoch 35,loss:0.6847109499230849\n",
      "Validation Loss: 0.6846316843419462,AUC: 0.5759756756756758,ACC:0.6163432432432433,F1:0.44551351351351354,Precision:0.6428945945945945,Recall:0.3604702702702702\n",
      "Epoch 40,loss:0.6839673097154736\n",
      "Validation Loss: 0.6841106398685558,AUC: 0.5765837837837839,ACC:0.6212054054054054,F1:0.44470540540540543,Precision:0.6521081081081082,Recall:0.35204594594594585\n",
      "Epoch 45,loss:0.6833170056343079\n",
      "Validation Loss: 0.6836889225083429,AUC: 0.5770864864864866,ACC:0.6195162162162162,F1:0.4463297297297298,Precision:0.6537540540540542,Recall:0.3574297297297297\n"
     ]
    },
    {
     "name": "stdout",
     "output_type": "stream",
     "text": [
      "Epoch 50,loss:0.6827526588355546\n",
      "Validation Loss: 0.6833178127134169,AUC: 0.5777702702702701,ACC:0.6201513513513515,F1:0.44887837837837846,Precision:0.6590432432432433,Recall:0.3607783783783783\n",
      "Epoch 55,loss:0.6822540459379686\n",
      "Validation Loss: 0.6830122052012263,AUC: 0.5776054054054054,ACC:0.6214108108108108,F1:0.44208918918918927,Precision:0.6710027027027028,Recall:0.35355675675675674\n",
      "Epoch 60,loss:0.6818154301263589\n",
      "Validation Loss: 0.6827570006654069,AUC: 0.5785054054054056,ACC:0.6201432432432433,F1:0.43385405405405403,Precision:0.6755378378378378,Recall:0.34801621621621626\n",
      "Epoch 65,loss:0.6814366626528512\n",
      "Validation Loss: 0.6825379809817752,AUC: 0.5787729729729729,ACC:0.6228945945945947,F1:0.43109729729729734,Precision:0.6821594594594597,Recall:0.3400621621621622\n",
      "Epoch 70,loss:0.6811034700511831\n",
      "Validation Loss: 0.6823485960831513,AUC: 0.5790513513513513,ACC:0.6220486486486487,F1:0.4369864864864864,Precision:0.6685027027027028,Recall:0.34524324324324324\n",
      "Epoch 75,loss:0.6808080451678385\n",
      "Validation Loss: 0.682163818462475,AUC: 0.5786324324324323,ACC:0.620572972972973,F1:0.43825675675675674,Precision:0.6642162162162163,Recall:0.34816216216216217\n",
      "Epoch 80,loss:0.6805333843273399\n",
      "Validation Loss: 0.6819798575865256,AUC: 0.5790594594594594,ACC:0.6209945945945947,F1:0.4493378378378378,Precision:0.6531756756756758,Recall:0.36021081081081074\n",
      "Epoch 85,loss:0.6802650125680771\n",
      "Validation Loss: 0.6818298230300078,AUC: 0.5794621621621622,ACC:0.6214189189189191,F1:0.4478648648648648,Precision:0.6567783783783785,Recall:0.35873783783783786\n",
      "Epoch 90,loss:0.68002104389984\n",
      "Validation Loss: 0.6816964906615179,AUC: 0.5798324324324323,ACC:0.6220513513513514,F1:0.4389108108108108,Precision:0.6655108108108109,Recall:0.34752432432432434\n",
      "Epoch 95,loss:0.6797966076209482\n",
      "Validation Loss: 0.6815581353935035,AUC: 0.5797675675675675,ACC:0.6218405405405407,F1:0.443727027027027,Precision:0.6647837837837838,Recall:0.3570810810810811\n",
      "Epoch 100,loss:0.6795805956410096\n",
      "Validation Loss: 0.6814430049947791,AUC: 0.5803945945945946,ACC:0.6224756756756759,F1:0.4352,Precision:0.6703756756756757,Recall:0.34449729729729733\n",
      "Epoch 105,loss:0.6793750339904717\n",
      "Validation Loss: 0.681349931536494,AUC: 0.5806837837837837,ACC:0.6237405405405407,F1:0.43767837837837836,Precision:0.6705648648648647,Recall:0.34788918918918926\n",
      "Epoch 110,loss:0.6791753531557269\n",
      "Validation Loss: 0.6812880828573897,AUC: 0.5807648648648648,ACC:0.6250054054054056,F1:0.43844594594594594,Precision:0.6739810810810809,Recall:0.34859189189189194\n",
      "Epoch 115,loss:0.6789845655449723\n",
      "Validation Loss: 0.6812370000658808,AUC: 0.5813513513513514,ACC:0.6250054054054055,F1:0.4369378378378378,Precision:0.674789189189189,Recall:0.3458972972972974\n",
      "Epoch 120,loss:0.6787953086658917\n",
      "Validation Loss: 0.6812272265150741,AUC: 0.580964864864865,ACC:0.6252135135135136,F1:0.4412270270270271,Precision:0.6737486486486486,Recall:0.3529027027027028\n",
      "Epoch 125,loss:0.6785989614714564\n",
      "Validation Loss: 0.681201420925759,AUC: 0.5812567567567568,ACC:0.6231027027027027,F1:0.44197837837837833,Precision:0.6659486486486484,Recall:0.3523756756756757\n",
      "Epoch 130,loss:0.6784319793228555\n",
      "Validation Loss: 0.6811654003890785,AUC: 0.5810567567567567,ACC:0.6226783783783784,F1:0.4449135135135135,Precision:0.6622054054054052,Recall:0.35771351351351355\n",
      "Epoch 135,loss:0.6782750144469\n",
      "Validation Loss: 0.6811693649034243,AUC: 0.5815081081081083,ACC:0.6218351351351351,F1:0.444272972972973,Precision:0.6597297297297297,Recall:0.3592540540540541\n",
      "早停策略触发，停止训练在第 134 个epoch.\n",
      "模型训练完成\n",
      "||--------训练结束时间： 2024-03-19 13:53:48.981993 -------------\n",
      "||--测试：---------- 1 个batch运行时间： 2024-03-19 13:53:48.995400 -------------\n",
      "||--测试：---------- 2 个batch运行时间： 2024-03-19 13:53:49.008178 -------------\n",
      "||--测试：---------- 3 个batch运行时间： 2024-03-19 13:53:49.021409 -------------\n",
      "||--测试：---------- 4 个batch运行时间： 2024-03-19 13:53:49.034638 -------------\n",
      "||--测试：---------- 5 个batch运行时间： 2024-03-19 13:53:49.047534 -------------\n",
      "||--测试：---------- 6 个batch运行时间： 2024-03-19 13:53:49.060372 -------------\n",
      "||--测试：---------- 7 个batch运行时间： 2024-03-19 13:53:49.073215 -------------\n",
      "||--测试：---------- 8 个batch运行时间： 2024-03-19 13:53:49.086208 -------------\n",
      "||--测试：---------- 9 个batch运行时间： 2024-03-19 13:53:49.099105 -------------\n",
      "||--测试：---------- 10 个batch运行时间： 2024-03-19 13:53:49.112620 -------------\n",
      "||--测试：---------- 11 个batch运行时间： 2024-03-19 13:53:49.127253 -------------\n",
      "||--测试：---------- 12 个batch运行时间： 2024-03-19 13:53:49.140354 -------------\n",
      "||--测试：---------- 13 个batch运行时间： 2024-03-19 13:53:49.153393 -------------\n",
      "||--测试：---------- 14 个batch运行时间： 2024-03-19 13:53:49.166141 -------------\n",
      "||--测试：---------- 15 个batch运行时间： 2024-03-19 13:53:49.179086 -------------\n",
      "||--测试：---------- 16 个batch运行时间： 2024-03-19 13:53:49.193508 -------------\n",
      "||--测试：---------- 17 个batch运行时间： 2024-03-19 13:53:49.206639 -------------\n",
      "||--测试：---------- 18 个batch运行时间： 2024-03-19 13:53:49.219697 -------------\n",
      "||--测试：---------- 19 个batch运行时间： 2024-03-19 13:53:49.232595 -------------\n",
      "||--测试：---------- 20 个batch运行时间： 2024-03-19 13:53:49.245521 -------------\n",
      "||--测试：---------- 21 个batch运行时间： 2024-03-19 13:53:49.258403 -------------\n",
      "||--测试：---------- 22 个batch运行时间： 2024-03-19 13:53:49.271410 -------------\n",
      "||--测试：---------- 23 个batch运行时间： 2024-03-19 13:53:49.284343 -------------\n",
      "||--测试：---------- 24 个batch运行时间： 2024-03-19 13:53:49.297549 -------------\n",
      "||--测试：---------- 25 个batch运行时间： 2024-03-19 13:53:49.310430 -------------\n",
      "||--测试：---------- 26 个batch运行时间： 2024-03-19 13:53:49.323468 -------------\n",
      "||--测试：---------- 27 个batch运行时间： 2024-03-19 13:53:49.336635 -------------\n",
      "||--测试：---------- 28 个batch运行时间： 2024-03-19 13:53:49.349709 -------------\n",
      "||--测试：---------- 29 个batch运行时间： 2024-03-19 13:53:49.363950 -------------\n",
      "||--测试：---------- 30 个batch运行时间： 2024-03-19 13:53:49.376959 -------------\n",
      "||--测试：---------- 31 个batch运行时间： 2024-03-19 13:53:49.389847 -------------\n",
      "||--测试：---------- 32 个batch运行时间： 2024-03-19 13:53:49.403429 -------------\n",
      "||--测试：---------- 33 个batch运行时间： 2024-03-19 13:53:49.417000 -------------\n",
      "||--测试：---------- 34 个batch运行时间： 2024-03-19 13:53:49.429907 -------------\n",
      "||--测试：---------- 35 个batch运行时间： 2024-03-19 13:53:49.442846 -------------\n",
      "||--测试：---------- 36 个batch运行时间： 2024-03-19 13:53:49.455988 -------------\n",
      "||--测试：---------- 37 个batch运行时间： 2024-03-19 13:53:49.469351 -------------\n",
      "Test Loss: 0.6807620058188567,AUC: 0.585327027027027,ACC:0.6199351351351354,F1:0.4728351351351351,Precision:0.6553459459459461,Recall:0.39927027027027023\n",
      "i=:3\n",
      "划分文件已存在，不再进行数据划分\n",
      "数据预处理结束\n",
      "数据划分完成\n",
      "张量生成完成\n",
      "模型搭建完成\n",
      "模型转移到GPU完成\n",
      "Epoch 5,loss:0.6914932474625849\n",
      "Validation Loss: 0.691412086422379,AUC: 0.5604594594594595,ACC:0.5945945945945947,F1:0.45982432432432435,Precision:0.5951702702702703,Recall:0.4132027027027027\n",
      "Epoch 10,loss:0.6899049435041648\n",
      "Validation Loss: 0.6886726601703747,AUC: 0.5697405405405405,ACC:0.6106378378378378,F1:0.4442243243243243,Precision:0.6328135135135137,Recall:0.36899729729729724\n",
      "Epoch 15,loss:0.6884401419521433\n",
      "Validation Loss: 0.6873934059529692,AUC: 0.5728027027027027,ACC:0.612327027027027,F1:0.44321891891891885,Precision:0.6440378378378377,Recall:0.36526486486486487\n",
      "Epoch 20,loss:0.6871648483571753\n",
      "Validation Loss: 0.6864178148475854,AUC: 0.5745405405405404,ACC:0.6152891891891892,F1:0.4419783783783784,Precision:0.6455459459459459,Recall:0.3580702702702704\n",
      "Epoch 25,loss:0.6860431369427031\n",
      "Validation Loss: 0.6855583078152424,AUC: 0.5764864864864865,ACC:0.6163459459459458,F1:0.44834864864864854,Precision:0.6456567567567569,Recall:0.3682297297297298\n",
      "Epoch 30,loss:0.6850513335877815\n",
      "Validation Loss: 0.6848276418608588,AUC: 0.5780081081081082,ACC:0.6163459459459458,F1:0.44628108108108117,Precision:0.6486513513513513,Recall:0.3640486486486486\n",
      "Epoch 35,loss:0.6841467349930147\n",
      "Validation Loss: 0.6842017028782819,AUC: 0.5794324324324323,ACC:0.6182459459459461,F1:0.4402162162162162,Precision:0.6615162162162163,Recall:0.3555486486486486\n",
      "Epoch 40,loss:0.6833488186903759\n",
      "Validation Loss: 0.6836603831600498,AUC: 0.580762162162162,ACC:0.6212054054054055,F1:0.4385459459459459,Precision:0.6709135135135136,Recall:0.34878648648648647\n",
      "Epoch 45,loss:0.6826147790503713\n",
      "Validation Loss: 0.6832038405779246,AUC: 0.5815243243243243,ACC:0.6205648648648648,F1:0.44782162162162165,Precision:0.6555135135135135,Recall:0.3615567567567568\n"
     ]
    },
    {
     "name": "stdout",
     "output_type": "stream",
     "text": [
      "Epoch 50,loss:0.6819438913227183\n",
      "Validation Loss: 0.6827973111255748,AUC: 0.5816459459459459,ACC:0.6205621621621621,F1:0.44515675675675676,Precision:0.6652756756756758,Recall:0.3584324324324324\n",
      "Epoch 55,loss:0.681282014445921\n",
      "Validation Loss: 0.6824324872042682,AUC: 0.5816648648648648,ACC:0.622037837837838,F1:0.45742432432432434,Precision:0.6447324324324325,Recall:0.37231081081081074\n",
      "Epoch 60,loss:0.6806696853806488\n",
      "Validation Loss: 0.6821547650002144,AUC: 0.5820837837837839,ACC:0.6235216216216216,F1:0.45337567567567566,Precision:0.6583054054054052,Recall:0.36664054054054046\n",
      "Epoch 65,loss:0.6800806664787562\n",
      "Validation Loss: 0.6819198099342553,AUC: 0.5823540540540539,ACC:0.6222540540540541,F1:0.45701621621621613,Precision:0.6578378378378378,Recall:0.37137567567567564\n",
      "Epoch 70,loss:0.6795061562968566\n",
      "Validation Loss: 0.6817237686466526,AUC: 0.5832972972972972,ACC:0.6235135135135134,F1:0.4541783783783784,Precision:0.6590972972972973,Recall:0.36810810810810807\n",
      "Epoch 75,loss:0.6789454733375955\n",
      "Validation Loss: 0.681541243114987,AUC: 0.5831702702702704,ACC:0.622891891891892,F1:0.46015675675675677,Precision:0.6541540540540541,Recall:0.37547297297297294\n",
      "Epoch 80,loss:0.6784166350828863\n",
      "Validation Loss: 0.6814145929104573,AUC: 0.5838918918918918,ACC:0.6243648648648649,F1:0.45876756756756754,Precision:0.6596972972972972,Recall:0.3686378378378377\n",
      "Epoch 85,loss:0.6779181229329743\n",
      "Validation Loss: 0.6813479919691343,AUC: 0.5843675675675677,ACC:0.6241513513513512,F1:0.4610432432432432,Precision:0.6600297297297296,Recall:0.3708837837837837\n",
      "Epoch 90,loss:0.6774271694959793\n",
      "Validation Loss: 0.6812117260855597,AUC: 0.5842054054054053,ACC:0.6249891891891891,F1:0.45417297297297293,Precision:0.6680756756756756,Recall:0.3652594594594595\n",
      "Epoch 95,loss:0.6769436017601891\n",
      "Validation Loss: 0.6809219959619883,AUC: 0.5842270270270269,ACC:0.6256243243243242,F1:0.4551432432432431,Precision:0.6675216216216215,Recall:0.3616189189189189\n",
      "Epoch 100,loss:0.6765508435468758\n",
      "Validation Loss: 0.6807173957695832,AUC: 0.5846297297297297,ACC:0.6249945945945945,F1:0.4576162162162162,Precision:0.6656405405405404,Recall:0.3657324324324324\n",
      "Epoch 105,loss:0.6762010871836569\n",
      "Validation Loss: 0.6804841885695586,AUC: 0.5845891891891892,ACC:0.6256297297297297,F1:0.44949729729729726,Precision:0.6729648648648648,Recall:0.35623783783783786\n",
      "Epoch 110,loss:0.6758819955640134\n",
      "Validation Loss: 0.6803314266978083,AUC: 0.5851405405405407,ACC:0.6262648648648648,F1:0.44572702702702705,Precision:0.6795675675675673,Recall:0.35006216216216224\n",
      "Epoch 115,loss:0.6755929188390749\n",
      "Validation Loss: 0.6800866851935515,AUC: 0.5856918918918919,ACC:0.6258432432432433,F1:0.4451918918918919,Precision:0.6834162162162161,Recall:0.3510378378378379\n",
      "Epoch 120,loss:0.6753232916899486\n",
      "Validation Loss: 0.6799144583779413,AUC: 0.5860297297297296,ACC:0.6269054054054054,F1:0.44539459459459463,Precision:0.6859756756756755,Recall:0.34952162162162176\n",
      "Epoch 125,loss:0.6750715559562751\n",
      "Validation Loss: 0.6797421381280229,AUC: 0.5865729729729731,ACC:0.6258486486486486,F1:0.4468783783783783,Precision:0.6818567567567566,Recall:0.3524837837837839\n",
      "Epoch 130,loss:0.6748353833645846\n",
      "Validation Loss: 0.6796406459163975,AUC: 0.5868621621621622,ACC:0.6269054054054054,F1:0.4433108108108109,Precision:0.6869243243243242,Recall:0.3476891891891894\n",
      "Epoch 135,loss:0.6746074905437706\n",
      "Validation Loss: 0.6794689023816908,AUC: 0.5869297297297297,ACC:0.6264810810810811,F1:0.4431162162162163,Precision:0.6851540540540538,Recall:0.3483783783783785\n",
      "Epoch 140,loss:0.6743987962207963\n",
      "Validation Loss: 0.6793902258615236,AUC: 0.5871135135135134,ACC:0.6269027027027028,F1:0.44600810810810815,Precision:0.6846135135135132,Recall:0.351464864864865\n",
      "Epoch 145,loss:0.6742121619460857\n",
      "Validation Loss: 0.6793415594745327,AUC: 0.5868783783783783,ACC:0.626691891891892,F1:0.4514972972972972,Precision:0.6779243243243241,Recall:0.3575675675675676\n",
      "Epoch 150,loss:0.6740176688253352\n",
      "Validation Loss: 0.6792972345609922,AUC: 0.5868324324324322,ACC:0.6254216216216217,F1:0.4599162162162162,Precision:0.6671918918918917,Recall:0.37041081081081073\n",
      "Epoch 155,loss:0.673822579658137\n",
      "Validation Loss: 0.679216331726796,AUC: 0.5875702702702702,ACC:0.6245810810810811,F1:0.4635729729729729,Precision:0.6623054054054053,Recall:0.37394864864864863\n",
      "Epoch 160,loss:0.6736328021614952\n",
      "Validation Loss: 0.6791549276661228,AUC: 0.5874135135135135,ACC:0.6247918918918919,F1:0.4603513513513514,Precision:0.6656216216216216,Recall:0.36918648648648644\n",
      "Epoch 165,loss:0.67344969722022\n",
      "Validation Loss: 0.6790339092950564,AUC: 0.5881135135135135,ACC:0.6260567567567566,F1:0.4618837837837839,Precision:0.6659216216216215,Recall:0.37013513513513513\n",
      "Epoch 170,loss:0.6732704481192394\n",
      "Validation Loss: 0.678925456227483,AUC: 0.5888756756756757,ACC:0.6268999999999999,F1:0.46327027027027035,Precision:0.666881081081081,Recall:0.3713540540540541\n",
      "Epoch 175,loss:0.6731099254262131\n",
      "Validation Loss: 0.6788341982944591,AUC: 0.589581081081081,ACC:0.6279540540540539,F1:0.46514054054054055,Precision:0.6687972972972973,Recall:0.37215135135135136\n",
      "Epoch 180,loss:0.6729535529043822\n",
      "Validation Loss: 0.6787441856152302,AUC: 0.5893297297297299,ACC:0.6275324324324324,F1:0.46597027027027027,Precision:0.6655027027027025,Recall:0.3746432432432432\n",
      "Epoch 185,loss:0.6728012102895078\n",
      "Validation Loss: 0.6786771158914309,AUC: 0.5902081081081082,ACC:0.6288,F1:0.4635837837837838,Precision:0.6695108108108108,Recall:0.369054054054054\n",
      "Epoch 190,loss:0.6726507433747824\n",
      "Validation Loss: 0.6786242465715151,AUC: 0.5909405405405405,ACC:0.6288,F1:0.4625891891891891,Precision:0.6700999999999999,Recall:0.3687864864864864\n",
      "Epoch 195,loss:0.6725068967954247\n",
      "Validation Loss: 0.6785662593068303,AUC: 0.5911054054054056,ACC:0.6292216216216217,F1:0.4614297297297297,Precision:0.6714540540540539,Recall:0.366527027027027\n",
      "Epoch 200,loss:0.6723586790329588\n",
      "Validation Loss: 0.6785202509648091,AUC: 0.5910486486486487,ACC:0.629008108108108,F1:0.46218648648648647,Precision:0.6698783783783784,Recall:0.3678756756756756\n",
      "Epoch 205,loss:0.6722116792096501\n",
      "Validation Loss: 0.6784761064761394,AUC: 0.5908945945945945,ACC:0.629008108108108,F1:0.4624972972972973,Precision:0.669027027027027,Recall:0.367881081081081\n",
      "Epoch 210,loss:0.672066934340823\n",
      "Validation Loss: 0.6784413907978986,AUC: 0.5917135135135133,ACC:0.6296405405405405,F1:0.45926486486486484,Precision:0.6747999999999998,Recall:0.3618972972972972\n",
      "Epoch 215,loss:0.6719258501466396\n",
      "Validation Loss: 0.6784022933727986,AUC: 0.5914945945945949,ACC:0.6300621621621619,F1:0.46068378378378383,Precision:0.6755702702702703,Recall:0.3619648648648648\n",
      "Epoch 220,loss:0.6717837326294553\n",
      "Validation Loss: 0.6783658475489229,AUC: 0.5909594594594594,ACC:0.6296405405405404,F1:0.4610945945945945,Precision:0.6708864864864864,Recall:0.3635945945945945\n",
      "Epoch 225,loss:0.6716474025650362\n",
      "Validation Loss: 0.6783215145807009,AUC: 0.591408108108108,ACC:0.6298513513513513,F1:0.4684945945945946,Precision:0.6694297297297299,Recall:0.3747567567567567\n",
      "Epoch 230,loss:0.671510999709104\n",
      "Validation Loss: 0.6782876591424685,AUC: 0.5912243243243244,ACC:0.6315378378378378,F1:0.46881081081081083,Precision:0.6720108108108108,Recall:0.3748513513513513\n",
      "Epoch 235,loss:0.6713800150736243\n",
      "Validation Loss: 0.6782683069641525,AUC: 0.5911000000000001,ACC:0.6311162162162162,F1:0.4670675675675677,Precision:0.6733810810810812,Recall:0.3723027027027027\n",
      "Epoch 240,loss:0.671245079652398\n",
      "Validation Loss: 0.6782340326824704,AUC: 0.5914027027027027,ACC:0.6306945945945945,F1:0.46816216216216217,Precision:0.6704027027027027,Recall:0.3715783783783783\n",
      "Epoch 245,loss:0.671109788713202\n",
      "Validation Loss: 0.6781998373366691,AUC: 0.5910594594594594,ACC:0.629854054054054,F1:0.4756243243243244,Precision:0.6587675675675676,Recall:0.3823243243243243\n",
      "Epoch 250,loss:0.6709795177510355\n",
      "Validation Loss: 0.6781612344690271,AUC: 0.591154054054054,ACC:0.6307,F1:0.4754162162162162,Precision:0.6618162162162162,Recall:0.3815378378378378\n",
      "Epoch 255,loss:0.6708433754676211\n",
      "Validation Loss: 0.6780776784226701,AUC: 0.5913621621621622,ACC:0.6306972972972973,F1:0.47034054054054064,Precision:0.6632945945945945,Recall:0.3751486486486486\n",
      "Epoch 260,loss:0.6707027311873647\n",
      "Validation Loss: 0.6780008351480639,AUC: 0.5916810810810811,ACC:0.6315405405405405,F1:0.4693027027027027,Precision:0.6686189189189189,Recall:0.3735972972972973\n"
     ]
    },
    {
     "name": "stdout",
     "output_type": "stream",
     "text": [
      "Epoch 265,loss:0.6705712501981617\n",
      "Validation Loss: 0.6779409067050831,AUC: 0.5920945945945948,ACC:0.6323864864864864,F1:0.46728918918918916,Precision:0.6726783783783784,Recall:0.36889729729729714\n",
      "Epoch 270,loss:0.6704474967137902\n",
      "Validation Loss: 0.6778864989409575,AUC: 0.5920405405405407,ACC:0.6325972972972973,F1:0.4681027027027026,Precision:0.6723702702702701,Recall:0.3702918918918919\n",
      "Epoch 275,loss:0.6703283354244401\n",
      "Validation Loss: 0.6778312244930783,AUC: 0.5925054054054055,ACC:0.6330189189189188,F1:0.46620000000000006,Precision:0.6771594594594593,Recall:0.36787297297297294\n",
      "Epoch 280,loss:0.6702144230361533\n",
      "Validation Loss: 0.677777923442222,AUC: 0.5925405405405405,ACC:0.6325972972972972,F1:0.47150810810810806,Precision:0.671491891891892,Recall:0.3749054054054054\n",
      "Epoch 285,loss:0.670095027548022\n",
      "Validation Loss: 0.6777333133929485,AUC: 0.5924783783783784,ACC:0.6323864864864864,F1:0.47173513513513515,Precision:0.6706837837837838,Recall:0.37549459459459456\n",
      "Epoch 290,loss:0.6699842246232834\n",
      "Validation Loss: 0.6776996544889502,AUC: 0.5926378378378379,ACC:0.6330135135135133,F1:0.47201621621621614,Precision:0.6745972972972974,Recall:0.3736486486486486\n",
      "Epoch 295,loss:0.6698740720748901\n",
      "Validation Loss: 0.6776352508648021,AUC: 0.5924621621621622,ACC:0.6334405405405404,F1:0.47082972972972975,Precision:0.6750486486486487,Recall:0.37125405405405404\n",
      "Epoch 300,loss:0.6697669820447939\n",
      "Validation Loss: 0.6775982476569511,AUC: 0.5928216216216216,ACC:0.6340756756756756,F1:0.4690054054054054,Precision:0.6798216216216217,Recall:0.36750810810810813\n",
      "Epoch 305,loss:0.6696564296705533\n",
      "Validation Loss: 0.6775630519196794,AUC: 0.5932864864864864,ACC:0.6332297297297297,F1:0.47095135135135135,Precision:0.676572972972973,Recall:0.3715216216216217\n",
      "Epoch 310,loss:0.6695466722007346\n",
      "Validation Loss: 0.6775277466387362,AUC: 0.5928135135135135,ACC:0.6323864864864863,F1:0.46907567567567565,Precision:0.675737837837838,Recall:0.3698486486486487\n",
      "Epoch 315,loss:0.6694462626381258\n",
      "Validation Loss: 0.6775141116735097,AUC: 0.5929027027027028,ACC:0.632808108108108,F1:0.4697891891891891,Precision:0.6768567567567567,Recall:0.3700459459459459\n",
      "Epoch 320,loss:0.6693441066066775\n",
      "Validation Loss: 0.6774983889347798,AUC: 0.593281081081081,ACC:0.6334432432432432,F1:0.4688783783783784,Precision:0.6775648648648649,Recall:0.36709459459459465\n",
      "Epoch 325,loss:0.6692434153725616\n",
      "Validation Loss: 0.6774798390027639,AUC: 0.5934810810810812,ACC:0.6330189189189188,F1:0.46800810810810817,Precision:0.6772162162162164,Recall:0.3690756756756756\n",
      "Epoch 330,loss:0.6691419355637205\n",
      "Validation Loss: 0.677466234645328,AUC: 0.5932270270270269,ACC:0.6332297297297296,F1:0.47025405405405407,Precision:0.6768594594594596,Recall:0.37192162162162157\n",
      "Epoch 335,loss:0.6690455084353422\n",
      "Validation Loss: 0.6774286402238382,AUC: 0.5933432432432433,ACC:0.6338648648648647,F1:0.4673756756756757,Precision:0.6842054054054055,Recall:0.3664756756756757\n",
      "Epoch 340,loss:0.6689409001738624\n",
      "Validation Loss: 0.6774177760691256,AUC: 0.5932864864864865,ACC:0.6332324324324322,F1:0.4692513513513514,Precision:0.6781864864864865,Recall:0.37021891891891895\n",
      "Epoch 345,loss:0.668831451804237\n",
      "Validation Loss: 0.6773710444166854,AUC: 0.593162162162162,ACC:0.6338675675675675,F1:0.4681324324324326,Precision:0.679591891891892,Recall:0.3673351351351351\n",
      "Epoch 350,loss:0.668733014469653\n",
      "Validation Loss: 0.6773506628500449,AUC: 0.593318918918919,ACC:0.6340783783783782,F1:0.46738918918918926,Precision:0.6806675675675676,Recall:0.36618378378378375\n",
      "Epoch 355,loss:0.6686270975433619\n",
      "Validation Loss: 0.6773292825028703,AUC: 0.5930081081081081,ACC:0.6344999999999998,F1:0.4656783783783785,Precision:0.6846810810810812,Recall:0.3630621621621621\n",
      "Epoch 360,loss:0.668536824462688\n",
      "Validation Loss: 0.6773105666444108,AUC: 0.5929243243243245,ACC:0.6349216216216215,F1:0.4654486486486487,Precision:0.686545945945946,Recall:0.36152972972972974\n",
      "Epoch 365,loss:0.6684382447099264\n",
      "Validation Loss: 0.6772563618582648,AUC: 0.5931567567567566,ACC:0.6351324324324322,F1:0.4664513513513514,Precision:0.6849027027027028,Recall:0.36311891891891884\n",
      "Epoch 370,loss:0.6683404487846172\n",
      "Validation Loss: 0.6772338683540756,AUC: 0.5930675675675676,ACC:0.6353432432432431,F1:0.46170000000000005,Precision:0.6934540540540541,Recall:0.3552189189189189\n",
      "Epoch 375,loss:0.668245269661456\n",
      "Validation Loss: 0.6772129890081044,AUC: 0.5929756756756757,ACC:0.6363999999999999,F1:0.46289729729729734,Precision:0.6928270270270271,Recall:0.3565810810810811\n",
      "Epoch 380,loss:0.6681546067769548\n",
      "Validation Loss: 0.6771927234288808,AUC: 0.5933675675675677,ACC:0.6368243243243242,F1:0.46051621621621636,Precision:0.7005405405405406,Recall:0.35270810810810804\n",
      "Epoch 385,loss:0.668069697586836\n",
      "Validation Loss: 0.6771674494485598,AUC: 0.5931216216216217,ACC:0.6361918918918918,F1:0.4628783783783785,Precision:0.6933648648648649,Recall:0.357191891891892\n",
      "Epoch 390,loss:0.667996483039012\n",
      "Validation Loss: 0.6771860589852204,AUC: 0.5933324324324325,ACC:0.635981081081081,F1:0.4663621621621622,Precision:0.6884945945945947,Recall:0.36184864864864874\n",
      "早停策略触发，停止训练在第 389 个epoch.\n",
      "模型训练完成\n",
      "||--------训练结束时间： 2024-03-19 14:52:04.812607 -------------\n",
      "||--测试：---------- 1 个batch运行时间： 2024-03-19 14:52:04.827482 -------------\n",
      "||--测试：---------- 2 个batch运行时间： 2024-03-19 14:52:04.841271 -------------\n",
      "||--测试：---------- 3 个batch运行时间： 2024-03-19 14:52:04.854428 -------------\n",
      "||--测试：---------- 4 个batch运行时间： 2024-03-19 14:52:04.867655 -------------\n",
      "||--测试：---------- 5 个batch运行时间： 2024-03-19 14:52:04.880938 -------------\n",
      "||--测试：---------- 6 个batch运行时间： 2024-03-19 14:52:04.896119 -------------\n",
      "||--测试：---------- 7 个batch运行时间： 2024-03-19 14:52:04.909500 -------------\n",
      "||--测试：---------- 8 个batch运行时间： 2024-03-19 14:52:04.922644 -------------\n",
      "||--测试：---------- 9 个batch运行时间： 2024-03-19 14:52:04.935805 -------------\n",
      "||--测试：---------- 10 个batch运行时间： 2024-03-19 14:52:04.950081 -------------\n",
      "||--测试：---------- 11 个batch运行时间： 2024-03-19 14:52:04.963345 -------------\n",
      "||--测试：---------- 12 个batch运行时间： 2024-03-19 14:52:04.977533 -------------\n",
      "||--测试：---------- 13 个batch运行时间： 2024-03-19 14:52:04.990839 -------------\n",
      "||--测试：---------- 14 个batch运行时间： 2024-03-19 14:52:05.005165 -------------\n",
      "||--测试：---------- 15 个batch运行时间： 2024-03-19 14:52:05.019073 -------------\n",
      "||--测试：---------- 16 个batch运行时间： 2024-03-19 14:52:05.032310 -------------\n",
      "||--测试：---------- 17 个batch运行时间： 2024-03-19 14:52:05.045414 -------------\n",
      "||--测试：---------- 18 个batch运行时间： 2024-03-19 14:52:05.059635 -------------\n",
      "||--测试：---------- 19 个batch运行时间： 2024-03-19 14:52:05.072988 -------------\n",
      "||--测试：---------- 20 个batch运行时间： 2024-03-19 14:52:05.086070 -------------\n",
      "||--测试：---------- 21 个batch运行时间： 2024-03-19 14:52:05.099163 -------------\n",
      "||--测试：---------- 22 个batch运行时间： 2024-03-19 14:52:05.112566 -------------\n",
      "||--测试：---------- 23 个batch运行时间： 2024-03-19 14:52:05.126181 -------------\n",
      "||--测试：---------- 24 个batch运行时间： 2024-03-19 14:52:05.139279 -------------\n",
      "||--测试：---------- 25 个batch运行时间： 2024-03-19 14:52:05.152645 -------------\n",
      "||--测试：---------- 26 个batch运行时间： 2024-03-19 14:52:05.165741 -------------\n",
      "||--测试：---------- 27 个batch运行时间： 2024-03-19 14:52:05.181235 -------------\n",
      "||--测试：---------- 28 个batch运行时间： 2024-03-19 14:52:05.194386 -------------\n",
      "||--测试：---------- 29 个batch运行时间： 2024-03-19 14:52:05.207595 -------------\n",
      "||--测试：---------- 30 个batch运行时间： 2024-03-19 14:52:05.221324 -------------\n",
      "||--测试：---------- 31 个batch运行时间： 2024-03-19 14:52:05.235984 -------------\n",
      "||--测试：---------- 32 个batch运行时间： 2024-03-19 14:52:05.249216 -------------\n",
      "||--测试：---------- 33 个batch运行时间： 2024-03-19 14:52:05.262332 -------------\n",
      "||--测试：---------- 34 个batch运行时间： 2024-03-19 14:52:05.275381 -------------\n",
      "||--测试：---------- 35 个batch运行时间： 2024-03-19 14:52:05.289561 -------------\n",
      "||--测试：---------- 36 个batch运行时间： 2024-03-19 14:52:05.302746 -------------\n",
      "||--测试：---------- 37 个batch运行时间： 2024-03-19 14:52:05.315856 -------------\n",
      "Test Loss: 0.6750555618389232,AUC: 0.5938837837837837,ACC:0.6323864864864864,F1:0.44057837837837843,Precision:0.7159405405405407,Recall:0.3292378378378379\n",
      "i=:4\n",
      "划分文件已存在，不再进行数据划分\n",
      "数据预处理结束\n",
      "数据划分完成\n",
      "张量生成完成\n",
      "模型搭建完成\n",
      "模型转移到GPU完成\n",
      "Epoch 5,loss:0.6905114951386916\n",
      "Validation Loss: 0.6890934383546984,AUC: 0.5686054054054055,ACC:0.6083189189189188,F1:0.4540891891891891,Precision:0.6182216216216216,Recall:0.3852378378378379\n"
     ]
    },
    {
     "name": "stdout",
     "output_type": "stream",
     "text": [
      "Epoch 10,loss:0.6891750841014153\n",
      "Validation Loss: 0.6880548548054051,AUC: 0.5717513513513512,ACC:0.6110702702702702,F1:0.45329189189189184,Precision:0.6244729729729731,Recall:0.3817513513513514\n",
      "Epoch 15,loss:0.6879937453607542\n",
      "Validation Loss: 0.6871851634334873,AUC: 0.5736513513513511,ACC:0.6125432432432433,F1:0.4453567567567567,Precision:0.6388621621621623,Recall:0.37156486486486484\n",
      "Epoch 20,loss:0.6868976475918187\n",
      "Validation Loss: 0.6863707706734941,AUC: 0.5755189189189189,ACC:0.6140135135135136,F1:0.4438918918918919,Precision:0.6485513513513513,Recall:0.36768108108108094\n",
      "Epoch 25,loss:0.6858332046365316\n",
      "Validation Loss: 0.685567370943121,AUC: 0.577383783783784,ACC:0.6161297297297297,F1:0.4528648648648649,Precision:0.6441891891891893,Recall:0.3742486486486486\n",
      "Epoch 30,loss:0.684786495381752\n",
      "Validation Loss: 0.6847985419067176,AUC: 0.5786486486486486,ACC:0.6157054054054054,F1:0.45423243243243244,Precision:0.6509756756756757,Recall:0.37364054054054047\n",
      "Epoch 35,loss:0.6837637498315456\n",
      "Validation Loss: 0.6840735673904419,AUC: 0.5795054054054053,ACC:0.621827027027027,F1:0.4360891891891891,Precision:0.6697459459459459,Recall:0.3424486486486486\n",
      "Epoch 40,loss:0.6827956258723166\n",
      "Validation Loss: 0.6835409725034559,AUC: 0.5801054054054054,ACC:0.6186702702702702,F1:0.45842972972972973,Precision:0.6488054054054055,Recall:0.37797837837837844\n",
      "Epoch 45,loss:0.6818919466660086\n",
      "Validation Loss: 0.683105020909696,AUC: 0.5807270270270269,ACC:0.6245783783783783,F1:0.44966486486486484,Precision:0.6678972972972975,Recall:0.3594459459459459\n",
      "Epoch 50,loss:0.6810528519934258\n",
      "Validation Loss: 0.6826519821141217,AUC: 0.5812756756756754,ACC:0.6233081081081079,F1:0.4494162162162162,Precision:0.669427027027027,Recall:0.36521351351351355\n",
      "Epoch 55,loss:0.680280978700756\n",
      "Validation Loss: 0.6822256574759612,AUC: 0.5821486486486486,ACC:0.6243675675675674,F1:0.4606432432432432,Precision:0.6585837837837838,Recall:0.3731648648648649\n",
      "Epoch 60,loss:0.6795742738563403\n",
      "Validation Loss: 0.6818789775307114,AUC: 0.5831162162162161,ACC:0.6241648648648648,F1:0.4599189189189189,Precision:0.6529405405405405,Recall:0.3720594594594595\n",
      "Epoch 65,loss:0.678916167368931\n",
      "Validation Loss: 0.6815163509265797,AUC: 0.5840378378378379,ACC:0.6258567567567567,F1:0.45904594594594594,Precision:0.6605513513513515,Recall:0.3723999999999999\n",
      "Epoch 70,loss:0.6783254099103202\n",
      "Validation Loss: 0.6811182837228518,AUC: 0.5848351351351351,ACC:0.6239459459459458,F1:0.462118918918919,Precision:0.6562351351351351,Recall:0.37833513513513506\n",
      "Epoch 75,loss:0.6777897281984312\n",
      "Validation Loss: 0.6806754308777887,AUC: 0.5860081081081081,ACC:0.6250081081081081,F1:0.4636972972972972,Precision:0.6648054054054052,Recall:0.37904324324324323\n",
      "Epoch 80,loss:0.6773074327316959\n",
      "Validation Loss: 0.6802370677123198,AUC: 0.5868594594594595,ACC:0.6252081081081081,F1:0.4607675675675675,Precision:0.6666621621621621,Recall:0.3721675675675675\n",
      "Epoch 85,loss:0.6768794165248364\n",
      "Validation Loss: 0.6797933868459753,AUC: 0.5864243243243242,ACC:0.6252108108108108,F1:0.46715405405405397,Precision:0.6610432432432434,Recall:0.38095135135135133\n",
      "Epoch 90,loss:0.6764980739196845\n",
      "Validation Loss: 0.6794203294290079,AUC: 0.5866432432432435,ACC:0.6262702702702704,F1:0.46017837837837844,Precision:0.674191891891892,Recall:0.36899729729729736\n",
      "Epoch 95,loss:0.6761435133166018\n",
      "Validation Loss: 0.6790939633910721,AUC: 0.587216216216216,ACC:0.6279594594594595,F1:0.4562108108108109,Precision:0.6848567567567567,Recall:0.36298378378378376\n",
      "Epoch 100,loss:0.675828723253402\n",
      "Validation Loss: 0.6788124635412887,AUC: 0.5867405405405405,ACC:0.6290135135135135,F1:0.45566756756756766,Precision:0.6899135135135136,Recall:0.3619135135135135\n",
      "Epoch 105,loss:0.6755382877535525\n",
      "Validation Loss: 0.678554528468364,AUC: 0.5876675675675677,ACC:0.6309135135135135,F1:0.4528675675675677,Precision:0.6962594594594596,Recall:0.35445675675675675\n",
      "Epoch 110,loss:0.6752714134950554\n",
      "Validation Loss: 0.6783240775804262,AUC: 0.5869540540540541,ACC:0.6307027027027029,F1:0.4563486486486486,Precision:0.6876405405405407,Recall:0.35913783783783787\n",
      "Epoch 115,loss:0.6750171537947866\n",
      "Validation Loss: 0.6781237028740548,AUC: 0.5877756756756757,ACC:0.6302837837837838,F1:0.45565945945945946,Precision:0.6852567567567569,Recall:0.3575432432432432\n",
      "Epoch 120,loss:0.6747789989530513\n",
      "Validation Loss: 0.6779377283276738,AUC: 0.5887162162162162,ACC:0.6307054054054054,F1:0.4615972972972973,Precision:0.6804486486486486,Recall:0.3646108108108108\n",
      "Epoch 125,loss:0.6745557141515006\n",
      "Validation Loss: 0.6777933272155555,AUC: 0.5894297297297296,ACC:0.6309162162162163,F1:0.46472972972972976,Precision:0.6817270270270269,Recall:0.36713243243243243\n",
      "Epoch 130,loss:0.6743409280228404\n",
      "Validation Loss: 0.677662469245292,AUC: 0.5903540540540542,ACC:0.6304945945945947,F1:0.47310540540540547,Precision:0.6787567567567567,Recall:0.3822891891891892\n",
      "Epoch 135,loss:0.6741269747767829\n",
      "Validation Loss: 0.6775322250417761,AUC: 0.5902702702702702,ACC:0.6309162162162163,F1:0.47282702702702706,Precision:0.6819972972972973,Recall:0.3817378378378379\n",
      "Epoch 140,loss:0.6739212306199875\n",
      "Validation Loss: 0.677398415836128,AUC: 0.5902378378378377,ACC:0.6302864864864864,F1:0.47123513513513515,Precision:0.682737837837838,Recall:0.37944594594594594\n",
      "Epoch 145,loss:0.6737283837478772\n",
      "Validation Loss: 0.6773023524799863,AUC: 0.5906972972972975,ACC:0.6311297297297297,F1:0.4689567567567568,Precision:0.6881108108108109,Recall:0.37592972972972966\n",
      "Epoch 150,loss:0.6735305548769183\n",
      "Validation Loss: 0.677228481382937,AUC: 0.5908054054054053,ACC:0.6311297297297297,F1:0.47039729729729723,Precision:0.6857783783783786,Recall:0.3768621621621621\n",
      "Epoch 155,loss:0.6733371599585609\n",
      "Validation Loss: 0.6771462753012374,AUC: 0.590827027027027,ACC:0.6309189189189188,F1:0.4709783783783783,Precision:0.6841243243243245,Recall:0.3773837837837838\n",
      "Epoch 160,loss:0.6731460832916529\n",
      "Validation Loss: 0.6770474959064174,AUC: 0.5918405405405405,ACC:0.6313378378378377,F1:0.46975945945945935,Precision:0.686064864864865,Recall:0.3767891891891892\n",
      "Epoch 165,loss:0.6729541721597182\n",
      "Validation Loss: 0.6769614477415342,AUC: 0.5922243243243246,ACC:0.6302810810810809,F1:0.47467567567567565,Precision:0.6768405405405407,Recall:0.3837027027027028\n",
      "Epoch 170,loss:0.672743535147304\n",
      "Validation Loss: 0.676894257197509,AUC: 0.5934972972972974,ACC:0.6319702702702703,F1:0.47185135135135137,Precision:0.6851378378378379,Recall:0.376572972972973\n",
      "Epoch 175,loss:0.6725474205692258\n",
      "Validation Loss: 0.6768468731158489,AUC: 0.5942810810810808,ACC:0.6321837837837838,F1:0.46897567567567566,Precision:0.6872810810810809,Recall:0.37252702702702706\n",
      "Epoch 180,loss:0.6723383891898974\n",
      "Validation Loss: 0.6768412042308498,AUC: 0.5945594594594593,ACC:0.6321837837837837,F1:0.46886486486486484,Precision:0.6857189189189189,Recall:0.3721675675675676\n",
      "Epoch 185,loss:0.672151549200041\n",
      "Validation Loss: 0.6768142339345571,AUC: 0.5955216216216216,ACC:0.6313405405405406,F1:0.4695405405405404,Precision:0.6820513513513512,Recall:0.37411081081081077\n",
      "Epoch 190,loss:0.6719830553088568\n",
      "Validation Loss: 0.6767964733613504,AUC: 0.5960054054054054,ACC:0.6307054054054054,F1:0.47152972972972956,Precision:0.6772027027027026,Recall:0.3782756756756756\n",
      "Epoch 195,loss:0.671822764177238\n",
      "Validation Loss: 0.6767925346219862,AUC: 0.5955540540540541,ACC:0.6317648648648649,F1:0.46737027027027017,Precision:0.6826864864864864,Recall:0.36744594594594593\n",
      "Epoch 200,loss:0.6716675505173945\n",
      "Validation Loss: 0.6768128034230825,AUC: 0.5956216216216216,ACC:0.6311324324324324,F1:0.4675837837837837,Precision:0.6802999999999999,Recall:0.3682621621621621\n",
      "早停策略触发，停止训练在第 199 个epoch.\n",
      "模型训练完成\n",
      "||--------训练结束时间： 2024-03-19 15:22:56.420933 -------------\n",
      "||--测试：---------- 1 个batch运行时间： 2024-03-19 15:22:56.434497 -------------\n",
      "||--测试：---------- 2 个batch运行时间： 2024-03-19 15:22:56.447657 -------------\n",
      "||--测试：---------- 3 个batch运行时间： 2024-03-19 15:22:56.460658 -------------\n",
      "||--测试：---------- 4 个batch运行时间： 2024-03-19 15:22:56.473749 -------------\n",
      "||--测试：---------- 5 个batch运行时间： 2024-03-19 15:22:56.486812 -------------\n",
      "||--测试：---------- 6 个batch运行时间： 2024-03-19 15:22:56.500253 -------------\n",
      "||--测试：---------- 7 个batch运行时间： 2024-03-19 15:22:56.513242 -------------\n",
      "||--测试：---------- 8 个batch运行时间： 2024-03-19 15:22:56.526202 -------------\n",
      "||--测试：---------- 9 个batch运行时间： 2024-03-19 15:22:56.539230 -------------\n",
      "||--测试：---------- 10 个batch运行时间： 2024-03-19 15:22:56.552452 -------------\n",
      "||--测试：---------- 11 个batch运行时间： 2024-03-19 15:22:56.565438 -------------\n",
      "||--测试：---------- 12 个batch运行时间： 2024-03-19 15:22:56.578609 -------------\n",
      "||--测试：---------- 13 个batch运行时间： 2024-03-19 15:22:56.591638 -------------\n",
      "||--测试：---------- 14 个batch运行时间： 2024-03-19 15:22:56.604618 -------------\n",
      "||--测试：---------- 15 个batch运行时间： 2024-03-19 15:22:56.617844 -------------\n"
     ]
    },
    {
     "name": "stdout",
     "output_type": "stream",
     "text": [
      "||--测试：---------- 16 个batch运行时间： 2024-03-19 15:22:56.631508 -------------\n",
      "||--测试：---------- 17 个batch运行时间： 2024-03-19 15:22:56.644933 -------------\n",
      "||--测试：---------- 18 个batch运行时间： 2024-03-19 15:22:56.657925 -------------\n",
      "||--测试：---------- 19 个batch运行时间： 2024-03-19 15:22:56.670926 -------------\n",
      "||--测试：---------- 20 个batch运行时间： 2024-03-19 15:22:56.683886 -------------\n",
      "||--测试：---------- 21 个batch运行时间： 2024-03-19 15:22:56.696853 -------------\n",
      "||--测试：---------- 22 个batch运行时间： 2024-03-19 15:22:56.709988 -------------\n",
      "||--测试：---------- 23 个batch运行时间： 2024-03-19 15:22:56.723832 -------------\n",
      "||--测试：---------- 24 个batch运行时间： 2024-03-19 15:22:56.736758 -------------\n",
      "||--测试：---------- 25 个batch运行时间： 2024-03-19 15:22:56.749742 -------------\n",
      "||--测试：---------- 26 个batch运行时间： 2024-03-19 15:22:56.763382 -------------\n",
      "||--测试：---------- 27 个batch运行时间： 2024-03-19 15:22:56.777241 -------------\n",
      "||--测试：---------- 28 个batch运行时间： 2024-03-19 15:22:56.790211 -------------\n",
      "||--测试：---------- 29 个batch运行时间： 2024-03-19 15:22:56.803220 -------------\n",
      "||--测试：---------- 30 个batch运行时间： 2024-03-19 15:22:56.817427 -------------\n",
      "||--测试：---------- 31 个batch运行时间： 2024-03-19 15:22:56.833344 -------------\n",
      "||--测试：---------- 32 个batch运行时间： 2024-03-19 15:22:56.847395 -------------\n",
      "||--测试：---------- 33 个batch运行时间： 2024-03-19 15:22:56.860841 -------------\n",
      "||--测试：---------- 34 个batch运行时间： 2024-03-19 15:22:56.874444 -------------\n",
      "||--测试：---------- 35 个batch运行时间： 2024-03-19 15:22:56.888303 -------------\n",
      "||--测试：---------- 36 个batch运行时间： 2024-03-19 15:22:56.902902 -------------\n",
      "||--测试：---------- 37 个batch运行时间： 2024-03-19 15:22:56.917753 -------------\n",
      "Test Loss: 0.6763144554318609,AUC: 0.596054054054054,ACC:0.6298567567567567,F1:0.4624243243243244,Precision:0.6846459459459462,Recall:0.37087027027027036\n",
      "i=:5\n",
      "划分文件已存在，不再进行数据划分\n",
      "数据预处理结束\n",
      "数据划分完成\n",
      "张量生成完成\n",
      "模型搭建完成\n",
      "模型转移到GPU完成\n",
      "Epoch 5,loss:0.690704442231001\n",
      "Validation Loss: 0.6888842695468181,AUC: 0.5684756756756755,ACC:0.6074756756756756,F1:0.4574702702702703,Precision:0.6161108108108108,Recall:0.3882243243243243\n",
      "Epoch 10,loss:0.6893252957183703\n",
      "Validation Loss: 0.6878529593751237,AUC: 0.570727027027027,ACC:0.6106432432432433,F1:0.4487945945945947,Precision:0.6293324324324324,Recall:0.37494864864864874\n",
      "Epoch 15,loss:0.6881011940736687\n",
      "Validation Loss: 0.6869310865531096,AUC: 0.572672972972973,ACC:0.613808108108108,F1:0.44664594594594603,Precision:0.6346783783783785,Recall:0.3645162162162162\n",
      "Epoch 20,loss:0.6869764887126146\n",
      "Validation Loss: 0.6860681917216327,AUC: 0.5745405405405406,ACC:0.6161324324324323,F1:0.4452756756756758,Precision:0.6457081081081082,Recall:0.3624108108108108\n",
      "Epoch 25,loss:0.6859145422952365\n",
      "Validation Loss: 0.6852886564022785,AUC: 0.575872972972973,ACC:0.6180351351351352,F1:0.4388432432432433,Precision:0.646091891891892,Recall:0.35469729729729726\n",
      "Epoch 30,loss:0.6849660382861584\n",
      "Validation Loss: 0.6845697631707063,AUC: 0.5768081081081082,ACC:0.6195162162162162,F1:0.44257567567567574,Precision:0.6547999999999999,Recall:0.3566999999999999\n",
      "Epoch 35,loss:0.6841424740521254\n",
      "Validation Loss: 0.6839552118971541,AUC: 0.5777405405405404,ACC:0.6174000000000001,F1:0.4502135135135136,Precision:0.6541864864864866,Recall:0.37124054054054045\n",
      "Epoch 40,loss:0.6834283281216579\n",
      "Validation Loss: 0.6834382801442533,AUC: 0.5782621621621621,ACC:0.6184567567567567,F1:0.4588702702702703,Precision:0.6463540540540541,Recall:0.38321891891891885\n",
      "Epoch 45,loss:0.6828137298600864\n",
      "Validation Loss: 0.6830267149048883,AUC: 0.5790918918918921,ACC:0.6186648648648649,F1:0.45888918918918925,Precision:0.646381081081081,Recall:0.38315405405405395\n",
      "Epoch 50,loss:0.6822761233928984\n",
      "Validation Loss: 0.6827032743273554,AUC: 0.5801648648648648,ACC:0.6205648648648648,F1:0.44869729729729724,Precision:0.6646081081081082,Recall:0.36560540540540537\n",
      "Epoch 55,loss:0.6818125585539151\n",
      "Validation Loss: 0.6824496807278814,AUC: 0.5800000000000001,ACC:0.622681081081081,F1:0.4395486486486487,Precision:0.676491891891892,Recall:0.3505648648648649\n",
      "Epoch 60,loss:0.6814119298901178\n",
      "Validation Loss: 0.6822386416229042,AUC: 0.5802405405405405,ACC:0.6228972972972974,F1:0.446027027027027,Precision:0.6665972972972973,Recall:0.3591\n",
      "Epoch 65,loss:0.6810449314328422\n",
      "Validation Loss: 0.6820762173549549,AUC: 0.5802810810810812,ACC:0.6222621621621622,F1:0.44918378378378393,Precision:0.6593459459459461,Recall:0.3617540540540541\n",
      "Epoch 70,loss:0.6807225299092521\n",
      "Validation Loss: 0.6819177447138606,AUC: 0.5806972972972972,ACC:0.622464864864865,F1:0.45412702702702706,Precision:0.6474432432432432,Recall:0.3707459459459459\n",
      "Epoch 75,loss:0.6804261492416922\n",
      "Validation Loss: 0.681768937690838,AUC: 0.5807594594594592,ACC:0.623945945945946,F1:0.4456432432432433,Precision:0.6588972972972972,Recall:0.3568675675675676\n",
      "Epoch 80,loss:0.6801545867877724\n",
      "Validation Loss: 0.6816815572815973,AUC: 0.5814054054054053,ACC:0.6230972972972973,F1:0.44643513513513516,Precision:0.6537729729729731,Recall:0.35812702702702703\n",
      "Epoch 85,loss:0.6799017148735249\n",
      "Validation Loss: 0.6816305018760063,AUC: 0.5818432432432432,ACC:0.6241567567567567,F1:0.44711351351351347,Precision:0.6559783783783786,Recall:0.3582297297297298\n",
      "Epoch 90,loss:0.6796438588505298\n",
      "Validation Loss: 0.68157743441092,AUC: 0.5812945945945944,ACC:0.6231027027027028,F1:0.45072702702702705,Precision:0.6595297297297297,Recall:0.3645432432432432\n",
      "Epoch 95,loss:0.6793803978810268\n",
      "Validation Loss: 0.6815183162689209,AUC: 0.5814756756756758,ACC:0.6220432432432433,F1:0.45565945945945946,Precision:0.6460297297297296,Recall:0.3720729729729731\n",
      "Epoch 100,loss:0.6791246834054457\n",
      "Validation Loss: 0.6814097794326576,AUC: 0.5810189189189188,ACC:0.622464864864865,F1:0.4548054054054054,Precision:0.6466702702702702,Recall:0.3706783783783784\n",
      "Epoch 105,loss:0.6788954692604268\n",
      "Validation Loss: 0.6812958234065288,AUC: 0.5822108108108108,ACC:0.6237351351351352,F1:0.4553783783783783,Precision:0.6522189189189188,Recall:0.3693702702702703\n",
      "Epoch 110,loss:0.6786514399325954\n",
      "Validation Loss: 0.6811629372674066,AUC: 0.582245945945946,ACC:0.6216243243243245,F1:0.45954054054054055,Precision:0.6436027027027026,Recall:0.3716459459459459\n",
      "Epoch 115,loss:0.6783971417266711\n",
      "Validation Loss: 0.6810577189600145,AUC: 0.5838027027027027,ACC:0.6228837837837838,F1:0.45735135135135135,Precision:0.6489324324324324,Recall:0.3668243243243242\n",
      "Epoch 120,loss:0.6781691850814144\n",
      "Validation Loss: 0.6809521720216081,AUC: 0.5844972972972974,ACC:0.6228864864864866,F1:0.45797027027027026,Precision:0.6475054054054054,Recall:0.3678513513513513\n",
      "Epoch 125,loss:0.6779169260928061\n",
      "Validation Loss: 0.68085219731202,AUC: 0.5847054054054054,ACC:0.6230945945945946,F1:0.46268648648648647,Precision:0.6468,Recall:0.37885675675675673\n",
      "Epoch 130,loss:0.6776542304891401\n",
      "Validation Loss: 0.6807659010629397,AUC: 0.5845621621621618,ACC:0.6224621621621623,F1:0.47389189189189185,Precision:0.6369945945945947,Recall:0.39450810810810805\n",
      "Epoch 135,loss:0.6773859462906829\n",
      "Validation Loss: 0.6806223376377208,AUC: 0.5851675675675675,ACC:0.6214054054054056,F1:0.4774108108108107,Precision:0.6372864864864866,Recall:0.40228378378378377\n",
      "Epoch 140,loss:0.677092368096377\n",
      "Validation Loss: 0.6804594123685682,AUC: 0.5855189189189187,ACC:0.6237270270270271,F1:0.4697243243243243,Precision:0.6484351351351352,Recall:0.3884432432432432\n",
      "Epoch 145,loss:0.6767800286807845\n",
      "Validation Loss: 0.6802830390028052,AUC: 0.5855999999999999,ACC:0.6256324324324325,F1:0.4817,Precision:0.6490594594594594,Recall:0.4046891891891892\n",
      "Epoch 150,loss:0.6764591125260412\n",
      "Validation Loss: 0.6801105882670428,AUC: 0.585808108108108,ACC:0.6247891891891892,F1:0.4848729729729731,Precision:0.6495810810810811,Recall:0.41506216216216213\n",
      "Epoch 155,loss:0.6761444269028385\n",
      "Validation Loss: 0.6799656958193392,AUC: 0.5854459459459459,ACC:0.6249972972972972,F1:0.4875324324324324,Precision:0.6478729729729732,Recall:0.41904594594594596\n",
      "Epoch 160,loss:0.6758528446729204\n",
      "Validation Loss: 0.6798023194880098,AUC: 0.5854324324324327,ACC:0.6260621621621622,F1:0.48111891891891895,Precision:0.6508837837837839,Recall:0.4089297297297297\n",
      "Epoch 165,loss:0.6755905831809592\n",
      "Validation Loss: 0.6796055758321607,AUC: 0.5861081081081081,ACC:0.6260594594594594,F1:0.47874594594594605,Precision:0.651264864864865,Recall:0.40585405405405406\n"
     ]
    },
    {
     "name": "stdout",
     "output_type": "stream",
     "text": [
      "Epoch 170,loss:0.6753126208761097\n",
      "Validation Loss: 0.6794320441581108,AUC: 0.5874945945945946,ACC:0.6288027027027027,F1:0.46968378378378384,Precision:0.6658432432432431,Recall:0.3857378378378378\n",
      "Epoch 175,loss:0.6750317600976049\n",
      "Validation Loss: 0.6792054869033195,AUC: 0.5885459459459459,ACC:0.6292243243243243,F1:0.47375135135135144,Precision:0.6652297297297296,Recall:0.39183513513513507\n",
      "Epoch 180,loss:0.6747417165114816\n",
      "Validation Loss: 0.6789581308493743,AUC: 0.5901243243243242,ACC:0.6296459459459459,F1:0.4732270270270272,Precision:0.6688756756756757,Recall:0.3899351351351351\n",
      "Epoch 185,loss:0.6744732978069676\n",
      "Validation Loss: 0.6787346682033023,AUC: 0.5902594594594593,ACC:0.6311243243243243,F1:0.4615243243243244,Precision:0.6826,Recall:0.3722540540540541\n",
      "Epoch 190,loss:0.6742259875862999\n",
      "Validation Loss: 0.678547619162379,AUC: 0.5895405405405406,ACC:0.6317567567567567,F1:0.4609000000000001,Precision:0.6841,Recall:0.37134864864864864\n",
      "Epoch 195,loss:0.6739757050455144\n",
      "Validation Loss: 0.6784235512888109,AUC: 0.5903216216216217,ACC:0.6321783783783783,F1:0.4663810810810813,Precision:0.6782432432432433,Recall:0.3782324324324324\n",
      "Epoch 200,loss:0.6737310696492153\n",
      "Validation Loss: 0.6783139544564325,AUC: 0.5903351351351351,ACC:0.6325999999999999,F1:0.46375405405405423,Precision:0.6839567567567567,Recall:0.3726486486486486\n",
      "Epoch 205,loss:0.6735021276811582\n",
      "Validation Loss: 0.6781671691585232,AUC: 0.5902702702702703,ACC:0.631754054054054,F1:0.46567837837837855,Precision:0.6800054054054054,Recall:0.37552972972972964\n",
      "Epoch 210,loss:0.6732783523281064\n",
      "Validation Loss: 0.678072218959396,AUC: 0.5914945945945947,ACC:0.6323891891891891,F1:0.46779189189189196,Precision:0.6827837837837837,Recall:0.3776378378378379\n",
      "Epoch 215,loss:0.6732776091162083\n",
      "Validation Loss: 0.6782935020085927,AUC: 0.5964891891891891,ACC:0.6326027027027027,F1:0.4823891891891893,Precision:0.6804756756756757,Recall:0.3985945945945945\n",
      "早停策略触发，停止训练在第 214 个epoch.\n",
      "模型训练完成\n",
      "||--------训练结束时间： 2024-03-19 15:54:40.572002 -------------\n",
      "||--测试：---------- 1 个batch运行时间： 2024-03-19 15:54:40.585376 -------------\n",
      "||--测试：---------- 2 个batch运行时间： 2024-03-19 15:54:40.598200 -------------\n",
      "||--测试：---------- 3 个batch运行时间： 2024-03-19 15:54:40.610958 -------------\n",
      "||--测试：---------- 4 个batch运行时间： 2024-03-19 15:54:40.623682 -------------\n",
      "||--测试：---------- 5 个batch运行时间： 2024-03-19 15:54:40.636465 -------------\n",
      "||--测试：---------- 6 个batch运行时间： 2024-03-19 15:54:40.649241 -------------\n",
      "||--测试：---------- 7 个batch运行时间： 2024-03-19 15:54:40.661959 -------------\n",
      "||--测试：---------- 8 个batch运行时间： 2024-03-19 15:54:40.676509 -------------\n",
      "||--测试：---------- 9 个batch运行时间： 2024-03-19 15:54:40.689680 -------------\n",
      "||--测试：---------- 10 个batch运行时间： 2024-03-19 15:54:40.702502 -------------\n",
      "||--测试：---------- 11 个batch运行时间： 2024-03-19 15:54:40.715294 -------------\n",
      "||--测试：---------- 12 个batch运行时间： 2024-03-19 15:54:40.728030 -------------\n",
      "||--测试：---------- 13 个batch运行时间： 2024-03-19 15:54:40.740744 -------------\n",
      "||--测试：---------- 14 个batch运行时间： 2024-03-19 15:54:40.753432 -------------\n",
      "||--测试：---------- 15 个batch运行时间： 2024-03-19 15:54:40.766121 -------------\n",
      "||--测试：---------- 16 个batch运行时间： 2024-03-19 15:54:40.779757 -------------\n",
      "||--测试：---------- 17 个batch运行时间： 2024-03-19 15:54:40.795796 -------------\n",
      "||--测试：---------- 18 个batch运行时间： 2024-03-19 15:54:40.809449 -------------\n",
      "||--测试：---------- 19 个batch运行时间： 2024-03-19 15:54:40.822253 -------------\n",
      "||--测试：---------- 20 个batch运行时间： 2024-03-19 15:54:40.835073 -------------\n",
      "||--测试：---------- 21 个batch运行时间： 2024-03-19 15:54:40.847791 -------------\n",
      "||--测试：---------- 22 个batch运行时间： 2024-03-19 15:54:40.860597 -------------\n",
      "||--测试：---------- 23 个batch运行时间： 2024-03-19 15:54:40.873309 -------------\n",
      "||--测试：---------- 24 个batch运行时间： 2024-03-19 15:54:40.886016 -------------\n",
      "||--测试：---------- 25 个batch运行时间： 2024-03-19 15:54:40.898716 -------------\n",
      "||--测试：---------- 26 个batch运行时间： 2024-03-19 15:54:40.911407 -------------\n",
      "||--测试：---------- 27 个batch运行时间： 2024-03-19 15:54:40.924131 -------------\n",
      "||--测试：---------- 28 个batch运行时间： 2024-03-19 15:54:40.936822 -------------\n",
      "||--测试：---------- 29 个batch运行时间： 2024-03-19 15:54:40.949518 -------------\n",
      "||--测试：---------- 30 个batch运行时间： 2024-03-19 15:54:40.962331 -------------\n",
      "||--测试：---------- 31 个batch运行时间： 2024-03-19 15:54:40.975094 -------------\n",
      "||--测试：---------- 32 个batch运行时间： 2024-03-19 15:54:40.988903 -------------\n",
      "||--测试：---------- 33 个batch运行时间： 2024-03-19 15:54:41.001779 -------------\n",
      "||--测试：---------- 34 个batch运行时间： 2024-03-19 15:54:41.014558 -------------\n",
      "||--测试：---------- 35 个batch运行时间： 2024-03-19 15:54:41.027359 -------------\n",
      "||--测试：---------- 36 个batch运行时间： 2024-03-19 15:54:41.040163 -------------\n",
      "||--测试：---------- 37 个batch运行时间： 2024-03-19 15:54:41.052881 -------------\n",
      "Test Loss: 0.677381335078059,AUC: 0.5997378378378379,ACC:0.6296378378378379,F1:0.49990270270270265,Precision:0.6551324324324324,Recall:0.4296108108108108\n",
      "结果已输出\n",
      "||--------当前时间窗 1201_1231 结束时间： 2024-03-19 15:54:41.069039 -------------\n",
      "i=:1\n",
      "划分文件已存在，不再进行数据划分\n",
      "数据预处理结束\n",
      "数据划分完成\n",
      "张量生成完成\n",
      "模型搭建完成\n",
      "模型转移到GPU完成\n",
      "Epoch 5,loss:0.6934557688974701\n",
      "Validation Loss: 0.6931370947812054,AUC: 0.5441648648648648,ACC:0.6026162162162162,F1:0.3011081081081082,Precision:0.5836675675675675,Recall:0.22622162162162163\n",
      "Epoch 10,loss:0.6933087822610298\n"
     ]
    },
    {
     "name": "stderr",
     "output_type": "stream",
     "text": [
      "/usr/local/lib/python3.6/dist-packages/sklearn/metrics/_classification.py:1248: UndefinedMetricWarning: Precision is ill-defined and being set to 0.0 due to no predicted samples. Use `zero_division` parameter to control this behavior.\n",
      "  _warn_prf(average, modifier, msg_start, len(result))\n"
     ]
    },
    {
     "name": "stdout",
     "output_type": "stream",
     "text": [
      "Validation Loss: 0.6931112231435003,AUC: 0.537081081081081,ACC:0.6057864864864866,F1:0.2716675675675676,Precision:0.5855405405405405,Recall:0.19531621621621625\n",
      "Epoch 15,loss:0.6932599349359495\n"
     ]
    },
    {
     "name": "stderr",
     "output_type": "stream",
     "text": [
      "/usr/local/lib/python3.6/dist-packages/sklearn/metrics/_classification.py:1248: UndefinedMetricWarning: Precision is ill-defined and being set to 0.0 due to no predicted samples. Use `zero_division` parameter to control this behavior.\n",
      "  _warn_prf(average, modifier, msg_start, len(result))\n"
     ]
    },
    {
     "name": "stdout",
     "output_type": "stream",
     "text": [
      "Validation Loss: 0.6931065965343166,AUC: 0.5356270270270271,ACC:0.6049432432432434,F1:0.267445945945946,Precision:0.5836756756756756,Recall:0.18950540540540545\n",
      "Epoch 20,loss:0.6932340733772886\n"
     ]
    },
    {
     "name": "stderr",
     "output_type": "stream",
     "text": [
      "/usr/local/lib/python3.6/dist-packages/sklearn/metrics/_classification.py:1248: UndefinedMetricWarning: Precision is ill-defined and being set to 0.0 due to no predicted samples. Use `zero_division` parameter to control this behavior.\n",
      "  _warn_prf(average, modifier, msg_start, len(result))\n"
     ]
    },
    {
     "name": "stdout",
     "output_type": "stream",
     "text": [
      "Validation Loss: 0.6931050081510801,AUC: 0.5348972972972971,ACC:0.6049405405405406,F1:0.2555702702702703,Precision:0.5797891891891892,Recall:0.1778702702702703\n",
      "Epoch 25,loss:0.6932176462316935\n"
     ]
    },
    {
     "name": "stderr",
     "output_type": "stream",
     "text": [
      "/usr/local/lib/python3.6/dist-packages/sklearn/metrics/_classification.py:1248: UndefinedMetricWarning: Precision is ill-defined and being set to 0.0 due to no predicted samples. Use `zero_division` parameter to control this behavior.\n",
      "  _warn_prf(average, modifier, msg_start, len(result))\n",
      "/usr/local/lib/python3.6/dist-packages/sklearn/metrics/_classification.py:1248: UndefinedMetricWarning: Precision is ill-defined and being set to 0.0 due to no predicted samples. Use `zero_division` parameter to control this behavior.\n",
      "  _warn_prf(average, modifier, msg_start, len(result))\n"
     ]
    },
    {
     "name": "stdout",
     "output_type": "stream",
     "text": [
      "Validation Loss: 0.6931041076376632,AUC: 0.5342945945945946,ACC:0.6049405405405406,F1:0.24697567567567572,Precision:0.5542567567567569,Recall:0.16987837837837844\n",
      "Epoch 30,loss:0.6932060117215182\n"
     ]
    },
    {
     "name": "stderr",
     "output_type": "stream",
     "text": [
      "/usr/local/lib/python3.6/dist-packages/sklearn/metrics/_classification.py:1248: UndefinedMetricWarning: Precision is ill-defined and being set to 0.0 due to no predicted samples. Use `zero_division` parameter to control this behavior.\n",
      "  _warn_prf(average, modifier, msg_start, len(result))\n",
      "/usr/local/lib/python3.6/dist-packages/sklearn/metrics/_classification.py:1248: UndefinedMetricWarning: Precision is ill-defined and being set to 0.0 due to no predicted samples. Use `zero_division` parameter to control this behavior.\n",
      "  _warn_prf(average, modifier, msg_start, len(result))\n"
     ]
    },
    {
     "name": "stdout",
     "output_type": "stream",
     "text": [
      "Validation Loss: 0.6931030863040203,AUC: 0.5358297297297296,ACC:0.6040945945945947,F1:0.24469459459459467,Precision:0.5518594594594595,Recall:0.16825675675675683\n",
      "Epoch 35,loss:0.6931972614431803\n"
     ]
    },
    {
     "name": "stderr",
     "output_type": "stream",
     "text": [
      "/usr/local/lib/python3.6/dist-packages/sklearn/metrics/_classification.py:1248: UndefinedMetricWarning: Precision is ill-defined and being set to 0.0 due to no predicted samples. Use `zero_division` parameter to control this behavior.\n",
      "  _warn_prf(average, modifier, msg_start, len(result))\n",
      "/usr/local/lib/python3.6/dist-packages/sklearn/metrics/_classification.py:1248: UndefinedMetricWarning: Precision is ill-defined and being set to 0.0 due to no predicted samples. Use `zero_division` parameter to control this behavior.\n",
      "  _warn_prf(average, modifier, msg_start, len(result))\n"
     ]
    },
    {
     "name": "stdout",
     "output_type": "stream",
     "text": [
      "Validation Loss: 0.6931017234518722,AUC: 0.5347864864864864,ACC:0.6045189189189191,F1:0.24383783783783788,Precision:0.5549243243243244,Recall:0.16720540540540546\n",
      "Epoch 40,loss:0.6931901948641886\n"
     ]
    },
    {
     "name": "stderr",
     "output_type": "stream",
     "text": [
      "/usr/local/lib/python3.6/dist-packages/sklearn/metrics/_classification.py:1248: UndefinedMetricWarning: Precision is ill-defined and being set to 0.0 due to no predicted samples. Use `zero_division` parameter to control this behavior.\n",
      "  _warn_prf(average, modifier, msg_start, len(result))\n",
      "/usr/local/lib/python3.6/dist-packages/sklearn/metrics/_classification.py:1248: UndefinedMetricWarning: Precision is ill-defined and being set to 0.0 due to no predicted samples. Use `zero_division` parameter to control this behavior.\n",
      "  _warn_prf(average, modifier, msg_start, len(result))\n"
     ]
    },
    {
     "name": "stdout",
     "output_type": "stream",
     "text": [
      "Validation Loss: 0.6931000400233913,AUC: 0.5348702702702702,ACC:0.6038864864864866,F1:0.2451675675675676,Precision:0.5543432432432434,Recall:0.16880270270270273\n",
      "Epoch 45,loss:0.6931840977837554\n"
     ]
    },
    {
     "name": "stderr",
     "output_type": "stream",
     "text": [
      "/usr/local/lib/python3.6/dist-packages/sklearn/metrics/_classification.py:1248: UndefinedMetricWarning: Precision is ill-defined and being set to 0.0 due to no predicted samples. Use `zero_division` parameter to control this behavior.\n",
      "  _warn_prf(average, modifier, msg_start, len(result))\n",
      "/usr/local/lib/python3.6/dist-packages/sklearn/metrics/_classification.py:1248: UndefinedMetricWarning: Precision is ill-defined and being set to 0.0 due to no predicted samples. Use `zero_division` parameter to control this behavior.\n",
      "  _warn_prf(average, modifier, msg_start, len(result))\n"
     ]
    },
    {
     "name": "stdout",
     "output_type": "stream",
     "text": [
      "Validation Loss: 0.6930978829796249,AUC: 0.5349027027027027,ACC:0.6036783783783786,F1:0.24124054054054056,Precision:0.5522891891891892,Recall:0.16492432432432436\n",
      "Epoch 50,loss:0.693178647914819\n"
     ]
    },
    {
     "name": "stderr",
     "output_type": "stream",
     "text": [
      "/usr/local/lib/python3.6/dist-packages/sklearn/metrics/_classification.py:1248: UndefinedMetricWarning: Precision is ill-defined and being set to 0.0 due to no predicted samples. Use `zero_division` parameter to control this behavior.\n",
      "  _warn_prf(average, modifier, msg_start, len(result))\n",
      "/usr/local/lib/python3.6/dist-packages/sklearn/metrics/_classification.py:1248: UndefinedMetricWarning: Precision is ill-defined and being set to 0.0 due to no predicted samples. Use `zero_division` parameter to control this behavior.\n",
      "  _warn_prf(average, modifier, msg_start, len(result))\n"
     ]
    },
    {
     "name": "stdout",
     "output_type": "stream",
     "text": [
      "Validation Loss: 0.6930953570314355,AUC: 0.5340378378378379,ACC:0.6038891891891893,F1:0.2420513513513513,Precision:0.5531054054054055,Recall:0.16544324324324328\n",
      "Epoch 55,loss:0.6931735145307221\n"
     ]
    },
    {
     "name": "stderr",
     "output_type": "stream",
     "text": [
      "/usr/local/lib/python3.6/dist-packages/sklearn/metrics/_classification.py:1248: UndefinedMetricWarning: Precision is ill-defined and being set to 0.0 due to no predicted samples. Use `zero_division` parameter to control this behavior.\n",
      "  _warn_prf(average, modifier, msg_start, len(result))\n",
      "/usr/local/lib/python3.6/dist-packages/sklearn/metrics/_classification.py:1248: UndefinedMetricWarning: Precision is ill-defined and being set to 0.0 due to no predicted samples. Use `zero_division` parameter to control this behavior.\n",
      "  _warn_prf(average, modifier, msg_start, len(result))\n"
     ]
    },
    {
     "name": "stdout",
     "output_type": "stream",
     "text": [
      "Validation Loss: 0.693092280143016,AUC: 0.5338783783783785,ACC:0.6036783783783786,F1:0.24235945945945941,Precision:0.5528405405405407,Recall:0.1653621621621622\n",
      "Epoch 60,loss:0.6931685573231857\n"
     ]
    },
    {
     "name": "stderr",
     "output_type": "stream",
     "text": [
      "/usr/local/lib/python3.6/dist-packages/sklearn/metrics/_classification.py:1248: UndefinedMetricWarning: Precision is ill-defined and being set to 0.0 due to no predicted samples. Use `zero_division` parameter to control this behavior.\n",
      "  _warn_prf(average, modifier, msg_start, len(result))\n",
      "/usr/local/lib/python3.6/dist-packages/sklearn/metrics/_classification.py:1248: UndefinedMetricWarning: Precision is ill-defined and being set to 0.0 due to no predicted samples. Use `zero_division` parameter to control this behavior.\n",
      "  _warn_prf(average, modifier, msg_start, len(result))\n"
     ]
    },
    {
     "name": "stdout",
     "output_type": "stream",
     "text": [
      "Validation Loss: 0.6930885266613316,AUC: 0.5343054054054055,ACC:0.6036783783783786,F1:0.24235945945945941,Precision:0.5528405405405407,Recall:0.1653621621621622\n",
      "Epoch 65,loss:0.6931634371259571\n"
     ]
    },
    {
     "name": "stderr",
     "output_type": "stream",
     "text": [
      "/usr/local/lib/python3.6/dist-packages/sklearn/metrics/_classification.py:1248: UndefinedMetricWarning: Precision is ill-defined and being set to 0.0 due to no predicted samples. Use `zero_division` parameter to control this behavior.\n",
      "  _warn_prf(average, modifier, msg_start, len(result))\n",
      "/usr/local/lib/python3.6/dist-packages/sklearn/metrics/_classification.py:1248: UndefinedMetricWarning: Precision is ill-defined and being set to 0.0 due to no predicted samples. Use `zero_division` parameter to control this behavior.\n",
      "  _warn_prf(average, modifier, msg_start, len(result))\n"
     ]
    },
    {
     "name": "stdout",
     "output_type": "stream",
     "text": [
      "Validation Loss: 0.6930838710552937,AUC: 0.5341702702702702,ACC:0.6036783783783786,F1:0.24131621621621618,Precision:0.5536297297297299,Recall:0.16449189189189192\n",
      "Epoch 70,loss:0.693158029982474\n"
     ]
    },
    {
     "name": "stderr",
     "output_type": "stream",
     "text": [
      "/usr/local/lib/python3.6/dist-packages/sklearn/metrics/_classification.py:1248: UndefinedMetricWarning: Precision is ill-defined and being set to 0.0 due to no predicted samples. Use `zero_division` parameter to control this behavior.\n",
      "  _warn_prf(average, modifier, msg_start, len(result))\n",
      "/usr/local/lib/python3.6/dist-packages/sklearn/metrics/_classification.py:1248: UndefinedMetricWarning: Precision is ill-defined and being set to 0.0 due to no predicted samples. Use `zero_division` parameter to control this behavior.\n",
      "  _warn_prf(average, modifier, msg_start, len(result))\n"
     ]
    },
    {
     "name": "stdout",
     "output_type": "stream",
     "text": [
      "Validation Loss: 0.6930782988264754,AUC: 0.5342270270270271,ACC:0.6043135135135137,F1:0.24674594594594595,Precision:0.5528594594594596,Recall:0.16930270270270273\n",
      "Epoch 75,loss:0.6931521955844575\n"
     ]
    },
    {
     "name": "stderr",
     "output_type": "stream",
     "text": [
      "/usr/local/lib/python3.6/dist-packages/sklearn/metrics/_classification.py:1248: UndefinedMetricWarning: Precision is ill-defined and being set to 0.0 due to no predicted samples. Use `zero_division` parameter to control this behavior.\n",
      "  _warn_prf(average, modifier, msg_start, len(result))\n",
      "/usr/local/lib/python3.6/dist-packages/sklearn/metrics/_classification.py:1248: UndefinedMetricWarning: Precision is ill-defined and being set to 0.0 due to no predicted samples. Use `zero_division` parameter to control this behavior.\n",
      "  _warn_prf(average, modifier, msg_start, len(result))\n"
     ]
    },
    {
     "name": "stdout",
     "output_type": "stream",
     "text": [
      "Validation Loss: 0.6930715006750983,AUC: 0.5351027027027027,ACC:0.6041000000000002,F1:0.24597837837837844,Precision:0.551910810810811,Recall:0.16891621621621622\n",
      "Epoch 80,loss:0.6931456337987849\n"
     ]
    },
    {
     "name": "stderr",
     "output_type": "stream",
     "text": [
      "/usr/local/lib/python3.6/dist-packages/sklearn/metrics/_classification.py:1248: UndefinedMetricWarning: Precision is ill-defined and being set to 0.0 due to no predicted samples. Use `zero_division` parameter to control this behavior.\n",
      "  _warn_prf(average, modifier, msg_start, len(result))\n",
      "/usr/local/lib/python3.6/dist-packages/sklearn/metrics/_classification.py:1248: UndefinedMetricWarning: Precision is ill-defined and being set to 0.0 due to no predicted samples. Use `zero_division` parameter to control this behavior.\n",
      "  _warn_prf(average, modifier, msg_start, len(result))\n"
     ]
    },
    {
     "name": "stdout",
     "output_type": "stream",
     "text": [
      "Validation Loss: 0.6930630303717948,AUC: 0.5352054054054054,ACC:0.6047324324324327,F1:0.24856486486486484,Precision:0.5533378378378379,Recall:0.17120810810810813\n",
      "Epoch 85,loss:0.6931379906899107\n"
     ]
    },
    {
     "name": "stderr",
     "output_type": "stream",
     "text": [
      "/usr/local/lib/python3.6/dist-packages/sklearn/metrics/_classification.py:1248: UndefinedMetricWarning: Precision is ill-defined and being set to 0.0 due to no predicted samples. Use `zero_division` parameter to control this behavior.\n",
      "  _warn_prf(average, modifier, msg_start, len(result))\n",
      "/usr/local/lib/python3.6/dist-packages/sklearn/metrics/_classification.py:1248: UndefinedMetricWarning: Precision is ill-defined and being set to 0.0 due to no predicted samples. Use `zero_division` parameter to control this behavior.\n",
      "  _warn_prf(average, modifier, msg_start, len(result))\n"
     ]
    },
    {
     "name": "stdout",
     "output_type": "stream",
     "text": [
      "Validation Loss: 0.6930523337544622,AUC: 0.5357027027027027,ACC:0.6034648648648651,F1:0.2546243243243243,Precision:0.5530297297297299,Recall:0.1770756756756757\n",
      "Epoch 90,loss:0.6931287656843135\n"
     ]
    },
    {
     "name": "stderr",
     "output_type": "stream",
     "text": [
      "/usr/local/lib/python3.6/dist-packages/sklearn/metrics/_classification.py:1248: UndefinedMetricWarning: Precision is ill-defined and being set to 0.0 due to no predicted samples. Use `zero_division` parameter to control this behavior.\n",
      "  _warn_prf(average, modifier, msg_start, len(result))\n",
      "/usr/local/lib/python3.6/dist-packages/sklearn/metrics/_classification.py:1248: UndefinedMetricWarning: Precision is ill-defined and being set to 0.0 due to no predicted samples. Use `zero_division` parameter to control this behavior.\n",
      "  _warn_prf(average, modifier, msg_start, len(result))\n"
     ]
    },
    {
     "name": "stdout",
     "output_type": "stream",
     "text": [
      "Validation Loss: 0.693038700400172,AUC: 0.5366216216216216,ACC:0.6032540540540542,F1:0.2568108108108108,Precision:0.5508432432432433,Recall:0.1797621621621622\n",
      "Epoch 95,loss:0.6931172867791843\n"
     ]
    },
    {
     "name": "stderr",
     "output_type": "stream",
     "text": [
      "/usr/local/lib/python3.6/dist-packages/sklearn/metrics/_classification.py:1248: UndefinedMetricWarning: Precision is ill-defined and being set to 0.0 due to no predicted samples. Use `zero_division` parameter to control this behavior.\n",
      "  _warn_prf(average, modifier, msg_start, len(result))\n",
      "/usr/local/lib/python3.6/dist-packages/sklearn/metrics/_classification.py:1248: UndefinedMetricWarning: Precision is ill-defined and being set to 0.0 due to no predicted samples. Use `zero_division` parameter to control this behavior.\n",
      "  _warn_prf(average, modifier, msg_start, len(result))\n"
     ]
    },
    {
     "name": "stdout",
     "output_type": "stream",
     "text": [
      "Validation Loss: 0.6930209543253925,AUC: 0.5359756756756758,ACC:0.6030459459459461,F1:0.2558135135135135,Precision:0.5514567567567569,Recall:0.17900810810810816\n",
      "Epoch 100,loss:0.6931028719496938\n"
     ]
    },
    {
     "name": "stderr",
     "output_type": "stream",
     "text": [
      "/usr/local/lib/python3.6/dist-packages/sklearn/metrics/_classification.py:1248: UndefinedMetricWarning: Precision is ill-defined and being set to 0.0 due to no predicted samples. Use `zero_division` parameter to control this behavior.\n",
      "  _warn_prf(average, modifier, msg_start, len(result))\n",
      "/usr/local/lib/python3.6/dist-packages/sklearn/metrics/_classification.py:1248: UndefinedMetricWarning: Precision is ill-defined and being set to 0.0 due to no predicted samples. Use `zero_division` parameter to control this behavior.\n",
      "  _warn_prf(average, modifier, msg_start, len(result))\n"
     ]
    },
    {
     "name": "stdout",
     "output_type": "stream",
     "text": [
      "Validation Loss: 0.6929979598199999,AUC: 0.5347216216216217,ACC:0.6060000000000002,F1:0.25801351351351354,Precision:0.5592270270270272,Recall:0.18104594594594595\n",
      "Epoch 105,loss:0.6930846503350587\n"
     ]
    },
    {
     "name": "stderr",
     "output_type": "stream",
     "text": [
      "/usr/local/lib/python3.6/dist-packages/sklearn/metrics/_classification.py:1248: UndefinedMetricWarning: Precision is ill-defined and being set to 0.0 due to no predicted samples. Use `zero_division` parameter to control this behavior.\n",
      "  _warn_prf(average, modifier, msg_start, len(result))\n",
      "/usr/local/lib/python3.6/dist-packages/sklearn/metrics/_classification.py:1248: UndefinedMetricWarning: Precision is ill-defined and being set to 0.0 due to no predicted samples. Use `zero_division` parameter to control this behavior.\n",
      "  _warn_prf(average, modifier, msg_start, len(result))\n"
     ]
    },
    {
     "name": "stdout",
     "output_type": "stream",
     "text": [
      "Validation Loss: 0.6929682750959654,AUC: 0.5335243243243244,ACC:0.6053621621621622,F1:0.26791891891891895,Precision:0.5580216216216217,Recall:0.1914972972972973\n",
      "Epoch 110,loss:0.6930617563492429\n"
     ]
    },
    {
     "name": "stderr",
     "output_type": "stream",
     "text": [
      "/usr/local/lib/python3.6/dist-packages/sklearn/metrics/_classification.py:1248: UndefinedMetricWarning: Precision is ill-defined and being set to 0.0 due to no predicted samples. Use `zero_division` parameter to control this behavior.\n",
      "  _warn_prf(average, modifier, msg_start, len(result))\n",
      "/usr/local/lib/python3.6/dist-packages/sklearn/metrics/_classification.py:1248: UndefinedMetricWarning: Precision is ill-defined and being set to 0.0 due to no predicted samples. Use `zero_division` parameter to control this behavior.\n",
      "  _warn_prf(average, modifier, msg_start, len(result))\n"
     ]
    },
    {
     "name": "stdout",
     "output_type": "stream",
     "text": [
      "Validation Loss: 0.6929312686662417,AUC: 0.5335810810810812,ACC:0.6068432432432433,F1:0.26932972972972974,Precision:0.5670459459459459,Recall:0.1919675675675676\n",
      "Epoch 115,loss:0.6930326392165328\n"
     ]
    },
    {
     "name": "stderr",
     "output_type": "stream",
     "text": [
      "/usr/local/lib/python3.6/dist-packages/sklearn/metrics/_classification.py:1248: UndefinedMetricWarning: Precision is ill-defined and being set to 0.0 due to no predicted samples. Use `zero_division` parameter to control this behavior.\n",
      "  _warn_prf(average, modifier, msg_start, len(result))\n",
      "/usr/local/lib/python3.6/dist-packages/sklearn/metrics/_classification.py:1248: UndefinedMetricWarning: Precision is ill-defined and being set to 0.0 due to no predicted samples. Use `zero_division` parameter to control this behavior.\n",
      "  _warn_prf(average, modifier, msg_start, len(result))\n"
     ]
    },
    {
     "name": "stdout",
     "output_type": "stream",
     "text": [
      "Validation Loss: 0.6928845241263106,AUC: 0.5345648648648648,ACC:0.6064162162162163,F1:0.2718108108108109,Precision:0.5622621621621621,Recall:0.19417837837837842\n",
      "Epoch 120,loss:0.6929955846440475\n"
     ]
    },
    {
     "name": "stderr",
     "output_type": "stream",
     "text": [
      "/usr/local/lib/python3.6/dist-packages/sklearn/metrics/_classification.py:1248: UndefinedMetricWarning: Precision is ill-defined and being set to 0.0 due to no predicted samples. Use `zero_division` parameter to control this behavior.\n",
      "  _warn_prf(average, modifier, msg_start, len(result))\n"
     ]
    },
    {
     "name": "stdout",
     "output_type": "stream",
     "text": [
      "Validation Loss: 0.6928276999576671,AUC: 0.5342648648648648,ACC:0.6049405405405406,F1:0.27773783783783784,Precision:0.5669378378378377,Recall:0.20053513513513516\n",
      "Epoch 125,loss:0.6929493435716207\n"
     ]
    },
    {
     "name": "stderr",
     "output_type": "stream",
     "text": [
      "/usr/local/lib/python3.6/dist-packages/sklearn/metrics/_classification.py:1248: UndefinedMetricWarning: Precision is ill-defined and being set to 0.0 due to no predicted samples. Use `zero_division` parameter to control this behavior.\n",
      "  _warn_prf(average, modifier, msg_start, len(result))\n"
     ]
    },
    {
     "name": "stdout",
     "output_type": "stream",
     "text": [
      "Validation Loss: 0.6927620188609974,AUC: 0.5350189189189187,ACC:0.605156756756757,F1:0.2772486486486487,Precision:0.5931000000000001,Recall:0.20140000000000002\n",
      "Epoch 130,loss:0.6928949662014446\n",
      "Validation Loss: 0.6926909749572342,AUC: 0.535789189189189,ACC:0.6057891891891894,F1:0.28355675675675673,Precision:0.6050351351351351,Recall:0.20738108108108108\n",
      "Epoch 135,loss:0.692832484709478\n",
      "Validation Loss: 0.6926149097648827,AUC: 0.5359459459459459,ACC:0.6051540540540541,F1:0.2847324324324324,Precision:0.6162972972972973,Recall:0.20895135135135137\n",
      "Epoch 140,loss:0.6927627652092317\n",
      "Validation Loss: 0.6925350862580377,AUC: 0.5351540540540543,ACC:0.6053702702702705,F1:0.28297297297297297,Precision:0.6120108108108108,Recall:0.2080108108108108\n",
      "Epoch 145,loss:0.6926862713509956\n",
      "Validation Loss: 0.6924522567439724,AUC: 0.5353432432432432,ACC:0.6057891891891893,F1:0.28826486486486486,Precision:0.6090135135135135,Recall:0.21156486486486484\n",
      "Epoch 150,loss:0.6926034662575848\n",
      "Validation Loss: 0.6923668481208183,AUC: 0.5352837837837838,ACC:0.6057891891891893,F1:0.28699189189189184,Precision:0.6096027027027028,Recall:0.21021081081081075\n",
      "Epoch 155,loss:0.6925159508148125\n",
      "Validation Loss: 0.6922837882428556,AUC: 0.5360648648648646,ACC:0.6040972972972973,F1:0.29333243243243234,Precision:0.5993675675675674,Recall:0.21867297297297292\n",
      "Epoch 160,loss:0.6924209130548797\n",
      "Validation Loss: 0.6922018109141169,AUC: 0.535891891891892,ACC:0.6047297297297296,F1:0.28841351351351346,Precision:0.5989918918918918,Recall:0.2130054054054054\n",
      "Epoch 165,loss:0.6923020550635008\n"
     ]
    },
    {
     "name": "stderr",
     "output_type": "stream",
     "text": [
      "/usr/local/lib/python3.6/dist-packages/sklearn/metrics/_classification.py:1248: UndefinedMetricWarning: Precision is ill-defined and being set to 0.0 due to no predicted samples. Use `zero_division` parameter to control this behavior.\n",
      "  _warn_prf(average, modifier, msg_start, len(result))\n"
     ]
    },
    {
     "name": "stdout",
     "output_type": "stream",
     "text": [
      "Validation Loss: 0.6921108171746537,AUC: 0.5382378378378379,ACC:0.6060000000000001,F1:0.29392972972972964,Precision:0.5753432432432433,Recall:0.21735135135135134\n",
      "Epoch 170,loss:0.6921836185244332\n"
     ]
    },
    {
     "name": "stderr",
     "output_type": "stream",
     "text": [
      "/usr/local/lib/python3.6/dist-packages/sklearn/metrics/_classification.py:1248: UndefinedMetricWarning: Precision is ill-defined and being set to 0.0 due to no predicted samples. Use `zero_division` parameter to control this behavior.\n",
      "  _warn_prf(average, modifier, msg_start, len(result))\n",
      "/usr/local/lib/python3.6/dist-packages/sklearn/metrics/_classification.py:1248: UndefinedMetricWarning: Precision is ill-defined and being set to 0.0 due to no predicted samples. Use `zero_division` parameter to control this behavior.\n",
      "  _warn_prf(average, modifier, msg_start, len(result))\n"
     ]
    },
    {
     "name": "stdout",
     "output_type": "stream",
     "text": [
      "Validation Loss: 0.6920037189045468,AUC: 0.5395594594594594,ACC:0.605362162162162,F1:0.2854891891891892,Precision:0.565545945945946,Recall:0.20922972972972972\n",
      "Epoch 175,loss:0.6920927610017557\n"
     ]
    },
    {
     "name": "stderr",
     "output_type": "stream",
     "text": [
      "/usr/local/lib/python3.6/dist-packages/sklearn/metrics/_classification.py:1248: UndefinedMetricWarning: Precision is ill-defined and being set to 0.0 due to no predicted samples. Use `zero_division` parameter to control this behavior.\n",
      "  _warn_prf(average, modifier, msg_start, len(result))\n",
      "/usr/local/lib/python3.6/dist-packages/sklearn/metrics/_classification.py:1248: UndefinedMetricWarning: Precision is ill-defined and being set to 0.0 due to no predicted samples. Use `zero_division` parameter to control this behavior.\n",
      "  _warn_prf(average, modifier, msg_start, len(result))\n"
     ]
    },
    {
     "name": "stdout",
     "output_type": "stream",
     "text": [
      "Validation Loss: 0.6919240774335088,AUC: 0.5387243243243243,ACC:0.6045135135135135,F1:0.27721891891891887,Precision:0.5664891891891892,Recall:0.20023513513513508\n",
      "Epoch 180,loss:0.6920189335282925\n"
     ]
    },
    {
     "name": "stderr",
     "output_type": "stream",
     "text": [
      "/usr/local/lib/python3.6/dist-packages/sklearn/metrics/_classification.py:1248: UndefinedMetricWarning: Precision is ill-defined and being set to 0.0 due to no predicted samples. Use `zero_division` parameter to control this behavior.\n",
      "  _warn_prf(average, modifier, msg_start, len(result))\n",
      "/usr/local/lib/python3.6/dist-packages/sklearn/metrics/_classification.py:1248: UndefinedMetricWarning: Precision is ill-defined and being set to 0.0 due to no predicted samples. Use `zero_division` parameter to control this behavior.\n",
      "  _warn_prf(average, modifier, msg_start, len(result))\n"
     ]
    },
    {
     "name": "stdout",
     "output_type": "stream",
     "text": [
      "Epoch 195,loss:0.6918474520202231\n"
     ]
    },
    {
     "name": "stderr",
     "output_type": "stream",
     "text": [
      "/usr/local/lib/python3.6/dist-packages/sklearn/metrics/_classification.py:1248: UndefinedMetricWarning: Precision is ill-defined and being set to 0.0 due to no predicted samples. Use `zero_division` parameter to control this behavior.\n",
      "  _warn_prf(average, modifier, msg_start, len(result))\n",
      "/usr/local/lib/python3.6/dist-packages/sklearn/metrics/_classification.py:1248: UndefinedMetricWarning: Precision is ill-defined and being set to 0.0 due to no predicted samples. Use `zero_division` parameter to control this behavior.\n",
      "  _warn_prf(average, modifier, msg_start, len(result))\n"
     ]
    },
    {
     "name": "stdout",
     "output_type": "stream",
     "text": [
      "Validation Loss: 0.6917593076422408,AUC: 0.5378864864864866,ACC:0.6024027027027027,F1:0.2652054054054053,Precision:0.5632513513513512,Recall:0.18963513513513508\n",
      "Epoch 200,loss:0.6918024462936199\n"
     ]
    },
    {
     "name": "stderr",
     "output_type": "stream",
     "text": [
      "/usr/local/lib/python3.6/dist-packages/sklearn/metrics/_classification.py:1248: UndefinedMetricWarning: Precision is ill-defined and being set to 0.0 due to no predicted samples. Use `zero_division` parameter to control this behavior.\n",
      "  _warn_prf(average, modifier, msg_start, len(result))\n",
      "/usr/local/lib/python3.6/dist-packages/sklearn/metrics/_classification.py:1248: UndefinedMetricWarning: Precision is ill-defined and being set to 0.0 due to no predicted samples. Use `zero_division` parameter to control this behavior.\n",
      "  _warn_prf(average, modifier, msg_start, len(result))\n"
     ]
    },
    {
     "name": "stdout",
     "output_type": "stream",
     "text": [
      "Validation Loss: 0.6917376453812057,AUC: 0.5381243243243243,ACC:0.6030378378378377,F1:0.2700594594594594,Precision:0.561545945945946,Recall:0.1936432432432432\n",
      "Epoch 205,loss:0.6917611017691351\n"
     ]
    },
    {
     "name": "stderr",
     "output_type": "stream",
     "text": [
      "/usr/local/lib/python3.6/dist-packages/sklearn/metrics/_classification.py:1248: UndefinedMetricWarning: Precision is ill-defined and being set to 0.0 due to no predicted samples. Use `zero_division` parameter to control this behavior.\n",
      "  _warn_prf(average, modifier, msg_start, len(result))\n",
      "/usr/local/lib/python3.6/dist-packages/sklearn/metrics/_classification.py:1248: UndefinedMetricWarning: Precision is ill-defined and being set to 0.0 due to no predicted samples. Use `zero_division` parameter to control this behavior.\n",
      "  _warn_prf(average, modifier, msg_start, len(result))\n"
     ]
    },
    {
     "name": "stdout",
     "output_type": "stream",
     "text": [
      "Validation Loss: 0.6917199428017075,AUC: 0.5375702702702705,ACC:0.601981081081081,F1:0.2664351351351351,Precision:0.5582675675675676,Recall:0.19045405405405402\n",
      "Epoch 210,loss:0.6917231399401099\n"
     ]
    },
    {
     "name": "stderr",
     "output_type": "stream",
     "text": [
      "/usr/local/lib/python3.6/dist-packages/sklearn/metrics/_classification.py:1248: UndefinedMetricWarning: Precision is ill-defined and being set to 0.0 due to no predicted samples. Use `zero_division` parameter to control this behavior.\n",
      "  _warn_prf(average, modifier, msg_start, len(result))\n",
      "/usr/local/lib/python3.6/dist-packages/sklearn/metrics/_classification.py:1248: UndefinedMetricWarning: Precision is ill-defined and being set to 0.0 due to no predicted samples. Use `zero_division` parameter to control this behavior.\n",
      "  _warn_prf(average, modifier, msg_start, len(result))\n",
      "/usr/local/lib/python3.6/dist-packages/sklearn/metrics/_classification.py:1248: UndefinedMetricWarning: Precision is ill-defined and being set to 0.0 due to no predicted samples. Use `zero_division` parameter to control this behavior.\n",
      "  _warn_prf(average, modifier, msg_start, len(result))\n"
     ]
    },
    {
     "name": "stdout",
     "output_type": "stream",
     "text": [
      "Validation Loss: 0.6917056586291339,AUC: 0.5367594594594596,ACC:0.6032486486486486,F1:0.25785135135135134,Precision:0.547808108108108,Recall:0.1833594594594594\n",
      "Epoch 215,loss:0.6916881683653435\n"
     ]
    },
    {
     "name": "stderr",
     "output_type": "stream",
     "text": [
      "/usr/local/lib/python3.6/dist-packages/sklearn/metrics/_classification.py:1248: UndefinedMetricWarning: Precision is ill-defined and being set to 0.0 due to no predicted samples. Use `zero_division` parameter to control this behavior.\n",
      "  _warn_prf(average, modifier, msg_start, len(result))\n",
      "/usr/local/lib/python3.6/dist-packages/sklearn/metrics/_classification.py:1248: UndefinedMetricWarning: Precision is ill-defined and being set to 0.0 due to no predicted samples. Use `zero_division` parameter to control this behavior.\n",
      "  _warn_prf(average, modifier, msg_start, len(result))\n",
      "/usr/local/lib/python3.6/dist-packages/sklearn/metrics/_classification.py:1248: UndefinedMetricWarning: Precision is ill-defined and being set to 0.0 due to no predicted samples. Use `zero_division` parameter to control this behavior.\n",
      "  _warn_prf(average, modifier, msg_start, len(result))\n"
     ]
    },
    {
     "name": "stdout",
     "output_type": "stream",
     "text": [
      "Validation Loss: 0.6916931593740309,AUC: 0.5359594594594594,ACC:0.6034621621621621,F1:0.25395945945945947,Precision:0.5402432432432432,Recall:0.1797378378378378\n",
      "Epoch 220,loss:0.6916551927549649\n"
     ]
    },
    {
     "name": "stderr",
     "output_type": "stream",
     "text": [
      "/usr/local/lib/python3.6/dist-packages/sklearn/metrics/_classification.py:1248: UndefinedMetricWarning: Precision is ill-defined and being set to 0.0 due to no predicted samples. Use `zero_division` parameter to control this behavior.\n",
      "  _warn_prf(average, modifier, msg_start, len(result))\n",
      "/usr/local/lib/python3.6/dist-packages/sklearn/metrics/_classification.py:1248: UndefinedMetricWarning: Precision is ill-defined and being set to 0.0 due to no predicted samples. Use `zero_division` parameter to control this behavior.\n",
      "  _warn_prf(average, modifier, msg_start, len(result))\n",
      "/usr/local/lib/python3.6/dist-packages/sklearn/metrics/_classification.py:1248: UndefinedMetricWarning: Precision is ill-defined and being set to 0.0 due to no predicted samples. Use `zero_division` parameter to control this behavior.\n",
      "  _warn_prf(average, modifier, msg_start, len(result))\n"
     ]
    },
    {
     "name": "stdout",
     "output_type": "stream",
     "text": [
      "Validation Loss: 0.6916830781343821,AUC: 0.5360378378378379,ACC:0.602827027027027,F1:0.2519243243243243,Precision:0.5381729729729731,Recall:0.1780378378378378\n",
      "Epoch 225,loss:0.6916236244471727\n"
     ]
    },
    {
     "name": "stderr",
     "output_type": "stream",
     "text": [
      "/usr/local/lib/python3.6/dist-packages/sklearn/metrics/_classification.py:1248: UndefinedMetricWarning: Precision is ill-defined and being set to 0.0 due to no predicted samples. Use `zero_division` parameter to control this behavior.\n",
      "  _warn_prf(average, modifier, msg_start, len(result))\n",
      "/usr/local/lib/python3.6/dist-packages/sklearn/metrics/_classification.py:1248: UndefinedMetricWarning: Precision is ill-defined and being set to 0.0 due to no predicted samples. Use `zero_division` parameter to control this behavior.\n",
      "  _warn_prf(average, modifier, msg_start, len(result))\n"
     ]
    },
    {
     "name": "stdout",
     "output_type": "stream",
     "text": [
      "Validation Loss: 0.6916739666784132,AUC: 0.5348432432432434,ACC:0.6011378378378378,F1:0.25502702702702695,Precision:0.5488135135135134,Recall:0.17959999999999995\n",
      "Epoch 230,loss:0.6915935151344907\n"
     ]
    },
    {
     "name": "stderr",
     "output_type": "stream",
     "text": [
      "/usr/local/lib/python3.6/dist-packages/sklearn/metrics/_classification.py:1248: UndefinedMetricWarning: Precision is ill-defined and being set to 0.0 due to no predicted samples. Use `zero_division` parameter to control this behavior.\n",
      "  _warn_prf(average, modifier, msg_start, len(result))\n",
      "/usr/local/lib/python3.6/dist-packages/sklearn/metrics/_classification.py:1248: UndefinedMetricWarning: Precision is ill-defined and being set to 0.0 due to no predicted samples. Use `zero_division` parameter to control this behavior.\n",
      "  _warn_prf(average, modifier, msg_start, len(result))\n",
      "/usr/local/lib/python3.6/dist-packages/sklearn/metrics/_classification.py:1248: UndefinedMetricWarning: Precision is ill-defined and being set to 0.0 due to no predicted samples. Use `zero_division` parameter to control this behavior.\n",
      "  _warn_prf(average, modifier, msg_start, len(result))\n"
     ]
    },
    {
     "name": "stdout",
     "output_type": "stream",
     "text": [
      "Validation Loss: 0.6916657364046251,AUC: 0.5356162162162162,ACC:0.6028297297297296,F1:0.24371081081081072,Precision:0.5423378378378377,Recall:0.17054054054054052\n",
      "Epoch 235,loss:0.6915645045516765\n"
     ]
    },
    {
     "name": "stderr",
     "output_type": "stream",
     "text": [
      "/usr/local/lib/python3.6/dist-packages/sklearn/metrics/_classification.py:1248: UndefinedMetricWarning: Precision is ill-defined and being set to 0.0 due to no predicted samples. Use `zero_division` parameter to control this behavior.\n",
      "  _warn_prf(average, modifier, msg_start, len(result))\n",
      "/usr/local/lib/python3.6/dist-packages/sklearn/metrics/_classification.py:1248: UndefinedMetricWarning: Precision is ill-defined and being set to 0.0 due to no predicted samples. Use `zero_division` parameter to control this behavior.\n",
      "  _warn_prf(average, modifier, msg_start, len(result))\n",
      "/usr/local/lib/python3.6/dist-packages/sklearn/metrics/_classification.py:1248: UndefinedMetricWarning: Precision is ill-defined and being set to 0.0 due to no predicted samples. Use `zero_division` parameter to control this behavior.\n",
      "  _warn_prf(average, modifier, msg_start, len(result))\n"
     ]
    },
    {
     "name": "stdout",
     "output_type": "stream",
     "text": [
      "Validation Loss: 0.6916588673720488,AUC: 0.5351837837837837,ACC:0.6019864864864864,F1:0.23694324324324317,Precision:0.5399972972972974,Recall:0.16479729729729728\n",
      "Epoch 240,loss:0.6915368279524609\n"
     ]
    },
    {
     "name": "stderr",
     "output_type": "stream",
     "text": [
      "/usr/local/lib/python3.6/dist-packages/sklearn/metrics/_classification.py:1248: UndefinedMetricWarning: Precision is ill-defined and being set to 0.0 due to no predicted samples. Use `zero_division` parameter to control this behavior.\n",
      "  _warn_prf(average, modifier, msg_start, len(result))\n",
      "/usr/local/lib/python3.6/dist-packages/sklearn/metrics/_classification.py:1248: UndefinedMetricWarning: Precision is ill-defined and being set to 0.0 due to no predicted samples. Use `zero_division` parameter to control this behavior.\n",
      "  _warn_prf(average, modifier, msg_start, len(result))\n",
      "/usr/local/lib/python3.6/dist-packages/sklearn/metrics/_classification.py:1248: UndefinedMetricWarning: Precision is ill-defined and being set to 0.0 due to no predicted samples. Use `zero_division` parameter to control this behavior.\n",
      "  _warn_prf(average, modifier, msg_start, len(result))\n"
     ]
    },
    {
     "name": "stdout",
     "output_type": "stream",
     "text": [
      "Validation Loss: 0.6916512798618626,AUC: 0.5333432432432432,ACC:0.6034675675675676,F1:0.2272351351351351,Precision:0.5557567567567568,Recall:0.15667297297297295\n",
      "Epoch 245,loss:0.6915102237093765\n"
     ]
    },
    {
     "name": "stderr",
     "output_type": "stream",
     "text": [
      "/usr/local/lib/python3.6/dist-packages/sklearn/metrics/_classification.py:1248: UndefinedMetricWarning: Precision is ill-defined and being set to 0.0 due to no predicted samples. Use `zero_division` parameter to control this behavior.\n",
      "  _warn_prf(average, modifier, msg_start, len(result))\n",
      "/usr/local/lib/python3.6/dist-packages/sklearn/metrics/_classification.py:1248: UndefinedMetricWarning: Precision is ill-defined and being set to 0.0 due to no predicted samples. Use `zero_division` parameter to control this behavior.\n",
      "  _warn_prf(average, modifier, msg_start, len(result))\n",
      "/usr/local/lib/python3.6/dist-packages/sklearn/metrics/_classification.py:1248: UndefinedMetricWarning: Precision is ill-defined and being set to 0.0 due to no predicted samples. Use `zero_division` parameter to control this behavior.\n",
      "  _warn_prf(average, modifier, msg_start, len(result))\n"
     ]
    },
    {
     "name": "stdout",
     "output_type": "stream",
     "text": [
      "Validation Loss: 0.6916438872749741,AUC: 0.5315216216216215,ACC:0.6017756756756756,F1:0.23189459459459458,Precision:0.5349351351351351,Recall:0.1599432432432432\n",
      "Epoch 250,loss:0.6914832148931723\n"
     ]
    },
    {
     "name": "stderr",
     "output_type": "stream",
     "text": [
      "/usr/local/lib/python3.6/dist-packages/sklearn/metrics/_classification.py:1248: UndefinedMetricWarning: Precision is ill-defined and being set to 0.0 due to no predicted samples. Use `zero_division` parameter to control this behavior.\n",
      "  _warn_prf(average, modifier, msg_start, len(result))\n",
      "/usr/local/lib/python3.6/dist-packages/sklearn/metrics/_classification.py:1248: UndefinedMetricWarning: Precision is ill-defined and being set to 0.0 due to no predicted samples. Use `zero_division` parameter to control this behavior.\n",
      "  _warn_prf(average, modifier, msg_start, len(result))\n",
      "/usr/local/lib/python3.6/dist-packages/sklearn/metrics/_classification.py:1248: UndefinedMetricWarning: Precision is ill-defined and being set to 0.0 due to no predicted samples. Use `zero_division` parameter to control this behavior.\n",
      "  _warn_prf(average, modifier, msg_start, len(result))\n"
     ]
    },
    {
     "name": "stdout",
     "output_type": "stream",
     "text": [
      "Validation Loss: 0.691637168059478,AUC: 0.530272972972973,ACC:0.6009351351351351,F1:0.2284486486486486,Precision:0.5346756756756758,Recall:0.15678378378378377\n",
      "Epoch 255,loss:0.6914580427439867\n"
     ]
    },
    {
     "name": "stderr",
     "output_type": "stream",
     "text": [
      "/usr/local/lib/python3.6/dist-packages/sklearn/metrics/_classification.py:1248: UndefinedMetricWarning: Precision is ill-defined and being set to 0.0 due to no predicted samples. Use `zero_division` parameter to control this behavior.\n",
      "  _warn_prf(average, modifier, msg_start, len(result))\n",
      "/usr/local/lib/python3.6/dist-packages/sklearn/metrics/_classification.py:1248: UndefinedMetricWarning: Precision is ill-defined and being set to 0.0 due to no predicted samples. Use `zero_division` parameter to control this behavior.\n",
      "  _warn_prf(average, modifier, msg_start, len(result))\n",
      "/usr/local/lib/python3.6/dist-packages/sklearn/metrics/_classification.py:1248: UndefinedMetricWarning: Precision is ill-defined and being set to 0.0 due to no predicted samples. Use `zero_division` parameter to control this behavior.\n",
      "  _warn_prf(average, modifier, msg_start, len(result))\n",
      "/usr/local/lib/python3.6/dist-packages/sklearn/metrics/_classification.py:1248: UndefinedMetricWarning: Precision is ill-defined and being set to 0.0 due to no predicted samples. Use `zero_division` parameter to control this behavior.\n",
      "  _warn_prf(average, modifier, msg_start, len(result))\n"
     ]
    },
    {
     "name": "stdout",
     "output_type": "stream",
     "text": [
      "Validation Loss: 0.6916312092059368,AUC: 0.5300891891891891,ACC:0.6007216216216216,F1:0.22556756756756752,Precision:0.5207702702702702,Recall:0.15481891891891889\n",
      "Epoch 260,loss:0.6914352595278647\n"
     ]
    },
    {
     "name": "stderr",
     "output_type": "stream",
     "text": [
      "/usr/local/lib/python3.6/dist-packages/sklearn/metrics/_classification.py:1248: UndefinedMetricWarning: Precision is ill-defined and being set to 0.0 due to no predicted samples. Use `zero_division` parameter to control this behavior.\n",
      "  _warn_prf(average, modifier, msg_start, len(result))\n",
      "/usr/local/lib/python3.6/dist-packages/sklearn/metrics/_classification.py:1248: UndefinedMetricWarning: Precision is ill-defined and being set to 0.0 due to no predicted samples. Use `zero_division` parameter to control this behavior.\n",
      "  _warn_prf(average, modifier, msg_start, len(result))\n",
      "/usr/local/lib/python3.6/dist-packages/sklearn/metrics/_classification.py:1248: UndefinedMetricWarning: Precision is ill-defined and being set to 0.0 due to no predicted samples. Use `zero_division` parameter to control this behavior.\n",
      "  _warn_prf(average, modifier, msg_start, len(result))\n",
      "/usr/local/lib/python3.6/dist-packages/sklearn/metrics/_classification.py:1248: UndefinedMetricWarning: Precision is ill-defined and being set to 0.0 due to no predicted samples. Use `zero_division` parameter to control this behavior.\n",
      "  _warn_prf(average, modifier, msg_start, len(result))\n"
     ]
    },
    {
     "name": "stdout",
     "output_type": "stream",
     "text": [
      "Validation Loss: 0.6916254323882025,AUC: 0.5290054054054054,ACC:0.6002972972972972,F1:0.21227027027027023,Precision:0.5379540540540542,Recall:0.14461621621621623\n",
      "Epoch 265,loss:0.6914131129737449\n"
     ]
    },
    {
     "name": "stderr",
     "output_type": "stream",
     "text": [
      "/usr/local/lib/python3.6/dist-packages/sklearn/metrics/_classification.py:1248: UndefinedMetricWarning: Precision is ill-defined and being set to 0.0 due to no predicted samples. Use `zero_division` parameter to control this behavior.\n",
      "  _warn_prf(average, modifier, msg_start, len(result))\n",
      "/usr/local/lib/python3.6/dist-packages/sklearn/metrics/_classification.py:1248: UndefinedMetricWarning: Precision is ill-defined and being set to 0.0 due to no predicted samples. Use `zero_division` parameter to control this behavior.\n",
      "  _warn_prf(average, modifier, msg_start, len(result))\n",
      "/usr/local/lib/python3.6/dist-packages/sklearn/metrics/_classification.py:1248: UndefinedMetricWarning: Precision is ill-defined and being set to 0.0 due to no predicted samples. Use `zero_division` parameter to control this behavior.\n",
      "  _warn_prf(average, modifier, msg_start, len(result))\n",
      "/usr/local/lib/python3.6/dist-packages/sklearn/metrics/_classification.py:1248: UndefinedMetricWarning: Precision is ill-defined and being set to 0.0 due to no predicted samples. Use `zero_division` parameter to control this behavior.\n",
      "  _warn_prf(average, modifier, msg_start, len(result))\n"
     ]
    },
    {
     "name": "stdout",
     "output_type": "stream",
     "text": [
      "Validation Loss: 0.6916206269650846,AUC: 0.5289675675675675,ACC:0.600508108108108,F1:0.21576756756756757,Precision:0.526772972972973,Recall:0.1462216216216216\n",
      "Epoch 270,loss:0.6913908989028593\n"
     ]
    },
    {
     "name": "stderr",
     "output_type": "stream",
     "text": [
      "/usr/local/lib/python3.6/dist-packages/sklearn/metrics/_classification.py:1248: UndefinedMetricWarning: Precision is ill-defined and being set to 0.0 due to no predicted samples. Use `zero_division` parameter to control this behavior.\n",
      "  _warn_prf(average, modifier, msg_start, len(result))\n",
      "/usr/local/lib/python3.6/dist-packages/sklearn/metrics/_classification.py:1248: UndefinedMetricWarning: Precision is ill-defined and being set to 0.0 due to no predicted samples. Use `zero_division` parameter to control this behavior.\n",
      "  _warn_prf(average, modifier, msg_start, len(result))\n",
      "/usr/local/lib/python3.6/dist-packages/sklearn/metrics/_classification.py:1248: UndefinedMetricWarning: Precision is ill-defined and being set to 0.0 due to no predicted samples. Use `zero_division` parameter to control this behavior.\n",
      "  _warn_prf(average, modifier, msg_start, len(result))\n",
      "/usr/local/lib/python3.6/dist-packages/sklearn/metrics/_classification.py:1248: UndefinedMetricWarning: Precision is ill-defined and being set to 0.0 due to no predicted samples. Use `zero_division` parameter to control this behavior.\n",
      "  _warn_prf(average, modifier, msg_start, len(result))\n"
     ]
    },
    {
     "name": "stdout",
     "output_type": "stream",
     "text": [
      "Validation Loss: 0.6916153898110261,AUC: 0.5291648648648648,ACC:0.5998729729729728,F1:0.2155027027027027,Precision:0.5249,Recall:0.1463027027027027\n",
      "Epoch 275,loss:0.6913697429462872\n"
     ]
    },
    {
     "name": "stderr",
     "output_type": "stream",
     "text": [
      "/usr/local/lib/python3.6/dist-packages/sklearn/metrics/_classification.py:1248: UndefinedMetricWarning: Precision is ill-defined and being set to 0.0 due to no predicted samples. Use `zero_division` parameter to control this behavior.\n",
      "  _warn_prf(average, modifier, msg_start, len(result))\n",
      "/usr/local/lib/python3.6/dist-packages/sklearn/metrics/_classification.py:1248: UndefinedMetricWarning: Precision is ill-defined and being set to 0.0 due to no predicted samples. Use `zero_division` parameter to control this behavior.\n",
      "  _warn_prf(average, modifier, msg_start, len(result))\n",
      "/usr/local/lib/python3.6/dist-packages/sklearn/metrics/_classification.py:1248: UndefinedMetricWarning: Precision is ill-defined and being set to 0.0 due to no predicted samples. Use `zero_division` parameter to control this behavior.\n",
      "  _warn_prf(average, modifier, msg_start, len(result))\n"
     ]
    },
    {
     "name": "stdout",
     "output_type": "stream",
     "text": [
      "Validation Loss: 0.6916108630798958,AUC: 0.5284513513513514,ACC:0.5994486486486484,F1:0.21712432432432427,Precision:0.5379108108108109,Recall:0.1464918918918919\n",
      "Epoch 280,loss:0.6913486618911271\n"
     ]
    },
    {
     "name": "stderr",
     "output_type": "stream",
     "text": [
      "/usr/local/lib/python3.6/dist-packages/sklearn/metrics/_classification.py:1248: UndefinedMetricWarning: Precision is ill-defined and being set to 0.0 due to no predicted samples. Use `zero_division` parameter to control this behavior.\n",
      "  _warn_prf(average, modifier, msg_start, len(result))\n",
      "/usr/local/lib/python3.6/dist-packages/sklearn/metrics/_classification.py:1248: UndefinedMetricWarning: Precision is ill-defined and being set to 0.0 due to no predicted samples. Use `zero_division` parameter to control this behavior.\n",
      "  _warn_prf(average, modifier, msg_start, len(result))\n",
      "/usr/local/lib/python3.6/dist-packages/sklearn/metrics/_classification.py:1248: UndefinedMetricWarning: Precision is ill-defined and being set to 0.0 due to no predicted samples. Use `zero_division` parameter to control this behavior.\n",
      "  _warn_prf(average, modifier, msg_start, len(result))\n"
     ]
    },
    {
     "name": "stdout",
     "output_type": "stream",
     "text": [
      "Validation Loss: 0.6916051362011884,AUC: 0.5268135135135135,ACC:0.5994513513513512,F1:0.20797297297297293,Precision:0.5421513513513514,Recall:0.13845405405405406\n",
      "Epoch 285,loss:0.6913293568433914\n"
     ]
    },
    {
     "name": "stderr",
     "output_type": "stream",
     "text": [
      "/usr/local/lib/python3.6/dist-packages/sklearn/metrics/_classification.py:1248: UndefinedMetricWarning: Precision is ill-defined and being set to 0.0 due to no predicted samples. Use `zero_division` parameter to control this behavior.\n",
      "  _warn_prf(average, modifier, msg_start, len(result))\n",
      "/usr/local/lib/python3.6/dist-packages/sklearn/metrics/_classification.py:1248: UndefinedMetricWarning: Precision is ill-defined and being set to 0.0 due to no predicted samples. Use `zero_division` parameter to control this behavior.\n",
      "  _warn_prf(average, modifier, msg_start, len(result))\n",
      "/usr/local/lib/python3.6/dist-packages/sklearn/metrics/_classification.py:1248: UndefinedMetricWarning: Precision is ill-defined and being set to 0.0 due to no predicted samples. Use `zero_division` parameter to control this behavior.\n",
      "  _warn_prf(average, modifier, msg_start, len(result))\n"
     ]
    },
    {
     "name": "stdout",
     "output_type": "stream",
     "text": [
      "Validation Loss: 0.691600949377627,AUC: 0.5254297297297296,ACC:0.6007189189189188,F1:0.20428108108108106,Precision:0.5598675675675676,Recall:0.1345054054054054\n",
      "Epoch 290,loss:0.6913101778621167\n"
     ]
    },
    {
     "name": "stderr",
     "output_type": "stream",
     "text": [
      "/usr/local/lib/python3.6/dist-packages/sklearn/metrics/_classification.py:1248: UndefinedMetricWarning: Precision is ill-defined and being set to 0.0 due to no predicted samples. Use `zero_division` parameter to control this behavior.\n",
      "  _warn_prf(average, modifier, msg_start, len(result))\n",
      "/usr/local/lib/python3.6/dist-packages/sklearn/metrics/_classification.py:1248: UndefinedMetricWarning: Precision is ill-defined and being set to 0.0 due to no predicted samples. Use `zero_division` parameter to control this behavior.\n",
      "  _warn_prf(average, modifier, msg_start, len(result))\n",
      "/usr/local/lib/python3.6/dist-packages/sklearn/metrics/_classification.py:1248: UndefinedMetricWarning: Precision is ill-defined and being set to 0.0 due to no predicted samples. Use `zero_division` parameter to control this behavior.\n",
      "  _warn_prf(average, modifier, msg_start, len(result))\n"
     ]
    },
    {
     "name": "stdout",
     "output_type": "stream",
     "text": [
      "Validation Loss: 0.6915967996056015,AUC: 0.524172972972973,ACC:0.6002918918918918,F1:0.19908108108108108,Precision:0.5597405405405405,Recall:0.13049189189189192\n",
      "Epoch 295,loss:0.6912917684664769\n"
     ]
    },
    {
     "name": "stderr",
     "output_type": "stream",
     "text": [
      "/usr/local/lib/python3.6/dist-packages/sklearn/metrics/_classification.py:1248: UndefinedMetricWarning: Precision is ill-defined and being set to 0.0 due to no predicted samples. Use `zero_division` parameter to control this behavior.\n",
      "  _warn_prf(average, modifier, msg_start, len(result))\n",
      "/usr/local/lib/python3.6/dist-packages/sklearn/metrics/_classification.py:1248: UndefinedMetricWarning: Precision is ill-defined and being set to 0.0 due to no predicted samples. Use `zero_division` parameter to control this behavior.\n",
      "  _warn_prf(average, modifier, msg_start, len(result))\n",
      "/usr/local/lib/python3.6/dist-packages/sklearn/metrics/_classification.py:1248: UndefinedMetricWarning: Precision is ill-defined and being set to 0.0 due to no predicted samples. Use `zero_division` parameter to control this behavior.\n",
      "  _warn_prf(average, modifier, msg_start, len(result))\n"
     ]
    },
    {
     "name": "stdout",
     "output_type": "stream",
     "text": [
      "Validation Loss: 0.691591338531391,AUC: 0.5245648648648649,ACC:0.6000837837837836,F1:0.1990297297297297,Precision:0.5587513513513515,Recall:0.13063243243243244\n",
      "Epoch 300,loss:0.6912745770099944\n"
     ]
    },
    {
     "name": "stderr",
     "output_type": "stream",
     "text": [
      "/usr/local/lib/python3.6/dist-packages/sklearn/metrics/_classification.py:1248: UndefinedMetricWarning: Precision is ill-defined and being set to 0.0 due to no predicted samples. Use `zero_division` parameter to control this behavior.\n",
      "  _warn_prf(average, modifier, msg_start, len(result))\n",
      "/usr/local/lib/python3.6/dist-packages/sklearn/metrics/_classification.py:1248: UndefinedMetricWarning: Precision is ill-defined and being set to 0.0 due to no predicted samples. Use `zero_division` parameter to control this behavior.\n",
      "  _warn_prf(average, modifier, msg_start, len(result))\n",
      "/usr/local/lib/python3.6/dist-packages/sklearn/metrics/_classification.py:1248: UndefinedMetricWarning: Precision is ill-defined and being set to 0.0 due to no predicted samples. Use `zero_division` parameter to control this behavior.\n",
      "  _warn_prf(average, modifier, msg_start, len(result))\n"
     ]
    },
    {
     "name": "stdout",
     "output_type": "stream",
     "text": [
      "Validation Loss: 0.6915851815326793,AUC: 0.5245675675675675,ACC:0.5990270270270269,F1:0.20033513513513512,Precision:0.5449459459459459,Recall:0.13151891891891893\n",
      "Epoch 305,loss:0.6912581709633886\n"
     ]
    },
    {
     "name": "stderr",
     "output_type": "stream",
     "text": [
      "/usr/local/lib/python3.6/dist-packages/sklearn/metrics/_classification.py:1248: UndefinedMetricWarning: Precision is ill-defined and being set to 0.0 due to no predicted samples. Use `zero_division` parameter to control this behavior.\n",
      "  _warn_prf(average, modifier, msg_start, len(result))\n",
      "/usr/local/lib/python3.6/dist-packages/sklearn/metrics/_classification.py:1248: UndefinedMetricWarning: Precision is ill-defined and being set to 0.0 due to no predicted samples. Use `zero_division` parameter to control this behavior.\n",
      "  _warn_prf(average, modifier, msg_start, len(result))\n",
      "/usr/local/lib/python3.6/dist-packages/sklearn/metrics/_classification.py:1248: UndefinedMetricWarning: Precision is ill-defined and being set to 0.0 due to no predicted samples. Use `zero_division` parameter to control this behavior.\n",
      "  _warn_prf(average, modifier, msg_start, len(result))\n"
     ]
    },
    {
     "name": "stdout",
     "output_type": "stream",
     "text": [
      "Validation Loss: 0.691580094195701,AUC: 0.5240297297297297,ACC:0.5990270270270269,F1:0.1987108108108108,Precision:0.5454756756756758,Recall:0.13013783783783786\n",
      "Epoch 310,loss:0.6912420803466729\n"
     ]
    },
    {
     "name": "stderr",
     "output_type": "stream",
     "text": [
      "/usr/local/lib/python3.6/dist-packages/sklearn/metrics/_classification.py:1248: UndefinedMetricWarning: Precision is ill-defined and being set to 0.0 due to no predicted samples. Use `zero_division` parameter to control this behavior.\n",
      "  _warn_prf(average, modifier, msg_start, len(result))\n",
      "/usr/local/lib/python3.6/dist-packages/sklearn/metrics/_classification.py:1248: UndefinedMetricWarning: Precision is ill-defined and being set to 0.0 due to no predicted samples. Use `zero_division` parameter to control this behavior.\n",
      "  _warn_prf(average, modifier, msg_start, len(result))\n",
      "/usr/local/lib/python3.6/dist-packages/sklearn/metrics/_classification.py:1248: UndefinedMetricWarning: Precision is ill-defined and being set to 0.0 due to no predicted samples. Use `zero_division` parameter to control this behavior.\n",
      "  _warn_prf(average, modifier, msg_start, len(result))\n"
     ]
    },
    {
     "name": "stdout",
     "output_type": "stream",
     "text": [
      "Validation Loss: 0.6915753081038192,AUC: 0.5236837837837839,ACC:0.5998756756756755,F1:0.19566486486486492,Precision:0.5607297297297297,Recall:0.12792702702702705\n",
      "Epoch 315,loss:0.6912267819970055\n"
     ]
    },
    {
     "name": "stderr",
     "output_type": "stream",
     "text": [
      "/usr/local/lib/python3.6/dist-packages/sklearn/metrics/_classification.py:1248: UndefinedMetricWarning: Precision is ill-defined and being set to 0.0 due to no predicted samples. Use `zero_division` parameter to control this behavior.\n",
      "  _warn_prf(average, modifier, msg_start, len(result))\n",
      "/usr/local/lib/python3.6/dist-packages/sklearn/metrics/_classification.py:1248: UndefinedMetricWarning: Precision is ill-defined and being set to 0.0 due to no predicted samples. Use `zero_division` parameter to control this behavior.\n",
      "  _warn_prf(average, modifier, msg_start, len(result))\n",
      "/usr/local/lib/python3.6/dist-packages/sklearn/metrics/_classification.py:1248: UndefinedMetricWarning: Precision is ill-defined and being set to 0.0 due to no predicted samples. Use `zero_division` parameter to control this behavior.\n",
      "  _warn_prf(average, modifier, msg_start, len(result))\n"
     ]
    },
    {
     "name": "stdout",
     "output_type": "stream",
     "text": [
      "Validation Loss: 0.6915709956272228,AUC: 0.5222,ACC:0.5992378378378377,F1:0.18850540540540536,Precision:0.5691567567567568,Recall:0.12236216216216218\n",
      "Epoch 320,loss:0.69121156857077\n"
     ]
    },
    {
     "name": "stderr",
     "output_type": "stream",
     "text": [
      "/usr/local/lib/python3.6/dist-packages/sklearn/metrics/_classification.py:1248: UndefinedMetricWarning: Precision is ill-defined and being set to 0.0 due to no predicted samples. Use `zero_division` parameter to control this behavior.\n",
      "  _warn_prf(average, modifier, msg_start, len(result))\n",
      "/usr/local/lib/python3.6/dist-packages/sklearn/metrics/_classification.py:1248: UndefinedMetricWarning: Precision is ill-defined and being set to 0.0 due to no predicted samples. Use `zero_division` parameter to control this behavior.\n",
      "  _warn_prf(average, modifier, msg_start, len(result))\n",
      "/usr/local/lib/python3.6/dist-packages/sklearn/metrics/_classification.py:1248: UndefinedMetricWarning: Precision is ill-defined and being set to 0.0 due to no predicted samples. Use `zero_division` parameter to control this behavior.\n",
      "  _warn_prf(average, modifier, msg_start, len(result))\n"
     ]
    },
    {
     "name": "stdout",
     "output_type": "stream",
     "text": [
      "Validation Loss: 0.6915658277434271,AUC: 0.5225405405405407,ACC:0.5988135135135134,F1:0.1830378378378378,Precision:0.5714702702702703,Recall:0.11795135135135139\n",
      "Epoch 325,loss:0.6911975857430854\n"
     ]
    },
    {
     "name": "stderr",
     "output_type": "stream",
     "text": [
      "/usr/local/lib/python3.6/dist-packages/sklearn/metrics/_classification.py:1248: UndefinedMetricWarning: Precision is ill-defined and being set to 0.0 due to no predicted samples. Use `zero_division` parameter to control this behavior.\n",
      "  _warn_prf(average, modifier, msg_start, len(result))\n",
      "/usr/local/lib/python3.6/dist-packages/sklearn/metrics/_classification.py:1248: UndefinedMetricWarning: Precision is ill-defined and being set to 0.0 due to no predicted samples. Use `zero_division` parameter to control this behavior.\n",
      "  _warn_prf(average, modifier, msg_start, len(result))\n",
      "/usr/local/lib/python3.6/dist-packages/sklearn/metrics/_classification.py:1248: UndefinedMetricWarning: Precision is ill-defined and being set to 0.0 due to no predicted samples. Use `zero_division` parameter to control this behavior.\n",
      "  _warn_prf(average, modifier, msg_start, len(result))\n"
     ]
    },
    {
     "name": "stdout",
     "output_type": "stream",
     "text": [
      "Validation Loss: 0.6915617069682559,AUC: 0.5222810810810811,ACC:0.5981783783783783,F1:0.1801243243243243,Precision:0.5688513513513515,Recall:0.11547567567567571\n",
      "Epoch 330,loss:0.6911834235739919\n"
     ]
    },
    {
     "name": "stderr",
     "output_type": "stream",
     "text": [
      "/usr/local/lib/python3.6/dist-packages/sklearn/metrics/_classification.py:1248: UndefinedMetricWarning: Precision is ill-defined and being set to 0.0 due to no predicted samples. Use `zero_division` parameter to control this behavior.\n",
      "  _warn_prf(average, modifier, msg_start, len(result))\n",
      "/usr/local/lib/python3.6/dist-packages/sklearn/metrics/_classification.py:1248: UndefinedMetricWarning: Precision is ill-defined and being set to 0.0 due to no predicted samples. Use `zero_division` parameter to control this behavior.\n",
      "  _warn_prf(average, modifier, msg_start, len(result))\n",
      "/usr/local/lib/python3.6/dist-packages/sklearn/metrics/_classification.py:1248: UndefinedMetricWarning: Precision is ill-defined and being set to 0.0 due to no predicted samples. Use `zero_division` parameter to control this behavior.\n",
      "  _warn_prf(average, modifier, msg_start, len(result))\n"
     ]
    },
    {
     "name": "stdout",
     "output_type": "stream",
     "text": [
      "Validation Loss: 0.6915570545840908,AUC: 0.5217243243243243,ACC:0.5977594594594594,F1:0.17929459459459457,Precision:0.5667351351351352,Recall:0.11486216216216219\n",
      "Epoch 335,loss:0.6911695863293336\n"
     ]
    },
    {
     "name": "stderr",
     "output_type": "stream",
     "text": [
      "/usr/local/lib/python3.6/dist-packages/sklearn/metrics/_classification.py:1248: UndefinedMetricWarning: Precision is ill-defined and being set to 0.0 due to no predicted samples. Use `zero_division` parameter to control this behavior.\n",
      "  _warn_prf(average, modifier, msg_start, len(result))\n",
      "/usr/local/lib/python3.6/dist-packages/sklearn/metrics/_classification.py:1248: UndefinedMetricWarning: Precision is ill-defined and being set to 0.0 due to no predicted samples. Use `zero_division` parameter to control this behavior.\n",
      "  _warn_prf(average, modifier, msg_start, len(result))\n"
     ]
    },
    {
     "name": "stdout",
     "output_type": "stream",
     "text": [
      "Validation Loss: 0.6915520187970754,AUC: 0.5209486486486485,ACC:0.5977594594594594,F1:0.17704324324324322,Precision:0.5697243243243244,Recall:0.11296216216216218\n",
      "Epoch 340,loss:0.6911562311965808\n"
     ]
    },
    {
     "name": "stderr",
     "output_type": "stream",
     "text": [
      "/usr/local/lib/python3.6/dist-packages/sklearn/metrics/_classification.py:1248: UndefinedMetricWarning: Precision is ill-defined and being set to 0.0 due to no predicted samples. Use `zero_division` parameter to control this behavior.\n",
      "  _warn_prf(average, modifier, msg_start, len(result))\n",
      "/usr/local/lib/python3.6/dist-packages/sklearn/metrics/_classification.py:1248: UndefinedMetricWarning: Precision is ill-defined and being set to 0.0 due to no predicted samples. Use `zero_division` parameter to control this behavior.\n",
      "  _warn_prf(average, modifier, msg_start, len(result))\n"
     ]
    },
    {
     "name": "stdout",
     "output_type": "stream",
     "text": [
      "Validation Loss: 0.6915475194518631,AUC: 0.5211972972972972,ACC:0.5981810810810809,F1:0.17630270270270268,Precision:0.5701783783783785,Recall:0.1122648648648649\n",
      "Epoch 345,loss:0.6911434177803782\n"
     ]
    },
    {
     "name": "stderr",
     "output_type": "stream",
     "text": [
      "/usr/local/lib/python3.6/dist-packages/sklearn/metrics/_classification.py:1248: UndefinedMetricWarning: Precision is ill-defined and being set to 0.0 due to no predicted samples. Use `zero_division` parameter to control this behavior.\n",
      "  _warn_prf(average, modifier, msg_start, len(result))\n",
      "/usr/local/lib/python3.6/dist-packages/sklearn/metrics/_classification.py:1248: UndefinedMetricWarning: Precision is ill-defined and being set to 0.0 due to no predicted samples. Use `zero_division` parameter to control this behavior.\n",
      "  _warn_prf(average, modifier, msg_start, len(result))\n"
     ]
    },
    {
     "name": "stdout",
     "output_type": "stream",
     "text": [
      "Validation Loss: 0.6915444473962526,AUC: 0.5207054054054053,ACC:0.5983918918918917,F1:0.17485675675675674,Precision:0.5690621621621622,Recall:0.11071621621621622\n",
      "Epoch 350,loss:0.6911304851548862\n"
     ]
    },
    {
     "name": "stderr",
     "output_type": "stream",
     "text": [
      "/usr/local/lib/python3.6/dist-packages/sklearn/metrics/_classification.py:1248: UndefinedMetricWarning: Precision is ill-defined and being set to 0.0 due to no predicted samples. Use `zero_division` parameter to control this behavior.\n",
      "  _warn_prf(average, modifier, msg_start, len(result))\n",
      "/usr/local/lib/python3.6/dist-packages/sklearn/metrics/_classification.py:1248: UndefinedMetricWarning: Precision is ill-defined and being set to 0.0 due to no predicted samples. Use `zero_division` parameter to control this behavior.\n",
      "  _warn_prf(average, modifier, msg_start, len(result))\n"
     ]
    },
    {
     "name": "stdout",
     "output_type": "stream",
     "text": [
      "Validation Loss: 0.6915408485644573,AUC: 0.5200216216216215,ACC:0.5977594594594594,F1:0.16814594594594592,Precision:0.5698972972972973,Recall:0.10556486486486488\n",
      "Epoch 355,loss:0.691118838512792\n"
     ]
    },
    {
     "name": "stderr",
     "output_type": "stream",
     "text": [
      "/usr/local/lib/python3.6/dist-packages/sklearn/metrics/_classification.py:1248: UndefinedMetricWarning: Precision is ill-defined and being set to 0.0 due to no predicted samples. Use `zero_division` parameter to control this behavior.\n",
      "  _warn_prf(average, modifier, msg_start, len(result))\n",
      "/usr/local/lib/python3.6/dist-packages/sklearn/metrics/_classification.py:1248: UndefinedMetricWarning: Precision is ill-defined and being set to 0.0 due to no predicted samples. Use `zero_division` parameter to control this behavior.\n",
      "  _warn_prf(average, modifier, msg_start, len(result))\n"
     ]
    },
    {
     "name": "stdout",
     "output_type": "stream",
     "text": [
      "Validation Loss: 0.6915371885170808,AUC: 0.5198783783783784,ACC:0.5973405405405404,F1:0.16755945945945946,Precision:0.5701810810810811,Recall:0.10474324324324326\n",
      "Epoch 360,loss:0.6911068505945459\n"
     ]
    },
    {
     "name": "stderr",
     "output_type": "stream",
     "text": [
      "/usr/local/lib/python3.6/dist-packages/sklearn/metrics/_classification.py:1248: UndefinedMetricWarning: Precision is ill-defined and being set to 0.0 due to no predicted samples. Use `zero_division` parameter to control this behavior.\n",
      "  _warn_prf(average, modifier, msg_start, len(result))\n",
      "/usr/local/lib/python3.6/dist-packages/sklearn/metrics/_classification.py:1248: UndefinedMetricWarning: Precision is ill-defined and being set to 0.0 due to no predicted samples. Use `zero_division` parameter to control this behavior.\n",
      "  _warn_prf(average, modifier, msg_start, len(result))\n"
     ]
    },
    {
     "name": "stdout",
     "output_type": "stream",
     "text": [
      "Validation Loss: 0.6915328293233305,AUC: 0.5191432432432431,ACC:0.5971297297297296,F1:0.16716486486486484,Precision:0.5700810810810811,Recall:0.10435405405405407\n",
      "Epoch 365,loss:0.6910952313811378\n"
     ]
    },
    {
     "name": "stderr",
     "output_type": "stream",
     "text": [
      "/usr/local/lib/python3.6/dist-packages/sklearn/metrics/_classification.py:1248: UndefinedMetricWarning: Precision is ill-defined and being set to 0.0 due to no predicted samples. Use `zero_division` parameter to control this behavior.\n",
      "  _warn_prf(average, modifier, msg_start, len(result))\n",
      "/usr/local/lib/python3.6/dist-packages/sklearn/metrics/_classification.py:1248: UndefinedMetricWarning: Precision is ill-defined and being set to 0.0 due to no predicted samples. Use `zero_division` parameter to control this behavior.\n",
      "  _warn_prf(average, modifier, msg_start, len(result))\n"
     ]
    },
    {
     "name": "stdout",
     "output_type": "stream",
     "text": [
      "Validation Loss: 0.6915291660540813,AUC: 0.5190135135135134,ACC:0.596708108108108,F1:0.1658324324324324,Precision:0.5685513513513515,Recall:0.10335675675675678\n",
      "Epoch 370,loss:0.691083718190151\n"
     ]
    },
    {
     "name": "stderr",
     "output_type": "stream",
     "text": [
      "/usr/local/lib/python3.6/dist-packages/sklearn/metrics/_classification.py:1248: UndefinedMetricWarning: Precision is ill-defined and being set to 0.0 due to no predicted samples. Use `zero_division` parameter to control this behavior.\n",
      "  _warn_prf(average, modifier, msg_start, len(result))\n",
      "/usr/local/lib/python3.6/dist-packages/sklearn/metrics/_classification.py:1248: UndefinedMetricWarning: Precision is ill-defined and being set to 0.0 due to no predicted samples. Use `zero_division` parameter to control this behavior.\n",
      "  _warn_prf(average, modifier, msg_start, len(result))\n"
     ]
    },
    {
     "name": "stdout",
     "output_type": "stream",
     "text": [
      "Validation Loss: 0.6915265080091115,AUC: 0.5184567567567566,ACC:0.5981837837837838,F1:0.16118648648648648,Precision:0.586891891891892,Recall:0.09981351351351353\n",
      "Epoch 375,loss:0.691072286230273\n"
     ]
    },
    {
     "name": "stderr",
     "output_type": "stream",
     "text": [
      "/usr/local/lib/python3.6/dist-packages/sklearn/metrics/_classification.py:1248: UndefinedMetricWarning: Precision is ill-defined and being set to 0.0 due to no predicted samples. Use `zero_division` parameter to control this behavior.\n",
      "  _warn_prf(average, modifier, msg_start, len(result))\n",
      "/usr/local/lib/python3.6/dist-packages/sklearn/metrics/_classification.py:1248: UndefinedMetricWarning: Precision is ill-defined and being set to 0.0 due to no predicted samples. Use `zero_division` parameter to control this behavior.\n",
      "  _warn_prf(average, modifier, msg_start, len(result))\n"
     ]
    },
    {
     "name": "stdout",
     "output_type": "stream",
     "text": [
      "Validation Loss: 0.6915223598480225,AUC: 0.5179081081081081,ACC:0.5979729729729729,F1:0.161327027027027,Precision:0.5837486486486487,Recall:0.10017567567567569\n",
      "Epoch 380,loss:0.6910614671960341\n"
     ]
    },
    {
     "name": "stderr",
     "output_type": "stream",
     "text": [
      "/usr/local/lib/python3.6/dist-packages/sklearn/metrics/_classification.py:1248: UndefinedMetricWarning: Precision is ill-defined and being set to 0.0 due to no predicted samples. Use `zero_division` parameter to control this behavior.\n",
      "  _warn_prf(average, modifier, msg_start, len(result))\n",
      "/usr/local/lib/python3.6/dist-packages/sklearn/metrics/_classification.py:1248: UndefinedMetricWarning: Precision is ill-defined and being set to 0.0 due to no predicted samples. Use `zero_division` parameter to control this behavior.\n",
      "  _warn_prf(average, modifier, msg_start, len(result))\n"
     ]
    },
    {
     "name": "stdout",
     "output_type": "stream",
     "text": [
      "Validation Loss: 0.6915191524737591,AUC: 0.5175918918918919,ACC:0.597127027027027,F1:0.15790540540540537,Precision:0.5793486486486488,Recall:0.09771891891891893\n",
      "Epoch 385,loss:0.6910509936577451\n"
     ]
    },
    {
     "name": "stderr",
     "output_type": "stream",
     "text": [
      "/usr/local/lib/python3.6/dist-packages/sklearn/metrics/_classification.py:1248: UndefinedMetricWarning: Precision is ill-defined and being set to 0.0 due to no predicted samples. Use `zero_division` parameter to control this behavior.\n",
      "  _warn_prf(average, modifier, msg_start, len(result))\n",
      "/usr/local/lib/python3.6/dist-packages/sklearn/metrics/_classification.py:1248: UndefinedMetricWarning: Precision is ill-defined and being set to 0.0 due to no predicted samples. Use `zero_division` parameter to control this behavior.\n",
      "  _warn_prf(average, modifier, msg_start, len(result))\n",
      "/usr/local/lib/python3.6/dist-packages/sklearn/metrics/_classification.py:1248: UndefinedMetricWarning: Precision is ill-defined and being set to 0.0 due to no predicted samples. Use `zero_division` parameter to control this behavior.\n",
      "  _warn_prf(average, modifier, msg_start, len(result))\n"
     ]
    },
    {
     "name": "stdout",
     "output_type": "stream",
     "text": [
      "Validation Loss: 0.6915161529102841,AUC: 0.5177054054054054,ACC:0.5977594594594594,F1:0.15616756756756756,Precision:0.569618918918919,Recall:0.09692432432432434\n",
      "Epoch 390,loss:0.6910405828889492\n"
     ]
    },
    {
     "name": "stderr",
     "output_type": "stream",
     "text": [
      "/usr/local/lib/python3.6/dist-packages/sklearn/metrics/_classification.py:1248: UndefinedMetricWarning: Precision is ill-defined and being set to 0.0 due to no predicted samples. Use `zero_division` parameter to control this behavior.\n",
      "  _warn_prf(average, modifier, msg_start, len(result))\n",
      "/usr/local/lib/python3.6/dist-packages/sklearn/metrics/_classification.py:1248: UndefinedMetricWarning: Precision is ill-defined and being set to 0.0 due to no predicted samples. Use `zero_division` parameter to control this behavior.\n",
      "  _warn_prf(average, modifier, msg_start, len(result))\n",
      "/usr/local/lib/python3.6/dist-packages/sklearn/metrics/_classification.py:1248: UndefinedMetricWarning: Precision is ill-defined and being set to 0.0 due to no predicted samples. Use `zero_division` parameter to control this behavior.\n",
      "  _warn_prf(average, modifier, msg_start, len(result))\n"
     ]
    },
    {
     "name": "stdout",
     "output_type": "stream",
     "text": [
      "Validation Loss: 0.6915138089979017,AUC: 0.5174675675675676,ACC:0.5973378378378378,F1:0.15620810810810812,Precision:0.5675648648648648,Recall:0.0969837837837838\n",
      "Epoch 395,loss:0.6910305265831737\n"
     ]
    },
    {
     "name": "stderr",
     "output_type": "stream",
     "text": [
      "/usr/local/lib/python3.6/dist-packages/sklearn/metrics/_classification.py:1248: UndefinedMetricWarning: Precision is ill-defined and being set to 0.0 due to no predicted samples. Use `zero_division` parameter to control this behavior.\n",
      "  _warn_prf(average, modifier, msg_start, len(result))\n",
      "/usr/local/lib/python3.6/dist-packages/sklearn/metrics/_classification.py:1248: UndefinedMetricWarning: Precision is ill-defined and being set to 0.0 due to no predicted samples. Use `zero_division` parameter to control this behavior.\n",
      "  _warn_prf(average, modifier, msg_start, len(result))\n",
      "/usr/local/lib/python3.6/dist-packages/sklearn/metrics/_classification.py:1248: UndefinedMetricWarning: Precision is ill-defined and being set to 0.0 due to no predicted samples. Use `zero_division` parameter to control this behavior.\n",
      "  _warn_prf(average, modifier, msg_start, len(result))\n"
     ]
    },
    {
     "name": "stdout",
     "output_type": "stream",
     "text": [
      "Validation Loss: 0.6915095142416052,AUC: 0.5172648648648648,ACC:0.5975486486486487,F1:0.15580810810810813,Precision:0.5687054054054054,Recall:0.09658648648648652\n",
      "Epoch 400,loss:0.6910204439036614\n"
     ]
    },
    {
     "name": "stderr",
     "output_type": "stream",
     "text": [
      "/usr/local/lib/python3.6/dist-packages/sklearn/metrics/_classification.py:1248: UndefinedMetricWarning: Precision is ill-defined and being set to 0.0 due to no predicted samples. Use `zero_division` parameter to control this behavior.\n",
      "  _warn_prf(average, modifier, msg_start, len(result))\n",
      "/usr/local/lib/python3.6/dist-packages/sklearn/metrics/_classification.py:1248: UndefinedMetricWarning: Precision is ill-defined and being set to 0.0 due to no predicted samples. Use `zero_division` parameter to control this behavior.\n",
      "  _warn_prf(average, modifier, msg_start, len(result))\n",
      "/usr/local/lib/python3.6/dist-packages/sklearn/metrics/_classification.py:1248: UndefinedMetricWarning: Precision is ill-defined and being set to 0.0 due to no predicted samples. Use `zero_division` parameter to control this behavior.\n",
      "  _warn_prf(average, modifier, msg_start, len(result))\n"
     ]
    },
    {
     "name": "stdout",
     "output_type": "stream",
     "text": [
      "Validation Loss: 0.6915068062576087,AUC: 0.5173189189189189,ACC:0.5975486486486487,F1:0.15395135135135132,Precision:0.5718513513513513,Recall:0.09510000000000002\n",
      "Epoch 405,loss:0.6910101354649637\n"
     ]
    },
    {
     "name": "stderr",
     "output_type": "stream",
     "text": [
      "/usr/local/lib/python3.6/dist-packages/sklearn/metrics/_classification.py:1248: UndefinedMetricWarning: Precision is ill-defined and being set to 0.0 due to no predicted samples. Use `zero_division` parameter to control this behavior.\n",
      "  _warn_prf(average, modifier, msg_start, len(result))\n",
      "/usr/local/lib/python3.6/dist-packages/sklearn/metrics/_classification.py:1248: UndefinedMetricWarning: Precision is ill-defined and being set to 0.0 due to no predicted samples. Use `zero_division` parameter to control this behavior.\n",
      "  _warn_prf(average, modifier, msg_start, len(result))\n",
      "/usr/local/lib/python3.6/dist-packages/sklearn/metrics/_classification.py:1248: UndefinedMetricWarning: Precision is ill-defined and being set to 0.0 due to no predicted samples. Use `zero_division` parameter to control this behavior.\n",
      "  _warn_prf(average, modifier, msg_start, len(result))\n"
     ]
    },
    {
     "name": "stdout",
     "output_type": "stream",
     "text": [
      "Validation Loss: 0.6915049295167666,AUC: 0.5180135135135135,ACC:0.5973378378378379,F1:0.15182162162162163,Precision:0.5716837837837838,Recall:0.09363243243243245\n",
      "Epoch 410,loss:0.6910000759943397\n"
     ]
    },
    {
     "name": "stderr",
     "output_type": "stream",
     "text": [
      "/usr/local/lib/python3.6/dist-packages/sklearn/metrics/_classification.py:1248: UndefinedMetricWarning: Precision is ill-defined and being set to 0.0 due to no predicted samples. Use `zero_division` parameter to control this behavior.\n",
      "  _warn_prf(average, modifier, msg_start, len(result))\n",
      "/usr/local/lib/python3.6/dist-packages/sklearn/metrics/_classification.py:1248: UndefinedMetricWarning: Precision is ill-defined and being set to 0.0 due to no predicted samples. Use `zero_division` parameter to control this behavior.\n",
      "  _warn_prf(average, modifier, msg_start, len(result))\n",
      "/usr/local/lib/python3.6/dist-packages/sklearn/metrics/_classification.py:1248: UndefinedMetricWarning: Precision is ill-defined and being set to 0.0 due to no predicted samples. Use `zero_division` parameter to control this behavior.\n",
      "  _warn_prf(average, modifier, msg_start, len(result))\n"
     ]
    },
    {
     "name": "stdout",
     "output_type": "stream",
     "text": [
      "Validation Loss: 0.691502524388803,AUC: 0.5178756756756757,ACC:0.597545945945946,F1:0.15205405405405403,Precision:0.5711324324324324,Recall:0.09368378378378382\n",
      "Epoch 415,loss:0.6909897707204903\n"
     ]
    },
    {
     "name": "stderr",
     "output_type": "stream",
     "text": [
      "/usr/local/lib/python3.6/dist-packages/sklearn/metrics/_classification.py:1248: UndefinedMetricWarning: Precision is ill-defined and being set to 0.0 due to no predicted samples. Use `zero_division` parameter to control this behavior.\n",
      "  _warn_prf(average, modifier, msg_start, len(result))\n",
      "/usr/local/lib/python3.6/dist-packages/sklearn/metrics/_classification.py:1248: UndefinedMetricWarning: Precision is ill-defined and being set to 0.0 due to no predicted samples. Use `zero_division` parameter to control this behavior.\n",
      "  _warn_prf(average, modifier, msg_start, len(result))\n",
      "/usr/local/lib/python3.6/dist-packages/sklearn/metrics/_classification.py:1248: UndefinedMetricWarning: Precision is ill-defined and being set to 0.0 due to no predicted samples. Use `zero_division` parameter to control this behavior.\n",
      "  _warn_prf(average, modifier, msg_start, len(result))\n"
     ]
    },
    {
     "name": "stdout",
     "output_type": "stream",
     "text": [
      "Validation Loss: 0.6914987531868187,AUC: 0.5176189189189189,ACC:0.5975486486486487,F1:0.15149189189189188,Precision:0.5732135135135135,Recall:0.09319729729729731\n",
      "Epoch 420,loss:0.6909808105072089\n"
     ]
    },
    {
     "name": "stderr",
     "output_type": "stream",
     "text": [
      "/usr/local/lib/python3.6/dist-packages/sklearn/metrics/_classification.py:1248: UndefinedMetricWarning: Precision is ill-defined and being set to 0.0 due to no predicted samples. Use `zero_division` parameter to control this behavior.\n",
      "  _warn_prf(average, modifier, msg_start, len(result))\n",
      "/usr/local/lib/python3.6/dist-packages/sklearn/metrics/_classification.py:1248: UndefinedMetricWarning: Precision is ill-defined and being set to 0.0 due to no predicted samples. Use `zero_division` parameter to control this behavior.\n",
      "  _warn_prf(average, modifier, msg_start, len(result))\n",
      "/usr/local/lib/python3.6/dist-packages/sklearn/metrics/_classification.py:1248: UndefinedMetricWarning: Precision is ill-defined and being set to 0.0 due to no predicted samples. Use `zero_division` parameter to control this behavior.\n",
      "  _warn_prf(average, modifier, msg_start, len(result))\n"
     ]
    },
    {
     "name": "stdout",
     "output_type": "stream",
     "text": [
      "Validation Loss: 0.6914961756886663,AUC: 0.5174081081081081,ACC:0.5964945945945945,F1:0.1501162162162162,Precision:0.5675324324324326,Recall:0.09241621621621623\n",
      "Epoch 425,loss:0.6909707077836569\n"
     ]
    },
    {
     "name": "stderr",
     "output_type": "stream",
     "text": [
      "/usr/local/lib/python3.6/dist-packages/sklearn/metrics/_classification.py:1248: UndefinedMetricWarning: Precision is ill-defined and being set to 0.0 due to no predicted samples. Use `zero_division` parameter to control this behavior.\n",
      "  _warn_prf(average, modifier, msg_start, len(result))\n",
      "/usr/local/lib/python3.6/dist-packages/sklearn/metrics/_classification.py:1248: UndefinedMetricWarning: Precision is ill-defined and being set to 0.0 due to no predicted samples. Use `zero_division` parameter to control this behavior.\n",
      "  _warn_prf(average, modifier, msg_start, len(result))\n",
      "/usr/local/lib/python3.6/dist-packages/sklearn/metrics/_classification.py:1248: UndefinedMetricWarning: Precision is ill-defined and being set to 0.0 due to no predicted samples. Use `zero_division` parameter to control this behavior.\n",
      "  _warn_prf(average, modifier, msg_start, len(result))\n"
     ]
    },
    {
     "name": "stdout",
     "output_type": "stream",
     "text": [
      "Validation Loss: 0.6914926622364972,AUC: 0.517318918918919,ACC:0.5958594594594595,F1:0.14776756756756756,Precision:0.5656135135135135,Recall:0.09083783783783786\n",
      "Epoch 430,loss:0.6909612786453382\n"
     ]
    },
    {
     "name": "stderr",
     "output_type": "stream",
     "text": [
      "/usr/local/lib/python3.6/dist-packages/sklearn/metrics/_classification.py:1248: UndefinedMetricWarning: Precision is ill-defined and being set to 0.0 due to no predicted samples. Use `zero_division` parameter to control this behavior.\n",
      "  _warn_prf(average, modifier, msg_start, len(result))\n",
      "/usr/local/lib/python3.6/dist-packages/sklearn/metrics/_classification.py:1248: UndefinedMetricWarning: Precision is ill-defined and being set to 0.0 due to no predicted samples. Use `zero_division` parameter to control this behavior.\n",
      "  _warn_prf(average, modifier, msg_start, len(result))\n",
      "/usr/local/lib/python3.6/dist-packages/sklearn/metrics/_classification.py:1248: UndefinedMetricWarning: Precision is ill-defined and being set to 0.0 due to no predicted samples. Use `zero_division` parameter to control this behavior.\n",
      "  _warn_prf(average, modifier, msg_start, len(result))\n"
     ]
    },
    {
     "name": "stdout",
     "output_type": "stream",
     "text": [
      "Validation Loss: 0.6914908306018727,AUC: 0.5168351351351351,ACC:0.5962783783783783,F1:0.1496162162162162,Precision:0.5639000000000002,Recall:0.09182702702702703\n",
      "Epoch 435,loss:0.6909518980346949\n"
     ]
    },
    {
     "name": "stderr",
     "output_type": "stream",
     "text": [
      "/usr/local/lib/python3.6/dist-packages/sklearn/metrics/_classification.py:1248: UndefinedMetricWarning: Precision is ill-defined and being set to 0.0 due to no predicted samples. Use `zero_division` parameter to control this behavior.\n",
      "  _warn_prf(average, modifier, msg_start, len(result))\n",
      "/usr/local/lib/python3.6/dist-packages/sklearn/metrics/_classification.py:1248: UndefinedMetricWarning: Precision is ill-defined and being set to 0.0 due to no predicted samples. Use `zero_division` parameter to control this behavior.\n",
      "  _warn_prf(average, modifier, msg_start, len(result))\n",
      "/usr/local/lib/python3.6/dist-packages/sklearn/metrics/_classification.py:1248: UndefinedMetricWarning: Precision is ill-defined and being set to 0.0 due to no predicted samples. Use `zero_division` parameter to control this behavior.\n",
      "  _warn_prf(average, modifier, msg_start, len(result))\n"
     ]
    },
    {
     "name": "stdout",
     "output_type": "stream",
     "text": [
      "Validation Loss: 0.6914895805152687,AUC: 0.5169756756756757,ACC:0.5962783783783783,F1:0.1504,Precision:0.5631270270270272,Recall:0.09231891891891893\n",
      "Epoch 440,loss:0.6909420896420436\n"
     ]
    },
    {
     "name": "stderr",
     "output_type": "stream",
     "text": [
      "/usr/local/lib/python3.6/dist-packages/sklearn/metrics/_classification.py:1248: UndefinedMetricWarning: Precision is ill-defined and being set to 0.0 due to no predicted samples. Use `zero_division` parameter to control this behavior.\n",
      "  _warn_prf(average, modifier, msg_start, len(result))\n",
      "/usr/local/lib/python3.6/dist-packages/sklearn/metrics/_classification.py:1248: UndefinedMetricWarning: Precision is ill-defined and being set to 0.0 due to no predicted samples. Use `zero_division` parameter to control this behavior.\n",
      "  _warn_prf(average, modifier, msg_start, len(result))\n",
      "/usr/local/lib/python3.6/dist-packages/sklearn/metrics/_classification.py:1248: UndefinedMetricWarning: Precision is ill-defined and being set to 0.0 due to no predicted samples. Use `zero_division` parameter to control this behavior.\n",
      "  _warn_prf(average, modifier, msg_start, len(result))\n"
     ]
    },
    {
     "name": "stdout",
     "output_type": "stream",
     "text": [
      "Validation Loss: 0.691486745267301,AUC: 0.5158351351351351,ACC:0.5960675675675675,F1:0.1480108108108108,Precision:0.5633378378378379,Recall:0.09044864864864867\n",
      "Epoch 445,loss:0.6909332080224974\n"
     ]
    },
    {
     "name": "stderr",
     "output_type": "stream",
     "text": [
      "/usr/local/lib/python3.6/dist-packages/sklearn/metrics/_classification.py:1248: UndefinedMetricWarning: Precision is ill-defined and being set to 0.0 due to no predicted samples. Use `zero_division` parameter to control this behavior.\n",
      "  _warn_prf(average, modifier, msg_start, len(result))\n",
      "/usr/local/lib/python3.6/dist-packages/sklearn/metrics/_classification.py:1248: UndefinedMetricWarning: Precision is ill-defined and being set to 0.0 due to no predicted samples. Use `zero_division` parameter to control this behavior.\n",
      "  _warn_prf(average, modifier, msg_start, len(result))\n",
      "/usr/local/lib/python3.6/dist-packages/sklearn/metrics/_classification.py:1248: UndefinedMetricWarning: Precision is ill-defined and being set to 0.0 due to no predicted samples. Use `zero_division` parameter to control this behavior.\n",
      "  _warn_prf(average, modifier, msg_start, len(result))\n"
     ]
    },
    {
     "name": "stdout",
     "output_type": "stream",
     "text": [
      "Validation Loss: 0.6914844980110993,AUC: 0.5157513513513513,ACC:0.5958567567567566,F1:0.1464216216216216,Precision:0.5614081081081082,Recall:0.08947297297297299\n",
      "Epoch 450,loss:0.6909235014324695\n"
     ]
    },
    {
     "name": "stderr",
     "output_type": "stream",
     "text": [
      "/usr/local/lib/python3.6/dist-packages/sklearn/metrics/_classification.py:1248: UndefinedMetricWarning: Precision is ill-defined and being set to 0.0 due to no predicted samples. Use `zero_division` parameter to control this behavior.\n",
      "  _warn_prf(average, modifier, msg_start, len(result))\n",
      "/usr/local/lib/python3.6/dist-packages/sklearn/metrics/_classification.py:1248: UndefinedMetricWarning: Precision is ill-defined and being set to 0.0 due to no predicted samples. Use `zero_division` parameter to control this behavior.\n",
      "  _warn_prf(average, modifier, msg_start, len(result))\n"
     ]
    },
    {
     "name": "stdout",
     "output_type": "stream",
     "text": [
      "Validation Loss: 0.6914831093839697,AUC: 0.5162729729729729,ACC:0.5958621621621621,F1:0.14797837837837835,Precision:0.582218918918919,Recall:0.0902\n",
      "Epoch 455,loss:0.6909141909759656\n"
     ]
    },
    {
     "name": "stderr",
     "output_type": "stream",
     "text": [
      "/usr/local/lib/python3.6/dist-packages/sklearn/metrics/_classification.py:1248: UndefinedMetricWarning: Precision is ill-defined and being set to 0.0 due to no predicted samples. Use `zero_division` parameter to control this behavior.\n",
      "  _warn_prf(average, modifier, msg_start, len(result))\n",
      "/usr/local/lib/python3.6/dist-packages/sklearn/metrics/_classification.py:1248: UndefinedMetricWarning: Precision is ill-defined and being set to 0.0 due to no predicted samples. Use `zero_division` parameter to control this behavior.\n",
      "  _warn_prf(average, modifier, msg_start, len(result))\n"
     ]
    },
    {
     "name": "stdout",
     "output_type": "stream",
     "text": [
      "Validation Loss: 0.6914826792639654,AUC: 0.5162405405405405,ACC:0.5948054054054055,F1:0.1442054054054054,Precision:0.5781783783783784,Recall:0.0875054054054054\n",
      "Epoch 460,loss:0.6909047834641111\n"
     ]
    },
    {
     "name": "stderr",
     "output_type": "stream",
     "text": [
      "/usr/local/lib/python3.6/dist-packages/sklearn/metrics/_classification.py:1248: UndefinedMetricWarning: Precision is ill-defined and being set to 0.0 due to no predicted samples. Use `zero_division` parameter to control this behavior.\n",
      "  _warn_prf(average, modifier, msg_start, len(result))\n",
      "/usr/local/lib/python3.6/dist-packages/sklearn/metrics/_classification.py:1248: UndefinedMetricWarning: Precision is ill-defined and being set to 0.0 due to no predicted samples. Use `zero_division` parameter to control this behavior.\n",
      "  _warn_prf(average, modifier, msg_start, len(result))\n"
     ]
    },
    {
     "name": "stdout",
     "output_type": "stream",
     "text": [
      "Validation Loss: 0.6914815193897969,AUC: 0.5165162162162162,ACC:0.5943810810810811,F1:0.1468783783783784,Precision:0.5733513513513515,Recall:0.08979729729729731\n",
      "Epoch 465,loss:0.6908963649673799\n"
     ]
    },
    {
     "name": "stderr",
     "output_type": "stream",
     "text": [
      "/usr/local/lib/python3.6/dist-packages/sklearn/metrics/_classification.py:1248: UndefinedMetricWarning: Precision is ill-defined and being set to 0.0 due to no predicted samples. Use `zero_division` parameter to control this behavior.\n",
      "  _warn_prf(average, modifier, msg_start, len(result))\n",
      "/usr/local/lib/python3.6/dist-packages/sklearn/metrics/_classification.py:1248: UndefinedMetricWarning: Precision is ill-defined and being set to 0.0 due to no predicted samples. Use `zero_division` parameter to control this behavior.\n",
      "  _warn_prf(average, modifier, msg_start, len(result))\n"
     ]
    },
    {
     "name": "stdout",
     "output_type": "stream",
     "text": [
      "Validation Loss: 0.6914812439196819,AUC: 0.5168162162162162,ACC:0.5952243243243243,F1:0.15064324324324324,Precision:0.5781324324324325,Recall:0.09218648648648649\n",
      "Epoch 470,loss:0.6908873720506651\n"
     ]
    },
    {
     "name": "stderr",
     "output_type": "stream",
     "text": [
      "/usr/local/lib/python3.6/dist-packages/sklearn/metrics/_classification.py:1248: UndefinedMetricWarning: Precision is ill-defined and being set to 0.0 due to no predicted samples. Use `zero_division` parameter to control this behavior.\n",
      "  _warn_prf(average, modifier, msg_start, len(result))\n",
      "/usr/local/lib/python3.6/dist-packages/sklearn/metrics/_classification.py:1248: UndefinedMetricWarning: Precision is ill-defined and being set to 0.0 due to no predicted samples. Use `zero_division` parameter to control this behavior.\n",
      "  _warn_prf(average, modifier, msg_start, len(result))\n"
     ]
    },
    {
     "name": "stdout",
     "output_type": "stream",
     "text": [
      "Validation Loss: 0.6914805093327084,AUC: 0.5162621621621621,ACC:0.5952270270270269,F1:0.14359729729729728,Precision:0.5945702702702704,Recall:0.08791081081081083\n",
      "Epoch 475,loss:0.690878646036165\n"
     ]
    },
    {
     "name": "stderr",
     "output_type": "stream",
     "text": [
      "/usr/local/lib/python3.6/dist-packages/sklearn/metrics/_classification.py:1248: UndefinedMetricWarning: Precision is ill-defined and being set to 0.0 due to no predicted samples. Use `zero_division` parameter to control this behavior.\n",
      "  _warn_prf(average, modifier, msg_start, len(result))\n",
      "/usr/local/lib/python3.6/dist-packages/sklearn/metrics/_classification.py:1248: UndefinedMetricWarning: Precision is ill-defined and being set to 0.0 due to no predicted samples. Use `zero_division` parameter to control this behavior.\n",
      "  _warn_prf(average, modifier, msg_start, len(result))\n"
     ]
    },
    {
     "name": "stdout",
     "output_type": "stream",
     "text": [
      "Validation Loss: 0.6914785810419031,AUC: 0.5161135135135135,ACC:0.595227027027027,F1:0.1398297297297297,Precision:0.6075540540540542,Recall:0.08523243243243245\n",
      "Epoch 480,loss:0.6908693814699629\n"
     ]
    },
    {
     "name": "stderr",
     "output_type": "stream",
     "text": [
      "/usr/local/lib/python3.6/dist-packages/sklearn/metrics/_classification.py:1248: UndefinedMetricWarning: Precision is ill-defined and being set to 0.0 due to no predicted samples. Use `zero_division` parameter to control this behavior.\n",
      "  _warn_prf(average, modifier, msg_start, len(result))\n",
      "/usr/local/lib/python3.6/dist-packages/sklearn/metrics/_classification.py:1248: UndefinedMetricWarning: Precision is ill-defined and being set to 0.0 due to no predicted samples. Use `zero_division` parameter to control this behavior.\n",
      "  _warn_prf(average, modifier, msg_start, len(result))\n",
      "/usr/local/lib/python3.6/dist-packages/sklearn/metrics/_classification.py:1248: UndefinedMetricWarning: Precision is ill-defined and being set to 0.0 due to no predicted samples. Use `zero_division` parameter to control this behavior.\n",
      "  _warn_prf(average, modifier, msg_start, len(result))\n"
     ]
    },
    {
     "name": "stdout",
     "output_type": "stream",
     "text": [
      "Validation Loss: 0.6914779962720098,AUC: 0.5170216216216215,ACC:0.5956486486486486,F1:0.13333513513513515,Precision:0.5991162162162164,Recall:0.08043783783783785\n",
      "Epoch 485,loss:0.6908611270178736\n"
     ]
    },
    {
     "name": "stderr",
     "output_type": "stream",
     "text": [
      "/usr/local/lib/python3.6/dist-packages/sklearn/metrics/_classification.py:1248: UndefinedMetricWarning: Precision is ill-defined and being set to 0.0 due to no predicted samples. Use `zero_division` parameter to control this behavior.\n",
      "  _warn_prf(average, modifier, msg_start, len(result))\n",
      "/usr/local/lib/python3.6/dist-packages/sklearn/metrics/_classification.py:1248: UndefinedMetricWarning: Precision is ill-defined and being set to 0.0 due to no predicted samples. Use `zero_division` parameter to control this behavior.\n",
      "  _warn_prf(average, modifier, msg_start, len(result))\n",
      "/usr/local/lib/python3.6/dist-packages/sklearn/metrics/_classification.py:1248: UndefinedMetricWarning: Precision is ill-defined and being set to 0.0 due to no predicted samples. Use `zero_division` parameter to control this behavior.\n",
      "  _warn_prf(average, modifier, msg_start, len(result))\n"
     ]
    },
    {
     "name": "stdout",
     "output_type": "stream",
     "text": [
      "Validation Loss: 0.6914761662483215,AUC: 0.5178810810810811,ACC:0.5956459459459459,F1:0.12882702702702703,Precision:0.5976027027027027,Recall:0.07752432432432432\n",
      "Epoch 490,loss:0.6908524173550901\n"
     ]
    },
    {
     "name": "stderr",
     "output_type": "stream",
     "text": [
      "/usr/local/lib/python3.6/dist-packages/sklearn/metrics/_classification.py:1248: UndefinedMetricWarning: Precision is ill-defined and being set to 0.0 due to no predicted samples. Use `zero_division` parameter to control this behavior.\n",
      "  _warn_prf(average, modifier, msg_start, len(result))\n",
      "/usr/local/lib/python3.6/dist-packages/sklearn/metrics/_classification.py:1248: UndefinedMetricWarning: Precision is ill-defined and being set to 0.0 due to no predicted samples. Use `zero_division` parameter to control this behavior.\n",
      "  _warn_prf(average, modifier, msg_start, len(result))\n",
      "/usr/local/lib/python3.6/dist-packages/sklearn/metrics/_classification.py:1248: UndefinedMetricWarning: Precision is ill-defined and being set to 0.0 due to no predicted samples. Use `zero_division` parameter to control this behavior.\n",
      "  _warn_prf(average, modifier, msg_start, len(result))\n"
     ]
    },
    {
     "name": "stdout",
     "output_type": "stream",
     "text": [
      "Validation Loss: 0.6914746278041118,AUC: 0.5180216216216216,ACC:0.5950108108108108,F1:0.12692972972972977,Precision:0.5944081081081083,Recall:0.07642972972972974\n",
      "Epoch 495,loss:0.6908433848777703\n"
     ]
    },
    {
     "name": "stderr",
     "output_type": "stream",
     "text": [
      "/usr/local/lib/python3.6/dist-packages/sklearn/metrics/_classification.py:1248: UndefinedMetricWarning: Precision is ill-defined and being set to 0.0 due to no predicted samples. Use `zero_division` parameter to control this behavior.\n",
      "  _warn_prf(average, modifier, msg_start, len(result))\n",
      "/usr/local/lib/python3.6/dist-packages/sklearn/metrics/_classification.py:1248: UndefinedMetricWarning: Precision is ill-defined and being set to 0.0 due to no predicted samples. Use `zero_division` parameter to control this behavior.\n",
      "  _warn_prf(average, modifier, msg_start, len(result))\n",
      "/usr/local/lib/python3.6/dist-packages/sklearn/metrics/_classification.py:1248: UndefinedMetricWarning: Precision is ill-defined and being set to 0.0 due to no predicted samples. Use `zero_division` parameter to control this behavior.\n",
      "  _warn_prf(average, modifier, msg_start, len(result))\n"
     ]
    },
    {
     "name": "stdout",
     "output_type": "stream",
     "text": [
      "Validation Loss: 0.6914729991474667,AUC: 0.5182729729729729,ACC:0.5954351351351351,F1:0.12536756756756756,Precision:0.6089621621621623,Recall:0.07548108108108109\n",
      "Epoch 500,loss:0.690834665192967\n"
     ]
    },
    {
     "name": "stderr",
     "output_type": "stream",
     "text": [
      "/usr/local/lib/python3.6/dist-packages/sklearn/metrics/_classification.py:1248: UndefinedMetricWarning: Precision is ill-defined and being set to 0.0 due to no predicted samples. Use `zero_division` parameter to control this behavior.\n",
      "  _warn_prf(average, modifier, msg_start, len(result))\n",
      "/usr/local/lib/python3.6/dist-packages/sklearn/metrics/_classification.py:1248: UndefinedMetricWarning: Precision is ill-defined and being set to 0.0 due to no predicted samples. Use `zero_division` parameter to control this behavior.\n",
      "  _warn_prf(average, modifier, msg_start, len(result))\n"
     ]
    },
    {
     "name": "stdout",
     "output_type": "stream",
     "text": [
      "Validation Loss: 0.6914709484254992,AUC: 0.5182513513513513,ACC:0.5956459459459459,F1:0.13181891891891895,Precision:0.6130324324324323,Recall:0.07948648648648649\n",
      "模型训练完成\n",
      "||--------训练结束时间： 2024-03-19 17:08:19.226534 -------------\n",
      "||--测试：---------- 1 个batch运行时间： 2024-03-19 17:08:19.239759 -------------\n",
      "||--测试：---------- 2 个batch运行时间： 2024-03-19 17:08:19.253158 -------------\n",
      "||--测试：---------- 3 个batch运行时间： 2024-03-19 17:08:19.266118 -------------\n",
      "||--测试：---------- 4 个batch运行时间： 2024-03-19 17:08:19.278758 -------------\n",
      "||--测试：---------- 5 个batch运行时间： 2024-03-19 17:08:19.291489 -------------\n",
      "||--测试：---------- 6 个batch运行时间： 2024-03-19 17:08:19.304135 -------------\n",
      "||--测试：---------- 7 个batch运行时间： 2024-03-19 17:08:19.317586 -------------\n",
      "||--测试：---------- 8 个batch运行时间： 2024-03-19 17:08:19.330328 -------------\n",
      "||--测试：---------- 9 个batch运行时间： 2024-03-19 17:08:19.343088 -------------\n",
      "||--测试：---------- 10 个batch运行时间： 2024-03-19 17:08:19.355780 -------------\n",
      "||--测试：---------- 11 个batch运行时间： 2024-03-19 17:08:19.368729 -------------\n",
      "||--测试：---------- 12 个batch运行时间： 2024-03-19 17:08:19.381649 -------------\n",
      "||--测试：---------- 13 个batch运行时间： 2024-03-19 17:08:19.394292 -------------\n",
      "||--测试：---------- 14 个batch运行时间： 2024-03-19 17:08:19.407254 -------------\n",
      "||--测试：---------- 15 个batch运行时间： 2024-03-19 17:08:19.420944 -------------\n",
      "||--测试：---------- 16 个batch运行时间： 2024-03-19 17:08:19.435572 -------------\n",
      "||--测试：---------- 17 个batch运行时间： 2024-03-19 17:08:19.448368 -------------\n",
      "||--测试：---------- 18 个batch运行时间： 2024-03-19 17:08:19.461143 -------------\n",
      "||--测试：---------- 19 个batch运行时间： 2024-03-19 17:08:19.473778 -------------\n",
      "||--测试：---------- 20 个batch运行时间： 2024-03-19 17:08:19.486474 -------------\n",
      "||--测试：---------- 21 个batch运行时间： 2024-03-19 17:08:19.499186 -------------\n",
      "||--测试：---------- 22 个batch运行时间： 2024-03-19 17:08:19.512242 -------------\n",
      "||--测试：---------- 23 个batch运行时间： 2024-03-19 17:08:19.525095 -------------\n",
      "||--测试：---------- 24 个batch运行时间： 2024-03-19 17:08:19.538005 -------------\n",
      "||--测试：---------- 25 个batch运行时间： 2024-03-19 17:08:19.550866 -------------\n",
      "||--测试：---------- 26 个batch运行时间： 2024-03-19 17:08:19.563501 -------------\n",
      "||--测试：---------- 27 个batch运行时间： 2024-03-19 17:08:19.576297 -------------\n",
      "||--测试：---------- 28 个batch运行时间： 2024-03-19 17:08:19.589026 -------------\n",
      "||--测试：---------- 29 个batch运行时间： 2024-03-19 17:08:19.601807 -------------\n",
      "||--测试：---------- 30 个batch运行时间： 2024-03-19 17:08:19.614787 -------------\n",
      "||--测试：---------- 31 个batch运行时间： 2024-03-19 17:08:19.627402 -------------\n"
     ]
    },
    {
     "name": "stderr",
     "output_type": "stream",
     "text": [
      "/usr/local/lib/python3.6/dist-packages/sklearn/metrics/_classification.py:1248: UndefinedMetricWarning: Precision is ill-defined and being set to 0.0 due to no predicted samples. Use `zero_division` parameter to control this behavior.\n",
      "  _warn_prf(average, modifier, msg_start, len(result))\n",
      "/usr/local/lib/python3.6/dist-packages/sklearn/metrics/_classification.py:1248: UndefinedMetricWarning: Precision is ill-defined and being set to 0.0 due to no predicted samples. Use `zero_division` parameter to control this behavior.\n",
      "  _warn_prf(average, modifier, msg_start, len(result))\n"
     ]
    },
    {
     "name": "stdout",
     "output_type": "stream",
     "text": [
      "||--测试：---------- 32 个batch运行时间： 2024-03-19 17:08:19.641817 -------------\n",
      "||--测试：---------- 33 个batch运行时间： 2024-03-19 17:08:19.654953 -------------\n",
      "||--测试：---------- 34 个batch运行时间： 2024-03-19 17:08:19.667696 -------------\n",
      "||--测试：---------- 35 个batch运行时间： 2024-03-19 17:08:19.680359 -------------\n",
      "||--测试：---------- 36 个batch运行时间： 2024-03-19 17:08:19.693192 -------------\n",
      "||--测试：---------- 37 个batch运行时间： 2024-03-19 17:08:19.705915 -------------\n",
      "Test Loss: 0.6918299649212811,AUC: 0.5132027027027025,ACC:0.6015702702702703,F1:0.1327891891891892,Precision:0.5623270270270272,Recall:0.0783027027027027\n",
      "i=:2\n",
      "划分文件已存在，不再进行数据划分\n",
      "数据预处理结束\n",
      "数据划分完成\n",
      "张量生成完成\n",
      "模型搭建完成\n",
      "模型转移到GPU完成\n",
      "Epoch 5,loss:0.6933123168692125\n"
     ]
    },
    {
     "name": "stderr",
     "output_type": "stream",
     "text": [
      "/usr/local/lib/python3.6/dist-packages/sklearn/metrics/_classification.py:1248: UndefinedMetricWarning: Precision is ill-defined and being set to 0.0 due to no predicted samples. Use `zero_division` parameter to control this behavior.\n",
      "  _warn_prf(average, modifier, msg_start, len(result))\n"
     ]
    },
    {
     "name": "stdout",
     "output_type": "stream",
     "text": [
      "Validation Loss: 0.6929999606029408,AUC: 0.5427216216216216,ACC:0.6011378378378379,F1:0.3406702702702703,Precision:0.5430567567567566,Recall:0.26693783783783775\n",
      "Epoch 10,loss:0.6932150410339896\n"
     ]
    },
    {
     "name": "stderr",
     "output_type": "stream",
     "text": [
      "/usr/local/lib/python3.6/dist-packages/sklearn/metrics/_classification.py:1248: UndefinedMetricWarning: Precision is ill-defined and being set to 0.0 due to no predicted samples. Use `zero_division` parameter to control this behavior.\n",
      "  _warn_prf(average, modifier, msg_start, len(result))\n",
      "/usr/local/lib/python3.6/dist-packages/sklearn/metrics/_classification.py:1248: UndefinedMetricWarning: Precision is ill-defined and being set to 0.0 due to no predicted samples. Use `zero_division` parameter to control this behavior.\n",
      "  _warn_prf(average, modifier, msg_start, len(result))\n",
      "/usr/local/lib/python3.6/dist-packages/sklearn/metrics/_classification.py:1248: UndefinedMetricWarning: Precision is ill-defined and being set to 0.0 due to no predicted samples. Use `zero_division` parameter to control this behavior.\n",
      "  _warn_prf(average, modifier, msg_start, len(result))\n"
     ]
    },
    {
     "name": "stdout",
     "output_type": "stream",
     "text": [
      "Validation Loss: 0.6930102512643144,AUC: 0.5400810810810812,ACC:0.6076891891891892,F1:0.2886594594594595,Precision:0.5392324324324325,Recall:0.21573783783783784\n",
      "早停策略触发，停止训练在第 9 个epoch.\n",
      "模型训练完成\n",
      "||--------训练结束时间： 2024-03-19 17:11:02.271312 -------------\n",
      "||--测试：---------- 1 个batch运行时间： 2024-03-19 17:11:02.284889 -------------\n",
      "||--测试：---------- 2 个batch运行时间： 2024-03-19 17:11:02.297826 -------------\n",
      "||--测试：---------- 3 个batch运行时间： 2024-03-19 17:11:02.310624 -------------\n",
      "||--测试：---------- 4 个batch运行时间： 2024-03-19 17:11:02.323418 -------------\n",
      "||--测试：---------- 5 个batch运行时间： 2024-03-19 17:11:02.336281 -------------\n",
      "||--测试：---------- 6 个batch运行时间： 2024-03-19 17:11:02.349534 -------------\n",
      "||--测试：---------- 7 个batch运行时间： 2024-03-19 17:11:02.362360 -------------\n",
      "||--测试：---------- 8 个batch运行时间： 2024-03-19 17:11:02.375681 -------------\n",
      "||--测试：---------- 9 个batch运行时间： 2024-03-19 17:11:02.389160 -------------\n",
      "||--测试：---------- 10 个batch运行时间： 2024-03-19 17:11:02.404069 -------------\n",
      "||--测试：---------- 11 个batch运行时间： 2024-03-19 17:11:02.417880 -------------\n",
      "||--测试：---------- 12 个batch运行时间： 2024-03-19 17:11:02.431150 -------------\n",
      "||--测试：---------- 13 个batch运行时间： 2024-03-19 17:11:02.443934 -------------\n",
      "||--测试：---------- 14 个batch运行时间： 2024-03-19 17:11:02.457101 -------------\n",
      "||--测试：---------- 15 个batch运行时间： 2024-03-19 17:11:02.470276 -------------\n",
      "||--测试：---------- 16 个batch运行时间： 2024-03-19 17:11:02.483287 -------------\n",
      "||--测试：---------- 17 个batch运行时间： 2024-03-19 17:11:02.496087 -------------\n",
      "||--测试：---------- 18 个batch运行时间： 2024-03-19 17:11:02.509320 -------------\n",
      "||--测试：---------- 19 个batch运行时间： 2024-03-19 17:11:02.522062 -------------\n",
      "||--测试：---------- 20 个batch运行时间： 2024-03-19 17:11:02.534823 -------------\n",
      "||--测试：---------- 21 个batch运行时间： 2024-03-19 17:11:02.547575 -------------\n",
      "||--测试：---------- 22 个batch运行时间： 2024-03-19 17:11:02.560350 -------------\n",
      "||--测试：---------- 23 个batch运行时间： 2024-03-19 17:11:02.573462 -------------\n",
      "||--测试：---------- 24 个batch运行时间： 2024-03-19 17:11:02.586239 -------------\n",
      "||--测试：---------- 25 个batch运行时间： 2024-03-19 17:11:02.598959 -------------\n",
      "||--测试：---------- 26 个batch运行时间： 2024-03-19 17:11:02.612100 -------------\n",
      "||--测试：---------- 27 个batch运行时间： 2024-03-19 17:11:02.626201 -------------\n",
      "||--测试：---------- 28 个batch运行时间： 2024-03-19 17:11:02.638969 -------------\n",
      "||--测试：---------- 29 个batch运行时间： 2024-03-19 17:11:02.651683 -------------\n",
      "||--测试：---------- 30 个batch运行时间： 2024-03-19 17:11:02.664487 -------------\n",
      "||--测试：---------- 31 个batch运行时间： 2024-03-19 17:11:02.677321 -------------\n",
      "||--测试：---------- 32 个batch运行时间： 2024-03-19 17:11:02.690697 -------------\n",
      "||--测试：---------- 33 个batch运行时间： 2024-03-19 17:11:02.703938 -------------\n",
      "||--测试：---------- 34 个batch运行时间： 2024-03-19 17:11:02.716636 -------------\n",
      "||--测试：---------- 35 个batch运行时间： 2024-03-19 17:11:02.729391 -------------\n",
      "||--测试：---------- 36 个batch运行时间： 2024-03-19 17:11:02.742154 -------------\n",
      "||--测试：---------- 37 个batch运行时间： 2024-03-19 17:11:02.755372 -------------\n",
      "Test Loss: 0.6931287469090642,AUC: 0.5300837837837836,ACC:0.5895297297297297,F1:0.3228648648648649,Precision:0.4857864864864865,Recall:0.25387027027027026\n",
      "i=:3\n",
      "划分文件已存在，不再进行数据划分\n"
     ]
    },
    {
     "name": "stderr",
     "output_type": "stream",
     "text": [
      "/usr/local/lib/python3.6/dist-packages/sklearn/metrics/_classification.py:1248: UndefinedMetricWarning: Precision is ill-defined and being set to 0.0 due to no predicted samples. Use `zero_division` parameter to control this behavior.\n",
      "  _warn_prf(average, modifier, msg_start, len(result))\n"
     ]
    },
    {
     "name": "stdout",
     "output_type": "stream",
     "text": [
      "数据预处理结束\n",
      "数据划分完成\n",
      "张量生成完成\n",
      "模型搭建完成\n",
      "模型转移到GPU完成\n",
      "Epoch 5,loss:0.693370328012821\n"
     ]
    },
    {
     "name": "stderr",
     "output_type": "stream",
     "text": [
      "/usr/local/lib/python3.6/dist-packages/sklearn/metrics/_classification.py:1248: UndefinedMetricWarning: Precision is ill-defined and being set to 0.0 due to no predicted samples. Use `zero_division` parameter to control this behavior.\n",
      "  _warn_prf(average, modifier, msg_start, len(result))\n"
     ]
    },
    {
     "name": "stdout",
     "output_type": "stream",
     "text": [
      "Validation Loss: 0.693056130731428,AUC: 0.5433324324324325,ACC:0.6034648648648648,F1:0.3242162162162162,Precision:0.5680351351351351,Recall:0.2525540540540541\n",
      "Epoch 10,loss:0.693244796411126\n"
     ]
    },
    {
     "name": "stderr",
     "output_type": "stream",
     "text": [
      "/usr/local/lib/python3.6/dist-packages/sklearn/metrics/_classification.py:1248: UndefinedMetricWarning: Precision is ill-defined and being set to 0.0 due to no predicted samples. Use `zero_division` parameter to control this behavior.\n",
      "  _warn_prf(average, modifier, msg_start, len(result))\n",
      "/usr/local/lib/python3.6/dist-packages/sklearn/metrics/_classification.py:1248: UndefinedMetricWarning: Precision is ill-defined and being set to 0.0 due to no predicted samples. Use `zero_division` parameter to control this behavior.\n",
      "  _warn_prf(average, modifier, msg_start, len(result))\n",
      "/usr/local/lib/python3.6/dist-packages/sklearn/metrics/_classification.py:1248: UndefinedMetricWarning: Precision is ill-defined and being set to 0.0 due to no predicted samples. Use `zero_division` parameter to control this behavior.\n",
      "  _warn_prf(average, modifier, msg_start, len(result))\n"
     ]
    },
    {
     "name": "stdout",
     "output_type": "stream",
     "text": [
      "Validation Loss: 0.6930581830643319,AUC: 0.5414405405405406,ACC:0.6047324324324326,F1:0.27828108108108107,Precision:0.5462081081081082,Recall:0.2053648648648649\n",
      "早停策略触发，停止训练在第 9 个epoch.\n",
      "模型训练完成\n",
      "||--------训练结束时间： 2024-03-19 17:13:13.662750 -------------\n",
      "||--测试：---------- 1 个batch运行时间： 2024-03-19 17:13:13.675545 -------------\n",
      "||--测试：---------- 2 个batch运行时间： 2024-03-19 17:13:13.688933 -------------\n",
      "||--测试：---------- 3 个batch运行时间： 2024-03-19 17:13:13.701765 -------------\n",
      "||--测试：---------- 4 个batch运行时间： 2024-03-19 17:13:13.714611 -------------\n",
      "||--测试：---------- 5 个batch运行时间： 2024-03-19 17:13:13.728563 -------------\n",
      "||--测试：---------- 6 个batch运行时间： 2024-03-19 17:13:13.741432 -------------\n",
      "||--测试：---------- 7 个batch运行时间： 2024-03-19 17:13:13.755169 -------------\n",
      "||--测试：---------- 8 个batch运行时间： 2024-03-19 17:13:13.769988 -------------\n",
      "||--测试：---------- 9 个batch运行时间： 2024-03-19 17:13:13.783668 -------------\n",
      "||--测试：---------- 10 个batch运行时间： 2024-03-19 17:13:13.797595 -------------\n",
      "||--测试：---------- 11 个batch运行时间： 2024-03-19 17:13:13.811441 -------------\n",
      "||--测试：---------- 12 个batch运行时间： 2024-03-19 17:13:13.824968 -------------\n",
      "||--测试：---------- 13 个batch运行时间： 2024-03-19 17:13:13.839424 -------------\n",
      "||--测试：---------- 14 个batch运行时间： 2024-03-19 17:13:13.853041 -------------\n",
      "||--测试：---------- 15 个batch运行时间： 2024-03-19 17:13:13.867294 -------------\n",
      "||--测试：---------- 16 个batch运行时间： 2024-03-19 17:13:13.880722 -------------\n",
      "||--测试：---------- 17 个batch运行时间： 2024-03-19 17:13:13.894080 -------------\n",
      "||--测试：---------- 18 个batch运行时间： 2024-03-19 17:13:13.907540 -------------\n",
      "||--测试：---------- 19 个batch运行时间： 2024-03-19 17:13:13.920880 -------------\n",
      "||--测试：---------- 20 个batch运行时间： 2024-03-19 17:13:13.934242 -------------\n",
      "||--测试：---------- 21 个batch运行时间： 2024-03-19 17:13:13.947922 -------------\n",
      "||--测试：---------- 22 个batch运行时间： 2024-03-19 17:13:13.961348 -------------\n",
      "||--测试：---------- 23 个batch运行时间： 2024-03-19 17:13:13.975258 -------------\n",
      "||--测试：---------- 24 个batch运行时间： 2024-03-19 17:13:13.988433 -------------\n",
      "||--测试：---------- 25 个batch运行时间： 2024-03-19 17:13:14.001794 -------------\n",
      "||--测试：---------- 26 个batch运行时间： 2024-03-19 17:13:14.015777 -------------\n",
      "||--测试：---------- 27 个batch运行时间： 2024-03-19 17:13:14.029200 -------------\n",
      "||--测试：---------- 28 个batch运行时间： 2024-03-19 17:13:14.042695 -------------\n",
      "||--测试：---------- 29 个batch运行时间： 2024-03-19 17:13:14.056088 -------------\n"
     ]
    },
    {
     "name": "stderr",
     "output_type": "stream",
     "text": [
      "/usr/local/lib/python3.6/dist-packages/sklearn/metrics/_classification.py:1248: UndefinedMetricWarning: Precision is ill-defined and being set to 0.0 due to no predicted samples. Use `zero_division` parameter to control this behavior.\n",
      "  _warn_prf(average, modifier, msg_start, len(result))\n",
      "/usr/local/lib/python3.6/dist-packages/sklearn/metrics/_classification.py:1248: UndefinedMetricWarning: Precision is ill-defined and being set to 0.0 due to no predicted samples. Use `zero_division` parameter to control this behavior.\n",
      "  _warn_prf(average, modifier, msg_start, len(result))\n"
     ]
    },
    {
     "name": "stdout",
     "output_type": "stream",
     "text": [
      "||--测试：---------- 30 个batch运行时间： 2024-03-19 17:13:14.070224 -------------\n",
      "||--测试：---------- 31 个batch运行时间： 2024-03-19 17:13:14.083486 -------------\n",
      "||--测试：---------- 32 个batch运行时间： 2024-03-19 17:13:14.097343 -------------\n",
      "||--测试：---------- 33 个batch运行时间： 2024-03-19 17:13:14.111134 -------------\n",
      "||--测试：---------- 34 个batch运行时间： 2024-03-19 17:13:14.124384 -------------\n",
      "||--测试：---------- 35 个batch运行时间： 2024-03-19 17:13:14.138722 -------------\n",
      "||--测试：---------- 36 个batch运行时间： 2024-03-19 17:13:14.152502 -------------\n",
      "||--测试：---------- 37 个batch运行时间： 2024-03-19 17:13:14.165919 -------------\n",
      "Test Loss: 0.6931961259326419,AUC: 0.5317783783783783,ACC:0.5916378378378379,F1:0.29351351351351357,Precision:0.4642513513513512,Recall:0.22507297297297296\n",
      "i=:4\n",
      "划分文件已存在，不再进行数据划分\n",
      "数据预处理结束\n",
      "数据划分完成\n",
      "张量生成完成\n",
      "模型搭建完成\n",
      "模型转移到GPU完成\n",
      "Epoch 5,loss:0.6933440634634642\n"
     ]
    },
    {
     "name": "stderr",
     "output_type": "stream",
     "text": [
      "/usr/local/lib/python3.6/dist-packages/sklearn/metrics/_classification.py:1248: UndefinedMetricWarning: Precision is ill-defined and being set to 0.0 due to no predicted samples. Use `zero_division` parameter to control this behavior.\n",
      "  _warn_prf(average, modifier, msg_start, len(result))\n",
      "/usr/local/lib/python3.6/dist-packages/sklearn/metrics/_classification.py:1248: UndefinedMetricWarning: Precision is ill-defined and being set to 0.0 due to no predicted samples. Use `zero_division` parameter to control this behavior.\n",
      "  _warn_prf(average, modifier, msg_start, len(result))\n"
     ]
    },
    {
     "name": "stdout",
     "output_type": "stream",
     "text": [
      "Validation Loss: 0.6930249720006376,AUC: 0.5377783783783784,ACC:0.6045216216216218,F1:0.2792702702702703,Precision:0.5657459459459458,Recall:0.20668378378378377\n",
      "Epoch 10,loss:0.6932450211153621\n"
     ]
    },
    {
     "name": "stderr",
     "output_type": "stream",
     "text": [
      "/usr/local/lib/python3.6/dist-packages/sklearn/metrics/_classification.py:1248: UndefinedMetricWarning: Precision is ill-defined and being set to 0.0 due to no predicted samples. Use `zero_division` parameter to control this behavior.\n",
      "  _warn_prf(average, modifier, msg_start, len(result))\n",
      "/usr/local/lib/python3.6/dist-packages/sklearn/metrics/_classification.py:1248: UndefinedMetricWarning: Precision is ill-defined and being set to 0.0 due to no predicted samples. Use `zero_division` parameter to control this behavior.\n",
      "  _warn_prf(average, modifier, msg_start, len(result))\n"
     ]
    },
    {
     "name": "stdout",
     "output_type": "stream",
     "text": [
      "Validation Loss: 0.6930191677969855,AUC: 0.5360594594594594,ACC:0.6036810810810812,F1:0.27080540540540543,Precision:0.5613729729729731,Recall:0.19643513513513514\n",
      "Epoch 15,loss:0.6932020757050641\n"
     ]
    },
    {
     "name": "stderr",
     "output_type": "stream",
     "text": [
      "/usr/local/lib/python3.6/dist-packages/sklearn/metrics/_classification.py:1248: UndefinedMetricWarning: Precision is ill-defined and being set to 0.0 due to no predicted samples. Use `zero_division` parameter to control this behavior.\n",
      "  _warn_prf(average, modifier, msg_start, len(result))\n",
      "/usr/local/lib/python3.6/dist-packages/sklearn/metrics/_classification.py:1248: UndefinedMetricWarning: Precision is ill-defined and being set to 0.0 due to no predicted samples. Use `zero_division` parameter to control this behavior.\n",
      "  _warn_prf(average, modifier, msg_start, len(result))\n"
     ]
    },
    {
     "name": "stdout",
     "output_type": "stream",
     "text": [
      "Validation Loss: 0.6930126547813416,AUC: 0.5369297297297296,ACC:0.6049432432432434,F1:0.2714054054054054,Precision:0.5516054054054054,Recall:0.19626486486486489\n",
      "Epoch 20,loss:0.6931732043755793\n"
     ]
    },
    {
     "name": "stderr",
     "output_type": "stream",
     "text": [
      "/usr/local/lib/python3.6/dist-packages/sklearn/metrics/_classification.py:1248: UndefinedMetricWarning: Precision is ill-defined and being set to 0.0 due to no predicted samples. Use `zero_division` parameter to control this behavior.\n",
      "  _warn_prf(average, modifier, msg_start, len(result))\n"
     ]
    },
    {
     "name": "stdout",
     "output_type": "stream",
     "text": [
      "Validation Loss: 0.6929997672905793,AUC: 0.5344594594594594,ACC:0.6038891891891893,F1:0.27502432432432433,Precision:0.5587378378378378,Recall:0.19882432432432437\n",
      "Epoch 25,loss:0.6931466523524934\n"
     ]
    },
    {
     "name": "stderr",
     "output_type": "stream",
     "text": [
      "/usr/local/lib/python3.6/dist-packages/sklearn/metrics/_classification.py:1248: UndefinedMetricWarning: Precision is ill-defined and being set to 0.0 due to no predicted samples. Use `zero_division` parameter to control this behavior.\n",
      "  _warn_prf(average, modifier, msg_start, len(result))\n",
      "/usr/local/lib/python3.6/dist-packages/sklearn/metrics/_classification.py:1248: UndefinedMetricWarning: Precision is ill-defined and being set to 0.0 due to no predicted samples. Use `zero_division` parameter to control this behavior.\n",
      "  _warn_prf(average, modifier, msg_start, len(result))\n"
     ]
    },
    {
     "name": "stdout",
     "output_type": "stream",
     "text": [
      "Validation Loss: 0.6929776845751582,AUC: 0.5344054054054055,ACC:0.6038864864864866,F1:0.2759162162162162,Precision:0.541062162162162,Recall:0.19919459459459463\n",
      "Epoch 30,loss:0.6931170235692927\n"
     ]
    },
    {
     "name": "stderr",
     "output_type": "stream",
     "text": [
      "/usr/local/lib/python3.6/dist-packages/sklearn/metrics/_classification.py:1248: UndefinedMetricWarning: Precision is ill-defined and being set to 0.0 due to no predicted samples. Use `zero_division` parameter to control this behavior.\n",
      "  _warn_prf(average, modifier, msg_start, len(result))\n",
      "/usr/local/lib/python3.6/dist-packages/sklearn/metrics/_classification.py:1248: UndefinedMetricWarning: Precision is ill-defined and being set to 0.0 due to no predicted samples. Use `zero_division` parameter to control this behavior.\n",
      "  _warn_prf(average, modifier, msg_start, len(result))\n"
     ]
    },
    {
     "name": "stdout",
     "output_type": "stream",
     "text": [
      "Validation Loss: 0.6929432846404411,AUC: 0.5352459459459458,ACC:0.6034648648648651,F1:0.2790486486486487,Precision:0.5437972972972973,Recall:0.20260270270270275\n",
      "Epoch 35,loss:0.693079646709746\n"
     ]
    },
    {
     "name": "stderr",
     "output_type": "stream",
     "text": [
      "/usr/local/lib/python3.6/dist-packages/sklearn/metrics/_classification.py:1248: UndefinedMetricWarning: Precision is ill-defined and being set to 0.0 due to no predicted samples. Use `zero_division` parameter to control this behavior.\n",
      "  _warn_prf(average, modifier, msg_start, len(result))\n"
     ]
    },
    {
     "name": "stdout",
     "output_type": "stream",
     "text": [
      "Validation Loss: 0.6928926851298358,AUC: 0.536335135135135,ACC:0.6045189189189191,F1:0.2853621621621622,Precision:0.5610756756756756,Recall:0.20961621621621626\n",
      "Epoch 40,loss:0.6930311464630396\n"
     ]
    },
    {
     "name": "stderr",
     "output_type": "stream",
     "text": [
      "/usr/local/lib/python3.6/dist-packages/sklearn/metrics/_classification.py:1248: UndefinedMetricWarning: Precision is ill-defined and being set to 0.0 due to no predicted samples. Use `zero_division` parameter to control this behavior.\n",
      "  _warn_prf(average, modifier, msg_start, len(result))\n"
     ]
    },
    {
     "name": "stdout",
     "output_type": "stream",
     "text": [
      "Validation Loss: 0.6928241236789806,AUC: 0.5389702702702701,ACC:0.605156756756757,F1:0.2904135135135135,Precision:0.563181081081081,Recall:0.2137837837837838\n",
      "Epoch 45,loss:0.6929671854044483\n"
     ]
    },
    {
     "name": "stderr",
     "output_type": "stream",
     "text": [
      "/usr/local/lib/python3.6/dist-packages/sklearn/metrics/_classification.py:1248: UndefinedMetricWarning: Precision is ill-defined and being set to 0.0 due to no predicted samples. Use `zero_division` parameter to control this behavior.\n",
      "  _warn_prf(average, modifier, msg_start, len(result))\n"
     ]
    },
    {
     "name": "stdout",
     "output_type": "stream",
     "text": [
      "Validation Loss: 0.6927379627485533,AUC: 0.5414918918918918,ACC:0.6057891891891894,F1:0.2937081081081081,Precision:0.5844729729729731,Recall:0.21803783783783787\n",
      "Epoch 50,loss:0.6928873431366102\n",
      "Validation Loss: 0.6926415804270152,AUC: 0.5416864864864864,ACC:0.6045216216216217,F1:0.30862162162162166,Precision:0.5911486486486487,Recall:0.23215945945945946\n",
      "Epoch 55,loss:0.6927956553687037\n"
     ]
    },
    {
     "name": "stderr",
     "output_type": "stream",
     "text": [
      "/usr/local/lib/python3.6/dist-packages/sklearn/metrics/_classification.py:1248: UndefinedMetricWarning: Precision is ill-defined and being set to 0.0 due to no predicted samples. Use `zero_division` parameter to control this behavior.\n",
      "  _warn_prf(average, modifier, msg_start, len(result))\n"
     ]
    },
    {
     "name": "stdout",
     "output_type": "stream",
     "text": [
      "Validation Loss: 0.6925436773815671,AUC: 0.540456756756757,ACC:0.605364864864865,F1:0.3000189189189189,Precision:0.5771054054054053,Recall:0.22568108108108106\n",
      "Epoch 60,loss:0.6926979390920791\n",
      "Validation Loss: 0.6924446482916136,AUC: 0.5393459459459458,ACC:0.6049405405405406,F1:0.3045972972972973,Precision:0.5943162162162163,Recall:0.230527027027027\n",
      "Epoch 65,loss:0.6925977901019881\n"
     ]
    },
    {
     "name": "stderr",
     "output_type": "stream",
     "text": [
      "/usr/local/lib/python3.6/dist-packages/sklearn/metrics/_classification.py:1248: UndefinedMetricWarning: Precision is ill-defined and being set to 0.0 due to no predicted samples. Use `zero_division` parameter to control this behavior.\n",
      "  _warn_prf(average, modifier, msg_start, len(result))\n"
     ]
    },
    {
     "name": "stdout",
     "output_type": "stream",
     "text": [
      "Validation Loss: 0.6923497560861949,AUC: 0.5379621621621621,ACC:0.6047270270270271,F1:0.31030270270270266,Precision:0.5797189189189188,Recall:0.23517297297297296\n",
      "Epoch 70,loss:0.6924999081982975\n"
     ]
    },
    {
     "name": "stderr",
     "output_type": "stream",
     "text": [
      "/usr/local/lib/python3.6/dist-packages/sklearn/metrics/_classification.py:1248: UndefinedMetricWarning: Precision is ill-defined and being set to 0.0 due to no predicted samples. Use `zero_division` parameter to control this behavior.\n",
      "  _warn_prf(average, modifier, msg_start, len(result))\n"
     ]
    },
    {
     "name": "stdout",
     "output_type": "stream",
     "text": [
      "Validation Loss: 0.6922578054505426,AUC: 0.5360513513513514,ACC:0.6062,F1:0.31019459459459453,Precision:0.5838,Recall:0.23402972972972969\n",
      "Epoch 75,loss:0.6924048198007904\n"
     ]
    },
    {
     "name": "stderr",
     "output_type": "stream",
     "text": [
      "/usr/local/lib/python3.6/dist-packages/sklearn/metrics/_classification.py:1248: UndefinedMetricWarning: Precision is ill-defined and being set to 0.0 due to no predicted samples. Use `zero_division` parameter to control this behavior.\n",
      "  _warn_prf(average, modifier, msg_start, len(result))\n"
     ]
    },
    {
     "name": "stdout",
     "output_type": "stream",
     "text": [
      "Validation Loss: 0.6921683952615068,AUC: 0.5352216216216217,ACC:0.607681081081081,F1:0.30440270270270264,Precision:0.5878621621621622,Recall:0.22712972972972975\n",
      "Epoch 80,loss:0.6923074215914296\n"
     ]
    },
    {
     "name": "stderr",
     "output_type": "stream",
     "text": [
      "/usr/local/lib/python3.6/dist-packages/sklearn/metrics/_classification.py:1248: UndefinedMetricWarning: Precision is ill-defined and being set to 0.0 due to no predicted samples. Use `zero_division` parameter to control this behavior.\n",
      "  _warn_prf(average, modifier, msg_start, len(result))\n"
     ]
    },
    {
     "name": "stdout",
     "output_type": "stream",
     "text": [
      "Validation Loss: 0.6920816237862045,AUC: 0.5348405405405405,ACC:0.6051486486486486,F1:0.3087027027027027,Precision:0.5760270270270271,Recall:0.2319\n",
      "Epoch 85,loss:0.6921920449332853\n"
     ]
    },
    {
     "name": "stderr",
     "output_type": "stream",
     "text": [
      "/usr/local/lib/python3.6/dist-packages/sklearn/metrics/_classification.py:1248: UndefinedMetricWarning: Precision is ill-defined and being set to 0.0 due to no predicted samples. Use `zero_division` parameter to control this behavior.\n",
      "  _warn_prf(average, modifier, msg_start, len(result))\n",
      "/usr/local/lib/python3.6/dist-packages/sklearn/metrics/_classification.py:1248: UndefinedMetricWarning: Precision is ill-defined and being set to 0.0 due to no predicted samples. Use `zero_division` parameter to control this behavior.\n",
      "  _warn_prf(average, modifier, msg_start, len(result))\n"
     ]
    },
    {
     "name": "stdout",
     "output_type": "stream",
     "text": [
      "Validation Loss: 0.6919898825722772,AUC: 0.5356486486486487,ACC:0.6076756756756755,F1:0.29722972972972966,Precision:0.5804621621621622,Recall:0.22356216216216218\n",
      "Epoch 90,loss:0.6920717617051791\n"
     ]
    },
    {
     "name": "stderr",
     "output_type": "stream",
     "text": [
      "/usr/local/lib/python3.6/dist-packages/sklearn/metrics/_classification.py:1248: UndefinedMetricWarning: Precision is ill-defined and being set to 0.0 due to no predicted samples. Use `zero_division` parameter to control this behavior.\n",
      "  _warn_prf(average, modifier, msg_start, len(result))\n",
      "/usr/local/lib/python3.6/dist-packages/sklearn/metrics/_classification.py:1248: UndefinedMetricWarning: Precision is ill-defined and being set to 0.0 due to no predicted samples. Use `zero_division` parameter to control this behavior.\n",
      "  _warn_prf(average, modifier, msg_start, len(result))\n"
     ]
    },
    {
     "name": "stdout",
     "output_type": "stream",
     "text": [
      "Validation Loss: 0.6918911837242745,AUC: 0.5394756756756757,ACC:0.6074702702702701,F1:0.2898918918918919,Precision:0.583335135135135,Recall:0.21365135135135138\n",
      "Epoch 95,loss:0.6919792774504265\n"
     ]
    },
    {
     "name": "stderr",
     "output_type": "stream",
     "text": [
      "/usr/local/lib/python3.6/dist-packages/sklearn/metrics/_classification.py:1248: UndefinedMetricWarning: Precision is ill-defined and being set to 0.0 due to no predicted samples. Use `zero_division` parameter to control this behavior.\n",
      "  _warn_prf(average, modifier, msg_start, len(result))\n",
      "/usr/local/lib/python3.6/dist-packages/sklearn/metrics/_classification.py:1248: UndefinedMetricWarning: Precision is ill-defined and being set to 0.0 due to no predicted samples. Use `zero_division` parameter to control this behavior.\n",
      "  _warn_prf(average, modifier, msg_start, len(result))\n"
     ]
    },
    {
     "name": "stdout",
     "output_type": "stream",
     "text": [
      "Validation Loss: 0.6918116163563084,AUC: 0.5395000000000001,ACC:0.6047270270270271,F1:0.28441351351351346,Precision:0.575218918918919,Recall:0.20892972972972973\n",
      "Epoch 100,loss:0.6919094408507895\n"
     ]
    },
    {
     "name": "stderr",
     "output_type": "stream",
     "text": [
      "/usr/local/lib/python3.6/dist-packages/sklearn/metrics/_classification.py:1248: UndefinedMetricWarning: Precision is ill-defined and being set to 0.0 due to no predicted samples. Use `zero_division` parameter to control this behavior.\n",
      "  _warn_prf(average, modifier, msg_start, len(result))\n",
      "/usr/local/lib/python3.6/dist-packages/sklearn/metrics/_classification.py:1248: UndefinedMetricWarning: Precision is ill-defined and being set to 0.0 due to no predicted samples. Use `zero_division` parameter to control this behavior.\n",
      "  _warn_prf(average, modifier, msg_start, len(result))\n"
     ]
    },
    {
     "name": "stdout",
     "output_type": "stream",
     "text": [
      "Validation Loss: 0.6917599552386516,AUC: 0.5387162162162165,ACC:0.6049351351351351,F1:0.2791378378378378,Precision:0.5769324324324325,Recall:0.2027162162162162\n",
      "Epoch 105,loss:0.6918503504938784\n"
     ]
    },
    {
     "name": "stderr",
     "output_type": "stream",
     "text": [
      "/usr/local/lib/python3.6/dist-packages/sklearn/metrics/_classification.py:1248: UndefinedMetricWarning: Precision is ill-defined and being set to 0.0 due to no predicted samples. Use `zero_division` parameter to control this behavior.\n",
      "  _warn_prf(average, modifier, msg_start, len(result))\n",
      "/usr/local/lib/python3.6/dist-packages/sklearn/metrics/_classification.py:1248: UndefinedMetricWarning: Precision is ill-defined and being set to 0.0 due to no predicted samples. Use `zero_division` parameter to control this behavior.\n",
      "  _warn_prf(average, modifier, msg_start, len(result))\n"
     ]
    },
    {
     "name": "stdout",
     "output_type": "stream",
     "text": [
      "Validation Loss: 0.6917221256204553,AUC: 0.5383729729729732,ACC:0.6047216216216215,F1:0.27551081081081086,Precision:0.5787864864864865,Recall:0.1984378378378378\n",
      "Epoch 110,loss:0.6917976425812308\n"
     ]
    },
    {
     "name": "stderr",
     "output_type": "stream",
     "text": [
      "/usr/local/lib/python3.6/dist-packages/sklearn/metrics/_classification.py:1248: UndefinedMetricWarning: Precision is ill-defined and being set to 0.0 due to no predicted samples. Use `zero_division` parameter to control this behavior.\n",
      "  _warn_prf(average, modifier, msg_start, len(result))\n",
      "/usr/local/lib/python3.6/dist-packages/sklearn/metrics/_classification.py:1248: UndefinedMetricWarning: Precision is ill-defined and being set to 0.0 due to no predicted samples. Use `zero_division` parameter to control this behavior.\n",
      "  _warn_prf(average, modifier, msg_start, len(result))\n"
     ]
    },
    {
     "name": "stdout",
     "output_type": "stream",
     "text": [
      "Validation Loss: 0.6916931577630945,AUC: 0.5381135135135136,ACC:0.6034567567567566,F1:0.2717081081081081,Precision:0.5755027027027028,Recall:0.19499459459459453\n",
      "Epoch 115,loss:0.6917496803587517\n"
     ]
    },
    {
     "name": "stderr",
     "output_type": "stream",
     "text": [
      "/usr/local/lib/python3.6/dist-packages/sklearn/metrics/_classification.py:1248: UndefinedMetricWarning: Precision is ill-defined and being set to 0.0 due to no predicted samples. Use `zero_division` parameter to control this behavior.\n",
      "  _warn_prf(average, modifier, msg_start, len(result))\n",
      "/usr/local/lib/python3.6/dist-packages/sklearn/metrics/_classification.py:1248: UndefinedMetricWarning: Precision is ill-defined and being set to 0.0 due to no predicted samples. Use `zero_division` parameter to control this behavior.\n",
      "  _warn_prf(average, modifier, msg_start, len(result))\n"
     ]
    },
    {
     "name": "stdout",
     "output_type": "stream",
     "text": [
      "Validation Loss: 0.6916702728013735,AUC: 0.5375000000000001,ACC:0.6049324324324322,F1:0.27120270270270275,Precision:0.579327027027027,Recall:0.19382162162162164\n",
      "Epoch 120,loss:0.6917066415854259\n"
     ]
    },
    {
     "name": "stderr",
     "output_type": "stream",
     "text": [
      "/usr/local/lib/python3.6/dist-packages/sklearn/metrics/_classification.py:1248: UndefinedMetricWarning: Precision is ill-defined and being set to 0.0 due to no predicted samples. Use `zero_division` parameter to control this behavior.\n",
      "  _warn_prf(average, modifier, msg_start, len(result))\n",
      "/usr/local/lib/python3.6/dist-packages/sklearn/metrics/_classification.py:1248: UndefinedMetricWarning: Precision is ill-defined and being set to 0.0 due to no predicted samples. Use `zero_division` parameter to control this behavior.\n",
      "  _warn_prf(average, modifier, msg_start, len(result))\n"
     ]
    },
    {
     "name": "stdout",
     "output_type": "stream",
     "text": [
      "Validation Loss: 0.6916514538429879,AUC: 0.537878378378378,ACC:0.6030351351351351,F1:0.2667324324324325,Precision:0.5624837837837838,Recall:0.18986486486486487\n",
      "Epoch 125,loss:0.6916679687204614\n"
     ]
    },
    {
     "name": "stderr",
     "output_type": "stream",
     "text": [
      "/usr/local/lib/python3.6/dist-packages/sklearn/metrics/_classification.py:1248: UndefinedMetricWarning: Precision is ill-defined and being set to 0.0 due to no predicted samples. Use `zero_division` parameter to control this behavior.\n",
      "  _warn_prf(average, modifier, msg_start, len(result))\n",
      "/usr/local/lib/python3.6/dist-packages/sklearn/metrics/_classification.py:1248: UndefinedMetricWarning: Precision is ill-defined and being set to 0.0 due to no predicted samples. Use `zero_division` parameter to control this behavior.\n",
      "  _warn_prf(average, modifier, msg_start, len(result))\n"
     ]
    },
    {
     "name": "stdout",
     "output_type": "stream",
     "text": [
      "Validation Loss: 0.6916361306164716,AUC: 0.5367351351351349,ACC:0.6032459459459457,F1:0.26680000000000004,Precision:0.5630486486486487,Recall:0.18988918918918918\n",
      "Epoch 130,loss:0.6916320598230953\n"
     ]
    },
    {
     "name": "stderr",
     "output_type": "stream",
     "text": [
      "/usr/local/lib/python3.6/dist-packages/sklearn/metrics/_classification.py:1248: UndefinedMetricWarning: Precision is ill-defined and being set to 0.0 due to no predicted samples. Use `zero_division` parameter to control this behavior.\n",
      "  _warn_prf(average, modifier, msg_start, len(result))\n",
      "/usr/local/lib/python3.6/dist-packages/sklearn/metrics/_classification.py:1248: UndefinedMetricWarning: Precision is ill-defined and being set to 0.0 due to no predicted samples. Use `zero_division` parameter to control this behavior.\n",
      "  _warn_prf(average, modifier, msg_start, len(result))\n"
     ]
    },
    {
     "name": "stdout",
     "output_type": "stream",
     "text": [
      "Validation Loss: 0.6916232028523007,AUC: 0.5371918918918919,ACC:0.6038783783783781,F1:0.27082432432432435,Precision:0.5636594594594595,Recall:0.19352432432432431\n",
      "Epoch 135,loss:0.6915981242087035\n"
     ]
    },
    {
     "name": "stderr",
     "output_type": "stream",
     "text": [
      "/usr/local/lib/python3.6/dist-packages/sklearn/metrics/_classification.py:1248: UndefinedMetricWarning: Precision is ill-defined and being set to 0.0 due to no predicted samples. Use `zero_division` parameter to control this behavior.\n",
      "  _warn_prf(average, modifier, msg_start, len(result))\n",
      "/usr/local/lib/python3.6/dist-packages/sklearn/metrics/_classification.py:1248: UndefinedMetricWarning: Precision is ill-defined and being set to 0.0 due to no predicted samples. Use `zero_division` parameter to control this behavior.\n",
      "  _warn_prf(average, modifier, msg_start, len(result))\n",
      "/usr/local/lib/python3.6/dist-packages/sklearn/metrics/_classification.py:1248: UndefinedMetricWarning: Precision is ill-defined and being set to 0.0 due to no predicted samples. Use `zero_division` parameter to control this behavior.\n",
      "  _warn_prf(average, modifier, msg_start, len(result))\n"
     ]
    },
    {
     "name": "stdout",
     "output_type": "stream",
     "text": [
      "Validation Loss: 0.6916118973010296,AUC: 0.5364702702702703,ACC:0.603881081081081,F1:0.2619864864864865,Precision:0.550645945945946,Recall:0.18689189189189187\n",
      "Epoch 140,loss:0.6915666308023233\n"
     ]
    },
    {
     "name": "stderr",
     "output_type": "stream",
     "text": [
      "/usr/local/lib/python3.6/dist-packages/sklearn/metrics/_classification.py:1248: UndefinedMetricWarning: Precision is ill-defined and being set to 0.0 due to no predicted samples. Use `zero_division` parameter to control this behavior.\n",
      "  _warn_prf(average, modifier, msg_start, len(result))\n",
      "/usr/local/lib/python3.6/dist-packages/sklearn/metrics/_classification.py:1248: UndefinedMetricWarning: Precision is ill-defined and being set to 0.0 due to no predicted samples. Use `zero_division` parameter to control this behavior.\n",
      "  _warn_prf(average, modifier, msg_start, len(result))\n"
     ]
    },
    {
     "name": "stdout",
     "output_type": "stream",
     "text": [
      "Validation Loss: 0.6916030500386212,AUC: 0.5373027027027026,ACC:0.6021891891891891,F1:0.2659648648648649,Precision:0.5586432432432432,Recall:0.18938378378378376\n",
      "Epoch 145,loss:0.691537949891217\n"
     ]
    },
    {
     "name": "stderr",
     "output_type": "stream",
     "text": [
      "/usr/local/lib/python3.6/dist-packages/sklearn/metrics/_classification.py:1248: UndefinedMetricWarning: Precision is ill-defined and being set to 0.0 due to no predicted samples. Use `zero_division` parameter to control this behavior.\n",
      "  _warn_prf(average, modifier, msg_start, len(result))\n",
      "/usr/local/lib/python3.6/dist-packages/sklearn/metrics/_classification.py:1248: UndefinedMetricWarning: Precision is ill-defined and being set to 0.0 due to no predicted samples. Use `zero_division` parameter to control this behavior.\n",
      "  _warn_prf(average, modifier, msg_start, len(result))\n"
     ]
    },
    {
     "name": "stdout",
     "output_type": "stream",
     "text": [
      "Validation Loss: 0.6915962164466446,AUC: 0.5371675675675674,ACC:0.6017675675675673,F1:0.26342162162162164,Precision:0.5587486486486486,Recall:0.18691351351351346\n",
      "Epoch 150,loss:0.6915106530738088\n"
     ]
    },
    {
     "name": "stderr",
     "output_type": "stream",
     "text": [
      "/usr/local/lib/python3.6/dist-packages/sklearn/metrics/_classification.py:1248: UndefinedMetricWarning: Precision is ill-defined and being set to 0.0 due to no predicted samples. Use `zero_division` parameter to control this behavior.\n",
      "  _warn_prf(average, modifier, msg_start, len(result))\n",
      "/usr/local/lib/python3.6/dist-packages/sklearn/metrics/_classification.py:1248: UndefinedMetricWarning: Precision is ill-defined and being set to 0.0 due to no predicted samples. Use `zero_division` parameter to control this behavior.\n",
      "  _warn_prf(average, modifier, msg_start, len(result))\n",
      "/usr/local/lib/python3.6/dist-packages/sklearn/metrics/_classification.py:1248: UndefinedMetricWarning: Precision is ill-defined and being set to 0.0 due to no predicted samples. Use `zero_division` parameter to control this behavior.\n",
      "  _warn_prf(average, modifier, msg_start, len(result))\n"
     ]
    },
    {
     "name": "stdout",
     "output_type": "stream",
     "text": [
      "Validation Loss: 0.6915888802425282,AUC: 0.5359405405405405,ACC:0.6030351351351351,F1:0.2509621621621622,Precision:0.5521864864864864,Recall:0.17641621621621617\n",
      "Epoch 155,loss:0.6914847203060589\n"
     ]
    },
    {
     "name": "stderr",
     "output_type": "stream",
     "text": [
      "/usr/local/lib/python3.6/dist-packages/sklearn/metrics/_classification.py:1248: UndefinedMetricWarning: Precision is ill-defined and being set to 0.0 due to no predicted samples. Use `zero_division` parameter to control this behavior.\n",
      "  _warn_prf(average, modifier, msg_start, len(result))\n",
      "/usr/local/lib/python3.6/dist-packages/sklearn/metrics/_classification.py:1248: UndefinedMetricWarning: Precision is ill-defined and being set to 0.0 due to no predicted samples. Use `zero_division` parameter to control this behavior.\n",
      "  _warn_prf(average, modifier, msg_start, len(result))\n"
     ]
    },
    {
     "name": "stdout",
     "output_type": "stream",
     "text": [
      "Validation Loss: 0.6915812814557875,AUC: 0.5358621621621622,ACC:0.6021918918918918,F1:0.25065675675675675,Precision:0.5596027027027026,Recall:0.17569459459459458\n",
      "Epoch 160,loss:0.6914596061790939\n"
     ]
    },
    {
     "name": "stderr",
     "output_type": "stream",
     "text": [
      "/usr/local/lib/python3.6/dist-packages/sklearn/metrics/_classification.py:1248: UndefinedMetricWarning: Precision is ill-defined and being set to 0.0 due to no predicted samples. Use `zero_division` parameter to control this behavior.\n",
      "  _warn_prf(average, modifier, msg_start, len(result))\n",
      "/usr/local/lib/python3.6/dist-packages/sklearn/metrics/_classification.py:1248: UndefinedMetricWarning: Precision is ill-defined and being set to 0.0 due to no predicted samples. Use `zero_division` parameter to control this behavior.\n",
      "  _warn_prf(average, modifier, msg_start, len(result))\n"
     ]
    },
    {
     "name": "stdout",
     "output_type": "stream",
     "text": [
      "Validation Loss: 0.6915735634597572,AUC: 0.5355081081081081,ACC:0.6019810810810811,F1:0.2466486486486487,Precision:0.5598162162162162,Recall:0.17217837837837832\n",
      "Epoch 165,loss:0.6914369152710501\n"
     ]
    },
    {
     "name": "stderr",
     "output_type": "stream",
     "text": [
      "/usr/local/lib/python3.6/dist-packages/sklearn/metrics/_classification.py:1248: UndefinedMetricWarning: Precision is ill-defined and being set to 0.0 due to no predicted samples. Use `zero_division` parameter to control this behavior.\n",
      "  _warn_prf(average, modifier, msg_start, len(result))\n",
      "/usr/local/lib/python3.6/dist-packages/sklearn/metrics/_classification.py:1248: UndefinedMetricWarning: Precision is ill-defined and being set to 0.0 due to no predicted samples. Use `zero_division` parameter to control this behavior.\n",
      "  _warn_prf(average, modifier, msg_start, len(result))\n"
     ]
    },
    {
     "name": "stdout",
     "output_type": "stream",
     "text": [
      "Validation Loss: 0.6915664173461296,AUC: 0.5349675675675674,ACC:0.6005027027027027,F1:0.24203783783783786,Precision:0.5559324324324323,Recall:0.16838648648648644\n",
      "Epoch 170,loss:0.6914151959714636\n"
     ]
    },
    {
     "name": "stderr",
     "output_type": "stream",
     "text": [
      "/usr/local/lib/python3.6/dist-packages/sklearn/metrics/_classification.py:1248: UndefinedMetricWarning: Precision is ill-defined and being set to 0.0 due to no predicted samples. Use `zero_division` parameter to control this behavior.\n",
      "  _warn_prf(average, modifier, msg_start, len(result))\n",
      "/usr/local/lib/python3.6/dist-packages/sklearn/metrics/_classification.py:1248: UndefinedMetricWarning: Precision is ill-defined and being set to 0.0 due to no predicted samples. Use `zero_division` parameter to control this behavior.\n",
      "  _warn_prf(average, modifier, msg_start, len(result))\n"
     ]
    },
    {
     "name": "stdout",
     "output_type": "stream",
     "text": [
      "Validation Loss: 0.6915598672789496,AUC: 0.5342135135135134,ACC:0.5998702702702703,F1:0.23796216216216212,Precision:0.5557081081081082,Recall:0.16494054054054047\n",
      "Epoch 175,loss:0.6913944952255857\n"
     ]
    },
    {
     "name": "stderr",
     "output_type": "stream",
     "text": [
      "/usr/local/lib/python3.6/dist-packages/sklearn/metrics/_classification.py:1248: UndefinedMetricWarning: Precision is ill-defined and being set to 0.0 due to no predicted samples. Use `zero_division` parameter to control this behavior.\n",
      "  _warn_prf(average, modifier, msg_start, len(result))\n",
      "/usr/local/lib/python3.6/dist-packages/sklearn/metrics/_classification.py:1248: UndefinedMetricWarning: Precision is ill-defined and being set to 0.0 due to no predicted samples. Use `zero_division` parameter to control this behavior.\n",
      "  _warn_prf(average, modifier, msg_start, len(result))\n"
     ]
    },
    {
     "name": "stdout",
     "output_type": "stream",
     "text": [
      "Validation Loss: 0.6915541033487063,AUC: 0.5337162162162162,ACC:0.5996594594594594,F1:0.23309729729729728,Precision:0.5551378378378379,Recall:0.1605297297297297\n",
      "Epoch 180,loss:0.6913746827471573\n"
     ]
    },
    {
     "name": "stderr",
     "output_type": "stream",
     "text": [
      "/usr/local/lib/python3.6/dist-packages/sklearn/metrics/_classification.py:1248: UndefinedMetricWarning: Precision is ill-defined and being set to 0.0 due to no predicted samples. Use `zero_division` parameter to control this behavior.\n",
      "  _warn_prf(average, modifier, msg_start, len(result))\n",
      "/usr/local/lib/python3.6/dist-packages/sklearn/metrics/_classification.py:1248: UndefinedMetricWarning: Precision is ill-defined and being set to 0.0 due to no predicted samples. Use `zero_division` parameter to control this behavior.\n",
      "  _warn_prf(average, modifier, msg_start, len(result))\n",
      "/usr/local/lib/python3.6/dist-packages/sklearn/metrics/_classification.py:1248: UndefinedMetricWarning: Precision is ill-defined and being set to 0.0 due to no predicted samples. Use `zero_division` parameter to control this behavior.\n",
      "  _warn_prf(average, modifier, msg_start, len(result))\n"
     ]
    },
    {
     "name": "stdout",
     "output_type": "stream",
     "text": [
      "Validation Loss: 0.6915484070777893,AUC: 0.5322513513513513,ACC:0.6011378378378378,F1:0.22475945945945952,Precision:0.5467891891891892,Recall:0.15387567567567564\n",
      "Epoch 185,loss:0.6913560897903105\n"
     ]
    },
    {
     "name": "stderr",
     "output_type": "stream",
     "text": [
      "/usr/local/lib/python3.6/dist-packages/sklearn/metrics/_classification.py:1248: UndefinedMetricWarning: Precision is ill-defined and being set to 0.0 due to no predicted samples. Use `zero_division` parameter to control this behavior.\n",
      "  _warn_prf(average, modifier, msg_start, len(result))\n",
      "/usr/local/lib/python3.6/dist-packages/sklearn/metrics/_classification.py:1248: UndefinedMetricWarning: Precision is ill-defined and being set to 0.0 due to no predicted samples. Use `zero_division` parameter to control this behavior.\n",
      "  _warn_prf(average, modifier, msg_start, len(result))\n",
      "/usr/local/lib/python3.6/dist-packages/sklearn/metrics/_classification.py:1248: UndefinedMetricWarning: Precision is ill-defined and being set to 0.0 due to no predicted samples. Use `zero_division` parameter to control this behavior.\n",
      "  _warn_prf(average, modifier, msg_start, len(result))\n"
     ]
    },
    {
     "name": "stdout",
     "output_type": "stream",
     "text": [
      "Validation Loss: 0.691543730529579,AUC: 0.5304216216216215,ACC:0.6007162162162162,F1:0.2197702702702703,Precision:0.5491864864864865,Recall:0.14958378378378373\n",
      "Epoch 190,loss:0.6913375785920473\n"
     ]
    },
    {
     "name": "stderr",
     "output_type": "stream",
     "text": [
      "/usr/local/lib/python3.6/dist-packages/sklearn/metrics/_classification.py:1248: UndefinedMetricWarning: Precision is ill-defined and being set to 0.0 due to no predicted samples. Use `zero_division` parameter to control this behavior.\n",
      "  _warn_prf(average, modifier, msg_start, len(result))\n",
      "/usr/local/lib/python3.6/dist-packages/sklearn/metrics/_classification.py:1248: UndefinedMetricWarning: Precision is ill-defined and being set to 0.0 due to no predicted samples. Use `zero_division` parameter to control this behavior.\n",
      "  _warn_prf(average, modifier, msg_start, len(result))\n",
      "/usr/local/lib/python3.6/dist-packages/sklearn/metrics/_classification.py:1248: UndefinedMetricWarning: Precision is ill-defined and being set to 0.0 due to no predicted samples. Use `zero_division` parameter to control this behavior.\n",
      "  _warn_prf(average, modifier, msg_start, len(result))\n",
      "/usr/local/lib/python3.6/dist-packages/sklearn/metrics/_classification.py:1248: UndefinedMetricWarning: Precision is ill-defined and being set to 0.0 due to no predicted samples. Use `zero_division` parameter to control this behavior.\n",
      "  _warn_prf(average, modifier, msg_start, len(result))\n"
     ]
    },
    {
     "name": "stdout",
     "output_type": "stream",
     "text": [
      "Validation Loss: 0.6915390153188963,AUC: 0.5295648648648648,ACC:0.6007162162162162,F1:0.2115189189189189,Precision:0.5397000000000001,Recall:0.14344864864864862\n",
      "Epoch 195,loss:0.6913201423872889\n"
     ]
    },
    {
     "name": "stderr",
     "output_type": "stream",
     "text": [
      "/usr/local/lib/python3.6/dist-packages/sklearn/metrics/_classification.py:1248: UndefinedMetricWarning: Precision is ill-defined and being set to 0.0 due to no predicted samples. Use `zero_division` parameter to control this behavior.\n",
      "  _warn_prf(average, modifier, msg_start, len(result))\n",
      "/usr/local/lib/python3.6/dist-packages/sklearn/metrics/_classification.py:1248: UndefinedMetricWarning: Precision is ill-defined and being set to 0.0 due to no predicted samples. Use `zero_division` parameter to control this behavior.\n",
      "  _warn_prf(average, modifier, msg_start, len(result))\n",
      "/usr/local/lib/python3.6/dist-packages/sklearn/metrics/_classification.py:1248: UndefinedMetricWarning: Precision is ill-defined and being set to 0.0 due to no predicted samples. Use `zero_division` parameter to control this behavior.\n",
      "  _warn_prf(average, modifier, msg_start, len(result))\n",
      "/usr/local/lib/python3.6/dist-packages/sklearn/metrics/_classification.py:1248: UndefinedMetricWarning: Precision is ill-defined and being set to 0.0 due to no predicted samples. Use `zero_division` parameter to control this behavior.\n",
      "  _warn_prf(average, modifier, msg_start, len(result))\n"
     ]
    },
    {
     "name": "stdout",
     "output_type": "stream",
     "text": [
      "Validation Loss: 0.691534614240801,AUC: 0.5293270270270268,ACC:0.5998648648648647,F1:0.21507297297297298,Precision:0.5243216216216217,Recall:0.14575675675675678\n",
      "Epoch 200,loss:0.6913035148012955\n"
     ]
    },
    {
     "name": "stderr",
     "output_type": "stream",
     "text": [
      "/usr/local/lib/python3.6/dist-packages/sklearn/metrics/_classification.py:1248: UndefinedMetricWarning: Precision is ill-defined and being set to 0.0 due to no predicted samples. Use `zero_division` parameter to control this behavior.\n",
      "  _warn_prf(average, modifier, msg_start, len(result))\n",
      "/usr/local/lib/python3.6/dist-packages/sklearn/metrics/_classification.py:1248: UndefinedMetricWarning: Precision is ill-defined and being set to 0.0 due to no predicted samples. Use `zero_division` parameter to control this behavior.\n",
      "  _warn_prf(average, modifier, msg_start, len(result))\n",
      "/usr/local/lib/python3.6/dist-packages/sklearn/metrics/_classification.py:1248: UndefinedMetricWarning: Precision is ill-defined and being set to 0.0 due to no predicted samples. Use `zero_division` parameter to control this behavior.\n",
      "  _warn_prf(average, modifier, msg_start, len(result))\n",
      "/usr/local/lib/python3.6/dist-packages/sklearn/metrics/_classification.py:1248: UndefinedMetricWarning: Precision is ill-defined and being set to 0.0 due to no predicted samples. Use `zero_division` parameter to control this behavior.\n",
      "  _warn_prf(average, modifier, msg_start, len(result))\n"
     ]
    },
    {
     "name": "stdout",
     "output_type": "stream",
     "text": [
      "Validation Loss: 0.6915306352280282,AUC: 0.5296675675675675,ACC:0.599443243243243,F1:0.21121621621621622,Precision:0.5302216216216218,Recall:0.1432054054054054\n",
      "Epoch 205,loss:0.6912870581171154\n"
     ]
    },
    {
     "name": "stderr",
     "output_type": "stream",
     "text": [
      "/usr/local/lib/python3.6/dist-packages/sklearn/metrics/_classification.py:1248: UndefinedMetricWarning: Precision is ill-defined and being set to 0.0 due to no predicted samples. Use `zero_division` parameter to control this behavior.\n",
      "  _warn_prf(average, modifier, msg_start, len(result))\n",
      "/usr/local/lib/python3.6/dist-packages/sklearn/metrics/_classification.py:1248: UndefinedMetricWarning: Precision is ill-defined and being set to 0.0 due to no predicted samples. Use `zero_division` parameter to control this behavior.\n",
      "  _warn_prf(average, modifier, msg_start, len(result))\n",
      "/usr/local/lib/python3.6/dist-packages/sklearn/metrics/_classification.py:1248: UndefinedMetricWarning: Precision is ill-defined and being set to 0.0 due to no predicted samples. Use `zero_division` parameter to control this behavior.\n",
      "  _warn_prf(average, modifier, msg_start, len(result))\n"
     ]
    },
    {
     "name": "stdout",
     "output_type": "stream",
     "text": [
      "Validation Loss: 0.6915267190417728,AUC: 0.5296567567567565,ACC:0.5973324324324323,F1:0.2147945945945946,Precision:0.5388378378378379,Recall:0.14531081081081082\n",
      "Epoch 210,loss:0.6912712217432208\n"
     ]
    },
    {
     "name": "stderr",
     "output_type": "stream",
     "text": [
      "/usr/local/lib/python3.6/dist-packages/sklearn/metrics/_classification.py:1248: UndefinedMetricWarning: Precision is ill-defined and being set to 0.0 due to no predicted samples. Use `zero_division` parameter to control this behavior.\n",
      "  _warn_prf(average, modifier, msg_start, len(result))\n",
      "/usr/local/lib/python3.6/dist-packages/sklearn/metrics/_classification.py:1248: UndefinedMetricWarning: Precision is ill-defined and being set to 0.0 due to no predicted samples. Use `zero_division` parameter to control this behavior.\n",
      "  _warn_prf(average, modifier, msg_start, len(result))\n",
      "/usr/local/lib/python3.6/dist-packages/sklearn/metrics/_classification.py:1248: UndefinedMetricWarning: Precision is ill-defined and being set to 0.0 due to no predicted samples. Use `zero_division` parameter to control this behavior.\n",
      "  _warn_prf(average, modifier, msg_start, len(result))\n"
     ]
    },
    {
     "name": "stdout",
     "output_type": "stream",
     "text": [
      "Validation Loss: 0.6915236663173985,AUC: 0.5292675675675674,ACC:0.5973324324324323,F1:0.2147945945945946,Precision:0.5388378378378379,Recall:0.14531081081081082\n",
      "Epoch 215,loss:0.6912554375893247\n"
     ]
    },
    {
     "name": "stderr",
     "output_type": "stream",
     "text": [
      "/usr/local/lib/python3.6/dist-packages/sklearn/metrics/_classification.py:1248: UndefinedMetricWarning: Precision is ill-defined and being set to 0.0 due to no predicted samples. Use `zero_division` parameter to control this behavior.\n",
      "  _warn_prf(average, modifier, msg_start, len(result))\n",
      "/usr/local/lib/python3.6/dist-packages/sklearn/metrics/_classification.py:1248: UndefinedMetricWarning: Precision is ill-defined and being set to 0.0 due to no predicted samples. Use `zero_division` parameter to control this behavior.\n",
      "  _warn_prf(average, modifier, msg_start, len(result))\n",
      "/usr/local/lib/python3.6/dist-packages/sklearn/metrics/_classification.py:1248: UndefinedMetricWarning: Precision is ill-defined and being set to 0.0 due to no predicted samples. Use `zero_division` parameter to control this behavior.\n",
      "  _warn_prf(average, modifier, msg_start, len(result))\n",
      "/usr/local/lib/python3.6/dist-packages/sklearn/metrics/_classification.py:1248: UndefinedMetricWarning: Precision is ill-defined and being set to 0.0 due to no predicted samples. Use `zero_division` parameter to control this behavior.\n",
      "  _warn_prf(average, modifier, msg_start, len(result))\n"
     ]
    },
    {
     "name": "stdout",
     "output_type": "stream",
     "text": [
      "Validation Loss: 0.6915200739293486,AUC: 0.5281594594594594,ACC:0.599443243243243,F1:0.2085621621621622,Precision:0.531272972972973,Recall:0.14037027027027027\n",
      "Epoch 220,loss:0.6912404646915672\n"
     ]
    },
    {
     "name": "stderr",
     "output_type": "stream",
     "text": [
      "/usr/local/lib/python3.6/dist-packages/sklearn/metrics/_classification.py:1248: UndefinedMetricWarning: Precision is ill-defined and being set to 0.0 due to no predicted samples. Use `zero_division` parameter to control this behavior.\n",
      "  _warn_prf(average, modifier, msg_start, len(result))\n",
      "/usr/local/lib/python3.6/dist-packages/sklearn/metrics/_classification.py:1248: UndefinedMetricWarning: Precision is ill-defined and being set to 0.0 due to no predicted samples. Use `zero_division` parameter to control this behavior.\n",
      "  _warn_prf(average, modifier, msg_start, len(result))\n",
      "/usr/local/lib/python3.6/dist-packages/sklearn/metrics/_classification.py:1248: UndefinedMetricWarning: Precision is ill-defined and being set to 0.0 due to no predicted samples. Use `zero_division` parameter to control this behavior.\n",
      "  _warn_prf(average, modifier, msg_start, len(result))\n",
      "/usr/local/lib/python3.6/dist-packages/sklearn/metrics/_classification.py:1248: UndefinedMetricWarning: Precision is ill-defined and being set to 0.0 due to no predicted samples. Use `zero_division` parameter to control this behavior.\n",
      "  _warn_prf(average, modifier, msg_start, len(result))\n",
      "/usr/local/lib/python3.6/dist-packages/sklearn/metrics/_classification.py:1248: UndefinedMetricWarning: Precision is ill-defined and being set to 0.0 due to no predicted samples. Use `zero_division` parameter to control this behavior.\n",
      "  _warn_prf(average, modifier, msg_start, len(result))\n"
     ]
    },
    {
     "name": "stdout",
     "output_type": "stream",
     "text": [
      "Validation Loss: 0.691516763455159,AUC: 0.5280378378378376,ACC:0.5992324324324323,F1:0.2071621621621622,Precision:0.5175675675675677,Recall:0.1394783783783784\n",
      "Epoch 225,loss:0.6912256843220871\n"
     ]
    },
    {
     "name": "stderr",
     "output_type": "stream",
     "text": [
      "/usr/local/lib/python3.6/dist-packages/sklearn/metrics/_classification.py:1248: UndefinedMetricWarning: Precision is ill-defined and being set to 0.0 due to no predicted samples. Use `zero_division` parameter to control this behavior.\n",
      "  _warn_prf(average, modifier, msg_start, len(result))\n",
      "/usr/local/lib/python3.6/dist-packages/sklearn/metrics/_classification.py:1248: UndefinedMetricWarning: Precision is ill-defined and being set to 0.0 due to no predicted samples. Use `zero_division` parameter to control this behavior.\n",
      "  _warn_prf(average, modifier, msg_start, len(result))\n",
      "/usr/local/lib/python3.6/dist-packages/sklearn/metrics/_classification.py:1248: UndefinedMetricWarning: Precision is ill-defined and being set to 0.0 due to no predicted samples. Use `zero_division` parameter to control this behavior.\n",
      "  _warn_prf(average, modifier, msg_start, len(result))\n",
      "/usr/local/lib/python3.6/dist-packages/sklearn/metrics/_classification.py:1248: UndefinedMetricWarning: Precision is ill-defined and being set to 0.0 due to no predicted samples. Use `zero_division` parameter to control this behavior.\n",
      "  _warn_prf(average, modifier, msg_start, len(result))\n",
      "/usr/local/lib/python3.6/dist-packages/sklearn/metrics/_classification.py:1248: UndefinedMetricWarning: Precision is ill-defined and being set to 0.0 due to no predicted samples. Use `zero_division` parameter to control this behavior.\n",
      "  _warn_prf(average, modifier, msg_start, len(result))\n"
     ]
    },
    {
     "name": "stdout",
     "output_type": "stream",
     "text": [
      "Validation Loss: 0.6915140506383535,AUC: 0.5277756756756755,ACC:0.5992324324324323,F1:0.20620540540540544,Precision:0.5168540540540542,Recall:0.13866216216216218\n",
      "Epoch 230,loss:0.6912118022420765\n"
     ]
    },
    {
     "name": "stderr",
     "output_type": "stream",
     "text": [
      "/usr/local/lib/python3.6/dist-packages/sklearn/metrics/_classification.py:1248: UndefinedMetricWarning: Precision is ill-defined and being set to 0.0 due to no predicted samples. Use `zero_division` parameter to control this behavior.\n",
      "  _warn_prf(average, modifier, msg_start, len(result))\n",
      "/usr/local/lib/python3.6/dist-packages/sklearn/metrics/_classification.py:1248: UndefinedMetricWarning: Precision is ill-defined and being set to 0.0 due to no predicted samples. Use `zero_division` parameter to control this behavior.\n",
      "  _warn_prf(average, modifier, msg_start, len(result))\n",
      "/usr/local/lib/python3.6/dist-packages/sklearn/metrics/_classification.py:1248: UndefinedMetricWarning: Precision is ill-defined and being set to 0.0 due to no predicted samples. Use `zero_division` parameter to control this behavior.\n",
      "  _warn_prf(average, modifier, msg_start, len(result))\n",
      "/usr/local/lib/python3.6/dist-packages/sklearn/metrics/_classification.py:1248: UndefinedMetricWarning: Precision is ill-defined and being set to 0.0 due to no predicted samples. Use `zero_division` parameter to control this behavior.\n",
      "  _warn_prf(average, modifier, msg_start, len(result))\n",
      "/usr/local/lib/python3.6/dist-packages/sklearn/metrics/_classification.py:1248: UndefinedMetricWarning: Precision is ill-defined and being set to 0.0 due to no predicted samples. Use `zero_division` parameter to control this behavior.\n",
      "  _warn_prf(average, modifier, msg_start, len(result))\n"
     ]
    },
    {
     "name": "stdout",
     "output_type": "stream",
     "text": [
      "Validation Loss: 0.6915104872471577,AUC: 0.5263864864864864,ACC:0.5986027027027027,F1:0.20459189189189192,Precision:0.515254054054054,Recall:0.13724324324324327\n",
      "Epoch 235,loss:0.691197937568732\n"
     ]
    },
    {
     "name": "stderr",
     "output_type": "stream",
     "text": [
      "/usr/local/lib/python3.6/dist-packages/sklearn/metrics/_classification.py:1248: UndefinedMetricWarning: Precision is ill-defined and being set to 0.0 due to no predicted samples. Use `zero_division` parameter to control this behavior.\n",
      "  _warn_prf(average, modifier, msg_start, len(result))\n",
      "/usr/local/lib/python3.6/dist-packages/sklearn/metrics/_classification.py:1248: UndefinedMetricWarning: Precision is ill-defined and being set to 0.0 due to no predicted samples. Use `zero_division` parameter to control this behavior.\n",
      "  _warn_prf(average, modifier, msg_start, len(result))\n",
      "/usr/local/lib/python3.6/dist-packages/sklearn/metrics/_classification.py:1248: UndefinedMetricWarning: Precision is ill-defined and being set to 0.0 due to no predicted samples. Use `zero_division` parameter to control this behavior.\n",
      "  _warn_prf(average, modifier, msg_start, len(result))\n",
      "/usr/local/lib/python3.6/dist-packages/sklearn/metrics/_classification.py:1248: UndefinedMetricWarning: Precision is ill-defined and being set to 0.0 due to no predicted samples. Use `zero_division` parameter to control this behavior.\n",
      "  _warn_prf(average, modifier, msg_start, len(result))\n",
      "/usr/local/lib/python3.6/dist-packages/sklearn/metrics/_classification.py:1248: UndefinedMetricWarning: Precision is ill-defined and being set to 0.0 due to no predicted samples. Use `zero_division` parameter to control this behavior.\n",
      "  _warn_prf(average, modifier, msg_start, len(result))\n"
     ]
    },
    {
     "name": "stdout",
     "output_type": "stream",
     "text": [
      "Validation Loss: 0.6915069045247259,AUC: 0.5268054054054053,ACC:0.5983918918918918,F1:0.2039945945945946,Precision:0.5147270270270271,Recall:0.13674324324324327\n",
      "Epoch 240,loss:0.6911841599287185\n"
     ]
    },
    {
     "name": "stderr",
     "output_type": "stream",
     "text": [
      "/usr/local/lib/python3.6/dist-packages/sklearn/metrics/_classification.py:1248: UndefinedMetricWarning: Precision is ill-defined and being set to 0.0 due to no predicted samples. Use `zero_division` parameter to control this behavior.\n",
      "  _warn_prf(average, modifier, msg_start, len(result))\n",
      "/usr/local/lib/python3.6/dist-packages/sklearn/metrics/_classification.py:1248: UndefinedMetricWarning: Precision is ill-defined and being set to 0.0 due to no predicted samples. Use `zero_division` parameter to control this behavior.\n",
      "  _warn_prf(average, modifier, msg_start, len(result))\n",
      "/usr/local/lib/python3.6/dist-packages/sklearn/metrics/_classification.py:1248: UndefinedMetricWarning: Precision is ill-defined and being set to 0.0 due to no predicted samples. Use `zero_division` parameter to control this behavior.\n",
      "  _warn_prf(average, modifier, msg_start, len(result))\n",
      "/usr/local/lib/python3.6/dist-packages/sklearn/metrics/_classification.py:1248: UndefinedMetricWarning: Precision is ill-defined and being set to 0.0 due to no predicted samples. Use `zero_division` parameter to control this behavior.\n",
      "  _warn_prf(average, modifier, msg_start, len(result))\n",
      "/usr/local/lib/python3.6/dist-packages/sklearn/metrics/_classification.py:1248: UndefinedMetricWarning: Precision is ill-defined and being set to 0.0 due to no predicted samples. Use `zero_division` parameter to control this behavior.\n",
      "  _warn_prf(average, modifier, msg_start, len(result))\n"
     ]
    },
    {
     "name": "stdout",
     "output_type": "stream",
     "text": [
      "Validation Loss: 0.6915046524357151,AUC: 0.5263243243243243,ACC:0.5986054054054054,F1:0.2014432432432433,Precision:0.5154567567567568,Recall:0.13455135135135138\n",
      "Epoch 245,loss:0.6911702799586068\n"
     ]
    },
    {
     "name": "stderr",
     "output_type": "stream",
     "text": [
      "/usr/local/lib/python3.6/dist-packages/sklearn/metrics/_classification.py:1248: UndefinedMetricWarning: Precision is ill-defined and being set to 0.0 due to no predicted samples. Use `zero_division` parameter to control this behavior.\n",
      "  _warn_prf(average, modifier, msg_start, len(result))\n",
      "/usr/local/lib/python3.6/dist-packages/sklearn/metrics/_classification.py:1248: UndefinedMetricWarning: Precision is ill-defined and being set to 0.0 due to no predicted samples. Use `zero_division` parameter to control this behavior.\n",
      "  _warn_prf(average, modifier, msg_start, len(result))\n",
      "/usr/local/lib/python3.6/dist-packages/sklearn/metrics/_classification.py:1248: UndefinedMetricWarning: Precision is ill-defined and being set to 0.0 due to no predicted samples. Use `zero_division` parameter to control this behavior.\n",
      "  _warn_prf(average, modifier, msg_start, len(result))\n",
      "/usr/local/lib/python3.6/dist-packages/sklearn/metrics/_classification.py:1248: UndefinedMetricWarning: Precision is ill-defined and being set to 0.0 due to no predicted samples. Use `zero_division` parameter to control this behavior.\n",
      "  _warn_prf(average, modifier, msg_start, len(result))\n",
      "/usr/local/lib/python3.6/dist-packages/sklearn/metrics/_classification.py:1248: UndefinedMetricWarning: Precision is ill-defined and being set to 0.0 due to no predicted samples. Use `zero_division` parameter to control this behavior.\n",
      "  _warn_prf(average, modifier, msg_start, len(result))\n"
     ]
    },
    {
     "name": "stdout",
     "output_type": "stream",
     "text": [
      "Validation Loss: 0.6915015094989055,AUC: 0.5264351351351351,ACC:0.5983945945945944,F1:0.20089459459459463,Precision:0.5149594594594595,Recall:0.13412972972972975\n",
      "Epoch 250,loss:0.6911573879486692\n"
     ]
    },
    {
     "name": "stderr",
     "output_type": "stream",
     "text": [
      "/usr/local/lib/python3.6/dist-packages/sklearn/metrics/_classification.py:1248: UndefinedMetricWarning: Precision is ill-defined and being set to 0.0 due to no predicted samples. Use `zero_division` parameter to control this behavior.\n",
      "  _warn_prf(average, modifier, msg_start, len(result))\n",
      "/usr/local/lib/python3.6/dist-packages/sklearn/metrics/_classification.py:1248: UndefinedMetricWarning: Precision is ill-defined and being set to 0.0 due to no predicted samples. Use `zero_division` parameter to control this behavior.\n",
      "  _warn_prf(average, modifier, msg_start, len(result))\n",
      "/usr/local/lib/python3.6/dist-packages/sklearn/metrics/_classification.py:1248: UndefinedMetricWarning: Precision is ill-defined and being set to 0.0 due to no predicted samples. Use `zero_division` parameter to control this behavior.\n",
      "  _warn_prf(average, modifier, msg_start, len(result))\n",
      "/usr/local/lib/python3.6/dist-packages/sklearn/metrics/_classification.py:1248: UndefinedMetricWarning: Precision is ill-defined and being set to 0.0 due to no predicted samples. Use `zero_division` parameter to control this behavior.\n",
      "  _warn_prf(average, modifier, msg_start, len(result))\n",
      "/usr/local/lib/python3.6/dist-packages/sklearn/metrics/_classification.py:1248: UndefinedMetricWarning: Precision is ill-defined and being set to 0.0 due to no predicted samples. Use `zero_division` parameter to control this behavior.\n",
      "  _warn_prf(average, modifier, msg_start, len(result))\n"
     ]
    },
    {
     "name": "stdout",
     "output_type": "stream",
     "text": [
      "Validation Loss: 0.6914989207241986,AUC: 0.5257216216216216,ACC:0.59797027027027,F1:0.19888648648648652,Precision:0.5135864864864865,Recall:0.13247297297297297\n",
      "Epoch 255,loss:0.6911436398472406\n"
     ]
    },
    {
     "name": "stderr",
     "output_type": "stream",
     "text": [
      "/usr/local/lib/python3.6/dist-packages/sklearn/metrics/_classification.py:1248: UndefinedMetricWarning: Precision is ill-defined and being set to 0.0 due to no predicted samples. Use `zero_division` parameter to control this behavior.\n",
      "  _warn_prf(average, modifier, msg_start, len(result))\n",
      "/usr/local/lib/python3.6/dist-packages/sklearn/metrics/_classification.py:1248: UndefinedMetricWarning: Precision is ill-defined and being set to 0.0 due to no predicted samples. Use `zero_division` parameter to control this behavior.\n",
      "  _warn_prf(average, modifier, msg_start, len(result))\n",
      "/usr/local/lib/python3.6/dist-packages/sklearn/metrics/_classification.py:1248: UndefinedMetricWarning: Precision is ill-defined and being set to 0.0 due to no predicted samples. Use `zero_division` parameter to control this behavior.\n",
      "  _warn_prf(average, modifier, msg_start, len(result))\n",
      "/usr/local/lib/python3.6/dist-packages/sklearn/metrics/_classification.py:1248: UndefinedMetricWarning: Precision is ill-defined and being set to 0.0 due to no predicted samples. Use `zero_division` parameter to control this behavior.\n",
      "  _warn_prf(average, modifier, msg_start, len(result))\n",
      "/usr/local/lib/python3.6/dist-packages/sklearn/metrics/_classification.py:1248: UndefinedMetricWarning: Precision is ill-defined and being set to 0.0 due to no predicted samples. Use `zero_division` parameter to control this behavior.\n",
      "  _warn_prf(average, modifier, msg_start, len(result))\n"
     ]
    },
    {
     "name": "stdout",
     "output_type": "stream",
     "text": [
      "Validation Loss: 0.6914958857201241,AUC: 0.5260243243243244,ACC:0.5986027027027025,F1:0.19995405405405406,Precision:0.5160945945945946,Recall:0.13326756756756758\n",
      "Epoch 260,loss:0.6911298416357124\n"
     ]
    },
    {
     "name": "stderr",
     "output_type": "stream",
     "text": [
      "/usr/local/lib/python3.6/dist-packages/sklearn/metrics/_classification.py:1248: UndefinedMetricWarning: Precision is ill-defined and being set to 0.0 due to no predicted samples. Use `zero_division` parameter to control this behavior.\n",
      "  _warn_prf(average, modifier, msg_start, len(result))\n",
      "/usr/local/lib/python3.6/dist-packages/sklearn/metrics/_classification.py:1248: UndefinedMetricWarning: Precision is ill-defined and being set to 0.0 due to no predicted samples. Use `zero_division` parameter to control this behavior.\n",
      "  _warn_prf(average, modifier, msg_start, len(result))\n",
      "/usr/local/lib/python3.6/dist-packages/sklearn/metrics/_classification.py:1248: UndefinedMetricWarning: Precision is ill-defined and being set to 0.0 due to no predicted samples. Use `zero_division` parameter to control this behavior.\n",
      "  _warn_prf(average, modifier, msg_start, len(result))\n",
      "/usr/local/lib/python3.6/dist-packages/sklearn/metrics/_classification.py:1248: UndefinedMetricWarning: Precision is ill-defined and being set to 0.0 due to no predicted samples. Use `zero_division` parameter to control this behavior.\n",
      "  _warn_prf(average, modifier, msg_start, len(result))\n",
      "/usr/local/lib/python3.6/dist-packages/sklearn/metrics/_classification.py:1248: UndefinedMetricWarning: Precision is ill-defined and being set to 0.0 due to no predicted samples. Use `zero_division` parameter to control this behavior.\n",
      "  _warn_prf(average, modifier, msg_start, len(result))\n"
     ]
    },
    {
     "name": "stdout",
     "output_type": "stream",
     "text": [
      "Validation Loss: 0.6914927911114048,AUC: 0.5258783783783784,ACC:0.5994459459459458,F1:0.19656486486486488,Precision:0.5312972972972972,Recall:0.13085405405405406\n",
      "Epoch 265,loss:0.6911162507217542\n"
     ]
    },
    {
     "name": "stderr",
     "output_type": "stream",
     "text": [
      "/usr/local/lib/python3.6/dist-packages/sklearn/metrics/_classification.py:1248: UndefinedMetricWarning: Precision is ill-defined and being set to 0.0 due to no predicted samples. Use `zero_division` parameter to control this behavior.\n",
      "  _warn_prf(average, modifier, msg_start, len(result))\n",
      "/usr/local/lib/python3.6/dist-packages/sklearn/metrics/_classification.py:1248: UndefinedMetricWarning: Precision is ill-defined and being set to 0.0 due to no predicted samples. Use `zero_division` parameter to control this behavior.\n",
      "  _warn_prf(average, modifier, msg_start, len(result))\n",
      "/usr/local/lib/python3.6/dist-packages/sklearn/metrics/_classification.py:1248: UndefinedMetricWarning: Precision is ill-defined and being set to 0.0 due to no predicted samples. Use `zero_division` parameter to control this behavior.\n",
      "  _warn_prf(average, modifier, msg_start, len(result))\n",
      "/usr/local/lib/python3.6/dist-packages/sklearn/metrics/_classification.py:1248: UndefinedMetricWarning: Precision is ill-defined and being set to 0.0 due to no predicted samples. Use `zero_division` parameter to control this behavior.\n",
      "  _warn_prf(average, modifier, msg_start, len(result))\n"
     ]
    },
    {
     "name": "stdout",
     "output_type": "stream",
     "text": [
      "Validation Loss: 0.6914923223289283,AUC: 0.5267540540540541,ACC:0.5992405405405403,F1:0.20172432432432436,Precision:0.5332189189189189,Recall:0.1342891891891892\n",
      "Epoch 270,loss:0.6911009845480455\n"
     ]
    },
    {
     "name": "stderr",
     "output_type": "stream",
     "text": [
      "/usr/local/lib/python3.6/dist-packages/sklearn/metrics/_classification.py:1248: UndefinedMetricWarning: Precision is ill-defined and being set to 0.0 due to no predicted samples. Use `zero_division` parameter to control this behavior.\n",
      "  _warn_prf(average, modifier, msg_start, len(result))\n",
      "/usr/local/lib/python3.6/dist-packages/sklearn/metrics/_classification.py:1248: UndefinedMetricWarning: Precision is ill-defined and being set to 0.0 due to no predicted samples. Use `zero_division` parameter to control this behavior.\n",
      "  _warn_prf(average, modifier, msg_start, len(result))\n",
      "/usr/local/lib/python3.6/dist-packages/sklearn/metrics/_classification.py:1248: UndefinedMetricWarning: Precision is ill-defined and being set to 0.0 due to no predicted samples. Use `zero_division` parameter to control this behavior.\n",
      "  _warn_prf(average, modifier, msg_start, len(result))\n",
      "/usr/local/lib/python3.6/dist-packages/sklearn/metrics/_classification.py:1248: UndefinedMetricWarning: Precision is ill-defined and being set to 0.0 due to no predicted samples. Use `zero_division` parameter to control this behavior.\n",
      "  _warn_prf(average, modifier, msg_start, len(result))\n"
     ]
    },
    {
     "name": "stdout",
     "output_type": "stream",
     "text": [
      "Validation Loss: 0.6914902893272606,AUC: 0.5270756756756757,ACC:0.5992405405405403,F1:0.20281621621621623,Precision:0.5326918918918918,Recall:0.13530000000000003\n",
      "Epoch 275,loss:0.6910854024169719\n"
     ]
    },
    {
     "name": "stderr",
     "output_type": "stream",
     "text": [
      "/usr/local/lib/python3.6/dist-packages/sklearn/metrics/_classification.py:1248: UndefinedMetricWarning: Precision is ill-defined and being set to 0.0 due to no predicted samples. Use `zero_division` parameter to control this behavior.\n",
      "  _warn_prf(average, modifier, msg_start, len(result))\n",
      "/usr/local/lib/python3.6/dist-packages/sklearn/metrics/_classification.py:1248: UndefinedMetricWarning: Precision is ill-defined and being set to 0.0 due to no predicted samples. Use `zero_division` parameter to control this behavior.\n",
      "  _warn_prf(average, modifier, msg_start, len(result))\n",
      "/usr/local/lib/python3.6/dist-packages/sklearn/metrics/_classification.py:1248: UndefinedMetricWarning: Precision is ill-defined and being set to 0.0 due to no predicted samples. Use `zero_division` parameter to control this behavior.\n",
      "  _warn_prf(average, modifier, msg_start, len(result))\n",
      "/usr/local/lib/python3.6/dist-packages/sklearn/metrics/_classification.py:1248: UndefinedMetricWarning: Precision is ill-defined and being set to 0.0 due to no predicted samples. Use `zero_division` parameter to control this behavior.\n",
      "  _warn_prf(average, modifier, msg_start, len(result))\n",
      "/usr/local/lib/python3.6/dist-packages/sklearn/metrics/_classification.py:1248: UndefinedMetricWarning: Precision is ill-defined and being set to 0.0 due to no predicted samples. Use `zero_division` parameter to control this behavior.\n",
      "  _warn_prf(average, modifier, msg_start, len(result))\n"
     ]
    },
    {
     "name": "stdout",
     "output_type": "stream",
     "text": [
      "Validation Loss: 0.6914885575706894,AUC: 0.5282135135135135,ACC:0.6007135135135133,F1:0.20255405405405408,Precision:0.5258918918918919,Recall:0.13576756756756758\n",
      "Epoch 280,loss:0.6910682726750331\n"
     ]
    },
    {
     "name": "stderr",
     "output_type": "stream",
     "text": [
      "/usr/local/lib/python3.6/dist-packages/sklearn/metrics/_classification.py:1248: UndefinedMetricWarning: Precision is ill-defined and being set to 0.0 due to no predicted samples. Use `zero_division` parameter to control this behavior.\n",
      "  _warn_prf(average, modifier, msg_start, len(result))\n",
      "/usr/local/lib/python3.6/dist-packages/sklearn/metrics/_classification.py:1248: UndefinedMetricWarning: Precision is ill-defined and being set to 0.0 due to no predicted samples. Use `zero_division` parameter to control this behavior.\n",
      "  _warn_prf(average, modifier, msg_start, len(result))\n",
      "/usr/local/lib/python3.6/dist-packages/sklearn/metrics/_classification.py:1248: UndefinedMetricWarning: Precision is ill-defined and being set to 0.0 due to no predicted samples. Use `zero_division` parameter to control this behavior.\n",
      "  _warn_prf(average, modifier, msg_start, len(result))\n",
      "/usr/local/lib/python3.6/dist-packages/sklearn/metrics/_classification.py:1248: UndefinedMetricWarning: Precision is ill-defined and being set to 0.0 due to no predicted samples. Use `zero_division` parameter to control this behavior.\n",
      "  _warn_prf(average, modifier, msg_start, len(result))\n"
     ]
    },
    {
     "name": "stdout",
     "output_type": "stream",
     "text": [
      "Validation Loss: 0.6914890634047018,AUC: 0.5292297297297299,ACC:0.5992351351351349,F1:0.2062054054054054,Precision:0.5293216216216217,Recall:0.1381783783783784\n",
      "早停策略触发，停止训练在第 279 个epoch.\n",
      "模型训练完成\n",
      "||--------训练结束时间： 2024-03-19 17:42:34.280837 -------------\n",
      "||--测试：---------- 1 个batch运行时间： 2024-03-19 17:42:34.296027 -------------\n",
      "||--测试：---------- 2 个batch运行时间： 2024-03-19 17:42:34.309599 -------------\n",
      "||--测试：---------- 3 个batch运行时间： 2024-03-19 17:42:34.324097 -------------\n",
      "||--测试：---------- 4 个batch运行时间： 2024-03-19 17:42:34.337268 -------------\n",
      "||--测试：---------- 5 个batch运行时间： 2024-03-19 17:42:34.350451 -------------\n",
      "||--测试：---------- 6 个batch运行时间： 2024-03-19 17:42:34.363619 -------------\n",
      "||--测试：---------- 7 个batch运行时间： 2024-03-19 17:42:34.376314 -------------\n",
      "||--测试：---------- 8 个batch运行时间： 2024-03-19 17:42:34.389317 -------------\n",
      "||--测试：---------- 9 个batch运行时间： 2024-03-19 17:42:34.401988 -------------\n",
      "||--测试：---------- 10 个batch运行时间： 2024-03-19 17:42:34.414852 -------------\n",
      "||--测试：---------- 11 个batch运行时间： 2024-03-19 17:42:34.427588 -------------\n",
      "||--测试：---------- 12 个batch运行时间： 2024-03-19 17:42:34.440335 -------------\n",
      "||--测试：---------- 13 个batch运行时间： 2024-03-19 17:42:34.453043 -------------\n",
      "||--测试：---------- 14 个batch运行时间： 2024-03-19 17:42:34.466411 -------------\n",
      "||--测试：---------- 15 个batch运行时间： 2024-03-19 17:42:34.479112 -------------\n",
      "||--测试：---------- 16 个batch运行时间： 2024-03-19 17:42:34.493385 -------------\n",
      "||--测试：---------- 17 个batch运行时间： 2024-03-19 17:42:34.506325 -------------\n",
      "||--测试：---------- 18 个batch运行时间： 2024-03-19 17:42:34.519172 -------------\n",
      "||--测试：---------- 19 个batch运行时间： 2024-03-19 17:42:34.531818 -------------\n",
      "||--测试：---------- 20 个batch运行时间： 2024-03-19 17:42:34.544471 -------------\n",
      "||--测试：---------- 21 个batch运行时间： 2024-03-19 17:42:34.558051 -------------\n",
      "||--测试：---------- 22 个batch运行时间： 2024-03-19 17:42:34.571167 -------------\n",
      "||--测试：---------- 23 个batch运行时间： 2024-03-19 17:42:34.584179 -------------\n",
      "||--测试：---------- 24 个batch运行时间： 2024-03-19 17:42:34.598272 -------------\n",
      "||--测试：---------- 25 个batch运行时间： 2024-03-19 17:42:34.611291 -------------\n",
      "||--测试：---------- 26 个batch运行时间： 2024-03-19 17:42:34.624027 -------------\n",
      "||--测试：---------- 27 个batch运行时间： 2024-03-19 17:42:34.636700 -------------\n",
      "||--测试：---------- 28 个batch运行时间： 2024-03-19 17:42:34.649318 -------------\n",
      "||--测试：---------- 29 个batch运行时间： 2024-03-19 17:42:34.662871 -------------\n",
      "||--测试：---------- 30 个batch运行时间： 2024-03-19 17:42:34.675894 -------------\n",
      "||--测试：---------- 31 个batch运行时间： 2024-03-19 17:42:34.688456 -------------\n"
     ]
    },
    {
     "name": "stderr",
     "output_type": "stream",
     "text": [
      "/usr/local/lib/python3.6/dist-packages/sklearn/metrics/_classification.py:1248: UndefinedMetricWarning: Precision is ill-defined and being set to 0.0 due to no predicted samples. Use `zero_division` parameter to control this behavior.\n",
      "  _warn_prf(average, modifier, msg_start, len(result))\n"
     ]
    },
    {
     "name": "stdout",
     "output_type": "stream",
     "text": [
      "||--测试：---------- 32 个batch运行时间： 2024-03-19 17:42:34.701810 -------------\n",
      "||--测试：---------- 33 个batch运行时间： 2024-03-19 17:42:34.715763 -------------\n",
      "||--测试：---------- 34 个batch运行时间： 2024-03-19 17:42:34.728844 -------------\n",
      "||--测试：---------- 35 个batch运行时间： 2024-03-19 17:42:34.741452 -------------\n",
      "||--测试：---------- 36 个batch运行时间： 2024-03-19 17:42:34.754651 -------------\n",
      "||--测试：---------- 37 个batch运行时间： 2024-03-19 17:42:34.767284 -------------\n",
      "Test Loss: 0.6917827838176006,AUC: 0.5167081081081081,ACC:0.6011486486486489,F1:0.1687324324324324,Precision:0.5864729729729729,Recall:0.10752162162162161\n",
      "i=:5\n",
      "划分文件已存在，不再进行数据划分\n",
      "数据预处理结束\n",
      "数据划分完成\n",
      "张量生成完成\n",
      "模型搭建完成\n",
      "模型转移到GPU完成\n",
      "Epoch 5,loss:0.6934091549004073\n"
     ]
    },
    {
     "name": "stderr",
     "output_type": "stream",
     "text": [
      "/usr/local/lib/python3.6/dist-packages/sklearn/metrics/_classification.py:1248: UndefinedMetricWarning: Precision is ill-defined and being set to 0.0 due to no predicted samples. Use `zero_division` parameter to control this behavior.\n",
      "  _warn_prf(average, modifier, msg_start, len(result))\n"
     ]
    },
    {
     "name": "stdout",
     "output_type": "stream",
     "text": [
      "Validation Loss: 0.6931068285091503,AUC: 0.5425918918918918,ACC:0.5998702702702704,F1:0.3128378378378379,Precision:0.5486891891891893,Recall:0.2400162162162162\n",
      "Epoch 10,loss:0.6932746920965415\n"
     ]
    },
    {
     "name": "stderr",
     "output_type": "stream",
     "text": [
      "/usr/local/lib/python3.6/dist-packages/sklearn/metrics/_classification.py:1248: UndefinedMetricWarning: Precision is ill-defined and being set to 0.0 due to no predicted samples. Use `zero_division` parameter to control this behavior.\n",
      "  _warn_prf(average, modifier, msg_start, len(result))\n",
      "/usr/local/lib/python3.6/dist-packages/sklearn/metrics/_classification.py:1248: UndefinedMetricWarning: Precision is ill-defined and being set to 0.0 due to no predicted samples. Use `zero_division` parameter to control this behavior.\n",
      "  _warn_prf(average, modifier, msg_start, len(result))\n"
     ]
    },
    {
     "name": "stdout",
     "output_type": "stream",
     "text": [
      "Validation Loss: 0.6931064128875732,AUC: 0.5360594594594597,ACC:0.6047324324324326,F1:0.27552972972972967,Precision:0.5509243243243244,Recall:0.1991945945945946\n",
      "Epoch 15,loss:0.6932358198461279\n"
     ]
    },
    {
     "name": "stderr",
     "output_type": "stream",
     "text": [
      "/usr/local/lib/python3.6/dist-packages/sklearn/metrics/_classification.py:1248: UndefinedMetricWarning: Precision is ill-defined and being set to 0.0 due to no predicted samples. Use `zero_division` parameter to control this behavior.\n",
      "  _warn_prf(average, modifier, msg_start, len(result))\n",
      "/usr/local/lib/python3.6/dist-packages/sklearn/metrics/_classification.py:1248: UndefinedMetricWarning: Precision is ill-defined and being set to 0.0 due to no predicted samples. Use `zero_division` parameter to control this behavior.\n",
      "  _warn_prf(average, modifier, msg_start, len(result))\n"
     ]
    },
    {
     "name": "stdout",
     "output_type": "stream",
     "text": [
      "Validation Loss: 0.6931099553365965,AUC: 0.5337540540540541,ACC:0.604310810810811,F1:0.26726756756756753,Precision:0.5523702702702703,Recall:0.19024054054054054\n",
      "早停策略触发，停止训练在第 14 个epoch.\n",
      "模型训练完成\n",
      "||--------训练结束时间： 2024-03-19 17:45:09.479906 -------------\n",
      "||--测试：---------- 1 个batch运行时间： 2024-03-19 17:45:09.493309 -------------\n",
      "||--测试：---------- 2 个batch运行时间： 2024-03-19 17:45:09.506515 -------------\n",
      "||--测试：---------- 3 个batch运行时间： 2024-03-19 17:45:09.519479 -------------\n",
      "||--测试：---------- 4 个batch运行时间： 2024-03-19 17:45:09.532407 -------------\n",
      "||--测试：---------- 5 个batch运行时间： 2024-03-19 17:45:09.545347 -------------\n",
      "||--测试：---------- 6 个batch运行时间： 2024-03-19 17:45:09.558384 -------------\n",
      "||--测试：---------- 7 个batch运行时间： 2024-03-19 17:45:09.571359 -------------\n",
      "||--测试：---------- 8 个batch运行时间： 2024-03-19 17:45:09.584286 -------------\n",
      "||--测试：---------- 9 个batch运行时间： 2024-03-19 17:45:09.597224 -------------\n",
      "||--测试：---------- 10 个batch运行时间： 2024-03-19 17:45:09.610451 -------------\n",
      "||--测试：---------- 11 个batch运行时间： 2024-03-19 17:45:09.623427 -------------\n",
      "||--测试：---------- 12 个batch运行时间： 2024-03-19 17:45:09.636341 -------------\n",
      "||--测试：---------- 13 个batch运行时间： 2024-03-19 17:45:09.649354 -------------\n",
      "||--测试：---------- 14 个batch运行时间： 2024-03-19 17:45:09.662779 -------------\n",
      "||--测试：---------- 15 个batch运行时间： 2024-03-19 17:45:09.675762 -------------\n",
      "||--测试：---------- 16 个batch运行时间： 2024-03-19 17:45:09.689516 -------------\n",
      "||--测试：---------- 17 个batch运行时间： 2024-03-19 17:45:09.702498 -------------\n",
      "||--测试：---------- 18 个batch运行时间： 2024-03-19 17:45:09.715401 -------------\n",
      "||--测试：---------- 19 个batch运行时间： 2024-03-19 17:45:09.728329 -------------\n",
      "||--测试：---------- 20 个batch运行时间： 2024-03-19 17:45:09.742443 -------------\n",
      "||--测试：---------- 21 个batch运行时间： 2024-03-19 17:45:09.756889 -------------\n",
      "||--测试：---------- 22 个batch运行时间： 2024-03-19 17:45:09.769621 -------------\n",
      "||--测试：---------- 23 个batch运行时间： 2024-03-19 17:45:09.782724 -------------\n",
      "||--测试：---------- 24 个batch运行时间： 2024-03-19 17:45:09.795426 -------------\n",
      "||--测试：---------- 25 个batch运行时间： 2024-03-19 17:45:09.808127 -------------\n",
      "||--测试：---------- 26 个batch运行时间： 2024-03-19 17:45:09.820873 -------------\n",
      "||--测试：---------- 27 个batch运行时间： 2024-03-19 17:45:09.833569 -------------\n",
      "||--测试：---------- 28 个batch运行时间： 2024-03-19 17:45:09.846306 -------------\n",
      "||--测试：---------- 29 个batch运行时间： 2024-03-19 17:45:09.859351 -------------\n",
      "||--测试：---------- 30 个batch运行时间： 2024-03-19 17:45:09.872055 -------------\n",
      "||--测试：---------- 31 个batch运行时间： 2024-03-19 17:45:09.884911 -------------\n",
      "||--测试：---------- 32 个batch运行时间： 2024-03-19 17:45:09.898353 -------------\n",
      "||--测试：---------- 33 个batch运行时间： 2024-03-19 17:45:09.911168 -------------\n",
      "||--测试：---------- 34 个batch运行时间： 2024-03-19 17:45:09.924773 -------------\n",
      "||--测试：---------- 35 个batch运行时间： 2024-03-19 17:45:09.937438 -------------\n",
      "||--测试：---------- 36 个batch运行时间： 2024-03-19 17:45:09.950103 -------------\n",
      "||--测试：---------- 37 个batch运行时间： 2024-03-19 17:45:09.963320 -------------\n",
      "Test Loss: 0.6931758829065271,AUC: 0.5273594594594595,ACC:0.5929054054054055,F1:0.25279729729729733,Precision:0.49069729729729716,Recall:0.18314324324324324\n",
      "结果已输出\n",
      "||--------当前时间窗 1215_0115 结束时间： 2024-03-19 17:45:09.978154 -------------\n"
     ]
    },
    {
     "name": "stderr",
     "output_type": "stream",
     "text": [
      "/usr/local/lib/python3.6/dist-packages/sklearn/metrics/_classification.py:1248: UndefinedMetricWarning: Precision is ill-defined and being set to 0.0 due to no predicted samples. Use `zero_division` parameter to control this behavior.\n",
      "  _warn_prf(average, modifier, msg_start, len(result))\n"
     ]
    }
   ],
   "source": [
    "# 模型运行\n",
    "for data_time_windows in data_time_windows_list :\n",
    "    \n",
    "    path = './Dataset/' + data_time_windows + '_user_pay_pred_feature_deal.csv'\n",
    "    dataset_spilt_path = './Dataset/' + data_time_windows + '_user_pay_pred_feature_spilt_BiLSTM.csv'\n",
    "#     output_weight_result_path = './Dataset/' + data_time_windows + '_user_pay_pred_result_weight.csv'\n",
    "    data_feature_continue_discrete_namelist_path = './Dataset/maoer_timewindows_continue_discrete_feature_column.csv'    # 连续与离散划分表\n",
    "    # # 获取时间窗内连续与离散特征名的列表\n",
    "    user_history_pay_QOE_continue_column, user_history_pay_CHONGHE_continue_column, \\\n",
    "    user_history_pay_FUFEI_continue_column, user_history_pay_QOE_discrete_column,\\\n",
    "    user_history_pay_CHONGHE_discrete_column, user_history_pay_FUFEI_discrete_column = get_continue_discrete_feature_namelist(data_time_windows, data_feature_continue_discrete_namelist_path)\n",
    "    user_feature_continue_column = []\n",
    "    user_feature_discrete_column = []\n",
    "\n",
    "    # total continue feature\n",
    "    total_continue_feature = user_feature_continue_column+user_history_pay_QOE_continue_column+user_history_pay_CHONGHE_continue_column\n",
    "    total_discrete_feature = user_feature_discrete_column+user_history_pay_QOE_discrete_column+user_history_pay_CHONGHE_discrete_column\n",
    "    total_discrete_feature_add_D = user_feature_discrete_column+user_history_pay_QOE_discrete_column+user_history_pay_CHONGHE_discrete_column+user_history_pay_FUFEI_discrete_column\n",
    "    total_discrete_feature_add_D.append('user_in_drama_is_pay_for_drama_in_next_time')\n",
    "    D = 'user_in_drama_is_pay_for_drama_in_next_time'\n",
    "    tensor_dict_idx = ['pay_QOE_continue','pay_QOE_discrete','pay_CHONGHE_continue','pay_CHONGHE_discrete','pay_FUFEI_continue','pay_FUFEI_discrete','target_QOE_continue','target_QOE_discrete','target_CHONGHE_continue','target_CHONGHE_discrete','target_FUFEI_continue','target_FUFEI_discrete']\n",
    "    # print(len(user_history_pay_QOE_continue_column),len(user_history_pay_CHONGHE_continue_column),len(user_history_pay_FUFEI_continue_column))\n",
    "    # 形成对应需要的特征名称列表\n",
    "    feature_column_dict = {\n",
    "        'total_continue_feature': total_continue_feature,\n",
    "        'total_discrete_feature': total_discrete_feature,\n",
    "        'D':D\n",
    "    }\n",
    "    # 创建一个空的DataFrame来存储结果\n",
    "    test_auc_df = pd.DataFrame(columns=['时间','model','运行位置','Type','dataset','train_ratio','feature_embedding','batchSize','lr','max_history_len','实验数', '测试集总损失', 'AUC','ACC','F1','Precision','Recall'])\n",
    "    test_weight_df = pd.DataFrame(columns=['时间','model','运行位置','Type','dataset','train_ratio','feature_embedding','batchSize','lr','max_history_len','实验数','se_user_pay_QOE_weight','se_user_pay_CHONGHE_weight','se_user_pay_FUFEI_weight','se_target_QOE_weight','se_target_CHONGHE_weight','se_target_FUFEI_weight',\\\n",
    "                                        'target_history_pay_attention_QOE_weight','target_history_pay_attention_CHONGHE_weight','target_history_pay_attention_FUFEI_weight'])\n",
    "    for i in range(5):\n",
    "        torch.autograd.set_detect_anomaly(True)\n",
    "        print(f\"i=:{i+1}\")\n",
    "        n = i\n",
    "        # 数据集 train、val、test划分及总数据hash表(以user_id为key的存储对应对应行的hash表)及不同类特征数存储的字典\n",
    "        train_list, val_list, test_list, data_hash, feature_category_num_dict = data_input(data_time_windows, path, dataset_spilt_path, train_ratio, val_ratio, test_ratio, total_continue_feature)\n",
    "        # 获取训练、验证、测试集对应的数据形成的向量hash存储及label\n",
    "        train_data_tensor_hash, train_label = get_feature_to_matrix(train_list, data_hash, feature_column_dict)\n",
    "        val_data_tensor_hash, val_label = get_feature_to_matrix(val_list, data_hash, feature_column_dict)\n",
    "        test_data_tensor_hash, test_label = get_feature_to_matrix(test_list, data_hash, feature_column_dict)\n",
    "        # 输出查看结果\n",
    "        # for key1 in train_data_tensor_hash.keys():\n",
    "        #     dimensions1 = train_data_tensor_hash[key1]['pay_QOE_continue'].size()\n",
    "        #     dimensions2 = train_data_tensor_hash[key1]['pay_QOE_discrete'].size()\n",
    "        #     dimensions3 = train_data_tensor_hash[key1]['pay_CHONGHE_continue'].size()\n",
    "        #     dimensions4 = train_data_tensor_hash[key1]['target_QOE_continue'].size()\n",
    "        #     dimensions5 = train_data_tensor_hash[key1]['target_QOE_discrete'].size()\n",
    "        #     dimensions6 = train_data_tensor_hash[key1]['target_CHONGHE_continue'].size()\n",
    "        #     print(\"val_data_tensor_hash size=\", dimensions1,dimensions2,dimensions3,dimensions4,dimensions5,dimensions6)\n",
    "\n",
    "        # 生成batch再添加维度对齐张量（三个维度）这里张量输出的全是三维 (batch_size, 1 or max_history_len, feature_num)\n",
    "        train_batch_feature_tensor_dict = generate_user_feature_alignment_tensor(train_list,train_data_tensor_hash)\n",
    "        val_batch_feature_tensor_dict = generate_user_feature_alignment_tensor(val_list,val_data_tensor_hash)\n",
    "        test_batch_feature_tensor_dict = generate_user_feature_alignment_tensor(test_list,test_data_tensor_hash)\n",
    "        train_label_tensor = train_batch_feature_tensor_dict['label']\n",
    "        val_label_tensor = val_batch_feature_tensor_dict['label']\n",
    "        test_label_tensor = test_batch_feature_tensor_dict['label']\n",
    "        train_label_tensor = train_label_tensor.unsqueeze(-1)\n",
    "        val_label_tensor = val_label_tensor.unsqueeze(-1)\n",
    "        test_label_tensor = test_label_tensor.unsqueeze(-1)  # 在最后新增一个维度，因为TensorDataset要第一维大小相同 label变为(batch,1)\n",
    "        # mask矩阵的字典\n",
    "#         train_batch_feature_tensor_history_mask_dict = generate_user_feature_alignment_tensor(train_list,train_data_tensor_hash_history_mask, is_mask=True)\n",
    "#         val_batch_feature_tensor_history_mask_dict = generate_user_feature_alignment_tensor(val_list,val_data_tensor_hash_history_mask, is_mask=True)\n",
    "#         test_batch_feature_tensor_history_mask_dict = generate_user_feature_alignment_tensor(test_list,test_data_tensor_hash_history_mask, is_mask=True)\n",
    "        print('张量生成完成')\n",
    "        \n",
    "        # TensorDataset输入得是张量，因此由字典转为张量\n",
    "        train_batch_feature_tensor_history_discrete = train_batch_feature_tensor_dict['history_discrete']\n",
    "        train_batch_feature_tensor_history_continue = train_batch_feature_tensor_dict['history_continue']\n",
    "#         train_batch_feature_tensor_history_discrete_mask = train_batch_feature_tensor_history_mask_dict['history_discrete']\n",
    "#         train_batch_feature_tensor_history_continue_mask = train_batch_feature_tensor_history_mask_dict['history_continue']\n",
    "\n",
    "        val_batch_feature_tensor_history_discrete = val_batch_feature_tensor_dict['history_discrete']\n",
    "        val_batch_feature_tensor_history_continue = val_batch_feature_tensor_dict['history_continue']\n",
    "#         val_batch_feature_tensor_history_discrete_mask = val_batch_feature_tensor_history_mask_dict['history_discrete']\n",
    "#         val_batch_feature_tensor_history_continue_mask = val_batch_feature_tensor_history_mask_dict['history_continue']\n",
    "        \n",
    "        test_batch_feature_tensor_history_discrete = test_batch_feature_tensor_dict['history_discrete']\n",
    "        test_batch_feature_tensor_history_continue = test_batch_feature_tensor_dict['history_continue']\n",
    "#         test_batch_feature_tensor_history_discrete_mask = test_batch_feature_tensor_history_mask_dict['history_discrete']\n",
    "#         test_batch_feature_tensor_history_continue_mask = test_batch_feature_tensor_history_mask_dict['history_continue']\n",
    "#         print('val_label_tensor',val_label_tensor.shape,val_batch_feature_tensor_history_discrete.shape)\n",
    "        # 训练集\n",
    "#         print('train_dataset',train_batch_feature_tensor_history_discrete.shape,train_batch_feature_tensor_history_continue.shape,train_label_tensor.shape)\n",
    "        train_dataset = TensorDataset(train_batch_feature_tensor_history_discrete,train_batch_feature_tensor_history_continue,\n",
    "                                      train_label_tensor)\n",
    "        val_dataset = TensorDataset(val_batch_feature_tensor_history_discrete,val_batch_feature_tensor_history_continue,\n",
    "                                  val_label_tensor)\n",
    "\n",
    "        # 旧\n",
    "        # train_batch_feature_tensor = list(train_batch_feature_tensor_dict.values())\n",
    "        # train_batch_feature_tensor_history_mask = list(train_batch_feature_tensor_history_mask_dict.values())\n",
    "        # val_batch_feature_tensor = list(val_batch_feature_tensor_dict.values())\n",
    "        # val_batch_feature_tensor_history_mask = list(val_batch_feature_tensor_history_mask_dict.values())\n",
    "        # test_batch_feature_tensor = list(test_batch_feature_tensor_dict.values())\n",
    "        # test_batch_feature_tensor_history_mask = list(test_batch_feature_tensor_history_mask_dict.values())  \n",
    "        # # 训练集\n",
    "        # train_dataset = TensorDataset(*train_batch_feature_tensor, *train_batch_feature_tensor_history_mask, train_label_tensor)\n",
    "        # val_dataset = TensorDataset(*val_batch_feature_tensor, *val_batch_feature_tensor_history_mask, val_label_tensor)\n",
    "        \n",
    "        # 创建数据加载器\n",
    "        train_loader = DataLoader(train_dataset, batch_size=batch_size, shuffle=False, drop_last=True)  # 记得改回随机\n",
    "        val_loader = DataLoader(val_dataset, batch_size=batch_size, shuffle=False, drop_last=True)\n",
    "\n",
    "        # 确保您的计算机上有CUDA支持的GPU\n",
    "        device = torch.device('cuda' if torch.cuda.is_available() else 'cpu')\n",
    "        # 创建大模型的实例\n",
    "        model = MatchingModel(feature_category_num_dict, feature_column_dict, continue_embedding_dim,\n",
    "                    discrete_embedding_dim, num_heads, feature_dim, max_history_len)\n",
    "        print('模型搭建完成')\n",
    "        model.to(device)\n",
    "        # 进一步处理 列表转移到GPU\n",
    "#         for i in range(len(model.history_embedding_layer.history_discrete_embeddings)):\n",
    "#             model.history_embedding_layer.history_discrete_embeddings[i] = \\\n",
    "#             model.history_embedding_layer.history_discrete_embeddings[i].to(device)\n",
    "#         for i in range(len(model.history_embedding_layer.history_continue_embedding)):\n",
    "#             model.history_embedding_layer.history_continue_embedding[i] = \\\n",
    "#             model.history_embedding_layer.history_continue_embedding[i].to(device)\n",
    "        model.dnn_layer = model.dnn_layer.to(device)\n",
    "        print('模型转移到GPU完成')\n",
    "        lossfunction = nn.BCELoss()\n",
    "    #     optimizer = optim.Adam(filter(lambda p: p.requires_grad, model.parameters()), lr=lr)\n",
    "#         optimizer = optim.SGD(filter(lambda p: p.requires_grad, model.parameters()), lr=lr, momentum=0.9)\n",
    "        optimizer = optim.Adadelta(filter(lambda p: p.requires_grad, model.parameters()), lr=lr)\n",
    "\n",
    "        # 训练\n",
    "        model_training(model, train_loader, val_loader, lossfunction, optimizer, 500, device)\n",
    "        print('模型训练完成')\n",
    "        print('||--------训练结束时间：',datetime.datetime.now(),'-------------')\n",
    "        # 测试\n",
    "        test_dataset = TensorDataset(test_batch_feature_tensor_history_discrete,test_batch_feature_tensor_history_continue,\n",
    "                                      test_label_tensor)\n",
    "        test_loader = DataLoader(test_dataset, batch_size=batch_size, shuffle=False, drop_last=True)\n",
    "        average_loss_test, average_auc_test,average_acc_test,average_f1_test,average_precision_test,average_recall_test = test_model(model, test_loader)\n",
    "        # 测试的每个样本结果保存到csv\n",
    "        # 将本次训练的结果添加到DataFrame中\n",
    "        test_auc_df = test_auc_df.append({'时间':datetime.datetime.now(),'model':'DNN','运行位置':'GPU','Type':'Abb_FUFEI','dataset':data_time_windows,'train_ratio':train_ratio,'feature_embedding':feature_dim,'batchSize':batch_size,'lr':lr,'max_history_len':max_history_len,'实验数': i + 1,'测试集总损失': average_loss_test, 'AUC': average_auc_test,'ACC': average_acc_test,'F1': average_f1_test,'Precision': average_precision_test,'Recall': average_recall_test}, ignore_index=True)\n",
    "#         weight_result  = {'时间':datetime.datetime.now(),'model':'model3.1','运行位置':'GPU','Type':'Origin','dataset':data_time_windows,'train_ratio':train_ratio,'feature_embedding':feature_dim,'batchSize':batch_size,'lr':lr,'max_history_len':max_history_len,'实验数': i + 1,\\\n",
    "#                         'se_user_pay_QOE_weight':weight_result_dict['se_user_pay_QOE_weight'],'se_user_pay_CHONGHE_weight':weight_result_dict['se_user_pay_CHONGHE_weight'],\\\n",
    "#                         'se_user_pay_FUFEI_weight':weight_result_dict['se_user_pay_FUFEI_weight'],'se_target_QOE_weight':weight_result_dict['se_target_QOE_weight'],\\\n",
    "#                         'se_target_CHONGHE_weight':weight_result_dict['se_target_CHONGHE_weight'],'se_target_FUFEI_weight':weight_result_dict['se_target_FUFEI_weight'],\\\n",
    "#                         'target_history_pay_attention_QOE_weight':weight_result_dict['target_history_pay_attention_QOE_weight'],\\\n",
    "#                         'target_history_pay_attention_CHONGHE_weight':weight_result_dict['target_history_pay_attention_CHONGHE_weight'],\\\n",
    "#                         'target_history_pay_attention_FUFEI_weight':weight_result_dict['target_history_pay_attention_FUFEI_weight']}\n",
    "#         test_weight_df = test_weight_df.append(weight_result, ignore_index=True)\n",
    "    # 将结果保存到CSV文件中\n",
    "    with open('./Dataset/maoerDL_result_maoer_pay_pred_model3_1.csv', 'a') as f:\n",
    "        test_auc_df.to_csv(f, index=False)\n",
    "#     with open('./Dataset/maoerDL_result_maoer_pay_pred_weight_model3_1.csv', 'a') as f:\n",
    "#         test_weight_df.to_csv(f, index=False)\n",
    "#     test_auc_df.to_csv('./Dataset/maoerDL_result_maoer_pay_pred_model3_1.csv', index=False)\n",
    "#     test_weight_df.to_csv('./Dataset/maoerDL_result_maoer_pay_pred_weight_model3_1.csv', index=False)\n",
    "    print('结果已输出')\n",
    "    print('||--------当前时间窗',data_time_windows,'结束时间：',datetime.datetime.now(),'-------------')\n"
   ]
  },
  {
   "cell_type": "code",
   "execution_count": null,
   "id": "9d88d40e",
   "metadata": {},
   "outputs": [],
   "source": []
  },
  {
   "cell_type": "code",
   "execution_count": null,
   "id": "ecdd96c3",
   "metadata": {},
   "outputs": [],
   "source": []
  }
 ],
 "metadata": {
  "kernelspec": {
   "display_name": "Python 3",
   "language": "python",
   "name": "python3"
  },
  "language_info": {
   "codemirror_mode": {
    "name": "ipython",
    "version": 3
   },
   "file_extension": ".py",
   "mimetype": "text/x-python",
   "name": "python",
   "nbconvert_exporter": "python",
   "pygments_lexer": "ipython3",
   "version": "3.6.9"
  }
 },
 "nbformat": 4,
 "nbformat_minor": 5
}
